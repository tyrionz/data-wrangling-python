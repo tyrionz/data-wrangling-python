{
 "cells": [
  {
   "cell_type": "markdown",
   "metadata": {},
   "source": [
    "# FIT5196 Assessment 3\n",
    "# Group Number: 102\n",
    "#### Student Name: An Nguyen\n",
    "#### Student ID: 30343550\n",
    "#### Student Name: Haoheng Zhu\n",
    "#### Student ID: 30376467\n",
    "\n",
    "Date: 03/10/2019\n",
    "\n",
    "Version: 1\n",
    "\n",
    "Environment: Python 3.6.5 and Jupyter notebook\n",
    "\n",
    "Libraries used: \n",
    "* pandas (for dataframe, included in Anaconda Python 3.6.5) \n",
    "* re (for regular expression, included in Anaconda Python 3.6.5) \n",
    "* networkx (NetworkX is a Python package for the networks function)\n",
    "* sklearn.linear_model (Ordinary least squares Linear Regression)\n",
    "* statsmodels.api (for the estimation of many different statistical models)\n",
    "* contextlib (for common tasks involving the with statement)\n",
    "* tqdm (Progress bar)\n",
    "* numpy (for scientific computing with Python)"
   ]
  },
  {
   "cell_type": "code",
   "execution_count": 1,
   "metadata": {},
   "outputs": [
    {
     "name": "stderr",
     "output_type": "stream",
     "text": [
      "C:\\ProgramData\\Anaconda3\\lib\\site-packages\\tqdm\\autonotebook\\__init__.py:14: TqdmExperimentalWarning: Using `tqdm.autonotebook.tqdm` in notebook mode. Use `tqdm.tqdm` instead to force console mode (e.g. in jupyter console)\n",
      "  \" (e.g. in jupyter console)\", TqdmExperimentalWarning)\n"
     ]
    }
   ],
   "source": [
    "import pandas as pd #pandas tables\n",
    "import numpy as np #numpy for linear algrebra solution\n",
    "import matplotlib.pyplot as plt #EDA\n",
    "%matplotlib inline\n",
    "pd.set_option('display.max_rows', 500)\n",
    "pd.set_option('display.max_columns', 500)\n",
    "pd.set_option('display.width', 1000)\n",
    "\n",
    "import math #math operations\n",
    "from datetime import datetime #datetime manipulation\n",
    "\n",
    "import tqdm #progress bar\n",
    "from tqdm import tqdm_notebook as tqdm #progress bar\n",
    "from tqdm.autonotebook import tqdm #progress bar\n",
    " #progress bar\n",
    "\n",
    "from sklearn import linear_model  #linear regression \n",
    "import statsmodels.api as sm #linear regression \n",
    "\n",
    "import re #regex\n",
    "from contextlib import suppress #suppress error\n",
    "\n",
    "import networkx as nx #networkx to find shortest distance. "
   ]
  },
  {
   "cell_type": "markdown",
   "metadata": {},
   "source": [
    "# A. Dirty data"
   ]
  },
  {
   "cell_type": "markdown",
   "metadata": {},
   "source": [
    "According to the assignment specifications:    \n",
    "* There is at least one anomaly in the dataset from each category of the data anomalies (i.e.,\n",
    "syntactic, semantic, and coverage).\n",
    "* In the file <GroupName>_dirty_data.csv, any row can carry no more than one anomaly. (i.e.\n",
    "there can only be one anomaly in a single row and all anomalies are fixable)\n",
    "* There are no data anomalies in the file <GroupName>_outlier_data.csv, only outliers.\n",
    "Similarly, there are no data anomalies other than missing value problems in the file\n",
    "<GroupName>_missing_data.csv"
   ]
  },
  {
   "cell_type": "code",
   "execution_count": 2,
   "metadata": {},
   "outputs": [],
   "source": [
    "dirty = pd.read_csv('Group102_dirty_data.csv')\n",
    "ori_col = dirty.columns #keeping original columns"
   ]
  },
  {
   "cell_type": "code",
   "execution_count": 3,
   "metadata": {},
   "outputs": [],
   "source": [
    "dirty['error'] = '' #this column of error will be used to mark the error found in each row\n",
    "\n",
    "\n",
    "def day(x):\n",
    "    \"\"\"\n",
    "    To find if the day is weekday or weekend. \n",
    "    \"\"\"\n",
    "    if x == 5 or x == 6:\n",
    "        return 1 #'Saturday' or Sunday\n",
    "    else:\n",
    "        return 0 # Weekday\n",
    "    return\n",
    "\n",
    "\n",
    "def timeofday(x):\n",
    "    \n",
    "    \"\"\"\n",
    "    Create a column that encode the meal from Breakfas, Lunch, Dinner into 0,1,2\n",
    "    \"\"\"\n",
    "    \n",
    "    if x == 'Breakfast':\n",
    "        return 0\n",
    "    elif x == 'Lunch':\n",
    "        return 1\n",
    "    elif x == 'Dinner':\n",
    "        return 2"
   ]
  },
  {
   "cell_type": "markdown",
   "metadata": {},
   "source": [
    "## 1. date"
   ]
  },
  {
   "cell_type": "markdown",
   "metadata": {},
   "source": [
    "We will have a look at the column date. "
   ]
  },
  {
   "cell_type": "code",
   "execution_count": 4,
   "metadata": {},
   "outputs": [
    {
     "data": {
      "text/plain": [
       "0    2018-08-25\n",
       "1    2018-06-25\n",
       "2    2018-07-25\n",
       "3    2018-09-30\n",
       "4    2018-28-01\n",
       "Name: date, dtype: object"
      ]
     },
     "execution_count": 4,
     "metadata": {},
     "output_type": "execute_result"
    }
   ],
   "source": [
    "dirty['date'].head()"
   ]
  },
  {
   "cell_type": "markdown",
   "metadata": {},
   "source": [
    "We will check how many year"
   ]
  },
  {
   "cell_type": "code",
   "execution_count": 5,
   "metadata": {},
   "outputs": [],
   "source": [
    "dirty['date_aux'] = dirty['date'].apply(lambda x:x[:4])"
   ]
  },
  {
   "cell_type": "code",
   "execution_count": 6,
   "metadata": {},
   "outputs": [
    {
     "data": {
      "text/plain": [
       "array(['2018', '02-0', '05-0', '07-0', '09-0', '01-1', '06-1', '02-1',\n",
       "       '08-0', '11-1', '07-1', '01-0', '04-0', '09-1'], dtype=object)"
      ]
     },
     "execution_count": 6,
     "metadata": {},
     "output_type": "execute_result"
    }
   ],
   "source": [
    "dirty['date_aux'].unique()"
   ]
  },
  {
   "cell_type": "markdown",
   "metadata": {},
   "source": [
    "From inspecting year, we can see that there are missformated value in this column. Then we can fix the value to the same format YYYY-DD-MM"
   ]
  },
  {
   "cell_type": "code",
   "execution_count": 7,
   "metadata": {},
   "outputs": [],
   "source": [
    "PATTERNS = [\n",
    "        # 0) 1-12-1963 => 1963-12-01\n",
    "        (re.compile(r'(\\d{1,2})-(\\d{1,2})-(\\d{4})$'), '{2}-{1:0>2}-{0:0>2}'),\n",
    "        # 1) 1789-7-14 => 1789-07-14\n",
    "        (re.compile(r'(\\d{4})-(\\d{1,2})-(\\d{1,2})$'), '{0}-{1:0>2}-{2:0>2}'),\n",
    "]\n",
    "\n",
    "def correct(date):\n",
    "    \n",
    "    \"\"\"\n",
    "    Correct the date into order of YYYY-MM-DD\n",
    "    \"\"\"\n",
    "    \n",
    "    with suppress(ValueError):\n",
    "        return str(int(date))\n",
    "\n",
    "    for pattern, formater in PATTERNS:\n",
    "        match = pattern.match(date)\n",
    "        if match is not None:\n",
    "            return formater.format(*match.groups())\n",
    "        \n",
    "    return date\n",
    "\n",
    "def fix_month(date):\n",
    "    \"\"\"\n",
    "    Correct the date from YYYY-DD-MM into YYYY-MM-DD\n",
    "    \"\"\"\n",
    "    date = date.split('-') #split the YYYY-MM-DD, into [YYYY, MM, DD]\n",
    "    fixed = date[0]\n",
    "    \n",
    "    if int(date[1]) > 12: #if the numeric value larger than 12\n",
    "        fixed = fixed + str('-') + date[2] + str('-') +  date[1]\n",
    "    else: \n",
    "        fixed = fixed + str('-') + date[1] + str('-') + date[2]\n",
    "    return fixed"
   ]
  },
  {
   "cell_type": "markdown",
   "metadata": {},
   "source": [
    "We will create a column 'date_fix' to have the correct value. After getting the date column in correct format. Then we will compare between date_fix and date columns. The different will be spotted, and corrected. "
   ]
  },
  {
   "cell_type": "code",
   "execution_count": 8,
   "metadata": {},
   "outputs": [],
   "source": [
    "dirty['date_fix'] = dirty['date'].apply(lambda x : correct(x))\n",
    "dirty['date_fix'] = dirty['date_fix'].apply(lambda x: fix_month(x))"
   ]
  },
  {
   "cell_type": "code",
   "execution_count": 9,
   "metadata": {},
   "outputs": [
    {
     "name": "stdout",
     "output_type": "stream",
     "text": [
      "There are 37 errors in column date\n"
     ]
    }
   ],
   "source": [
    "print('There are {} errors in column date'.format(len(dirty[dirty['date_fix'] != dirty['date']][['date_fix','date']])))"
   ]
  },
  {
   "cell_type": "markdown",
   "metadata": {},
   "source": [
    "We then correct the date column according to the difference found, and mark the row's error as 'date'"
   ]
  },
  {
   "cell_type": "code",
   "execution_count": 10,
   "metadata": {},
   "outputs": [],
   "source": [
    "for index, loc in dirty[dirty['date_fix'] != dirty['date']][['date_fix','date']].iterrows(): \n",
    "    if dirty.at[index,'error'] == '':\n",
    "        dirty.at[index,'date'] = dirty.at[index,'date_fix']\n",
    "        dirty.at[index,'error'] += 'date'"
   ]
  },
  {
   "cell_type": "markdown",
   "metadata": {},
   "source": [
    "We fixed and marked the rows, from now on we can keep continue and fix other rows"
   ]
  },
  {
   "cell_type": "markdown",
   "metadata": {},
   "source": [
    "## 2. order_type"
   ]
  },
  {
   "cell_type": "markdown",
   "metadata": {},
   "source": [
    "In order to check if the order_type column is correct, we will look at the time of the order."
   ]
  },
  {
   "cell_type": "code",
   "execution_count": 11,
   "metadata": {},
   "outputs": [],
   "source": [
    "dirty['compared_time'] = dirty['time'].apply(lambda x: datetime.strptime(x,'%H:%M:%S'))"
   ]
  },
  {
   "cell_type": "code",
   "execution_count": 12,
   "metadata": {},
   "outputs": [],
   "source": [
    "def find_meal(time):\n",
    "    \"\"\"\n",
    "    look at the time the order is made. \n",
    "    \"\"\"\n",
    "    if time.hour < 12: #Breakfast\n",
    "        meal = 'Breakfast'\n",
    "    elif time.hour < 16: #Lunch\n",
    "        meal = 'Lunch'\n",
    "    else: #Dinner\n",
    "        meal = 'Dinner'\n",
    "    return meal"
   ]
  },
  {
   "cell_type": "code",
   "execution_count": 13,
   "metadata": {},
   "outputs": [
    {
     "data": {
      "text/plain": [
       "37"
      ]
     },
     "execution_count": 13,
     "metadata": {},
     "output_type": "execute_result"
    }
   ],
   "source": [
    "dirty['order_type_timechecked'] = dirty['compared_time'].apply(lambda x:find_meal(x))\n",
    "sum(dirty['order_type_timechecked'] != dirty['order_type']) #from here we can find 37 difference"
   ]
  },
  {
   "cell_type": "markdown",
   "metadata": {},
   "source": [
    "We can fix the order_type column based on the data found in order_type_timechecked now. "
   ]
  },
  {
   "cell_type": "code",
   "execution_count": 14,
   "metadata": {},
   "outputs": [],
   "source": [
    "#fixing problem of order_type based on time\n",
    "for index, loc in dirty[dirty['order_type_timechecked'] != dirty['order_type']].iterrows():\n",
    "    if dirty.at[index,'error'] == '':\n",
    "        dirty.at[index,'order_type'] = dirty.at[index,'order_type_timechecked']\n",
    "        dirty.at[index,'error'] += 'order_type' #mark the error of the row as order_type"
   ]
  },
  {
   "cell_type": "markdown",
   "metadata": {},
   "source": [
    "## 3. order_items"
   ]
  },
  {
   "cell_type": "markdown",
   "metadata": {},
   "source": [
    "In order to check if the order_items were correct, we would need to know the price of each items, and the list of items sold for each meal. For lists of meals, we will get the items from data file outlier, because outliers only contains outlier data, and does not have errors in categorical columns."
   ]
  },
  {
   "cell_type": "code",
   "execution_count": 15,
   "metadata": {},
   "outputs": [],
   "source": [
    "outlier_meal = pd.read_csv('Group102_outlier_data.csv')"
   ]
  },
  {
   "cell_type": "code",
   "execution_count": 16,
   "metadata": {},
   "outputs": [],
   "source": [
    "Breakfast = [] #initiate Breakfast list\n",
    "for index, each in outlier_meal[outlier_meal['order_type'] == 'Breakfast'].iterrows(): #look at all rows of Breakfast\n",
    "    for x in re.findall(r'[a-zA-Z&]+', outlier_meal.at[index, 'order_items']): #loop through the list\n",
    "        if x not in Breakfast:\n",
    "            Breakfast.append(x)\n",
    "\n",
    "Lunch = [] #initiate lunch list\n",
    "for index, each in outlier_meal[outlier_meal['order_type'] == 'Lunch'].iterrows(): #look at all rows of Lunch\n",
    "    for x in re.findall(r'[a-zA-Z&]+', outlier_meal.at[index, 'order_items']): #loop through the list\n",
    "        if x not in Lunch:\n",
    "            Lunch.append(x)\n",
    "\n",
    "Dinner = [] #initiate Dinner list\n",
    "for index, each in outlier_meal[outlier_meal['order_type'] == 'Dinner'].iterrows(): #look at all rows of Dinner\n",
    "    for x in re.findall(r'[a-zA-Z&]+', outlier_meal.at[index, 'order_items']): #loop through the list\n",
    "        if x not in Dinner: \n",
    "            Dinner.append(x)"
   ]
  },
  {
   "cell_type": "markdown",
   "metadata": {},
   "source": [
    "In order to find the price of for each item, we will use linear algebra api of numpy"
   ]
  },
  {
   "cell_type": "code",
   "execution_count": 17,
   "metadata": {},
   "outputs": [],
   "source": [
    "#Pancake, coffee, Cereal, Eggs\n",
    "#Calculate the price of \n",
    "a = np.array([[8,9,1,10], #these are parameters of all the breakfast orders of Pancake, Coffee, Cereal, Eggs\n",
    "              [0,0,3,6],\n",
    "              [3,0,4,4],\n",
    "              [8,6,8,0],\n",
    "             ])\n",
    "b = np.array([502.50,195.00,244.75,407.00]) #these are corresponding price of the breakfast order above\n",
    "breakfast_price = np.linalg.solve(a, b) #solve using numpy.linalg.solve\n",
    "bprice = {} #initiate pricelist of breakfast\n",
    "i= 0 #initiate index\n",
    "for item in ['Pancake', 'Coffee', 'Cereal', 'Eggs']:\n",
    "    bprice[item] = breakfast_price[i] #assignment corresponding price\n",
    "    i+=1\n",
    "\n",
    "#Steak, Salad, Chicken, Burger, Fries\n",
    "lprice = {} #initiate pricelist of lunch\n",
    "a = np.array([[7,3,3,2,10], #these are parameters of all the breakfast orders of Steak, Salad, Chicken, Burger, Fries\n",
    "              [1,3,9,0,3],\n",
    "              [0,1,0,0,6],\n",
    "              [10,10,8,2,8],\n",
    "              [4,0,10,10,4],\n",
    "             ])\n",
    "b = np.array([644.6,420.6,89.2,1036.0,858.0]) #these are corresponding price of the lunch order above\n",
    "lunch_price = np.linalg.solve(a, b)#solve using numpy.linalg.solve\n",
    "i=0\n",
    "for item in ['Steak', 'Salad', 'Chicken', 'Burger','Fries']:\n",
    "    lprice[item] = lunch_price[i]\n",
    "    i+=1\n",
    "\n",
    "#['Salmon', 'Fish&Chips', 'Shrimp', 'Pasta']\n",
    "dprice = {}\n",
    "a = np.array([[3,1,6,0], #these are parameters of all the breakfast orders of 'Salmon', 'Fish&Chips', 'Shrimp', 'Pasta' \n",
    "              [4,0,3,5],\n",
    "              [0,0,1,5],\n",
    "              [0,5,0,4],\n",
    "             ])\n",
    "b = np.array([482,463.5,191.5,285])#these are corresponding price of the dinner order above\n",
    "dinner_price = np.linalg.solve(a, b)#solve using numpy.linalg.solve\n",
    "i=0\n",
    "for item in ['Salmon', 'Fish&Chips', 'Shrimp', 'Pasta']:\n",
    "    dprice[item] = dinner_price[i]\n",
    "    i+=1"
   ]
  },
  {
   "cell_type": "markdown",
   "metadata": {},
   "source": [
    "After collecting data for item price and the menu items for Breakfast, Lunch, Dinner, we will look at if any error in order_items column"
   ]
  },
  {
   "cell_type": "code",
   "execution_count": 18,
   "metadata": {},
   "outputs": [],
   "source": [
    "#fix the wrong item in order_item\n",
    "def order_item_fix(meal,items,total_price):\n",
    "    \"\"\"\n",
    "    At first, look at the meal (Breakfast, Lunch, Dinner) to find the price list.\n",
    "    Then check the items if any of the item do not belong to the price list.\n",
    "    The item that does not belong to the price list is marked as out_list\n",
    "    The price for this item will be found by deducting price of other items from total price,\n",
    "    and then divided by the quantity of the item.\n",
    "    After price of item found, look up in the price list to find the name of the item and replace the wrong\n",
    "    name of the item with the correct name found from list. \n",
    "    \"\"\"\n",
    "    \n",
    "    menu_qtt = re.findall(r'[0-9]+', items) #quantities of each item in order\n",
    "    menu_item = re.findall(r'[a-zA-Z&]+', items) #name of each item in order\n",
    "    \n",
    "    count = 0 #counting variable of item not in list\n",
    "    \n",
    "    # look at meal variable to find the meal_list and assign the take_price list accordingly  \n",
    "    if meal == 'Breakfast':\n",
    "        take_price = bprice\n",
    "        meal_list = Breakfast\n",
    "    if meal == 'Lunch':\n",
    "        take_price = lprice\n",
    "        meal_list = Lunch\n",
    "    if meal == 'Dinner':\n",
    "        take_price = dprice \n",
    "        meal_list = Dinner\n",
    "        \n",
    "        \n",
    "    #Find the item that do not belong to the meal_list    \n",
    "    i = 0\n",
    "    for item in menu_item: #loop through item in menu\n",
    "        if item in meal_list: #if the item in meal list\n",
    "            total_price = total_price - int(menu_qtt[i])*take_price[item] #deducting price*quantity from total price\n",
    "            i+=1 \n",
    "        else: #if the item is not in meal list, error found\n",
    "            out_list = item #mark the item\n",
    "            count = int(menu_qtt[i]) #count how many of that item\n",
    "            i+=1\n",
    "                \n",
    "    price_o_outlist = total_price/count #price of the item not in the list\n",
    "            \n",
    "    for item, price in take_price.items(): #lopp through the take_price item, and compare the price\n",
    "        if abs(price_o_outlist - price) < 0.1: #if the price found, then the name of the item found\n",
    "            fix_out_list = item\n",
    "            \n",
    "    items = items.replace(out_list,fix_out_list) #replace the name of the item by correct item name\n",
    "    \n",
    "    return items #return the correct item list"
   ]
  },
  {
   "cell_type": "code",
   "execution_count": 19,
   "metadata": {},
   "outputs": [],
   "source": [
    "def order_item_check(meal,items):\n",
    "    \"\"\"\n",
    "    This is to mark the error for each column that has issue with order_type\n",
    "    \"\"\"\n",
    "    error = 0\n",
    "    menu_qtt = re.findall(r'[a-zA-Z&]+', items) #enlist all the items\n",
    "    \n",
    "    if meal == 'Breakfast': #grasping meal_list\n",
    "        meal_list = Breakfast\n",
    "    if meal == 'Lunch':\n",
    "        meal_list = Lunch\n",
    "    if meal == 'Dinner':\n",
    "        meal_list = Dinner\n",
    "        \n",
    "    for item in menu_qtt: #check if all items in the correct list\n",
    "        if item not in meal_list:\n",
    "            error = 1 #if not then return error\n",
    "            break\n",
    "            \n",
    "    return error"
   ]
  },
  {
   "cell_type": "markdown",
   "metadata": {},
   "source": [
    "We will create a column 'order_items_menucheck' to see which column has wrong set of order_items"
   ]
  },
  {
   "cell_type": "code",
   "execution_count": 20,
   "metadata": {},
   "outputs": [],
   "source": [
    "dirty['order_items_menucheck'] = dirty[['order_type','order_items']].apply(lambda x: order_item_check(*x), axis=1)"
   ]
  },
  {
   "cell_type": "code",
   "execution_count": 21,
   "metadata": {},
   "outputs": [
    {
     "data": {
      "text/plain": [
       "37"
      ]
     },
     "execution_count": 21,
     "metadata": {},
     "output_type": "execute_result"
    }
   ],
   "source": [
    "len(dirty[dirty['order_items_menucheck'] == 1][['order_items']])"
   ]
  },
  {
   "cell_type": "markdown",
   "metadata": {},
   "source": [
    "So we have 37 rows that have error in items. We can fix these error by using function order_item_fix"
   ]
  },
  {
   "cell_type": "code",
   "execution_count": 22,
   "metadata": {},
   "outputs": [],
   "source": [
    "for index, loc in dirty[dirty['order_items_menucheck'] == 1][['order_type','order_items','order_price']].iterrows():\n",
    "    dirty.at[index,'order_items'] = order_item_fix(dirty.at[index,'order_type'],dirty.at[index,'order_items'],dirty.at[index,'order_price'])\n",
    "    dirty.at[index,'order_items_menucheck'] = 0\n",
    "    dirty.at[index,'error'] = 'order_items'"
   ]
  },
  {
   "cell_type": "markdown",
   "metadata": {},
   "source": [
    "## 4. customer_lat, customer_lon"
   ]
  },
  {
   "cell_type": "markdown",
   "metadata": {},
   "source": [
    "Customer lattitute normally has value less than zero (eg:-37) due to the geolocation of Melbourne city, and longitude about 144. However, by looking at the row we can see some rows having value of customer_lat 144. We will inspect this."
   ]
  },
  {
   "cell_type": "code",
   "execution_count": 23,
   "metadata": {},
   "outputs": [
    {
     "data": {
      "text/html": [
       "<div>\n",
       "<style scoped>\n",
       "    .dataframe tbody tr th:only-of-type {\n",
       "        vertical-align: middle;\n",
       "    }\n",
       "\n",
       "    .dataframe tbody tr th {\n",
       "        vertical-align: top;\n",
       "    }\n",
       "\n",
       "    .dataframe thead th {\n",
       "        text-align: right;\n",
       "    }\n",
       "</style>\n",
       "<table border=\"1\" class=\"dataframe\">\n",
       "  <thead>\n",
       "    <tr style=\"text-align: right;\">\n",
       "      <th></th>\n",
       "      <th>customer_lat</th>\n",
       "      <th>customer_lon</th>\n",
       "    </tr>\n",
       "  </thead>\n",
       "  <tbody>\n",
       "    <tr>\n",
       "      <th>5</th>\n",
       "      <td>144.958183</td>\n",
       "      <td>-37.815605</td>\n",
       "    </tr>\n",
       "    <tr>\n",
       "      <th>330</th>\n",
       "      <td>144.969693</td>\n",
       "      <td>-37.820101</td>\n",
       "    </tr>\n",
       "    <tr>\n",
       "      <th>367</th>\n",
       "      <td>144.948864</td>\n",
       "      <td>-37.814427</td>\n",
       "    </tr>\n",
       "    <tr>\n",
       "      <th>454</th>\n",
       "      <td>144.935733</td>\n",
       "      <td>-37.809891</td>\n",
       "    </tr>\n",
       "  </tbody>\n",
       "</table>\n",
       "</div>"
      ],
      "text/plain": [
       "     customer_lat  customer_lon\n",
       "5      144.958183    -37.815605\n",
       "330    144.969693    -37.820101\n",
       "367    144.948864    -37.814427\n",
       "454    144.935733    -37.809891"
      ]
     },
     "execution_count": 23,
     "metadata": {},
     "output_type": "execute_result"
    }
   ],
   "source": [
    "#some value of customer_lat should be swap with customer_lon\n",
    "dirty[dirty['customer_lat'] > dirty['customer_lon']][['customer_lat','customer_lon']]"
   ]
  },
  {
   "cell_type": "markdown",
   "metadata": {},
   "source": [
    "So there are four rows that has swapped value of longitude and lattitue, we can fix them"
   ]
  },
  {
   "cell_type": "code",
   "execution_count": 24,
   "metadata": {},
   "outputs": [],
   "source": [
    "for index, loc in dirty[dirty['customer_lat'] > dirty['customer_lon']].iterrows():\n",
    "    if dirty.at[index,'error'] == '':\n",
    "        dirty.at[index,'customer_lat'],dirty.at[index,'customer_lon'] = dirty.at[index,'customer_lon'],dirty.at[index,'customer_lat']\n",
    "        dirty.at[index,'error'] += 'long_lat_swap'"
   ]
  },
  {
   "cell_type": "markdown",
   "metadata": {},
   "source": [
    "Some columns that does not have negative sign with the customer_lat"
   ]
  },
  {
   "cell_type": "code",
   "execution_count": 25,
   "metadata": {},
   "outputs": [
    {
     "data": {
      "text/plain": [
       "37"
      ]
     },
     "execution_count": 25,
     "metadata": {},
     "output_type": "execute_result"
    }
   ],
   "source": [
    "#some customer_lat does not have negative sign\n",
    "len(dirty[-1*dirty['customer_lat'] < 0])"
   ]
  },
  {
   "cell_type": "markdown",
   "metadata": {},
   "source": [
    "We can fix these value by adding the negative sign."
   ]
  },
  {
   "cell_type": "code",
   "execution_count": 26,
   "metadata": {},
   "outputs": [],
   "source": [
    "for index, loc in dirty[-1*dirty['customer_lat'] < 0].iterrows():\n",
    "    if dirty.at[index,'error'] == '':\n",
    "        dirty.at[index,'customer_lat'] = -1*dirty.at[index,'customer_lat']\n",
    "        dirty.at[index, 'error'] = 'customer_lat'"
   ]
  },
  {
   "cell_type": "markdown",
   "metadata": {},
   "source": [
    "## 5. order_price"
   ]
  },
  {
   "cell_type": "code",
   "execution_count": 27,
   "metadata": {},
   "outputs": [],
   "source": [
    "\n",
    "def total_price_check(meal,items,total_price):\n",
    "    \n",
    "    menu_qtt = re.findall(r'[0-9]+', items)\n",
    "    menu_item = re.findall(r'[a-zA-Z&]+', items) \n",
    "    count = 0\n",
    "  \n",
    "    if meal == 'Breakfast':\n",
    "        take_price = bprice\n",
    "        meal_list = Breakfast\n",
    "    if meal == 'Lunch':\n",
    "        take_price = lprice\n",
    "        meal_list = Lunch\n",
    "    if meal == 'Dinner':\n",
    "        take_price = dprice \n",
    "        meal_list = Dinner\n",
    "    calculated = 0  \n",
    "    i = 0\n",
    "    for item in menu_item:\n",
    "        if item in meal_list:\n",
    "            calculated = calculated + int(menu_qtt[i])*take_price[item]\n",
    "            i+=1\n",
    "   \n",
    "    return calculated\n",
    "\n",
    "\n",
    "def diff(a,b):\n",
    "    if abs(a-b) < 0.01:\n",
    "        return 0\n",
    "    else:\n",
    "        return 1"
   ]
  },
  {
   "cell_type": "markdown",
   "metadata": {},
   "source": [
    "We will create a column calculated_total_price, and see if that column is different from the order_price."
   ]
  },
  {
   "cell_type": "code",
   "execution_count": 28,
   "metadata": {},
   "outputs": [
    {
     "name": "stdout",
     "output_type": "stream",
     "text": [
      "There are 37 errors in order_price\n"
     ]
    }
   ],
   "source": [
    "dirty['calculated_total_price'] = dirty[['order_type','order_items','order_price']].apply(lambda x: total_price_check(*x), axis=1)\n",
    "dirty['error_total_price'] = dirty[['calculated_total_price','order_price']].apply(lambda x:diff(*x),axis =1)\n",
    "print('There are {} errors in order_price'.format(len(dirty[dirty['error_total_price'] == 1])))"
   ]
  },
  {
   "cell_type": "markdown",
   "metadata": {},
   "source": [
    "So there are 37 errors in total price, which is not calculated correctly. We can fix it based on the calculated_total_price"
   ]
  },
  {
   "cell_type": "code",
   "execution_count": 29,
   "metadata": {},
   "outputs": [],
   "source": [
    "for index, loc in  dirty[dirty['error_total_price'] == 1].iterrows():\n",
    "    dirty.at[index,'order_price'] = dirty.at[index,'calculated_total_price']\n",
    "    dirty.at[index,'error'] = 'wrong order_price'"
   ]
  },
  {
   "cell_type": "markdown",
   "metadata": {},
   "source": [
    "## 6. branch_code"
   ]
  },
  {
   "cell_type": "markdown",
   "metadata": {},
   "source": [
    "We will inspect the unique values of this column."
   ]
  },
  {
   "cell_type": "code",
   "execution_count": 30,
   "metadata": {},
   "outputs": [
    {
     "data": {
      "text/plain": [
       "array(['BK', 'NS', 'TP', 'ns', 'bk', 'tp'], dtype=object)"
      ]
     },
     "execution_count": 30,
     "metadata": {},
     "output_type": "execute_result"
    }
   ],
   "source": [
    "#check \n",
    "dirty['branch_code'].unique()"
   ]
  },
  {
   "cell_type": "markdown",
   "metadata": {},
   "source": [
    "Clearly there are some errors in lower case. We can fix this but we are not sure if other in uppercase are all correct. Because the other way of checking the branch_code is to look at the distance between the customer's geolocation and the branch's geolocation, which will be discussed further."
   ]
  },
  {
   "cell_type": "code",
   "execution_count": 31,
   "metadata": {},
   "outputs": [
    {
     "data": {
      "text/plain": [
       "27"
      ]
     },
     "execution_count": 31,
     "metadata": {},
     "output_type": "execute_result"
    }
   ],
   "source": [
    "#check\n",
    "dirty['branch_code_check'] = dirty['branch_code'].apply(lambda x:x.upper())\n",
    "len(dirty[dirty['branch_code_check'] != dirty['branch_code']])"
   ]
  },
  {
   "cell_type": "markdown",
   "metadata": {},
   "source": [
    "Now we can fix the lowercase"
   ]
  },
  {
   "cell_type": "code",
   "execution_count": 32,
   "metadata": {},
   "outputs": [],
   "source": [
    "for index, loc in dirty[dirty['branch_code_check'] != dirty['branch_code']].iterrows():\n",
    "    dirty.at[index, 'branch_code'] = dirty.at[index,'branch_code_check']\n",
    "    dirty.at[index,'error'] = 'branch_code'"
   ]
  },
  {
   "cell_type": "markdown",
   "metadata": {},
   "source": [
    "## 7. distance_to_customer_KM"
   ]
  },
  {
   "cell_type": "markdown",
   "metadata": {},
   "source": [
    "In order to work with geolocation data, we will need to look at the branches.csv, nodes.csv, and edges.csv. From these data, we can create a network with nodes and length between nodes to find distance. \n",
    "\n",
    "From node data, we can create a column node."
   ]
  },
  {
   "cell_type": "code",
   "execution_count": 33,
   "metadata": {},
   "outputs": [],
   "source": [
    "restaurants_csv = pd.read_csv('branches.csv') \n",
    "nodes = pd.read_csv('nodes.csv')\n",
    "edges = pd.read_csv('edges.csv')\n",
    "\n",
    "nodes_dict = nodes.T.to_dict()\n",
    "def get_node(lat,lon):\n",
    "    for i in range(len(l)):\n",
    "        if l[i]['lat'] == lat and l[i]['lon'] == lon:\n",
    "            return int(l[i]['node'])\n",
    "            break\n",
    "l = []\n",
    "for i in range(len(nodes_dict)):\n",
    "    l.append(nodes_dict[i])\n",
    "    \n",
    "dirty['node'] = dirty[['customer_lat','customer_lon']].apply(lambda x: get_node(*x), axis=1)\n",
    "\n",
    "#to minimize error in calculation, we will round the value to 3 digits after comma\n",
    "dirty['distance_to_customer_KM'] = dirty['distance_to_customer_KM'].apply(lambda x: round(x,3)) "
   ]
  },
  {
   "cell_type": "markdown",
   "metadata": {},
   "source": [
    "We will then check if all node obtained correctly by check if any row has null value"
   ]
  },
  {
   "cell_type": "code",
   "execution_count": 34,
   "metadata": {},
   "outputs": [
    {
     "data": {
      "text/plain": [
       "0"
      ]
     },
     "execution_count": 34,
     "metadata": {},
     "output_type": "execute_result"
    }
   ],
   "source": [
    "#check if all node correctly found\n",
    "dirty['node'].isnull().sum()"
   ]
  },
  {
   "cell_type": "markdown",
   "metadata": {},
   "source": [
    "So far, all nodes are obtained correctly. We can start building network G using package networkx."
   ]
  },
  {
   "cell_type": "code",
   "execution_count": 35,
   "metadata": {},
   "outputs": [],
   "source": [
    "G = nx.Graph() #initiate graph G\n",
    "nodes['node'] = nodes['node'].apply(lambda x:int(x)) #node as integer value\n",
    "G.add_nodes_from(list(nodes['node'])) #add node to G\n",
    "edges = edges[['u','v','distance(m)','street type','speed(km/h)']] #create edges\n",
    "edges_dis = edges[['u','v','distance(m)']] #edge based on distance\n",
    "edges_distance_tuple = [tuple(x) for x in edges_dis.values] #u,v, and distance to tuple\n",
    "for start, end, length in edges_distance_tuple: #add u,v and distance to G\n",
    "    G.add_edge(int(start), int(end), length=length)\n",
    "      \n",
    "# Get node for restaurant\n",
    "restaurants_csv['node'] = restaurants_csv[['branch_lat','branch_lon']].apply(lambda x: get_node(*x), axis=1) \n",
    "\n",
    "# Get node of each restaurant and store in NS, TP, Bk for futher calculation\n",
    "NS = int(restaurants_csv[restaurants_csv['branch_code'] == 'NS']['node'][0])\n",
    "TP = int(restaurants_csv[restaurants_csv['branch_code'] == 'TP']['node'][1])\n",
    "BK = int(restaurants_csv[restaurants_csv['branch_code'] == 'BK']['node'][2])"
   ]
  },
  {
   "cell_type": "code",
   "execution_count": 36,
   "metadata": {},
   "outputs": [],
   "source": [
    "def distance(u,v):\n",
    "    \"\"\"\n",
    "    Calculating distance from two nodes\n",
    "    \"\"\"\n",
    "    dist = 0. #initate a float value for dist\n",
    "    dist = nx.shortest_path_length(G, u, v,weight=\"length\")/1000 #distance in km\n",
    "    return round(dist,3)\n",
    "\n",
    "def get_r_node(res_name):\n",
    "    \"\"\"\n",
    "    Get restaurant node given the branch_code\n",
    "    \"\"\"\n",
    "    if res_name == 'NS':\n",
    "        return NS\n",
    "    elif res_name == 'BK':\n",
    "        return BK\n",
    "    else:\n",
    "        return TP"
   ]
  },
  {
   "cell_type": "markdown",
   "metadata": {},
   "source": [
    "We create a column br_node to find the node in network G for each branch_code. Then a column of distance_check is created to calculate value between that node to customer's node. Then values of distance_check and distance_to_customer_KM will be compared to find if erroneous."
   ]
  },
  {
   "cell_type": "code",
   "execution_count": 37,
   "metadata": {},
   "outputs": [
    {
     "data": {
      "text/html": [
       "<div>\n",
       "<style scoped>\n",
       "    .dataframe tbody tr th:only-of-type {\n",
       "        vertical-align: middle;\n",
       "    }\n",
       "\n",
       "    .dataframe tbody tr th {\n",
       "        vertical-align: top;\n",
       "    }\n",
       "\n",
       "    .dataframe thead th {\n",
       "        text-align: right;\n",
       "    }\n",
       "</style>\n",
       "<table border=\"1\" class=\"dataframe\">\n",
       "  <thead>\n",
       "    <tr style=\"text-align: right;\">\n",
       "      <th></th>\n",
       "      <th>br_node</th>\n",
       "      <th>node</th>\n",
       "      <th>branch_code</th>\n",
       "      <th>distance_check</th>\n",
       "      <th>distance_to_customer_KM</th>\n",
       "      <th>error</th>\n",
       "    </tr>\n",
       "  </thead>\n",
       "  <tbody>\n",
       "    <tr>\n",
       "      <th>8</th>\n",
       "      <td>1889485053</td>\n",
       "      <td>575386414</td>\n",
       "      <td>BK</td>\n",
       "      <td>6.400</td>\n",
       "      <td>6.619</td>\n",
       "      <td></td>\n",
       "    </tr>\n",
       "    <tr>\n",
       "      <th>11</th>\n",
       "      <td>1889485053</td>\n",
       "      <td>1492153102</td>\n",
       "      <td>BK</td>\n",
       "      <td>8.327</td>\n",
       "      <td>7.823</td>\n",
       "      <td></td>\n",
       "    </tr>\n",
       "    <tr>\n",
       "      <th>13</th>\n",
       "      <td>2455254505</td>\n",
       "      <td>4735909077</td>\n",
       "      <td>NS</td>\n",
       "      <td>8.431</td>\n",
       "      <td>10.022</td>\n",
       "      <td>branch_code</td>\n",
       "    </tr>\n",
       "    <tr>\n",
       "      <th>18</th>\n",
       "      <td>1390575046</td>\n",
       "      <td>92130447</td>\n",
       "      <td>TP</td>\n",
       "      <td>9.828</td>\n",
       "      <td>7.282</td>\n",
       "      <td></td>\n",
       "    </tr>\n",
       "    <tr>\n",
       "      <th>24</th>\n",
       "      <td>1390575046</td>\n",
       "      <td>1463547090</td>\n",
       "      <td>TP</td>\n",
       "      <td>10.929</td>\n",
       "      <td>4.548</td>\n",
       "      <td></td>\n",
       "    </tr>\n",
       "  </tbody>\n",
       "</table>\n",
       "</div>"
      ],
      "text/plain": [
       "       br_node        node branch_code  distance_check  distance_to_customer_KM        error\n",
       "8   1889485053   575386414          BK           6.400                    6.619             \n",
       "11  1889485053  1492153102          BK           8.327                    7.823             \n",
       "13  2455254505  4735909077          NS           8.431                   10.022  branch_code\n",
       "18  1390575046    92130447          TP           9.828                    7.282             \n",
       "24  1390575046  1463547090          TP          10.929                    4.548             "
      ]
     },
     "execution_count": 37,
     "metadata": {},
     "output_type": "execute_result"
    }
   ],
   "source": [
    "#get branch node\n",
    "dirty['br_node'] = dirty['branch_code'].apply(lambda x:get_r_node(x))\n",
    "\n",
    "#calculate the distance between the branch_node and the customer's node\n",
    "dirty['distance_check'] = dirty[['br_node','node']].apply(lambda x: distance(*x), axis=1) \n",
    "\n",
    "#compare the value between distance_check and distance_to_customer_KM\n",
    "dirty[dirty['distance_check'] != dirty['distance_to_customer_KM']][['br_node','node','branch_code','distance_check','distance_to_customer_KM','error']].head()"
   ]
  },
  {
   "cell_type": "markdown",
   "metadata": {},
   "source": [
    "From the table above, we can see that some rows has different value in distance_check and distance_to_customer_KM, we do not know which one is correct yet. This can be two possibilities, the distance_to_customer_KM was wrong, and the distance_check is correct based on the branch_code (if branch_code correct); and the other was the distance_to_customer_KM is correct, the branch_code should be adjusted accordingly. \n",
    "\n",
    "Furthermore, we can see that some rows, in column error indicate that the row has error with branch_code before. This error is due to the branch_code was in lowercase, and thus, the distance_to_customer_KM in this case must be correct, due to the specification 3 of the assignment that in dirty rows there can be no more than two anomalies. Thus, with these columns, we will adjust the value of branch_code again to match with the distance_to_customer_KM."
   ]
  },
  {
   "cell_type": "code",
   "execution_count": 38,
   "metadata": {},
   "outputs": [],
   "source": [
    "# assign these value to dataframe temp\n",
    "temp = dirty[dirty['distance_check'] != dirty['distance_to_customer_KM']][['br_node','node','distance_check','branch_code','distance_to_customer_KM','error']]"
   ]
  },
  {
   "cell_type": "code",
   "execution_count": 39,
   "metadata": {},
   "outputs": [
    {
     "data": {
      "text/plain": [
       "19"
      ]
     },
     "execution_count": 39,
     "metadata": {},
     "output_type": "execute_result"
    }
   ],
   "source": [
    "len(temp[temp['error'] == 'branch_code'])"
   ]
  },
  {
   "cell_type": "markdown",
   "metadata": {},
   "source": [
    "As discussed above, there are 19 such rows. In order to not violate the specification 3, we then fix the branch_code according to the distance. And the rest, we fix the distance according to the branch_code."
   ]
  },
  {
   "cell_type": "code",
   "execution_count": 40,
   "metadata": {},
   "outputs": [],
   "source": [
    "def find_branch_given_dist(u,dist):\n",
    "    \n",
    "    \"\"\"\n",
    "    Given node and distance to node, we can\n",
    "    return the name of the branch_code\n",
    "    \"\"\"\n",
    "    \n",
    "    distance_to_NS = distance(u,NS)\n",
    "    distance_to_TP = distance(u,TP)\n",
    "    distance_to_BK = distance(u,BK)\n",
    "    \n",
    "    if abs(dist - distance_to_NS) < 0.01:\n",
    "        return 'NS'\n",
    "    elif abs(dist - distance_to_TP) < 0.01:\n",
    "        return 'TP'\n",
    "    elif abs(dist - distance_to_BK) < 0.01:\n",
    "        return 'BK'\n",
    "    \n",
    "for index, loc in temp[temp['error'] == 'branch_code'].iterrows():\n",
    "    dirty.at[index, 'branch_code'] = find_branch_given_dist(dirty.at[index, 'node'],dirty.at[index, 'distance_to_customer_KM'])\n",
    "    dirty.at[index, 'error'] = 'branch_code'"
   ]
  },
  {
   "cell_type": "markdown",
   "metadata": {},
   "source": [
    "Now we can fix the error of the wrong distance. "
   ]
  },
  {
   "cell_type": "code",
   "execution_count": 41,
   "metadata": {},
   "outputs": [],
   "source": [
    "fix_distance = dirty[dirty['distance_check'] != dirty['distance_to_customer_KM']]\n",
    "fix_distance = fix_distance[fix_distance['error'] == '']"
   ]
  },
  {
   "cell_type": "code",
   "execution_count": 42,
   "metadata": {},
   "outputs": [
    {
     "data": {
      "text/html": [
       "<div>\n",
       "<style scoped>\n",
       "    .dataframe tbody tr th:only-of-type {\n",
       "        vertical-align: middle;\n",
       "    }\n",
       "\n",
       "    .dataframe tbody tr th {\n",
       "        vertical-align: top;\n",
       "    }\n",
       "\n",
       "    .dataframe thead th {\n",
       "        text-align: right;\n",
       "    }\n",
       "</style>\n",
       "<table border=\"1\" class=\"dataframe\">\n",
       "  <thead>\n",
       "    <tr style=\"text-align: right;\">\n",
       "      <th></th>\n",
       "      <th>distance_to_customer_KM</th>\n",
       "      <th>distance_check</th>\n",
       "      <th>error</th>\n",
       "    </tr>\n",
       "  </thead>\n",
       "  <tbody>\n",
       "    <tr>\n",
       "      <th>8</th>\n",
       "      <td>6.619</td>\n",
       "      <td>6.400</td>\n",
       "      <td></td>\n",
       "    </tr>\n",
       "    <tr>\n",
       "      <th>11</th>\n",
       "      <td>7.823</td>\n",
       "      <td>8.327</td>\n",
       "      <td></td>\n",
       "    </tr>\n",
       "    <tr>\n",
       "      <th>18</th>\n",
       "      <td>7.282</td>\n",
       "      <td>9.828</td>\n",
       "      <td></td>\n",
       "    </tr>\n",
       "    <tr>\n",
       "      <th>24</th>\n",
       "      <td>4.548</td>\n",
       "      <td>10.929</td>\n",
       "      <td></td>\n",
       "    </tr>\n",
       "    <tr>\n",
       "      <th>40</th>\n",
       "      <td>9.795</td>\n",
       "      <td>10.092</td>\n",
       "      <td></td>\n",
       "    </tr>\n",
       "  </tbody>\n",
       "</table>\n",
       "</div>"
      ],
      "text/plain": [
       "    distance_to_customer_KM  distance_check error\n",
       "8                     6.619           6.400      \n",
       "11                    7.823           8.327      \n",
       "18                    7.282           9.828      \n",
       "24                    4.548          10.929      \n",
       "40                    9.795          10.092      "
      ]
     },
     "execution_count": 42,
     "metadata": {},
     "output_type": "execute_result"
    }
   ],
   "source": [
    "fix_distance[['distance_to_customer_KM','distance_check','error']].head()"
   ]
  },
  {
   "cell_type": "markdown",
   "metadata": {},
   "source": [
    "We dont know from the table above that if it is a distance_to_customer_KM error, or it could be the error from branch code. We will investigate further by calculating the distance from the node to two other branches. "
   ]
  },
  {
   "cell_type": "code",
   "execution_count": 43,
   "metadata": {},
   "outputs": [
    {
     "data": {
      "text/html": [
       "<div>\n",
       "<style scoped>\n",
       "    .dataframe tbody tr th:only-of-type {\n",
       "        vertical-align: middle;\n",
       "    }\n",
       "\n",
       "    .dataframe tbody tr th {\n",
       "        vertical-align: top;\n",
       "    }\n",
       "\n",
       "    .dataframe thead th {\n",
       "        text-align: right;\n",
       "    }\n",
       "</style>\n",
       "<table border=\"1\" class=\"dataframe\">\n",
       "  <thead>\n",
       "    <tr style=\"text-align: right;\">\n",
       "      <th></th>\n",
       "      <th>branch_code</th>\n",
       "      <th>distance_to_customer_KM</th>\n",
       "      <th>distance_check</th>\n",
       "      <th>to_NS</th>\n",
       "      <th>to_TP</th>\n",
       "      <th>to_BK</th>\n",
       "    </tr>\n",
       "  </thead>\n",
       "  <tbody>\n",
       "    <tr>\n",
       "      <th>8</th>\n",
       "      <td>BK</td>\n",
       "      <td>6.619</td>\n",
       "      <td>6.400</td>\n",
       "      <td>9.160</td>\n",
       "      <td>9.325</td>\n",
       "      <td>6.400</td>\n",
       "    </tr>\n",
       "    <tr>\n",
       "      <th>11</th>\n",
       "      <td>BK</td>\n",
       "      <td>7.823</td>\n",
       "      <td>8.327</td>\n",
       "      <td>8.350</td>\n",
       "      <td>8.854</td>\n",
       "      <td>8.327</td>\n",
       "    </tr>\n",
       "    <tr>\n",
       "      <th>18</th>\n",
       "      <td>TP</td>\n",
       "      <td>7.282</td>\n",
       "      <td>9.828</td>\n",
       "      <td>9.302</td>\n",
       "      <td>9.828</td>\n",
       "      <td>9.393</td>\n",
       "    </tr>\n",
       "    <tr>\n",
       "      <th>24</th>\n",
       "      <td>TP</td>\n",
       "      <td>4.548</td>\n",
       "      <td>10.929</td>\n",
       "      <td>10.467</td>\n",
       "      <td>10.929</td>\n",
       "      <td>4.548</td>\n",
       "    </tr>\n",
       "    <tr>\n",
       "      <th>40</th>\n",
       "      <td>TP</td>\n",
       "      <td>9.795</td>\n",
       "      <td>10.092</td>\n",
       "      <td>9.016</td>\n",
       "      <td>10.092</td>\n",
       "      <td>9.192</td>\n",
       "    </tr>\n",
       "  </tbody>\n",
       "</table>\n",
       "</div>"
      ],
      "text/plain": [
       "   branch_code  distance_to_customer_KM  distance_check   to_NS   to_TP  to_BK\n",
       "8           BK                    6.619           6.400   9.160   9.325  6.400\n",
       "11          BK                    7.823           8.327   8.350   8.854  8.327\n",
       "18          TP                    7.282           9.828   9.302   9.828  9.393\n",
       "24          TP                    4.548          10.929  10.467  10.929  4.548\n",
       "40          TP                    9.795          10.092   9.016  10.092  9.192"
      ]
     },
     "execution_count": 43,
     "metadata": {},
     "output_type": "execute_result"
    }
   ],
   "source": [
    "for index, loc in fix_distance.iterrows():\n",
    "    fix_distance.at[index,'to_NS'] = distance(fix_distance.at[index,'node'],NS)\n",
    "    fix_distance.at[index,'to_TP'] = distance(fix_distance.at[index,'node'],TP)\n",
    "    fix_distance.at[index,'to_BK'] = distance(fix_distance.at[index,'node'],BK)\n",
    "fix_distance[['branch_code','distance_to_customer_KM','distance_check','to_NS','to_TP','to_BK']].head()"
   ]
  },
  {
   "cell_type": "markdown",
   "metadata": {},
   "source": [
    "From the table above, we can see that some distance_to_customer_KM values do not match any of the correct distance from customer node to the branches. To these value, we will fixed the value based on the branch_code"
   ]
  },
  {
   "cell_type": "markdown",
   "metadata": {},
   "source": [
    "So we will check from here if any distance to customer matches any of the branch_code. For easy check, we will store if match is found into one column named branch_check."
   ]
  },
  {
   "cell_type": "code",
   "execution_count": 44,
   "metadata": {},
   "outputs": [
    {
     "name": "stderr",
     "output_type": "stream",
     "text": [
      "C:\\ProgramData\\Anaconda3\\lib\\site-packages\\ipykernel_launcher.py:7: UserWarning: Boolean Series key will be reindexed to match DataFrame index.\n",
      "  import sys\n"
     ]
    }
   ],
   "source": [
    "fix_distance['branch_check'] = ''\n",
    "for index, loc in fix_distance.iterrows():\n",
    "        fix_distance.at[index,'branch_check'] = find_branch_given_dist(fix_distance.at[index,'node'],fix_distance.at[index,'distance_to_customer_KM'])\n",
    "dirty['branch_check'] = ''\n",
    "for index, loc in fix_distance.iterrows():\n",
    "        dirty.at[index,'branch_check'] = find_branch_given_dist(fix_distance.at[index,'node'],fix_distance.at[index,'distance_to_customer_KM'])        \n",
    "branch_check_df = fix_distance[fix_distance['branch_check'].notnull()][fix_distance['branch_check'] != '']"
   ]
  },
  {
   "cell_type": "code",
   "execution_count": 45,
   "metadata": {},
   "outputs": [
    {
     "data": {
      "text/html": [
       "<div>\n",
       "<style scoped>\n",
       "    .dataframe tbody tr th:only-of-type {\n",
       "        vertical-align: middle;\n",
       "    }\n",
       "\n",
       "    .dataframe tbody tr th {\n",
       "        vertical-align: top;\n",
       "    }\n",
       "\n",
       "    .dataframe thead th {\n",
       "        text-align: right;\n",
       "    }\n",
       "</style>\n",
       "<table border=\"1\" class=\"dataframe\">\n",
       "  <thead>\n",
       "    <tr style=\"text-align: right;\">\n",
       "      <th></th>\n",
       "      <th>branch_code</th>\n",
       "      <th>distance_to_customer_KM</th>\n",
       "      <th>distance_check</th>\n",
       "      <th>branch_check</th>\n",
       "    </tr>\n",
       "  </thead>\n",
       "  <tbody>\n",
       "    <tr>\n",
       "      <th>8</th>\n",
       "      <td>BK</td>\n",
       "      <td>6.619</td>\n",
       "      <td>6.400</td>\n",
       "      <td>None</td>\n",
       "    </tr>\n",
       "    <tr>\n",
       "      <th>11</th>\n",
       "      <td>BK</td>\n",
       "      <td>7.823</td>\n",
       "      <td>8.327</td>\n",
       "      <td>None</td>\n",
       "    </tr>\n",
       "    <tr>\n",
       "      <th>18</th>\n",
       "      <td>TP</td>\n",
       "      <td>7.282</td>\n",
       "      <td>9.828</td>\n",
       "      <td>None</td>\n",
       "    </tr>\n",
       "    <tr>\n",
       "      <th>24</th>\n",
       "      <td>TP</td>\n",
       "      <td>4.548</td>\n",
       "      <td>10.929</td>\n",
       "      <td>BK</td>\n",
       "    </tr>\n",
       "    <tr>\n",
       "      <th>40</th>\n",
       "      <td>TP</td>\n",
       "      <td>9.795</td>\n",
       "      <td>10.092</td>\n",
       "      <td>None</td>\n",
       "    </tr>\n",
       "  </tbody>\n",
       "</table>\n",
       "</div>"
      ],
      "text/plain": [
       "   branch_code  distance_to_customer_KM  distance_check branch_check\n",
       "8           BK                    6.619           6.400         None\n",
       "11          BK                    7.823           8.327         None\n",
       "18          TP                    7.282           9.828         None\n",
       "24          TP                    4.548          10.929           BK\n",
       "40          TP                    9.795          10.092         None"
      ]
     },
     "execution_count": 45,
     "metadata": {},
     "output_type": "execute_result"
    }
   ],
   "source": [
    "fix_distance[['branch_code','distance_to_customer_KM','distance_check','branch_check']].head()"
   ]
  },
  {
   "cell_type": "markdown",
   "metadata": {},
   "source": [
    "By looking at the column above, we can see that there are some rows, that the distance did not mach any of the correct distance to branch_code. To these column, we can adjust the value of distance_to_customer_KM based on branch_code."
   ]
  },
  {
   "cell_type": "code",
   "execution_count": 46,
   "metadata": {},
   "outputs": [
    {
     "data": {
      "text/html": [
       "<div>\n",
       "<style scoped>\n",
       "    .dataframe tbody tr th:only-of-type {\n",
       "        vertical-align: middle;\n",
       "    }\n",
       "\n",
       "    .dataframe tbody tr th {\n",
       "        vertical-align: top;\n",
       "    }\n",
       "\n",
       "    .dataframe thead th {\n",
       "        text-align: right;\n",
       "    }\n",
       "</style>\n",
       "<table border=\"1\" class=\"dataframe\">\n",
       "  <thead>\n",
       "    <tr style=\"text-align: right;\">\n",
       "      <th></th>\n",
       "      <th>branch_code</th>\n",
       "      <th>distance_to_customer_KM</th>\n",
       "      <th>distance_check</th>\n",
       "      <th>branch_check</th>\n",
       "    </tr>\n",
       "  </thead>\n",
       "  <tbody>\n",
       "    <tr>\n",
       "      <th>24</th>\n",
       "      <td>TP</td>\n",
       "      <td>4.548</td>\n",
       "      <td>10.929</td>\n",
       "      <td>BK</td>\n",
       "    </tr>\n",
       "    <tr>\n",
       "      <th>61</th>\n",
       "      <td>TP</td>\n",
       "      <td>11.395</td>\n",
       "      <td>10.513</td>\n",
       "      <td>NS</td>\n",
       "    </tr>\n",
       "    <tr>\n",
       "      <th>87</th>\n",
       "      <td>NS</td>\n",
       "      <td>4.078</td>\n",
       "      <td>9.497</td>\n",
       "      <td>BK</td>\n",
       "    </tr>\n",
       "    <tr>\n",
       "      <th>142</th>\n",
       "      <td>BK</td>\n",
       "      <td>7.671</td>\n",
       "      <td>7.035</td>\n",
       "      <td>NS</td>\n",
       "    </tr>\n",
       "    <tr>\n",
       "      <th>150</th>\n",
       "      <td>TP</td>\n",
       "      <td>9.231</td>\n",
       "      <td>10.347</td>\n",
       "      <td>NS</td>\n",
       "    </tr>\n",
       "    <tr>\n",
       "      <th>153</th>\n",
       "      <td>BK</td>\n",
       "      <td>7.903</td>\n",
       "      <td>7.603</td>\n",
       "      <td>NS</td>\n",
       "    </tr>\n",
       "    <tr>\n",
       "      <th>200</th>\n",
       "      <td>BK</td>\n",
       "      <td>8.714</td>\n",
       "      <td>8.557</td>\n",
       "      <td>NS</td>\n",
       "    </tr>\n",
       "    <tr>\n",
       "      <th>261</th>\n",
       "      <td>TP</td>\n",
       "      <td>8.537</td>\n",
       "      <td>9.857</td>\n",
       "      <td>BK</td>\n",
       "    </tr>\n",
       "    <tr>\n",
       "      <th>391</th>\n",
       "      <td>NS</td>\n",
       "      <td>8.619</td>\n",
       "      <td>9.394</td>\n",
       "      <td>TP</td>\n",
       "    </tr>\n",
       "    <tr>\n",
       "      <th>419</th>\n",
       "      <td>TP</td>\n",
       "      <td>9.182</td>\n",
       "      <td>9.091</td>\n",
       "      <td>BK</td>\n",
       "    </tr>\n",
       "  </tbody>\n",
       "</table>\n",
       "</div>"
      ],
      "text/plain": [
       "    branch_code  distance_to_customer_KM  distance_check branch_check\n",
       "24           TP                    4.548          10.929           BK\n",
       "61           TP                   11.395          10.513           NS\n",
       "87           NS                    4.078           9.497           BK\n",
       "142          BK                    7.671           7.035           NS\n",
       "150          TP                    9.231          10.347           NS\n",
       "153          BK                    7.903           7.603           NS\n",
       "200          BK                    8.714           8.557           NS\n",
       "261          TP                    8.537           9.857           BK\n",
       "391          NS                    8.619           9.394           TP\n",
       "419          TP                    9.182           9.091           BK"
      ]
     },
     "execution_count": 46,
     "metadata": {},
     "output_type": "execute_result"
    }
   ],
   "source": [
    "branch_check_df[['branch_code','distance_to_customer_KM','distance_check','branch_check']]"
   ]
  },
  {
   "cell_type": "markdown",
   "metadata": {},
   "source": [
    "And to the column, that the distance_to_customer_KM actually matchs the correct values of correct distance, then we can conclude that the branch_code here is erroneous because there is very unlikely that distance_to_customer_KM can be erroneous. To these rows, we can fix by adjust the branch_code based on the distance_to_customer_KM."
   ]
  },
  {
   "cell_type": "code",
   "execution_count": 47,
   "metadata": {},
   "outputs": [],
   "source": [
    "for index, loc in branch_check_df.iterrows():\n",
    "    dirty.at[index,'branch_code'] = dirty.at[index,'branch_check']\n",
    "    dirty.at[index,'error'] = 'branch_code'"
   ]
  },
  {
   "cell_type": "code",
   "execution_count": 48,
   "metadata": {},
   "outputs": [],
   "source": [
    "fix_dist_index = fix_distance[fix_distance['branch_check'].isnull()]\n",
    "for index, loc in fix_dist_index.iterrows():\n",
    "    dirty.at[index,'distance_to_customer_KM'] = fix_dist_index.at[index, 'distance_check']\n",
    "    dirty.at[index,'error'] = 'distance_to_customer_KM'"
   ]
  },
  {
   "cell_type": "markdown",
   "metadata": {},
   "source": [
    "## 8. delivery fee and customerhasloyalty?"
   ]
  },
  {
   "cell_type": "markdown",
   "metadata": {},
   "source": [
    "At first, we will look at the column deliver_fee to check if any error. The delivery_fee will be discounted 50% if the customer has loyalty. We will create a column that contain the original fee by multiplying the delivery fee with two if the customer has loyalty, otherwise with one."
   ]
  },
  {
   "cell_type": "code",
   "execution_count": 49,
   "metadata": {},
   "outputs": [
    {
     "data": {
      "application/vnd.jupyter.widget-view+json": {
       "model_id": "b72b99f6094b448ba12798cdcabe5178",
       "version_major": 2,
       "version_minor": 0
      },
      "text/plain": [
       "HBox(children=(IntProgress(value=1, bar_style='info', max=1), HTML(value='')))"
      ]
     },
     "metadata": {},
     "output_type": "display_data"
    },
    {
     "name": "stdout",
     "output_type": "stream",
     "text": [
      "\n"
     ]
    }
   ],
   "source": [
    "dirty['ori_fee'] = 0. #initiate a column of original delivery fee\n",
    "for index, loc in tqdm(dirty.iterrows()):\n",
    "    if loc['customerHasloyalty?'] == 1:\n",
    "        dirty.at[index,'ori_fee'] = 2*dirty.at[index,'delivery_fee']\n",
    "    else:\n",
    "        dirty.at[index,'ori_fee'] = dirty.at[index,'delivery_fee']"
   ]
  },
  {
   "cell_type": "code",
   "execution_count": 50,
   "metadata": {},
   "outputs": [],
   "source": [
    "dirty['date'] = dirty['date'].apply(lambda x: datetime.strptime(x, '%Y-%m-%d')) # change date column to date time\n",
    "dirty['weekend'] = dirty['date'].apply(lambda x: day(x.weekday())) #one hot encode weekend/weekday column\n",
    "dirty['timeofday'] = dirty['order_type'].apply(lambda x: timeofday(x)) #one hot encode order_type column"
   ]
  },
  {
   "cell_type": "markdown",
   "metadata": {},
   "source": [
    "We will look at among order of the customers who have loyalty, if any outliers found. Outliers mean that the discounted may or may not be applied appropriately."
   ]
  },
  {
   "cell_type": "code",
   "execution_count": 51,
   "metadata": {},
   "outputs": [
    {
     "name": "stderr",
     "output_type": "stream",
     "text": [
      "C:\\ProgramData\\Anaconda3\\lib\\site-packages\\ipykernel_launcher.py:1: UserWarning: Boolean Series key will be reindexed to match DataFrame index.\n",
      "  \"\"\"Entry point for launching an IPython kernel.\n"
     ]
    },
    {
     "data": {
      "text/plain": [
       "<matplotlib.axes._subplots.AxesSubplot at 0x1c0a7271358>"
      ]
     },
     "execution_count": 51,
     "metadata": {},
     "output_type": "execute_result"
    },
    {
     "data": {
      "image/png": "[encoded data removed]",
      "text/plain": [
       "<Figure size 432x288 with 1 Axes>"
      ]
     },
     "metadata": {
      "needs_background": "light"
     },
     "output_type": "display_data"
    }
   ],
   "source": [
    "ns_notnull = dirty[dirty['branch_code'] == 'NS'][dirty['customerHasloyalty?'] == 1]\n",
    "ns = ns_notnull[['ori_fee','distance_to_customer_KM','timeofday','weekend']]\n",
    "ns.plot(y = 'ori_fee', x = 'distance_to_customer_KM', kind = 'scatter')"
   ]
  },
  {
   "cell_type": "code",
   "execution_count": 52,
   "metadata": {},
   "outputs": [
    {
     "name": "stdout",
     "output_type": "stream",
     "text": [
      "There are 13 order that the delivery_fee too high among at branch Nickolson for the customers who have loyalty.\n"
     ]
    }
   ],
   "source": [
    "print('There are {} order that the delivery_fee too high among at branch Nickolson for the customers who have loyalty.'.format(len(ns_notnull[ns_notnull['ori_fee'] > 21]['customerHasloyalty?'])))"
   ]
  },
  {
   "cell_type": "code",
   "execution_count": 53,
   "metadata": {},
   "outputs": [
    {
     "data": {
      "text/plain": [
       "                           237\n",
       "order_type                  37\n",
       "distance_to_customer_KM     37\n",
       "branch_code                 37\n",
       "wrong order_price           37\n",
       "date                        37\n",
       "customer_lat                37\n",
       "order_items                 37\n",
       "long_lat_swap                4\n",
       "Name: error, dtype: int64"
      ]
     },
     "execution_count": 53,
     "metadata": {},
     "output_type": "execute_result"
    }
   ],
   "source": [
    "dirty['error'].value_counts()"
   ]
  },
  {
   "cell_type": "markdown",
   "metadata": {},
   "source": [
    "We found 13 outlier over here, which means that the fees should be discounted at 50%. We will fix it and mark it as 'loyalty' error. The original price should be discounted."
   ]
  },
  {
   "cell_type": "code",
   "execution_count": 54,
   "metadata": {},
   "outputs": [],
   "source": [
    "#fixing ns loyalty\n",
    "for index, loc in ns_notnull[ns_notnull['ori_fee'] > 21].iterrows():\n",
    "    dirty.at[index,'customerHasloyalty?'] = 0 #because originally ori_fee was multiplied by 2\n",
    "    dirty.at[index,'ori_fee'] = dirty.at[index,'ori_fee']/2 #Original fees of these case is the same\n",
    "    dirty.at[index,'error'] = 'loyalty'"
   ]
  },
  {
   "cell_type": "code",
   "execution_count": 55,
   "metadata": {},
   "outputs": [
    {
     "data": {
      "text/plain": [
       "                           224\n",
       "order_type                  37\n",
       "distance_to_customer_KM     37\n",
       "branch_code                 37\n",
       "wrong order_price           37\n",
       "date                        37\n",
       "customer_lat                37\n",
       "order_items                 37\n",
       "loyalty                     13\n",
       "long_lat_swap                4\n",
       "Name: error, dtype: int64"
      ]
     },
     "execution_count": 55,
     "metadata": {},
     "output_type": "execute_result"
    }
   ],
   "source": [
    "dirty['error'].value_counts()"
   ]
  },
  {
   "cell_type": "markdown",
   "metadata": {},
   "source": [
    "We will look at among order of the customers who have loyalty at branch TP now."
   ]
  },
  {
   "cell_type": "code",
   "execution_count": 56,
   "metadata": {},
   "outputs": [
    {
     "name": "stderr",
     "output_type": "stream",
     "text": [
      "C:\\ProgramData\\Anaconda3\\lib\\site-packages\\ipykernel_launcher.py:2: UserWarning: Boolean Series key will be reindexed to match DataFrame index.\n",
      "  \n"
     ]
    },
    {
     "data": {
      "text/plain": [
       "<matplotlib.axes._subplots.AxesSubplot at 0x1c0a74bd6a0>"
      ]
     },
     "execution_count": 56,
     "metadata": {},
     "output_type": "execute_result"
    },
    {
     "data": {
      "image/png": "[encoded data removed]",
      "text/plain": [
       "<Figure size 432x288 with 1 Axes>"
      ]
     },
     "metadata": {
      "needs_background": "light"
     },
     "output_type": "display_data"
    }
   ],
   "source": [
    "#tp_notnull = dirty[dirty['error'] == '']\n",
    "tp_notnull = dirty[dirty['branch_code'] == 'TP'][dirty['customerHasloyalty?'] == 1]\n",
    "tp = tp_notnull[['ori_fee','distance_to_customer_KM','timeofday','weekend']]\n",
    "tp.plot(y = 'ori_fee', x = 'distance_to_customer_KM', kind = 'scatter')"
   ]
  },
  {
   "cell_type": "code",
   "execution_count": 57,
   "metadata": {},
   "outputs": [
    {
     "name": "stdout",
     "output_type": "stream",
     "text": [
      "There are 8 order that the delivery_fee too high among at branch TP for the customers who have loyalty.\n"
     ]
    }
   ],
   "source": [
    "print('There are {} order that the delivery_fee too high among at branch TP for the customers who have loyalty.'.format(len(tp_notnull[tp_notnull['ori_fee'] > 21]['customerHasloyalty?'])))"
   ]
  },
  {
   "cell_type": "markdown",
   "metadata": {},
   "source": [
    "We will fix these accordingly. "
   ]
  },
  {
   "cell_type": "code",
   "execution_count": 58,
   "metadata": {},
   "outputs": [],
   "source": [
    "for index, loc in tp_notnull[tp_notnull['ori_fee'] > 20].iterrows():\n",
    "    dirty.at[index,'customerHasloyalty?'] = 0 #because originally ori_fee was multiplied by 2\n",
    "    dirty.at[index,'ori_fee'] = dirty.at[index,'ori_fee']/2 #Original fees of these case is the same\n",
    "    dirty.at[index,'error'] = 'loyalty'"
   ]
  },
  {
   "cell_type": "code",
   "execution_count": 59,
   "metadata": {},
   "outputs": [
    {
     "data": {
      "text/plain": [
       "                           216\n",
       "order_type                  37\n",
       "distance_to_customer_KM     37\n",
       "branch_code                 37\n",
       "wrong order_price           37\n",
       "date                        37\n",
       "customer_lat                37\n",
       "order_items                 37\n",
       "loyalty                     21\n",
       "long_lat_swap                4\n",
       "Name: error, dtype: int64"
      ]
     },
     "execution_count": 59,
     "metadata": {},
     "output_type": "execute_result"
    }
   ],
   "source": [
    "dirty['error'].value_counts()"
   ]
  },
  {
   "cell_type": "markdown",
   "metadata": {},
   "source": [
    "We will look at among order of the customers who have loyalty at branch BK now."
   ]
  },
  {
   "cell_type": "code",
   "execution_count": 60,
   "metadata": {},
   "outputs": [
    {
     "name": "stderr",
     "output_type": "stream",
     "text": [
      "C:\\ProgramData\\Anaconda3\\lib\\site-packages\\ipykernel_launcher.py:1: UserWarning: Boolean Series key will be reindexed to match DataFrame index.\n",
      "  \"\"\"Entry point for launching an IPython kernel.\n"
     ]
    },
    {
     "data": {
      "text/plain": [
       "<matplotlib.axes._subplots.AxesSubplot at 0x1c0a9f84e48>"
      ]
     },
     "execution_count": 60,
     "metadata": {},
     "output_type": "execute_result"
    },
    {
     "data": {
      "image/png": "[encoded data removed]",
      "text/plain": [
       "<Figure size 432x288 with 1 Axes>"
      ]
     },
     "metadata": {
      "needs_background": "light"
     },
     "output_type": "display_data"
    }
   ],
   "source": [
    "bk_notnull = dirty[dirty['branch_code'] == 'BK'][dirty['customerHasloyalty?'] == 1]\n",
    "bk = bk_notnull[['ori_fee','distance_to_customer_KM','timeofday','weekend']]\n",
    "bk.plot(y = 'ori_fee', x = 'distance_to_customer_KM', kind = 'scatter')"
   ]
  },
  {
   "cell_type": "code",
   "execution_count": 61,
   "metadata": {},
   "outputs": [
    {
     "name": "stdout",
     "output_type": "stream",
     "text": [
      "There are 13 order that the delivery_fee too high among at branch BK for the customers who have loyalty.\n"
     ]
    }
   ],
   "source": [
    "print('There are {} order that the delivery_fee too high among at branch BK for the customers who have loyalty.'.format(len(bk_notnull[bk_notnull['ori_fee'] > 19.5])))"
   ]
  },
  {
   "cell_type": "markdown",
   "metadata": {},
   "source": [
    "We can fix these accordingly. This mean that these customers may not have loyalty, but got discount."
   ]
  },
  {
   "cell_type": "code",
   "execution_count": 62,
   "metadata": {},
   "outputs": [],
   "source": [
    "for index, loc in bk_notnull[bk_notnull['ori_fee'] > 20].iterrows():\n",
    "    dirty.at[index,'customerHasloyalty?'] = 0 #This customer should have discount\n",
    "    dirty.at[index,'ori_fee'] = dirty.at[index,'ori_fee']/2 #Original fees of these case is the same\n",
    "    dirty.at[index,'error'] = 'loyalty'"
   ]
  },
  {
   "cell_type": "markdown",
   "metadata": {},
   "source": [
    "Let us look at the pattern of customer has no loyalty"
   ]
  },
  {
   "cell_type": "code",
   "execution_count": 63,
   "metadata": {},
   "outputs": [
    {
     "name": "stderr",
     "output_type": "stream",
     "text": [
      "C:\\ProgramData\\Anaconda3\\lib\\site-packages\\ipykernel_launcher.py:1: UserWarning: Boolean Series key will be reindexed to match DataFrame index.\n",
      "  \"\"\"Entry point for launching an IPython kernel.\n"
     ]
    },
    {
     "data": {
      "text/plain": [
       "<matplotlib.axes._subplots.AxesSubplot at 0x1c0a9f6f0f0>"
      ]
     },
     "execution_count": 63,
     "metadata": {},
     "output_type": "execute_result"
    },
    {
     "data": {
      "image/png": "[encoded data removed]",
      "text/plain": [
       "<Figure size 432x288 with 1 Axes>"
      ]
     },
     "metadata": {
      "needs_background": "light"
     },
     "output_type": "display_data"
    }
   ],
   "source": [
    "ns_notnull = dirty[dirty['branch_code'] == 'NS'][dirty['customerHasloyalty?'] == 0]\n",
    "ns = ns_notnull[['ori_fee','distance_to_customer_KM','timeofday','weekend']]\n",
    "ns.plot(y = 'ori_fee', x = 'distance_to_customer_KM', kind = 'scatter')"
   ]
  },
  {
   "cell_type": "markdown",
   "metadata": {},
   "source": [
    "The data looks fair at NS branch. "
   ]
  },
  {
   "cell_type": "code",
   "execution_count": 64,
   "metadata": {},
   "outputs": [
    {
     "name": "stderr",
     "output_type": "stream",
     "text": [
      "C:\\ProgramData\\Anaconda3\\lib\\site-packages\\ipykernel_launcher.py:1: UserWarning: Boolean Series key will be reindexed to match DataFrame index.\n",
      "  \"\"\"Entry point for launching an IPython kernel.\n"
     ]
    },
    {
     "data": {
      "text/plain": [
       "<matplotlib.axes._subplots.AxesSubplot at 0x1c0aa04dcf8>"
      ]
     },
     "execution_count": 64,
     "metadata": {},
     "output_type": "execute_result"
    },
    {
     "data": {
      "image/png": "[encoded data removed]",
      "text/plain": [
       "<Figure size 432x288 with 1 Axes>"
      ]
     },
     "metadata": {
      "needs_background": "light"
     },
     "output_type": "display_data"
    }
   ],
   "source": [
    "tp_notnull = dirty[dirty['branch_code'] == 'TP'][dirty['customerHasloyalty?'] == 0]\n",
    "tp = tp_notnull[['ori_fee','distance_to_customer_KM','timeofday','weekend']]\n",
    "tp.plot(y = 'ori_fee', x = 'distance_to_customer_KM', kind = 'scatter')"
   ]
  },
  {
   "cell_type": "markdown",
   "metadata": {},
   "source": [
    "The data looks fair at TP branch."
   ]
  },
  {
   "cell_type": "code",
   "execution_count": 65,
   "metadata": {},
   "outputs": [
    {
     "name": "stderr",
     "output_type": "stream",
     "text": [
      "C:\\ProgramData\\Anaconda3\\lib\\site-packages\\ipykernel_launcher.py:1: UserWarning: Boolean Series key will be reindexed to match DataFrame index.\n",
      "  \"\"\"Entry point for launching an IPython kernel.\n"
     ]
    },
    {
     "data": {
      "text/plain": [
       "<matplotlib.axes._subplots.AxesSubplot at 0x1c0aa0b5320>"
      ]
     },
     "execution_count": 65,
     "metadata": {},
     "output_type": "execute_result"
    },
    {
     "data": {
      "image/png": "[encoded data removed]",
      "text/plain": [
       "<Figure size 432x288 with 1 Axes>"
      ]
     },
     "metadata": {
      "needs_background": "light"
     },
     "output_type": "display_data"
    }
   ],
   "source": [
    "bk_notnull = dirty[dirty['branch_code'] == 'BK'][dirty['customerHasloyalty?'] == 0]\n",
    "bk = bk_notnull[['ori_fee','distance_to_customer_KM','timeofday','weekend']]\n",
    "bk.plot(y = 'ori_fee', x = 'distance_to_customer_KM', kind = 'scatter')"
   ]
  },
  {
   "cell_type": "markdown",
   "metadata": {},
   "source": [
    "Right here can see some outlier, which means that some of the fee actually got discounted of 50% but the data did not indicate that those customers have loyalty. So we will need to adjust the loyalty score to 1. "
   ]
  },
  {
   "cell_type": "code",
   "execution_count": 66,
   "metadata": {},
   "outputs": [
    {
     "name": "stderr",
     "output_type": "stream",
     "text": [
      "C:\\ProgramData\\Anaconda3\\lib\\site-packages\\ipykernel_launcher.py:1: UserWarning: Boolean Series key will be reindexed to match DataFrame index.\n",
      "  \"\"\"Entry point for launching an IPython kernel.\n"
     ]
    },
    {
     "data": {
      "text/plain": [
       "3"
      ]
     },
     "execution_count": 66,
     "metadata": {},
     "output_type": "execute_result"
    }
   ],
   "source": [
    "len(bk_notnull[bk_notnull['ori_fee'] < 8][bk_notnull['distance_to_customer_KM'] < 8]) + len(bk_notnull[bk_notnull['ori_fee'] < 12][bk_notnull['distance_to_customer_KM'] > 9])\n"
   ]
  },
  {
   "cell_type": "markdown",
   "metadata": {},
   "source": [
    "There are three such outliers, we can fix them by multiplying the delivery with two, as the order should not have discounts. "
   ]
  },
  {
   "cell_type": "code",
   "execution_count": 67,
   "metadata": {},
   "outputs": [
    {
     "name": "stderr",
     "output_type": "stream",
     "text": [
      "C:\\ProgramData\\Anaconda3\\lib\\site-packages\\ipykernel_launcher.py:1: UserWarning: Boolean Series key will be reindexed to match DataFrame index.\n",
      "  \"\"\"Entry point for launching an IPython kernel.\n",
      "C:\\ProgramData\\Anaconda3\\lib\\site-packages\\ipykernel_launcher.py:5: UserWarning: Boolean Series key will be reindexed to match DataFrame index.\n",
      "  \"\"\"\n"
     ]
    }
   ],
   "source": [
    "for index, loc in bk_notnull[bk_notnull['ori_fee'] < 8][bk_notnull['distance_to_customer_KM'] < 8].iterrows():\n",
    "    dirty.at[index,'customerHasloyalty?'] = 1 #because originally ori_fee was multiplied by 2\n",
    "    dirty.at[index,'ori_fee'] = dirty.at[index,'ori_fee']*2 #Original fees of these case is the same\n",
    "    dirty.at[index,'error'] = 'loyalty'\n",
    "for index, loc in bk_notnull[bk_notnull['ori_fee'] < 12][bk_notnull['distance_to_customer_KM'] > 9].iterrows():\n",
    "    dirty.at[index,'customerHasloyalty?'] = 1 #because originally ori_fee was multiplied by 2\n",
    "    dirty.at[index,'ori_fee'] = dirty.at[index,'ori_fee']*2 #Original fees of these case is the same\n",
    "    dirty.at[index,'error'] = 'loyalty'"
   ]
  },
  {
   "cell_type": "code",
   "execution_count": 68,
   "metadata": {},
   "outputs": [],
   "source": [
    "dirty_output =  dirty[ori_col]"
   ]
  },
  {
   "cell_type": "code",
   "execution_count": 69,
   "metadata": {},
   "outputs": [],
   "source": [
    "dirty_output.to_csv('Group102_dirty_data_solution.csv')"
   ]
  },
  {
   "cell_type": "markdown",
   "metadata": {},
   "source": [
    "# B. Missing data"
   ]
  },
  {
   "cell_type": "markdown",
   "metadata": {},
   "source": [
    "According to specification 4 of assignment: \n",
    "* There are no data anomalies in the file <GroupName>_outlier_data.csv, only outliers.\n",
    "Similarly, there are no data anomalies other than missing value problems in the file\n",
    "<GroupName>_missing_data.csv"
   ]
  },
  {
   "cell_type": "code",
   "execution_count": 70,
   "metadata": {},
   "outputs": [],
   "source": [
    "missing = pd.read_csv('Group102_missing_data.csv')\n",
    "org_col = missing.columns # saving the original columns for output"
   ]
  },
  {
   "cell_type": "code",
   "execution_count": 71,
   "metadata": {},
   "outputs": [
    {
     "data": {
      "text/plain": [
       "order_id                     0\n",
       "date                         0\n",
       "time                         0\n",
       "order_type                   0\n",
       "branch_code                100\n",
       "order_items                  0\n",
       "order_price                  0\n",
       "customer_lat                 0\n",
       "customer_lon                 0\n",
       "customerHasloyalty?          0\n",
       "distance_to_customer_KM     50\n",
       "delivery_fee                50\n",
       "dtype: int64"
      ]
     },
     "execution_count": 71,
     "metadata": {},
     "output_type": "execute_result"
    }
   ],
   "source": [
    "missing.isnull().sum()"
   ]
  },
  {
   "cell_type": "markdown",
   "metadata": {},
   "source": [
    "There are 100 missing values in column branch_code, 50 in distance_to_customer_KM, and 50 in delivery_fee"
   ]
  },
  {
   "cell_type": "markdown",
   "metadata": {},
   "source": [
    "According to the specification 8 of the assginment: \n",
    "\n",
    "* The restaurant uses Djikstra algorithm to calculate the shortest distance between customer\n",
    "and restaurant. \n",
    "\n",
    "We will create a column node to store node (from nodes.csv), weekend stored in encoded variable (1 for weekend, 0 for weekday) and timeofday in encoded form (0 for morning, 1 afternoon, 2 evening)"
   ]
  },
  {
   "cell_type": "code",
   "execution_count": 72,
   "metadata": {},
   "outputs": [],
   "source": [
    "missing['node'] = missing[['customer_lat','customer_lon']].apply(lambda x: get_node(*x), axis=1)\n",
    "missing['distance_to_customer_KM'] = missing['distance_to_customer_KM'].apply(lambda x: round(x,3))\n",
    "missing['date'] = missing['date'].apply(lambda x: datetime.strptime(x, '%Y-%m-%d'))\n",
    "missing['weekend'] = missing['date'].apply(lambda x: day(x.weekday()))\n",
    "missing['timeofday'] = missing['order_type'].apply(lambda x: timeofday(x))"
   ]
  },
  {
   "cell_type": "markdown",
   "metadata": {},
   "source": [
    "For further analysis, we will calculate the distance from each customer's node to each branch's node."
   ]
  },
  {
   "cell_type": "code",
   "execution_count": 73,
   "metadata": {},
   "outputs": [
    {
     "data": {
      "application/vnd.jupyter.widget-view+json": {
       "model_id": "4a4974e7ee514d72b5e865fb4b7992f5",
       "version_major": 2,
       "version_minor": 0
      },
      "text/plain": [
       "HBox(children=(IntProgress(value=1, bar_style='info', max=1), HTML(value='')))"
      ]
     },
     "metadata": {},
     "output_type": "display_data"
    },
    {
     "name": "stdout",
     "output_type": "stream",
     "text": [
      "\n"
     ]
    }
   ],
   "source": [
    "for index, loc in tqdm(missing[missing['branch_code'].isnull()].iterrows()):\n",
    "    missing.at[index,'dist_to_TP'] = distance(missing.at[index,'node'],TP)\n",
    "    missing.at[index,'dist_to_NS'] = distance(missing.at[index,'node'],NS)\n",
    "    missing.at[index,'dist_to_BK'] = distance(missing.at[index,'node'],BK)"
   ]
  },
  {
   "cell_type": "markdown",
   "metadata": {},
   "source": [
    "## 1. branch_code and distance_to_customer_KM"
   ]
  },
  {
   "cell_type": "markdown",
   "metadata": {},
   "source": [
    "Now we will investigate missing values for branch_code column. "
   ]
  },
  {
   "cell_type": "code",
   "execution_count": 74,
   "metadata": {},
   "outputs": [],
   "source": [
    "bmissing = missing[missing['branch_code'].isnull()]"
   ]
  },
  {
   "cell_type": "code",
   "execution_count": 75,
   "metadata": {},
   "outputs": [
    {
     "name": "stdout",
     "output_type": "stream",
     "text": [
      "There are 100 missing in branch_code column\n"
     ]
    }
   ],
   "source": [
    "print('There are {} missing in branch_code column'.format(len(bmissing)))"
   ]
  },
  {
   "cell_type": "markdown",
   "metadata": {},
   "source": [
    "We will see among 100 columns, any other columns has missing value"
   ]
  },
  {
   "cell_type": "code",
   "execution_count": 76,
   "metadata": {},
   "outputs": [
    {
     "data": {
      "text/plain": [
       "order_id                     0\n",
       "date                         0\n",
       "time                         0\n",
       "order_type                   0\n",
       "branch_code                100\n",
       "order_items                  0\n",
       "order_price                  0\n",
       "customer_lat                 0\n",
       "customer_lon                 0\n",
       "customerHasloyalty?          0\n",
       "distance_to_customer_KM     50\n",
       "delivery_fee                 0\n",
       "node                         0\n",
       "weekend                      0\n",
       "timeofday                    0\n",
       "dist_to_TP                   0\n",
       "dist_to_NS                   0\n",
       "dist_to_BK                   0\n",
       "dtype: int64"
      ]
     },
     "execution_count": 76,
     "metadata": {},
     "output_type": "execute_result"
    }
   ],
   "source": [
    "bmissing.isnull().sum()"
   ]
  },
  {
   "cell_type": "markdown",
   "metadata": {},
   "source": [
    "Besides 100 missing value in branch_code, there are 50 missing value in distance_to_customer_KM. branch_code can be found by calculating the distance from customer's geolocation, and we can compared the calculated distance to the distance_to_customer_KM to find the exact branch_code. Clearly in this case, we can only do so for 50 rows. \n",
    "\n",
    "We will create a new column name 'fill' to mark the value that has been filled (1 filled, 0 not filled). And solve the 50 missing values that have distance_to_customer_KM in the same row."
   ]
  },
  {
   "cell_type": "code",
   "execution_count": 77,
   "metadata": {},
   "outputs": [],
   "source": [
    "#Here we can find the missing branchcode based on the distance_to_customer_KM and node\n",
    "missing['fill'] = 0\n",
    "for index, loc in bmissing.iterrows():\n",
    "    missing.at[index,'branch_code'] = find_branch_given_dist(missing.at[index,'node'],missing.at[index,'distance_to_customer_KM'])\n",
    "    missing.at[index,'fill'] = 1"
   ]
  },
  {
   "cell_type": "markdown",
   "metadata": {},
   "source": [
    "After filling the missing value, we can have a look at the missing value in missing dataframe"
   ]
  },
  {
   "cell_type": "code",
   "execution_count": 78,
   "metadata": {},
   "outputs": [
    {
     "data": {
      "text/plain": [
       "order_id                     0\n",
       "date                         0\n",
       "time                         0\n",
       "order_type                   0\n",
       "branch_code                 50\n",
       "order_items                  0\n",
       "order_price                  0\n",
       "customer_lat                 0\n",
       "customer_lon                 0\n",
       "customerHasloyalty?          0\n",
       "distance_to_customer_KM     50\n",
       "delivery_fee                50\n",
       "node                         0\n",
       "weekend                      0\n",
       "timeofday                    0\n",
       "dist_to_TP                 400\n",
       "dist_to_NS                 400\n",
       "dist_to_BK                 400\n",
       "fill                         0\n",
       "dtype: int64"
      ]
     },
     "execution_count": 78,
     "metadata": {},
     "output_type": "execute_result"
    }
   ],
   "source": [
    "missing.isnull().sum()"
   ]
  },
  {
   "cell_type": "markdown",
   "metadata": {},
   "source": [
    "dis_to_XX is the three column we created for comparing purposes, so they are not important. Now we can see that 50 missing values have been solved. We now look that the next 50 missing value in this column."
   ]
  },
  {
   "cell_type": "markdown",
   "metadata": {},
   "source": [
    "Because among these 50 columns, we can only rely on the clue of delivery fee to infer the distance. According to the specifications 7 of the assignment:\n",
    "    \n",
    "   * 7. Delivery fee is calculated using a different method for each branch.\n",
    "The fee depends linearly (but in different ways for each branch) on:\n",
    "        * weekend or weekday (1 or 0) - as a continuous variable\n",
    "        * time of the day (morning 0, afternoon 1, evening 2) - as a continuous variable\n",
    "        * distance between branch and customer"
   ]
  },
  {
   "cell_type": "markdown",
   "metadata": {},
   "source": [
    "So our approach is that we can use linear regression on the rows that do not have missing value. From these linear models, we can use the coefficient to estimate the distance from customer to the branches. We then use these calculated (3 values) to compare with the customer's distance to the three branches, and pick the one that has the least difference."
   ]
  },
  {
   "cell_type": "markdown",
   "metadata": {},
   "source": [
    "However, we will need to consider the distcounted fee for the customer who have loyalty. To simplify the matter, we will only consider the original delivery fee before discounted. We will create a column ori_fee to store these value. If the customer has loyalty, the ori_fee is double the amount of delivery fee, otherwise equal."
   ]
  },
  {
   "cell_type": "code",
   "execution_count": 79,
   "metadata": {},
   "outputs": [
    {
     "data": {
      "application/vnd.jupyter.widget-view+json": {
       "model_id": "7d243fb04a7d435ab9adbf6f95550cab",
       "version_major": 2,
       "version_minor": 0
      },
      "text/plain": [
       "HBox(children=(IntProgress(value=1, bar_style='info', max=1), HTML(value='')))"
      ]
     },
     "metadata": {},
     "output_type": "display_data"
    },
    {
     "name": "stdout",
     "output_type": "stream",
     "text": [
      "\n"
     ]
    }
   ],
   "source": [
    "for index, loc in tqdm(missing.iterrows()):\n",
    "    if loc['customerHasloyalty?'] == 1:\n",
    "        missing.at[index,'ori_fee'] = 2*missing.at[index,'delivery_fee']\n",
    "    else:\n",
    "        missing.at[index,'ori_fee'] = missing.at[index,'delivery_fee']"
   ]
  },
  {
   "cell_type": "markdown",
   "metadata": {},
   "source": [
    "We will see how many missing value in ori_fee"
   ]
  },
  {
   "cell_type": "code",
   "execution_count": 80,
   "metadata": {},
   "outputs": [
    {
     "data": {
      "text/plain": [
       "450"
      ]
     },
     "execution_count": 80,
     "metadata": {},
     "output_type": "execute_result"
    }
   ],
   "source": [
    " len(missing[missing['ori_fee'].notnull()])"
   ]
  },
  {
   "cell_type": "markdown",
   "metadata": {},
   "source": [
    "Clearly 50 missing, because there are 50 missing delivery_fee as founded above from the missing dataset, we will deal with these values later."
   ]
  },
  {
   "cell_type": "markdown",
   "metadata": {},
   "source": [
    "Now for each branch, we wil look at the not null value of column ori_fee, and the rows of these dataframe must have available distance_to_customer_KM. From these column, a linear regression model is fitted to find the coefficients."
   ]
  },
  {
   "cell_type": "code",
   "execution_count": 81,
   "metadata": {},
   "outputs": [
    {
     "data": {
      "text/html": [
       "<table class=\"simpletable\">\n",
       "<caption>OLS Regression Results</caption>\n",
       "<tr>\n",
       "  <th>Dep. Variable:</th>         <td>ori_fee</td>     <th>  R-squared (uncentered):</th>      <td>   0.998</td> \n",
       "</tr>\n",
       "<tr>\n",
       "  <th>Model:</th>                   <td>OLS</td>       <th>  Adj. R-squared (uncentered):</th> <td>   0.998</td> \n",
       "</tr>\n",
       "<tr>\n",
       "  <th>Method:</th>             <td>Least Squares</td>  <th>  F-statistic:       </th>          <td>1.853e+04</td>\n",
       "</tr>\n",
       "<tr>\n",
       "  <th>Date:</th>             <td>Fri, 04 Oct 2019</td> <th>  Prob (F-statistic):</th>          <td>6.76e-161</td>\n",
       "</tr>\n",
       "<tr>\n",
       "  <th>Time:</th>                 <td>19:20:41</td>     <th>  Log-Likelihood:    </th>          <td> -130.85</td> \n",
       "</tr>\n",
       "<tr>\n",
       "  <th>No. Observations:</th>      <td>   124</td>      <th>  AIC:               </th>          <td>   267.7</td> \n",
       "</tr>\n",
       "<tr>\n",
       "  <th>Df Residuals:</th>          <td>   121</td>      <th>  BIC:               </th>          <td>   276.2</td> \n",
       "</tr>\n",
       "<tr>\n",
       "  <th>Df Model:</th>              <td>     3</td>      <th>                     </th>              <td> </td>    \n",
       "</tr>\n",
       "<tr>\n",
       "  <th>Covariance Type:</th>      <td>nonrobust</td>    <th>                     </th>              <td> </td>    \n",
       "</tr>\n",
       "</table>\n",
       "<table class=\"simpletable\">\n",
       "<tr>\n",
       "             <td></td>                <th>coef</th>     <th>std err</th>      <th>t</th>      <th>P>|t|</th>  <th>[0.025</th>    <th>0.975]</th>  \n",
       "</tr>\n",
       "<tr>\n",
       "  <th>distance_to_customer_KM</th> <td>    1.5405</td> <td>    0.011</td> <td>  138.440</td> <td> 0.000</td> <td>    1.518</td> <td>    1.562</td>\n",
       "</tr>\n",
       "<tr>\n",
       "  <th>timeofday</th>               <td>    0.5519</td> <td>    0.075</td> <td>    7.342</td> <td> 0.000</td> <td>    0.403</td> <td>    0.701</td>\n",
       "</tr>\n",
       "<tr>\n",
       "  <th>weekend</th>                 <td>    2.1507</td> <td>    0.143</td> <td>   14.999</td> <td> 0.000</td> <td>    1.867</td> <td>    2.435</td>\n",
       "</tr>\n",
       "</table>\n",
       "<table class=\"simpletable\">\n",
       "<tr>\n",
       "  <th>Omnibus:</th>       <td> 2.093</td> <th>  Durbin-Watson:     </th> <td>   2.239</td>\n",
       "</tr>\n",
       "<tr>\n",
       "  <th>Prob(Omnibus):</th> <td> 0.351</td> <th>  Jarque-Bera (JB):  </th> <td>   1.542</td>\n",
       "</tr>\n",
       "<tr>\n",
       "  <th>Skew:</th>          <td> 0.039</td> <th>  Prob(JB):          </th> <td>   0.462</td>\n",
       "</tr>\n",
       "<tr>\n",
       "  <th>Kurtosis:</th>      <td> 2.459</td> <th>  Cond. No.          </th> <td>    20.5</td>\n",
       "</tr>\n",
       "</table><br/><br/>Warnings:<br/>[1] Standard Errors assume that the covariance matrix of the errors is correctly specified."
      ],
      "text/plain": [
       "<class 'statsmodels.iolib.summary.Summary'>\n",
       "\"\"\"\n",
       "                                 OLS Regression Results                                \n",
       "=======================================================================================\n",
       "Dep. Variable:                ori_fee   R-squared (uncentered):                   0.998\n",
       "Model:                            OLS   Adj. R-squared (uncentered):              0.998\n",
       "Method:                 Least Squares   F-statistic:                          1.853e+04\n",
       "Date:                Fri, 04 Oct 2019   Prob (F-statistic):                   6.76e-161\n",
       "Time:                        19:20:41   Log-Likelihood:                         -130.85\n",
       "No. Observations:                 124   AIC:                                      267.7\n",
       "Df Residuals:                     121   BIC:                                      276.2\n",
       "Df Model:                           3                                                  \n",
       "Covariance Type:            nonrobust                                                  \n",
       "===========================================================================================\n",
       "                              coef    std err          t      P>|t|      [0.025      0.975]\n",
       "-------------------------------------------------------------------------------------------\n",
       "distance_to_customer_KM     1.5405      0.011    138.440      0.000       1.518       1.562\n",
       "timeofday                   0.5519      0.075      7.342      0.000       0.403       0.701\n",
       "weekend                     2.1507      0.143     14.999      0.000       1.867       2.435\n",
       "==============================================================================\n",
       "Omnibus:                        2.093   Durbin-Watson:                   2.239\n",
       "Prob(Omnibus):                  0.351   Jarque-Bera (JB):                1.542\n",
       "Skew:                           0.039   Prob(JB):                        0.462\n",
       "Kurtosis:                       2.459   Cond. No.                         20.5\n",
       "==============================================================================\n",
       "\n",
       "Warnings:\n",
       "[1] Standard Errors assume that the covariance matrix of the errors is correctly specified.\n",
       "\"\"\""
      ]
     },
     "execution_count": 81,
     "metadata": {},
     "output_type": "execute_result"
    }
   ],
   "source": [
    "ns_notnull = missing[missing['ori_fee'].notnull()]\n",
    "ns_notnull = ns_notnull[ns_notnull['distance_to_customer_KM'].notnull()]\n",
    "ns_notnull = ns_notnull[ns_notnull['branch_code'] == 'NS']\n",
    "ns = ns_notnull[['ori_fee','distance_to_customer_KM','timeofday','weekend']]\n",
    "\n",
    "X = ns[['distance_to_customer_KM','timeofday','weekend']] # here we have 2 variables for multiple regression. If you just want to use one variable for simple linear regression, then use X = df['Interest_Rate'] for example.Alternatively, you may add additional variables within the brackets\n",
    "Y = ns['ori_fee']\n",
    "model_ns = sm.OLS(Y, X).fit()\n",
    "model_ns.summary()"
   ]
  },
  {
   "cell_type": "markdown",
   "metadata": {},
   "source": [
    "We have coefficients for NS branch are: 1.5367, 0.6063, 2.1365. The adjusted R-squared value is 0.998, which means that this model is quite good, and can explain 99.8% of the variance of the dataset. We will use these coefficients to predict the null values. The predicted distance will be stored in dist_hat_NS."
   ]
  },
  {
   "cell_type": "code",
   "execution_count": 82,
   "metadata": {},
   "outputs": [
    {
     "data": {
      "text/html": [
       "<div>\n",
       "<style scoped>\n",
       "    .dataframe tbody tr th:only-of-type {\n",
       "        vertical-align: middle;\n",
       "    }\n",
       "\n",
       "    .dataframe tbody tr th {\n",
       "        vertical-align: top;\n",
       "    }\n",
       "\n",
       "    .dataframe thead th {\n",
       "        text-align: right;\n",
       "    }\n",
       "</style>\n",
       "<table border=\"1\" class=\"dataframe\">\n",
       "  <thead>\n",
       "    <tr style=\"text-align: right;\">\n",
       "      <th></th>\n",
       "      <th>order_id</th>\n",
       "      <th>date</th>\n",
       "      <th>time</th>\n",
       "      <th>order_type</th>\n",
       "      <th>branch_code</th>\n",
       "      <th>order_items</th>\n",
       "      <th>order_price</th>\n",
       "      <th>customer_lat</th>\n",
       "      <th>customer_lon</th>\n",
       "      <th>customerHasloyalty?</th>\n",
       "      <th>distance_to_customer_KM</th>\n",
       "      <th>delivery_fee</th>\n",
       "      <th>node</th>\n",
       "      <th>weekend</th>\n",
       "      <th>timeofday</th>\n",
       "      <th>dist_to_TP</th>\n",
       "      <th>dist_to_NS</th>\n",
       "      <th>dist_to_BK</th>\n",
       "      <th>fill</th>\n",
       "      <th>ori_fee</th>\n",
       "    </tr>\n",
       "  </thead>\n",
       "  <tbody>\n",
       "    <tr>\n",
       "      <th>34</th>\n",
       "      <td>ORDA09752</td>\n",
       "      <td>2018-05-29</td>\n",
       "      <td>12:54:05</td>\n",
       "      <td>Lunch</td>\n",
       "      <td>None</td>\n",
       "      <td>[('Chicken', 4), ('Fries', 1), ('Steak', 8), (...</td>\n",
       "      <td>672.00</td>\n",
       "      <td>-37.816727</td>\n",
       "      <td>145.008912</td>\n",
       "      <td>0</td>\n",
       "      <td>NaN</td>\n",
       "      <td>8.910156</td>\n",
       "      <td>5563404257</td>\n",
       "      <td>0</td>\n",
       "      <td>1</td>\n",
       "      <td>11.602</td>\n",
       "      <td>10.761</td>\n",
       "      <td>3.873</td>\n",
       "      <td>1</td>\n",
       "      <td>8.910156</td>\n",
       "    </tr>\n",
       "    <tr>\n",
       "      <th>45</th>\n",
       "      <td>ORDC03174</td>\n",
       "      <td>2018-08-09</td>\n",
       "      <td>15:16:03</td>\n",
       "      <td>Lunch</td>\n",
       "      <td>None</td>\n",
       "      <td>[('Burger', 6), ('Chicken', 5), ('Fries', 4), ...</td>\n",
       "      <td>531.60</td>\n",
       "      <td>-37.805317</td>\n",
       "      <td>144.940949</td>\n",
       "      <td>0</td>\n",
       "      <td>NaN</td>\n",
       "      <td>14.502396</td>\n",
       "      <td>702363974</td>\n",
       "      <td>0</td>\n",
       "      <td>1</td>\n",
       "      <td>10.412</td>\n",
       "      <td>9.307</td>\n",
       "      <td>9.506</td>\n",
       "      <td>1</td>\n",
       "      <td>14.502396</td>\n",
       "    </tr>\n",
       "    <tr>\n",
       "      <th>49</th>\n",
       "      <td>ORDC06727</td>\n",
       "      <td>2018-03-22</td>\n",
       "      <td>10:32:06</td>\n",
       "      <td>Breakfast</td>\n",
       "      <td>None</td>\n",
       "      <td>[('Pancake', 5), ('Coffee', 7)]</td>\n",
       "      <td>173.75</td>\n",
       "      <td>-37.800244</td>\n",
       "      <td>144.955044</td>\n",
       "      <td>0</td>\n",
       "      <td>NaN</td>\n",
       "      <td>12.762549</td>\n",
       "      <td>663120916</td>\n",
       "      <td>0</td>\n",
       "      <td>0</td>\n",
       "      <td>9.826</td>\n",
       "      <td>7.598</td>\n",
       "      <td>8.506</td>\n",
       "      <td>1</td>\n",
       "      <td>12.762549</td>\n",
       "    </tr>\n",
       "    <tr>\n",
       "      <th>53</th>\n",
       "      <td>ORDB06683</td>\n",
       "      <td>2018-11-03</td>\n",
       "      <td>18:08:27</td>\n",
       "      <td>Dinner</td>\n",
       "      <td>None</td>\n",
       "      <td>[('Fish&amp;Chips', 4), ('Shrimp', 3), ('Pasta', 3)]</td>\n",
       "      <td>384.50</td>\n",
       "      <td>-37.811583</td>\n",
       "      <td>144.945728</td>\n",
       "      <td>0</td>\n",
       "      <td>NaN</td>\n",
       "      <td>15.724240</td>\n",
       "      <td>579971507</td>\n",
       "      <td>1</td>\n",
       "      <td>2</td>\n",
       "      <td>9.874</td>\n",
       "      <td>9.932</td>\n",
       "      <td>9.955</td>\n",
       "      <td>1</td>\n",
       "      <td>15.724240</td>\n",
       "    </tr>\n",
       "    <tr>\n",
       "      <th>54</th>\n",
       "      <td>ORDX08128</td>\n",
       "      <td>2018-10-26</td>\n",
       "      <td>17:48:10</td>\n",
       "      <td>Dinner</td>\n",
       "      <td>None</td>\n",
       "      <td>[('Pasta', 9), ('Shrimp', 3), ('Fish&amp;Chips', 1...</td>\n",
       "      <td>1046.50</td>\n",
       "      <td>-37.808213</td>\n",
       "      <td>144.974359</td>\n",
       "      <td>0</td>\n",
       "      <td>NaN</td>\n",
       "      <td>13.202494</td>\n",
       "      <td>6207152063</td>\n",
       "      <td>0</td>\n",
       "      <td>2</td>\n",
       "      <td>9.319</td>\n",
       "      <td>7.204</td>\n",
       "      <td>6.430</td>\n",
       "      <td>1</td>\n",
       "      <td>13.202494</td>\n",
       "    </tr>\n",
       "  </tbody>\n",
       "</table>\n",
       "</div>"
      ],
      "text/plain": [
       "     order_id       date      time order_type branch_code                                        order_items  order_price  customer_lat  customer_lon  customerHasloyalty?  distance_to_customer_KM  delivery_fee        node  weekend  timeofday  dist_to_TP  dist_to_NS  dist_to_BK  fill    ori_fee\n",
       "34  ORDA09752 2018-05-29  12:54:05      Lunch        None  [('Chicken', 4), ('Fries', 1), ('Steak', 8), (...       672.00    -37.816727    145.008912                    0                      NaN      8.910156  5563404257        0          1      11.602      10.761       3.873     1   8.910156\n",
       "45  ORDC03174 2018-08-09  15:16:03      Lunch        None  [('Burger', 6), ('Chicken', 5), ('Fries', 4), ...       531.60    -37.805317    144.940949                    0                      NaN     14.502396   702363974        0          1      10.412       9.307       9.506     1  14.502396\n",
       "49  ORDC06727 2018-03-22  10:32:06  Breakfast        None                    [('Pancake', 5), ('Coffee', 7)]       173.75    -37.800244    144.955044                    0                      NaN     12.762549   663120916        0          0       9.826       7.598       8.506     1  12.762549\n",
       "53  ORDB06683 2018-11-03  18:08:27     Dinner        None   [('Fish&Chips', 4), ('Shrimp', 3), ('Pasta', 3)]       384.50    -37.811583    144.945728                    0                      NaN     15.724240   579971507        1          2       9.874       9.932       9.955     1  15.724240\n",
       "54  ORDX08128 2018-10-26  17:48:10     Dinner        None  [('Pasta', 9), ('Shrimp', 3), ('Fish&Chips', 1...      1046.50    -37.808213    144.974359                    0                      NaN     13.202494  6207152063        0          2       9.319       7.204       6.430     1  13.202494"
      ]
     },
     "execution_count": 82,
     "metadata": {},
     "output_type": "execute_result"
    }
   ],
   "source": [
    "ns_isnull = missing[missing['ori_fee'].notnull()]\n",
    "ns_isnull = ns_isnull[ns_isnull['distance_to_customer_KM'].isnull()]\n",
    "ns_isnull.head()"
   ]
  },
  {
   "cell_type": "code",
   "execution_count": 83,
   "metadata": {},
   "outputs": [],
   "source": [
    "_isnull = ns_isnull\n",
    "for index, loc in ns_isnull.iterrows():\n",
    "    _isnull.at[index, 'dist_hat_ns'] = (ns_isnull.at[index, 'ori_fee'] -0.6063*ns_isnull.at[index, 'timeofday'] - 2.1365*ns_isnull.at[index, 'weekend'])/1.5367"
   ]
  },
  {
   "cell_type": "markdown",
   "metadata": {},
   "source": [
    "Then we do the same with other branches like TP and BK"
   ]
  },
  {
   "cell_type": "code",
   "execution_count": 84,
   "metadata": {},
   "outputs": [
    {
     "data": {
      "text/html": [
       "<table class=\"simpletable\">\n",
       "<caption>OLS Regression Results</caption>\n",
       "<tr>\n",
       "  <th>Dep. Variable:</th>         <td>ori_fee</td>     <th>  R-squared (uncentered):</th>      <td>   0.998</td> \n",
       "</tr>\n",
       "<tr>\n",
       "  <th>Model:</th>                   <td>OLS</td>       <th>  Adj. R-squared (uncentered):</th> <td>   0.998</td> \n",
       "</tr>\n",
       "<tr>\n",
       "  <th>Method:</th>             <td>Least Squares</td>  <th>  F-statistic:       </th>          <td>2.074e+04</td>\n",
       "</tr>\n",
       "<tr>\n",
       "  <th>Date:</th>             <td>Fri, 04 Oct 2019</td> <th>  Prob (F-statistic):</th>          <td>6.67e-173</td>\n",
       "</tr>\n",
       "<tr>\n",
       "  <th>Time:</th>                 <td>19:20:41</td>     <th>  Log-Likelihood:    </th>          <td> -120.64</td> \n",
       "</tr>\n",
       "<tr>\n",
       "  <th>No. Observations:</th>      <td>   132</td>      <th>  AIC:               </th>          <td>   247.3</td> \n",
       "</tr>\n",
       "<tr>\n",
       "  <th>Df Residuals:</th>          <td>   129</td>      <th>  BIC:               </th>          <td>   255.9</td> \n",
       "</tr>\n",
       "<tr>\n",
       "  <th>Df Model:</th>              <td>     3</td>      <th>                     </th>              <td> </td>    \n",
       "</tr>\n",
       "<tr>\n",
       "  <th>Covariance Type:</th>      <td>nonrobust</td>    <th>                     </th>              <td> </td>    \n",
       "</tr>\n",
       "</table>\n",
       "<table class=\"simpletable\">\n",
       "<tr>\n",
       "             <td></td>                <th>coef</th>     <th>std err</th>      <th>t</th>      <th>P>|t|</th>  <th>[0.025</th>    <th>0.975]</th>  \n",
       "</tr>\n",
       "<tr>\n",
       "  <th>distance_to_customer_KM</th> <td>    1.2657</td> <td>    0.010</td> <td>  128.982</td> <td> 0.000</td> <td>    1.246</td> <td>    1.285</td>\n",
       "</tr>\n",
       "<tr>\n",
       "  <th>timeofday</th>               <td>    0.8480</td> <td>    0.065</td> <td>   13.056</td> <td> 0.000</td> <td>    0.719</td> <td>    0.976</td>\n",
       "</tr>\n",
       "<tr>\n",
       "  <th>weekend</th>                 <td>    1.1228</td> <td>    0.122</td> <td>    9.184</td> <td> 0.000</td> <td>    0.881</td> <td>    1.365</td>\n",
       "</tr>\n",
       "</table>\n",
       "<table class=\"simpletable\">\n",
       "<tr>\n",
       "  <th>Omnibus:</th>       <td> 3.417</td> <th>  Durbin-Watson:     </th> <td>   2.287</td>\n",
       "</tr>\n",
       "<tr>\n",
       "  <th>Prob(Omnibus):</th> <td> 0.181</td> <th>  Jarque-Bera (JB):  </th> <td>   2.902</td>\n",
       "</tr>\n",
       "<tr>\n",
       "  <th>Skew:</th>          <td>-0.341</td> <th>  Prob(JB):          </th> <td>   0.234</td>\n",
       "</tr>\n",
       "<tr>\n",
       "  <th>Kurtosis:</th>      <td> 3.249</td> <th>  Cond. No.          </th> <td>    22.1</td>\n",
       "</tr>\n",
       "</table><br/><br/>Warnings:<br/>[1] Standard Errors assume that the covariance matrix of the errors is correctly specified."
      ],
      "text/plain": [
       "<class 'statsmodels.iolib.summary.Summary'>\n",
       "\"\"\"\n",
       "                                 OLS Regression Results                                \n",
       "=======================================================================================\n",
       "Dep. Variable:                ori_fee   R-squared (uncentered):                   0.998\n",
       "Model:                            OLS   Adj. R-squared (uncentered):              0.998\n",
       "Method:                 Least Squares   F-statistic:                          2.074e+04\n",
       "Date:                Fri, 04 Oct 2019   Prob (F-statistic):                   6.67e-173\n",
       "Time:                        19:20:41   Log-Likelihood:                         -120.64\n",
       "No. Observations:                 132   AIC:                                      247.3\n",
       "Df Residuals:                     129   BIC:                                      255.9\n",
       "Df Model:                           3                                                  \n",
       "Covariance Type:            nonrobust                                                  \n",
       "===========================================================================================\n",
       "                              coef    std err          t      P>|t|      [0.025      0.975]\n",
       "-------------------------------------------------------------------------------------------\n",
       "distance_to_customer_KM     1.2657      0.010    128.982      0.000       1.246       1.285\n",
       "timeofday                   0.8480      0.065     13.056      0.000       0.719       0.976\n",
       "weekend                     1.1228      0.122      9.184      0.000       0.881       1.365\n",
       "==============================================================================\n",
       "Omnibus:                        3.417   Durbin-Watson:                   2.287\n",
       "Prob(Omnibus):                  0.181   Jarque-Bera (JB):                2.902\n",
       "Skew:                          -0.341   Prob(JB):                        0.234\n",
       "Kurtosis:                       3.249   Cond. No.                         22.1\n",
       "==============================================================================\n",
       "\n",
       "Warnings:\n",
       "[1] Standard Errors assume that the covariance matrix of the errors is correctly specified.\n",
       "\"\"\""
      ]
     },
     "execution_count": 84,
     "metadata": {},
     "output_type": "execute_result"
    }
   ],
   "source": [
    "tp_notnull = missing[missing['ori_fee'].notnull()]\n",
    "tp_notnull = tp_notnull[tp_notnull['distance_to_customer_KM'].notnull()]\n",
    "tp_notnull = tp_notnull[tp_notnull['branch_code'] == 'TP']\n",
    "tp = tp_notnull[['ori_fee','distance_to_customer_KM','timeofday','weekend']]\n",
    "\n",
    "\n",
    "X = tp[['distance_to_customer_KM','timeofday','weekend']] # here we have 2 variables for multiple regression. If you just want to use one variable for simple linear regression, then use X = df['Interest_Rate'] for example.Alternatively, you may add additional variables within the brackets\n",
    "Y = tp['ori_fee']\n",
    "model_tp = sm.OLS(Y, X).fit()\n",
    "model_tp.summary()"
   ]
  },
  {
   "cell_type": "markdown",
   "metadata": {},
   "source": [
    "We have coefficients 1.2657, 0.8480, 1.1228 for TP"
   ]
  },
  {
   "cell_type": "code",
   "execution_count": 85,
   "metadata": {},
   "outputs": [],
   "source": [
    "tp_isnull = missing[missing['ori_fee'].notnull()]\n",
    "tp_isnull = tp_isnull[tp_isnull['distance_to_customer_KM'].isnull()]\n",
    "for index, loc in ns_isnull.iterrows():\n",
    "    _isnull.at[index, 'dist_hat_tp'] = (tp_isnull.at[index, 'ori_fee'] -0.8487*tp_isnull.at[index, 'timeofday'] - 1.1237*tp_isnull.at[index, 'weekend'])/1.2655"
   ]
  },
  {
   "cell_type": "code",
   "execution_count": 86,
   "metadata": {},
   "outputs": [
    {
     "data": {
      "text/html": [
       "<table class=\"simpletable\">\n",
       "<caption>OLS Regression Results</caption>\n",
       "<tr>\n",
       "  <th>Dep. Variable:</th>         <td>ori_fee</td>     <th>  R-squared (uncentered):</th>      <td>   0.995</td> \n",
       "</tr>\n",
       "<tr>\n",
       "  <th>Model:</th>                   <td>OLS</td>       <th>  Adj. R-squared (uncentered):</th> <td>   0.995</td> \n",
       "</tr>\n",
       "<tr>\n",
       "  <th>Method:</th>             <td>Least Squares</td>  <th>  F-statistic:       </th>          <td>   9331.</td> \n",
       "</tr>\n",
       "<tr>\n",
       "  <th>Date:</th>             <td>Fri, 04 Oct 2019</td> <th>  Prob (F-statistic):</th>          <td>6.71e-162</td>\n",
       "</tr>\n",
       "<tr>\n",
       "  <th>Time:</th>                 <td>19:20:41</td>     <th>  Log-Likelihood:    </th>          <td> -205.40</td> \n",
       "</tr>\n",
       "<tr>\n",
       "  <th>No. Observations:</th>      <td>   144</td>      <th>  AIC:               </th>          <td>   416.8</td> \n",
       "</tr>\n",
       "<tr>\n",
       "  <th>Df Residuals:</th>          <td>   141</td>      <th>  BIC:               </th>          <td>   425.7</td> \n",
       "</tr>\n",
       "<tr>\n",
       "  <th>Df Model:</th>              <td>     3</td>      <th>                     </th>              <td> </td>    \n",
       "</tr>\n",
       "<tr>\n",
       "  <th>Covariance Type:</th>      <td>nonrobust</td>    <th>                     </th>              <td> </td>    \n",
       "</tr>\n",
       "</table>\n",
       "<table class=\"simpletable\">\n",
       "<tr>\n",
       "             <td></td>                <th>coef</th>     <th>std err</th>      <th>t</th>      <th>P>|t|</th>  <th>[0.025</th>    <th>0.975]</th>  \n",
       "</tr>\n",
       "<tr>\n",
       "  <th>distance_to_customer_KM</th> <td>    1.5373</td> <td>    0.017</td> <td>   87.849</td> <td> 0.000</td> <td>    1.503</td> <td>    1.572</td>\n",
       "</tr>\n",
       "<tr>\n",
       "  <th>timeofday</th>               <td>    1.4764</td> <td>    0.099</td> <td>   14.964</td> <td> 0.000</td> <td>    1.281</td> <td>    1.672</td>\n",
       "</tr>\n",
       "<tr>\n",
       "  <th>weekend</th>                 <td>    2.5715</td> <td>    0.215</td> <td>   11.938</td> <td> 0.000</td> <td>    2.146</td> <td>    2.997</td>\n",
       "</tr>\n",
       "</table>\n",
       "<table class=\"simpletable\">\n",
       "<tr>\n",
       "  <th>Omnibus:</th>       <td> 3.139</td> <th>  Durbin-Watson:     </th> <td>   1.753</td>\n",
       "</tr>\n",
       "<tr>\n",
       "  <th>Prob(Omnibus):</th> <td> 0.208</td> <th>  Jarque-Bera (JB):  </th> <td>   2.075</td>\n",
       "</tr>\n",
       "<tr>\n",
       "  <th>Skew:</th>          <td> 0.064</td> <th>  Prob(JB):          </th> <td>   0.354</td>\n",
       "</tr>\n",
       "<tr>\n",
       "  <th>Kurtosis:</th>      <td> 2.426</td> <th>  Cond. No.          </th> <td>    20.1</td>\n",
       "</tr>\n",
       "</table><br/><br/>Warnings:<br/>[1] Standard Errors assume that the covariance matrix of the errors is correctly specified."
      ],
      "text/plain": [
       "<class 'statsmodels.iolib.summary.Summary'>\n",
       "\"\"\"\n",
       "                                 OLS Regression Results                                \n",
       "=======================================================================================\n",
       "Dep. Variable:                ori_fee   R-squared (uncentered):                   0.995\n",
       "Model:                            OLS   Adj. R-squared (uncentered):              0.995\n",
       "Method:                 Least Squares   F-statistic:                              9331.\n",
       "Date:                Fri, 04 Oct 2019   Prob (F-statistic):                   6.71e-162\n",
       "Time:                        19:20:41   Log-Likelihood:                         -205.40\n",
       "No. Observations:                 144   AIC:                                      416.8\n",
       "Df Residuals:                     141   BIC:                                      425.7\n",
       "Df Model:                           3                                                  \n",
       "Covariance Type:            nonrobust                                                  \n",
       "===========================================================================================\n",
       "                              coef    std err          t      P>|t|      [0.025      0.975]\n",
       "-------------------------------------------------------------------------------------------\n",
       "distance_to_customer_KM     1.5373      0.017     87.849      0.000       1.503       1.572\n",
       "timeofday                   1.4764      0.099     14.964      0.000       1.281       1.672\n",
       "weekend                     2.5715      0.215     11.938      0.000       2.146       2.997\n",
       "==============================================================================\n",
       "Omnibus:                        3.139   Durbin-Watson:                   1.753\n",
       "Prob(Omnibus):                  0.208   Jarque-Bera (JB):                2.075\n",
       "Skew:                           0.064   Prob(JB):                        0.354\n",
       "Kurtosis:                       2.426   Cond. No.                         20.1\n",
       "==============================================================================\n",
       "\n",
       "Warnings:\n",
       "[1] Standard Errors assume that the covariance matrix of the errors is correctly specified.\n",
       "\"\"\""
      ]
     },
     "execution_count": 86,
     "metadata": {},
     "output_type": "execute_result"
    }
   ],
   "source": [
    "bk_notnull = missing[missing['ori_fee'].notnull()]\n",
    "bk_notnull = bk_notnull[bk_notnull['distance_to_customer_KM'].notnull()]\n",
    "bk_notnull = bk_notnull[bk_notnull['branch_code'] == 'BK']\n",
    "bk = bk_notnull[['ori_fee','distance_to_customer_KM','timeofday','weekend']]\n",
    "\n",
    "X = bk[['distance_to_customer_KM','timeofday','weekend']] # here we have 2 variables for multiple regression. If you just want to use one variable for simple linear regression, then use X = df['Interest_Rate'] for example.Alternatively, you may add additional variables within the brackets\n",
    "Y = bk['ori_fee']\n",
    "model_bk = sm.OLS(Y, X).fit()\n",
    "model_bk.summary()"
   ]
  },
  {
   "cell_type": "markdown",
   "metadata": {},
   "source": [
    "We have coefficients = 1.5373 , 1.4764, 2.5715 for BK"
   ]
  },
  {
   "cell_type": "code",
   "execution_count": 87,
   "metadata": {},
   "outputs": [],
   "source": [
    "bk_isnull = missing[missing['ori_fee'].notnull()]\n",
    "bk_isnull = bk_isnull[bk_isnull['distance_to_customer_KM'].isnull()]\n",
    "for index, loc in bk_isnull.iterrows():\n",
    "    _isnull.at[index, 'dist_hat_bk'] = (bk_isnull.at[index, 'ori_fee'] -1.4893*bk_isnull.at[index, 'timeofday'] - 2.5655*bk_isnull.at[index, 'weekend'])/1.5362"
   ]
  },
  {
   "cell_type": "markdown",
   "metadata": {},
   "source": [
    "After getting predicted values, we can inspect futher."
   ]
  },
  {
   "cell_type": "code",
   "execution_count": 88,
   "metadata": {},
   "outputs": [
    {
     "data": {
      "text/html": [
       "<div>\n",
       "<style scoped>\n",
       "    .dataframe tbody tr th:only-of-type {\n",
       "        vertical-align: middle;\n",
       "    }\n",
       "\n",
       "    .dataframe tbody tr th {\n",
       "        vertical-align: top;\n",
       "    }\n",
       "\n",
       "    .dataframe thead th {\n",
       "        text-align: right;\n",
       "    }\n",
       "</style>\n",
       "<table border=\"1\" class=\"dataframe\">\n",
       "  <thead>\n",
       "    <tr style=\"text-align: right;\">\n",
       "      <th></th>\n",
       "      <th>dist_hat_tp</th>\n",
       "      <th>dist_hat_bk</th>\n",
       "      <th>dist_hat_ns</th>\n",
       "      <th>dist_to_TP</th>\n",
       "      <th>dist_to_BK</th>\n",
       "      <th>dist_to_NS</th>\n",
       "      <th>node</th>\n",
       "    </tr>\n",
       "  </thead>\n",
       "  <tbody>\n",
       "    <tr>\n",
       "      <th>34</th>\n",
       "      <td>6.370175</td>\n",
       "      <td>4.830658</td>\n",
       "      <td>5.403694</td>\n",
       "      <td>11.602</td>\n",
       "      <td>3.873</td>\n",
       "      <td>10.761</td>\n",
       "      <td>5563404257</td>\n",
       "    </tr>\n",
       "    <tr>\n",
       "      <th>45</th>\n",
       "      <td>10.789171</td>\n",
       "      <td>8.470965</td>\n",
       "      <td>9.042817</td>\n",
       "      <td>10.412</td>\n",
       "      <td>9.506</td>\n",
       "      <td>9.307</td>\n",
       "      <td>702363974</td>\n",
       "    </tr>\n",
       "    <tr>\n",
       "      <th>49</th>\n",
       "      <td>10.084986</td>\n",
       "      <td>8.307870</td>\n",
       "      <td>8.305167</td>\n",
       "      <td>9.826</td>\n",
       "      <td>8.506</td>\n",
       "      <td>7.598</td>\n",
       "      <td>663120916</td>\n",
       "    </tr>\n",
       "    <tr>\n",
       "      <th>53</th>\n",
       "      <td>10.196080</td>\n",
       "      <td>6.626832</td>\n",
       "      <td>8.053061</td>\n",
       "      <td>9.874</td>\n",
       "      <td>9.955</td>\n",
       "      <td>9.932</td>\n",
       "      <td>579971507</td>\n",
       "    </tr>\n",
       "    <tr>\n",
       "      <th>54</th>\n",
       "      <td>9.091343</td>\n",
       "      <td>6.655314</td>\n",
       "      <td>7.802365</td>\n",
       "      <td>9.319</td>\n",
       "      <td>6.430</td>\n",
       "      <td>7.204</td>\n",
       "      <td>6207152063</td>\n",
       "    </tr>\n",
       "  </tbody>\n",
       "</table>\n",
       "</div>"
      ],
      "text/plain": [
       "    dist_hat_tp  dist_hat_bk  dist_hat_ns  dist_to_TP  dist_to_BK  dist_to_NS        node\n",
       "34     6.370175     4.830658     5.403694      11.602       3.873      10.761  5563404257\n",
       "45    10.789171     8.470965     9.042817      10.412       9.506       9.307   702363974\n",
       "49    10.084986     8.307870     8.305167       9.826       8.506       7.598   663120916\n",
       "53    10.196080     6.626832     8.053061       9.874       9.955       9.932   579971507\n",
       "54     9.091343     6.655314     7.802365       9.319       6.430       7.204  6207152063"
      ]
     },
     "execution_count": 88,
     "metadata": {},
     "output_type": "execute_result"
    }
   ],
   "source": [
    "_isnull[['dist_hat_tp','dist_hat_bk','dist_hat_ns','dist_to_TP','dist_to_BK','dist_to_NS','node']].head()"
   ]
  },
  {
   "cell_type": "markdown",
   "metadata": {},
   "source": [
    "For instance, if we look at the first predicted row, three models predicted that given the deliver_fee, timeofday, and weekend variable, the distance is around 4.8 to 6.3, which is very close to distance from customer to branch BK. Then from here, we can clearly find the minimum difference to infer location."
   ]
  },
  {
   "cell_type": "code",
   "execution_count": 89,
   "metadata": {},
   "outputs": [
    {
     "data": {
      "text/plain": [
       "0.1891803262182844"
      ]
     },
     "execution_count": 89,
     "metadata": {},
     "output_type": "execute_result"
    }
   ],
   "source": [
    "abs(8.053061 - 9.932)/9.932"
   ]
  },
  {
   "cell_type": "markdown",
   "metadata": {},
   "source": [
    "This method will work well with the customer's location that have nearly equal distance to two or three branches. If we look at index 53, this customer's location is in a place that the distances from three branches to which are 9.87(TP), 9.95(BK), and 9.93(NS). The TP linear model can detect the distance 97% accuracy, while the other like BK and NS can only predict 67%, 81% respectively.Then we can now use this estimation to impute the value of missing branch_code. And also, at the same time, we can impute the missing distance_to_customer_KM."
   ]
  },
  {
   "cell_type": "code",
   "execution_count": 90,
   "metadata": {},
   "outputs": [],
   "source": [
    "def find_min(dist_hat_tp,dist_hat_ns,dist_hat_bk,dist_to_BK,dist_to_TP,dist_to_NS):\n",
    "    tp = abs(dist_hat_tp-dist_to_TP)\n",
    "    bk = abs(dist_hat_bk-dist_to_BK)\n",
    "    ns = abs(dist_hat_ns-dist_to_NS)\n",
    "    dist = min(tp,bk,ns)\n",
    "    dist_2cus = 0.\n",
    "    if dist == tp:\n",
    "        branch_code = 'TP'\n",
    "        dist_2cus = dist_to_TP\n",
    "    elif dist == bk:\n",
    "        branch_code = 'BK'\n",
    "        dist_2cus = dist_to_BK        \n",
    "    elif dist == ns:\n",
    "        branch_code = 'NS'\n",
    "        dist_2cus = dist_to_NS \n",
    "    \n",
    "    return branch_code, dist_2cus"
   ]
  },
  {
   "cell_type": "code",
   "execution_count": 91,
   "metadata": {},
   "outputs": [],
   "source": [
    "for index, loc in _isnull.iterrows():\n",
    "    _isnull.at[index,'branch_code'], _isnull.at[index,'distance_to_customer_KM'] \\\n",
    "    = find_min(_isnull.at[index,'dist_hat_tp'],\\\n",
    "               _isnull.at[index,'dist_hat_ns'],\\\n",
    "              _isnull.at[index,'dist_hat_bk'],\\\n",
    "              _isnull.at[index,'dist_to_BK'],\\\n",
    "              _isnull.at[index,'dist_to_TP'],\\\n",
    "              _isnull.at[index,'dist_to_NS']) #assign predict value to _isnull data frame\n",
    "\n"
   ]
  },
  {
   "cell_type": "code",
   "execution_count": 92,
   "metadata": {},
   "outputs": [
    {
     "data": {
      "text/html": [
       "<div>\n",
       "<style scoped>\n",
       "    .dataframe tbody tr th:only-of-type {\n",
       "        vertical-align: middle;\n",
       "    }\n",
       "\n",
       "    .dataframe tbody tr th {\n",
       "        vertical-align: top;\n",
       "    }\n",
       "\n",
       "    .dataframe thead th {\n",
       "        text-align: right;\n",
       "    }\n",
       "</style>\n",
       "<table border=\"1\" class=\"dataframe\">\n",
       "  <thead>\n",
       "    <tr style=\"text-align: right;\">\n",
       "      <th></th>\n",
       "      <th>dist_hat_tp</th>\n",
       "      <th>dist_hat_bk</th>\n",
       "      <th>dist_hat_ns</th>\n",
       "      <th>dist_to_TP</th>\n",
       "      <th>dist_to_BK</th>\n",
       "      <th>dist_to_NS</th>\n",
       "      <th>branch_code</th>\n",
       "      <th>distance_to_customer_KM</th>\n",
       "      <th>delivery_fee</th>\n",
       "      <th>weekend</th>\n",
       "      <th>timeofday</th>\n",
       "    </tr>\n",
       "  </thead>\n",
       "  <tbody>\n",
       "    <tr>\n",
       "      <th>34</th>\n",
       "      <td>6.370175</td>\n",
       "      <td>4.830658</td>\n",
       "      <td>5.403694</td>\n",
       "      <td>11.602</td>\n",
       "      <td>3.873</td>\n",
       "      <td>10.761</td>\n",
       "      <td>BK</td>\n",
       "      <td>3.873</td>\n",
       "      <td>8.910156</td>\n",
       "      <td>0</td>\n",
       "      <td>1</td>\n",
       "    </tr>\n",
       "    <tr>\n",
       "      <th>45</th>\n",
       "      <td>10.789171</td>\n",
       "      <td>8.470965</td>\n",
       "      <td>9.042817</td>\n",
       "      <td>10.412</td>\n",
       "      <td>9.506</td>\n",
       "      <td>9.307</td>\n",
       "      <td>NS</td>\n",
       "      <td>9.307</td>\n",
       "      <td>14.502396</td>\n",
       "      <td>0</td>\n",
       "      <td>1</td>\n",
       "    </tr>\n",
       "    <tr>\n",
       "      <th>49</th>\n",
       "      <td>10.084986</td>\n",
       "      <td>8.307870</td>\n",
       "      <td>8.305167</td>\n",
       "      <td>9.826</td>\n",
       "      <td>8.506</td>\n",
       "      <td>7.598</td>\n",
       "      <td>BK</td>\n",
       "      <td>8.506</td>\n",
       "      <td>12.762549</td>\n",
       "      <td>0</td>\n",
       "      <td>0</td>\n",
       "    </tr>\n",
       "    <tr>\n",
       "      <th>53</th>\n",
       "      <td>10.196080</td>\n",
       "      <td>6.626832</td>\n",
       "      <td>8.053061</td>\n",
       "      <td>9.874</td>\n",
       "      <td>9.955</td>\n",
       "      <td>9.932</td>\n",
       "      <td>TP</td>\n",
       "      <td>9.874</td>\n",
       "      <td>15.724240</td>\n",
       "      <td>1</td>\n",
       "      <td>2</td>\n",
       "    </tr>\n",
       "    <tr>\n",
       "      <th>54</th>\n",
       "      <td>9.091343</td>\n",
       "      <td>6.655314</td>\n",
       "      <td>7.802365</td>\n",
       "      <td>9.319</td>\n",
       "      <td>6.430</td>\n",
       "      <td>7.204</td>\n",
       "      <td>BK</td>\n",
       "      <td>6.430</td>\n",
       "      <td>13.202494</td>\n",
       "      <td>0</td>\n",
       "      <td>2</td>\n",
       "    </tr>\n",
       "  </tbody>\n",
       "</table>\n",
       "</div>"
      ],
      "text/plain": [
       "    dist_hat_tp  dist_hat_bk  dist_hat_ns  dist_to_TP  dist_to_BK  dist_to_NS branch_code  distance_to_customer_KM  delivery_fee  weekend  timeofday\n",
       "34     6.370175     4.830658     5.403694      11.602       3.873      10.761          BK                    3.873      8.910156        0          1\n",
       "45    10.789171     8.470965     9.042817      10.412       9.506       9.307          NS                    9.307     14.502396        0          1\n",
       "49    10.084986     8.307870     8.305167       9.826       8.506       7.598          BK                    8.506     12.762549        0          0\n",
       "53    10.196080     6.626832     8.053061       9.874       9.955       9.932          TP                    9.874     15.724240        1          2\n",
       "54     9.091343     6.655314     7.802365       9.319       6.430       7.204          BK                    6.430     13.202494        0          2"
      ]
     },
     "execution_count": 92,
     "metadata": {},
     "output_type": "execute_result"
    }
   ],
   "source": [
    "_isnull[['dist_hat_tp','dist_hat_bk','dist_hat_ns','dist_to_TP','dist_to_BK','dist_to_NS','branch_code','distance_to_customer_KM','delivery_fee','weekend','timeofday']].head()"
   ]
  },
  {
   "cell_type": "markdown",
   "metadata": {},
   "source": [
    "After imputing by mininum difference, we can see that the distance_to_customer_KM makes sense given the delivery_fee, timeofday, and weekend. Now we can update these value to the missing data."
   ]
  },
  {
   "cell_type": "code",
   "execution_count": 93,
   "metadata": {},
   "outputs": [],
   "source": [
    "for index, loc in _isnull.iterrows(): #update the pred\n",
    "    missing.at[index,'branch_code'],missing.at[index,'distance_to_customer_KM'] = _isnull.at[index,'branch_code'],_isnull.at[index,'distance_to_customer_KM']"
   ]
  },
  {
   "cell_type": "markdown",
   "metadata": {},
   "source": [
    "## 2. delivery_fee"
   ]
  },
  {
   "cell_type": "markdown",
   "metadata": {},
   "source": [
    "With delivery_fee, we can use linear regression models for each branch. According to specification 7, we can look at the rows that do not have null value, and fit linear regression model for each branch. Then we will use these linear models, to predict the values of delivery_fee for missing data. \n",
    "\n",
    "   * 7. Delivery fee is calculated using a different method for each branch.\n",
    "The fee depends linearly (but in different ways for each branch) on:\n",
    "        * weekend or weekday (1 or 0) - as a continuous variable\n",
    "        * time of the day (morning 0, afternoon 1, evening 2) - as a continuous variable\n",
    "        * distance between branch and customer\n",
    "        \n",
    "Again, we will use the ori_fee column, instead of the delivery_fee to simplify the issue. After getting the predicted values for ori_fee, we can update again with the loyalty value."
   ]
  },
  {
   "cell_type": "code",
   "execution_count": 94,
   "metadata": {},
   "outputs": [
    {
     "name": "stderr",
     "output_type": "stream",
     "text": [
      "C:\\ProgramData\\Anaconda3\\lib\\site-packages\\ipykernel_launcher.py:11: UserWarning: Boolean Series key will be reindexed to match DataFrame index.\n",
      "  # This is added back by InteractiveShellApp.init_path()\n",
      "C:\\ProgramData\\Anaconda3\\lib\\site-packages\\ipykernel_launcher.py:13: UserWarning: Boolean Series key will be reindexed to match DataFrame index.\n",
      "  del sys.path[0]\n"
     ]
    }
   ],
   "source": [
    "ns_notnull = missing[missing['ori_fee'].notnull()]\n",
    "ns_notnull = ns_notnull[ns_notnull['distance_to_customer_KM'].notnull()]\n",
    "ns_notnull = ns_notnull[ns_notnull['branch_code'] == 'NS']\n",
    "ns = ns_notnull[['ori_fee','distance_to_customer_KM','timeofday','weekend']]\n",
    "\n",
    "\n",
    "X = ns[['distance_to_customer_KM','timeofday','weekend']] # here we have 2 variables for multiple regression. If you just want to use one variable for simple linear regression, then use X = df['Interest_Rate'] for example.Alternatively, you may add additional variables within the brackets\n",
    "Y = ns['ori_fee']\n",
    "model_ns = sm.OLS(Y, X).fit()\n",
    "\n",
    "pred_ori_ns = model_ns.predict(missing[missing['delivery_fee'].isnull()][missing['branch_code'] == 'NS'][['distance_to_customer_KM','timeofday','weekend']])\n",
    "\n",
    "for index, loc in missing[missing['delivery_fee'].isnull()][missing['branch_code'] == 'NS'][['ori_fee']].iterrows():\n",
    "    missing.at[index,'ori_fee'] = pred_ori_ns[index]"
   ]
  },
  {
   "cell_type": "code",
   "execution_count": 95,
   "metadata": {},
   "outputs": [
    {
     "name": "stderr",
     "output_type": "stream",
     "text": [
      "C:\\ProgramData\\Anaconda3\\lib\\site-packages\\ipykernel_launcher.py:11: UserWarning: Boolean Series key will be reindexed to match DataFrame index.\n",
      "  # This is added back by InteractiveShellApp.init_path()\n",
      "C:\\ProgramData\\Anaconda3\\lib\\site-packages\\ipykernel_launcher.py:12: UserWarning: Boolean Series key will be reindexed to match DataFrame index.\n",
      "  if sys.path[0] == '':\n"
     ]
    }
   ],
   "source": [
    "tp_notnull = missing[missing['ori_fee'].notnull()]\n",
    "tp_notnull = tp_notnull[tp_notnull['distance_to_customer_KM'].notnull()]\n",
    "tp_notnull = tp_notnull[tp_notnull['branch_code'] == 'TP']\n",
    "tp = tp_notnull[['ori_fee','distance_to_customer_KM','timeofday','weekend']]\n",
    "\n",
    "\n",
    "X = tp[['distance_to_customer_KM','timeofday','weekend']] # here we have 2 variables for multiple regression. If you just want to use one variable for simple linear regression, then use X = df['Interest_Rate'] for example.Alternatively, you may add additional variables within the brackets\n",
    "Y = tp['ori_fee']\n",
    "model_tp = sm.OLS(Y, X).fit()\n",
    "\n",
    "pred_ori_tp = model_tp.predict(missing[missing['delivery_fee'].isnull()][missing['branch_code'] == 'TP'][['distance_to_customer_KM','timeofday','weekend']])\n",
    "for index, loc in missing[missing['delivery_fee'].isnull()][missing['branch_code'] == 'TP'][['ori_fee']].iterrows():\n",
    "    missing.at[index,'ori_fee'] = pred_ori_tp[index]"
   ]
  },
  {
   "cell_type": "code",
   "execution_count": 96,
   "metadata": {},
   "outputs": [
    {
     "name": "stderr",
     "output_type": "stream",
     "text": [
      "C:\\ProgramData\\Anaconda3\\lib\\site-packages\\ipykernel_launcher.py:11: UserWarning: Boolean Series key will be reindexed to match DataFrame index.\n",
      "  # This is added back by InteractiveShellApp.init_path()\n",
      "C:\\ProgramData\\Anaconda3\\lib\\site-packages\\ipykernel_launcher.py:12: UserWarning: Boolean Series key will be reindexed to match DataFrame index.\n",
      "  if sys.path[0] == '':\n"
     ]
    }
   ],
   "source": [
    "bk_notnull = missing[missing['ori_fee'].notnull()]\n",
    "bk_notnull = bk_notnull[bk_notnull['distance_to_customer_KM'].notnull()]\n",
    "bk_notnull = bk_notnull[bk_notnull['branch_code'] == 'BK']\n",
    "bk = bk_notnull[['ori_fee','distance_to_customer_KM','timeofday','weekend']]\n",
    "\n",
    "\n",
    "X = bk[['distance_to_customer_KM','timeofday','weekend']] # here we have 2 variables for multiple regression. If you just want to use one variable for simple linear regression, then use X = df['Interest_Rate'] for example.Alternatively, you may add additional variables within the brackets\n",
    "Y = bk['ori_fee']\n",
    "model_bk = sm.OLS(Y, X).fit()\n",
    "\n",
    "pred_ori_bk = model_bk.predict(missing[missing['delivery_fee'].isnull()][missing['branch_code'] == 'BK'][['distance_to_customer_KM','timeofday','weekend']])\n",
    "for index, loc in missing[missing['delivery_fee'].isnull()][missing['branch_code'] == 'BK'][['ori_fee']].iterrows():\n",
    "    missing.at[index,'ori_fee'] = pred_ori_bk[index]"
   ]
  },
  {
   "cell_type": "code",
   "execution_count": 97,
   "metadata": {},
   "outputs": [
    {
     "name": "stdout",
     "output_type": "stream",
     "text": [
      "The adjusted R squared for TP, BK, and NS are 0.998, 0.995 and 0.998\n"
     ]
    }
   ],
   "source": [
    "print('The adjusted R squared for TP, BK, and NS are {:.3}, {:.3} and {:.3}'.format(model_tp.rsquared_adj,model_bk.rsquared_adj,model_ns.rsquared_adj))"
   ]
  },
  {
   "cell_type": "markdown",
   "metadata": {},
   "source": [
    "Look at the values above, all three models can explain for 99% of variance, then we can be confident that the predicted value of delivery_fee for each branches is really close to reality."
   ]
  },
  {
   "cell_type": "markdown",
   "metadata": {},
   "source": [
    "We can update the value for delivery_fee"
   ]
  },
  {
   "cell_type": "code",
   "execution_count": 98,
   "metadata": {},
   "outputs": [],
   "source": [
    "missing['delivery_fee'] = missing['ori_fee']/(1+missing['customerHasloyalty?'])"
   ]
  },
  {
   "cell_type": "markdown",
   "metadata": {},
   "source": [
    "We can double check again with the missing data. "
   ]
  },
  {
   "cell_type": "code",
   "execution_count": 99,
   "metadata": {},
   "outputs": [
    {
     "data": {
      "text/plain": [
       "order_id                     0\n",
       "date                         0\n",
       "time                         0\n",
       "order_type                   0\n",
       "branch_code                  0\n",
       "order_items                  0\n",
       "order_price                  0\n",
       "customer_lat                 0\n",
       "customer_lon                 0\n",
       "customerHasloyalty?          0\n",
       "distance_to_customer_KM      0\n",
       "delivery_fee                 0\n",
       "node                         0\n",
       "weekend                      0\n",
       "timeofday                    0\n",
       "dist_to_TP                 400\n",
       "dist_to_NS                 400\n",
       "dist_to_BK                 400\n",
       "fill                         0\n",
       "ori_fee                      0\n",
       "dtype: int64"
      ]
     },
     "execution_count": 99,
     "metadata": {},
     "output_type": "execute_result"
    }
   ],
   "source": [
    "missing.isnull().sum()"
   ]
  },
  {
   "cell_type": "markdown",
   "metadata": {},
   "source": [
    "So out of three columns created for EDA task, we can see that the original columns are now free from missing data. We can produce the output."
   ]
  },
  {
   "cell_type": "code",
   "execution_count": 100,
   "metadata": {},
   "outputs": [],
   "source": [
    "missing_output = missing[org_col]\n",
    "missing_output.to_csv('Group102_missing_data_solution.csv')"
   ]
  },
  {
   "cell_type": "markdown",
   "metadata": {},
   "source": [
    "# C. Outlier"
   ]
  },
  {
   "cell_type": "markdown",
   "metadata": {},
   "source": [
    "In this task, we are supposed to explore the 'outlier_data' csv file and detect outliers. There are no data anomalies in this data file, all data is clean. Thus, we will use pandas boxplot and some other plotting techniques to explore the data. If the column is univariate, we believe inter_quantile_range approach is sufficient for detecting outliers. But if the column is multi-variate, we will use a combination of linear regression residual method and inter_quantile_range method to detect outliers.\n",
    "\n",
    "* create some new columns for analysis purpose\n",
    "* univariate -> Inter Quantile Range\n",
    "* multi-variate -> Linear Regression Residual & Inter Quantile Range"
   ]
  },
  {
   "cell_type": "code",
   "execution_count": 358,
   "metadata": {},
   "outputs": [],
   "source": [
    "outlier = pd.read_csv(\"Group135_outlier_data.csv\")"
   ]
  },
  {
   "cell_type": "code",
   "execution_count": 359,
   "metadata": {},
   "outputs": [
    {
     "data": {
      "application/vnd.jupyter.widget-view+json": {
       "model_id": "bf2ee984d3f941de86c4b9776f08ee4a",
       "version_major": 2,
       "version_minor": 0
      },
      "text/plain": [
       "HBox(children=(IntProgress(value=1, bar_style='info', max=1), HTML(value='')))"
      ]
     },
     "metadata": {},
     "output_type": "display_data"
    },
    {
     "name": "stdout",
     "output_type": "stream",
     "text": [
      "\n"
     ]
    }
   ],
   "source": [
    "outlier['ori_fee'] = 0. #initiate a column of original delivery fee\n",
    "\n",
    "# generate original delivery fee by checking customer loyalty status\n",
    "# if customer loyalty status has value 1, original delivery fee is twice as the column 'delivery_fee'\n",
    "for index, loc in tqdm(outlier.iterrows()):\n",
    "    if loc['customerHasloyalty?'] == 1:\n",
    "        outlier.at[index,'ori_fee'] = 2*outlier.at[index,'delivery_fee'] # create new column 'ori_fee' and stores its original delivery_fee\n",
    "    else:\n",
    "        outlier.at[index,'ori_fee'] = outlier.at[index,'delivery_fee'] #c reate new column 'ori_fee' and stores its original delivery_fee"
   ]
  },
  {
   "cell_type": "code",
   "execution_count": 360,
   "metadata": {},
   "outputs": [],
   "source": [
    "def qtt_items(order):\n",
    "    '''\n",
    "    takes an order from dataframe, returns the total item quantities in the order\n",
    "    '''\n",
    "    menu_qtt = re.findall(r'[0-9]+', order) # use re to find all the numerical data\n",
    "    qtt = 0\n",
    "    for each in menu_qtt:\n",
    "        qtt +=int(each) # increment the total quantity by each found matching object\n",
    "    return qtt    "
   ]
  },
  {
   "cell_type": "code",
   "execution_count": 361,
   "metadata": {},
   "outputs": [],
   "source": [
    "# create some columns to assist future statistical analysis\n",
    "outlier['node'] = outlier[['customer_lat','customer_lon']].apply(lambda x: get_node(*x), axis=1)\n",
    "outlier['distance_to_customer_KM'] = outlier['distance_to_customer_KM'].apply(lambda x: round(x,3))\n",
    "outlier['date'] = outlier['date'].apply(lambda x: datetime.strptime(x, '%Y-%m-%d'))\n",
    "outlier['weekend'] = outlier['date'].apply(lambda x: day(x.weekday()))\n",
    "outlier['timeofday'] = outlier['order_type'].apply(lambda x: timeofday(x))\n",
    "outlier['qqt_item_ordered'] = outlier['order_items'].apply(lambda x: qtt_items(x))"
   ]
  },
  {
   "cell_type": "code",
   "execution_count": 362,
   "metadata": {},
   "outputs": [
    {
     "data": {
      "text/plain": [
       "order_id                           object\n",
       "date                       datetime64[ns]\n",
       "time                               object\n",
       "order_type                         object\n",
       "branch_code                        object\n",
       "order_items                        object\n",
       "order_price                       float64\n",
       "customer_lat                      float64\n",
       "customer_lon                      float64\n",
       "customerHasloyalty?                 int64\n",
       "distance_to_customer_KM           float64\n",
       "delivery_fee                      float64\n",
       "ori_fee                           float64\n",
       "node                                int64\n",
       "weekend                             int64\n",
       "timeofday                           int64\n",
       "qqt_item_ordered                    int64\n",
       "dtype: object"
      ]
     },
     "execution_count": 362,
     "metadata": {},
     "output_type": "execute_result"
    }
   ],
   "source": [
    "outlier.dtypes"
   ]
  },
  {
   "cell_type": "markdown",
   "metadata": {},
   "source": [
    "Define a function that will return outliers by IQR method.\n",
    "* IQR = Q3 - Q1\n",
    "* __*outlier*__ is any data that's smaller than $(q1 - 1.5*iqr)$ or greater than $(q3 + 1.5*iqr)$\n",
    "* return (index_list, outlier_list, count of outliers)"
   ]
  },
  {
   "cell_type": "code",
   "execution_count": 363,
   "metadata": {},
   "outputs": [],
   "source": [
    "def iqr_outlier(df,column):\n",
    "    '''\n",
    "    takes dataframe (df) and column name (column) as input, returns a list of outliers using Inter-Quantile-Range (IQR)\n",
    "    \n",
    "    return outlier_list, count of outliers\n",
    "    '''\n",
    "    q3 = df[column].quantile(.75)\n",
    "    q1 = df[column].quantile(.25)\n",
    "    iqr = q3-q1\n",
    "    outlier_list = [] # initiate outlier_list in order to store all outliers\n",
    "    index_list = []\n",
    "    # if the data is smaller than (q1 - 1.5*iqr), it's considered outlier by IQR\n",
    "    # if the data is greater than (q3 + 1.5*iqr), it's considered outlier by IQR\n",
    "    for index, rows in df[column].items():\n",
    "        if rows<(q1-1.5*iqr):\n",
    "            outlier_list.append(rows)\n",
    "            index_list.append(index)\n",
    "            \n",
    "        elif rows>(q3+1.5*iqr):\n",
    "            outlier_list.append(rows)\n",
    "            index_list.append(index)\n",
    "    count = len(outlier_list)\n",
    "    \n",
    "    return index_list,outlier_list, count"
   ]
  },
  {
   "cell_type": "code",
   "execution_count": 364,
   "metadata": {},
   "outputs": [],
   "source": [
    "outlier['ori_fee_hat'] =0."
   ]
  },
  {
   "cell_type": "code",
   "execution_count": 365,
   "metadata": {},
   "outputs": [
    {
     "data": {
      "text/plain": [
       "{'whiskers': [<matplotlib.lines.Line2D at 0x1c0af082a20>,\n",
       "  <matplotlib.lines.Line2D at 0x1c0af082128>],\n",
       " 'caps': [<matplotlib.lines.Line2D at 0x1c0af082400>,\n",
       "  <matplotlib.lines.Line2D at 0x1c0af082940>],\n",
       " 'boxes': [<matplotlib.lines.Line2D at 0x1c0af0aadd8>],\n",
       " 'medians': [<matplotlib.lines.Line2D at 0x1c0af082eb8>],\n",
       " 'fliers': [<matplotlib.lines.Line2D at 0x1c0aeea4940>],\n",
       " 'means': []}"
      ]
     },
     "execution_count": 365,
     "metadata": {},
     "output_type": "execute_result"
    },
    {
     "data": {
      "image/png": "[encoded data removed]",
      "text/plain": [
       "<Figure size 432x288 with 1 Axes>"
      ]
     },
     "metadata": {
      "needs_background": "light"
     },
     "output_type": "display_data"
    }
   ],
   "source": [
    "o_bk_notnull = outlier[outlier['branch_code'] == 'BK']\n",
    "o_bk = o_bk_notnull[['ori_fee','distance_to_customer_KM','timeofday','weekend']]\n",
    "\n",
    "X = o_bk[['distance_to_customer_KM','timeofday','weekend']] # here we have 2 variables for multiple regression. If you just want to use one variable for simple linear regression, then use X = df['Interest_Rate'] for example.Alternatively, you may add additional variables within the brackets\n",
    "Y = o_bk['ori_fee']\n",
    "model_o_bk = sm.OLS(Y, X).fit()\n",
    "plt.boxplot(model_o_bk.resid)"
   ]
  },
  {
   "cell_type": "code",
   "execution_count": 366,
   "metadata": {},
   "outputs": [
    {
     "data": {
      "text/plain": [
       "{'whiskers': [<matplotlib.lines.Line2D at 0x1c0afae3198>,\n",
       "  <matplotlib.lines.Line2D at 0x1c0afae3160>],\n",
       " 'caps': [<matplotlib.lines.Line2D at 0x1c0afae3978>,\n",
       "  <matplotlib.lines.Line2D at 0x1c0afae3cc0>],\n",
       " 'boxes': [<matplotlib.lines.Line2D at 0x1c0afae3320>],\n",
       " 'medians': [<matplotlib.lines.Line2D at 0x1c0afb647b8>],\n",
       " 'fliers': [<matplotlib.lines.Line2D at 0x1c0afb64ac8>],\n",
       " 'means': []}"
      ]
     },
     "execution_count": 366,
     "metadata": {},
     "output_type": "execute_result"
    },
    {
     "data": {
      "image/png": "[encoded data removed]",
      "text/plain": [
       "<Figure size 432x288 with 1 Axes>"
      ]
     },
     "metadata": {
      "needs_background": "light"
     },
     "output_type": "display_data"
    }
   ],
   "source": [
    "o_ns_notnull = outlier[outlier['branch_code'] == 'BK']\n",
    "o_ns = o_ns_notnull[['ori_fee','distance_to_customer_KM','timeofday','weekend']]\n",
    "\n",
    "X = o_ns[['distance_to_customer_KM','timeofday','weekend']] # here we have 2 variables for multiple regression. If you just want to use one variable for simple linear regression, then use X = df['Interest_Rate'] for example.Alternatively, you may add additional variables within the brackets\n",
    "Y = o_ns['ori_fee']\n",
    "model_o_ns = sm.OLS(Y, X).fit()\n",
    "plt.boxplot(model_o_ns.resid)"
   ]
  },
  {
   "cell_type": "code",
   "execution_count": 367,
   "metadata": {},
   "outputs": [
    {
     "data": {
      "text/plain": [
       "{'whiskers': [<matplotlib.lines.Line2D at 0x1c0af0942b0>,\n",
       "  <matplotlib.lines.Line2D at 0x1c0afb395f8>],\n",
       " 'caps': [<matplotlib.lines.Line2D at 0x1c0afb39a90>,\n",
       "  <matplotlib.lines.Line2D at 0x1c0afb39710>],\n",
       " 'boxes': [<matplotlib.lines.Line2D at 0x1c0af094ac8>],\n",
       " 'medians': [<matplotlib.lines.Line2D at 0x1c0afb396a0>],\n",
       " 'fliers': [<matplotlib.lines.Line2D at 0x1c0afb7cb38>],\n",
       " 'means': []}"
      ]
     },
     "execution_count": 367,
     "metadata": {},
     "output_type": "execute_result"
    },
    {
     "data": {
      "image/png": "[encoded data removed]",
      "text/plain": [
       "<Figure size 432x288 with 1 Axes>"
      ]
     },
     "metadata": {
      "needs_background": "light"
     },
     "output_type": "display_data"
    }
   ],
   "source": [
    "o_tp_notnull = outlier[outlier['branch_code'] == 'BK']\n",
    "o_tp = o_tp_notnull[['ori_fee','distance_to_customer_KM','timeofday','weekend']]\n",
    "\n",
    "\n",
    "X = o_tp[['distance_to_customer_KM','timeofday','weekend']] # here we have 2 variables for multiple regression. If you just want to use one variable for simple linear regression, then use X = df['Interest_Rate'] for example.Alternatively, you may add additional variables within the brackets\n",
    "Y = o_tp['ori_fee']\n",
    "model_o_tp = sm.OLS(Y, X).fit()\n",
    "plt.boxplot(model_o_tp.resid)"
   ]
  },
  {
   "cell_type": "markdown",
   "metadata": {},
   "source": [
    "By plotting residuals, we believe residuals is a good indentifier of outliers. Next thing we want to do is to combine residuals and IQR in order to get more accurate result."
   ]
  },
  {
   "cell_type": "markdown",
   "metadata": {},
   "source": [
    "In order to generate a 'residual' column, we first need to predict delivery_fee based on 'distance', 'time of day', 'weekend or week day', 'branch_code'"
   ]
  },
  {
   "cell_type": "code",
   "execution_count": 368,
   "metadata": {},
   "outputs": [],
   "source": [
    "index_to_remove = []"
   ]
  },
  {
   "cell_type": "code",
   "execution_count": 369,
   "metadata": {},
   "outputs": [],
   "source": [
    "# train the model of NS_branch with 'distance_to_customer_KM','timeofday','weekend'\n",
    "pred_ns = model_o_ns.predict(outlier[outlier['branch_code'] == 'NS'][['distance_to_customer_KM','timeofday','weekend']])\n",
    "\n",
    "for index, loc in outlier[outlier['branch_code'] == 'NS'].iterrows():\n",
    "    # create 'ori_fee_hat' column that stores the prediction of delivery fee after training the model\n",
    "    outlier.at[index,'ori_fee_hat'] = pred_ns[index]"
   ]
  },
  {
   "cell_type": "code",
   "execution_count": 370,
   "metadata": {},
   "outputs": [],
   "source": [
    "# train the model of TP_branch with 'distance_to_customer_KM','timeofday','weekend'\n",
    "pred_tp = model_o_tp.predict(outlier[outlier['branch_code'] == 'TP'][['distance_to_customer_KM','timeofday','weekend']])\n",
    "\n",
    "for index, loc in outlier[outlier['branch_code'] == 'TP'].iterrows():\n",
    "    # create 'ori_fee_hat' column that stores the prediction of delivery fee after training the model\n",
    "    outlier.at[index,'ori_fee_hat'] = pred_tp[index]"
   ]
  },
  {
   "cell_type": "code",
   "execution_count": 371,
   "metadata": {},
   "outputs": [],
   "source": [
    "# train the model of BK_branch with 'distance_to_customer_KM','timeofday','weekend'\n",
    "pred_bk = model_o_bk.predict(outlier[outlier['branch_code'] == 'BK'][['distance_to_customer_KM','timeofday','weekend']])\n",
    "\n",
    "for index, loc in outlier[outlier['branch_code'] == 'BK'].iterrows():\n",
    "    # create 'ori_fee_hat' column that stores the prediction of delivery fee after training the model\n",
    "    outlier.at[index,'ori_fee_hat'] = pred_bk[index]"
   ]
  },
  {
   "cell_type": "code",
   "execution_count": 372,
   "metadata": {},
   "outputs": [],
   "source": [
    "# generate 'residual' column by subtracting 'ori_fee_hat' from 'ori_fee'\n",
    "outlier['residual'] = outlier['ori_fee_hat']-outlier['ori_fee']"
   ]
  },
  {
   "cell_type": "code",
   "execution_count": 373,
   "metadata": {},
   "outputs": [
    {
     "data": {
      "text/plain": [
       "17"
      ]
     },
     "execution_count": 373,
     "metadata": {},
     "output_type": "execute_result"
    }
   ],
   "source": [
    "# apply iqr_outlier function on residuals by 'NS' branch\n",
    "iqr_outlier(outlier[outlier['branch_code']=='NS'], 'residual')\n",
    "for x in iqr_outlier(outlier[outlier['branch_code']=='NS'], 'residual')[0]:\n",
    "    index_to_remove.append(x)\n",
    "len(index_to_remove)    "
   ]
  },
  {
   "cell_type": "markdown",
   "metadata": {},
   "source": [
    "These 5 rows are derived from residuals and inter quantile range, they are adjusted by 'branch_code', 'distance_to_customer_KM', 'timeofday', 'weekend or weekday', they are still too far away from most of the dataset, thus we believe these 5 rows are outliers"
   ]
  },
  {
   "cell_type": "code",
   "execution_count": 374,
   "metadata": {},
   "outputs": [
    {
     "data": {
      "text/plain": [
       "30"
      ]
     },
     "execution_count": 374,
     "metadata": {},
     "output_type": "execute_result"
    }
   ],
   "source": [
    "# apply iqr_outlier function on residuals by 'TP' branch\n",
    "iqr_outlier(outlier[outlier['branch_code']=='TP'], 'residual')\n",
    "iqr_outlier(outlier[outlier['branch_code']=='TP'], 'residual')\n",
    "for x in iqr_outlier(outlier[outlier['branch_code']=='TP'], 'residual')[0]:\n",
    "    index_to_remove.append(x)\n",
    "len(index_to_remove)    "
   ]
  },
  {
   "cell_type": "markdown",
   "metadata": {},
   "source": [
    "These 8 rows are derived from residuals and inter quantile range, they are adjusted by 'branch_code', 'distance_to_customer_KM', 'timeofday', 'weekend or weekday', they are still too far away from most of the dataset, thus we believe these 8 rows are outliers"
   ]
  },
  {
   "cell_type": "code",
   "execution_count": 375,
   "metadata": {},
   "outputs": [
    {
     "data": {
      "text/plain": [
       "40"
      ]
     },
     "execution_count": 375,
     "metadata": {},
     "output_type": "execute_result"
    }
   ],
   "source": [
    "# apply iqr_outlier function on residuals by 'BK' branch\n",
    "iqr_outlier(outlier[outlier['branch_code']=='BK'], 'residual')\n",
    "for x in iqr_outlier(outlier[outlier['branch_code']=='BK'], 'residual')[0]:\n",
    "    index_to_remove.append(x)\n",
    "len(index_to_remove)    "
   ]
  },
  {
   "cell_type": "markdown",
   "metadata": {},
   "source": [
    "After adjusting 'branch_code', 'distance_to_customer_KM', 'timeofday', 'weekend or weekday', we believe these are the real outliers from the corresponding 'delivery_fee' column."
   ]
  },
  {
   "cell_type": "code",
   "execution_count": 376,
   "metadata": {},
   "outputs": [
    {
     "data": {
      "text/plain": [
       "40"
      ]
     },
     "execution_count": 376,
     "metadata": {},
     "output_type": "execute_result"
    }
   ],
   "source": [
    "len(set(index_to_remove))"
   ]
  },
  {
   "cell_type": "code",
   "execution_count": 377,
   "metadata": {},
   "outputs": [],
   "source": [
    "bk = outlier[outlier['branch_code'] == 'NS']"
   ]
  },
  {
   "cell_type": "code",
   "execution_count": 378,
   "metadata": {},
   "outputs": [
    {
     "data": {
      "application/vnd.plotly.v1+json": {
       "config": {
        "plotlyServerURL": "https://plot.ly"
       },
       "data": [
        {
         "hoverlabel": {
          "namelength": 0
         },
         "hovertemplate": "ori_fee=%{x}<br>distance_to_customer_KM=%{y}<br>timeofday=%{z}<br>weekend=%{marker.color}",
         "legendgroup": "",
         "marker": {
          "color": [
           0,
           0,
           0,
           0,
           0,
           0,
           0,
           0,
           0,
           0,
           0,
           0,
           0,
           0,
           0,
           0,
           0,
           1,
           1,
           0,
           0,
           0,
           0,
           0,
           0,
           1,
           0,
           0,
           0,
           0,
           0,
           0,
           0,
           0,
           0,
           0,
           1,
           0,
           1,
           0,
           0,
           0,
           0,
           0,
           0,
           0,
           0,
           0,
           1,
           0,
           1,
           0,
           1,
           0,
           0,
           0,
           0,
           0,
           1,
           1,
           0,
           0,
           0,
           0,
           0,
           0,
           0,
           0,
           0,
           0,
           0,
           0,
           0,
           1,
           0,
           1,
           0,
           1,
           0,
           0,
           0,
           0,
           0,
           1,
           0,
           1,
           0,
           0,
           1,
           0,
           0,
           0,
           0,
           0,
           0,
           1,
           0,
           1,
           0,
           0,
           0,
           1,
           1,
           1,
           1,
           0,
           0,
           1,
           1,
           0,
           1,
           0,
           1,
           0,
           0,
           0,
           0,
           0,
           0,
           0,
           0,
           1,
           1,
           0,
           1,
           0,
           0,
           1,
           0,
           0,
           1,
           0,
           1,
           0,
           0,
           0,
           0,
           0,
           0,
           0,
           1,
           1,
           1,
           0,
           0,
           0,
           0,
           1,
           0,
           0,
           0,
           0,
           1,
           0,
           0,
           0,
           1,
           0,
           0,
           0,
           0,
           0,
           0,
           1,
           0,
           0,
           1,
           0,
           0,
           0,
           0,
           0,
           0,
           0,
           1,
           0,
           1,
           0,
           0,
           0,
           1,
           1,
           1,
           0,
           0,
           0,
           1,
           0,
           1,
           0,
           0,
           0,
           1,
           0,
           0,
           0,
           1,
           0,
           1,
           0,
           1,
           1,
           1,
           0,
           0,
           0,
           0,
           0,
           0,
           0,
           0,
           1,
           0,
           0,
           0,
           0,
           0,
           0,
           0,
           0,
           0,
           0,
           0,
           0,
           0,
           0,
           0,
           1,
           1,
           0,
           0,
           0,
           0,
           1,
           1,
           1,
           1,
           1,
           1,
           0,
           1,
           0,
           0,
           1,
           1,
           0,
           0,
           0,
           0,
           0,
           0,
           0,
           0,
           0,
           0,
           0,
           1,
           0,
           0,
           0,
           0,
           0,
           0,
           1,
           0,
           1,
           1,
           0,
           0,
           0,
           1,
           1,
           0,
           0,
           0,
           0,
           1,
           0,
           0,
           0,
           0,
           0,
           0,
           0,
           0,
           0,
           0,
           0,
           0,
           0,
           0,
           0,
           0,
           0,
           1,
           0,
           0,
           1,
           1,
           0,
           0,
           0,
           1,
           0,
           0,
           0,
           1,
           0,
           1,
           0,
           0,
           0,
           1,
           1,
           0,
           1,
           0,
           1,
           1,
           0,
           0,
           0,
           0,
           0,
           0,
           0,
           0,
           1,
           0,
           1,
           1,
           0,
           0,
           0,
           1,
           0,
           0,
           0,
           1,
           0,
           0,
           1,
           1,
           0,
           0,
           1,
           0,
           0,
           0,
           0,
           0,
           1,
           0,
           1,
           1,
           1,
           1,
           0,
           1,
           0,
           1,
           1,
           0,
           1,
           0,
           1,
           0,
           0,
           0,
           0,
           0,
           0,
           0,
           1,
           1,
           0,
           1,
           0,
           0,
           0,
           1,
           0,
           0,
           0,
           0,
           0,
           0,
           0,
           0,
           0,
           0,
           0,
           1,
           0,
           0,
           1,
           0,
           0,
           1,
           0,
           0,
           0,
           0,
           0,
           1,
           0,
           0,
           1,
           1,
           0,
           1,
           0,
           0,
           0,
           0,
           1,
           0,
           0,
           0,
           0,
           1,
           0,
           0,
           0,
           0,
           0,
           0,
           0,
           0,
           0,
           0,
           1,
           0,
           1,
           0,
           1,
           0,
           0,
           0,
           0,
           0,
           1,
           1,
           0,
           1,
           0,
           0,
           0,
           0,
           0,
           0,
           0,
           1,
           0,
           0,
           0,
           1,
           0,
           1,
           0,
           0,
           0,
           1,
           1,
           0,
           0,
           0,
           1,
           0,
           1,
           0,
           1,
           0,
           0,
           1,
           0,
           0,
           0,
           1,
           0,
           0,
           0,
           1,
           0,
           1,
           0,
           0,
           1,
           1,
           1,
           0,
           1,
           0,
           0,
           1,
           0,
           0,
           0,
           0,
           0
          ],
          "coloraxis": "coloraxis",
          "symbol": "circle"
         },
         "mode": "markers",
         "name": "",
         "scene": "scene",
         "showlegend": false,
         "type": "scatter3d",
         "x": [
          13.3829212,
          13.6128478,
          11.8434992,
          5.2415807999999995,
          12.7622707,
          22.19590275,
          12.1365496,
          15.3376339,
          12.5559294,
          16.9732533,
          11.4761979,
          11.7239562,
          7.9453195999999995,
          10.939041699999999,
          13.177599800000003,
          16.4156635,
          12.1932203,
          15.9920517,
          22.04310435,
          7.2736348,
          13.3657019,
          14.550549499999999,
          11.7512937,
          12.8363311,
          13.825757300000001,
          7.01281905,
          15.3978265,
          12.232291,
          14.508351500000002,
          10.135926199999998,
          13.797630400000001,
          13.373862400000002,
          13.3350358,
          12.367599,
          12.12123,
          14.8068796,
          14.815224300000002,
          17.8441694,
          15.0390698,
          11.784976499999999,
          13.7635452,
          11.1191834,
          12.001394900000001,
          14.234059099999998,
          14.1935378,
          9.791186999999999,
          11.8992165,
          13.7506888,
          15.4007135,
          15.599225400000002,
          15.999425500000001,
          13.7377872,
          15.829386300000001,
          13.9427646,
          14.9451438,
          11.741509800000001,
          13.688482800000001,
          14.411714800000002,
          14.440490099999998,
          18.3701091,
          10.1023008,
          13.0468735,
          11.766273199999999,
          14.8186707,
          14.3088362,
          14.934942600000001,
          15.1214047,
          13.2602195,
          13.356034699999999,
          11.7512988,
          13.242806900000001,
          15.724924,
          15.870891,
          16.4380413,
          11.954946099999999,
          14.310236199999999,
          17.2694876,
          13.5018628,
          5.54390835,
          10.7343368,
          13.735370999999999,
          13.2758769,
          10.6165948,
          14.6565086,
          12.7704058,
          17.8973579,
          16.742214800000003,
          14.296621700000001,
          16.0204516,
          18.8534507,
          18.4504818,
          12.398656800000001,
          13.638224300000001,
          12.4771872,
          14.192556699999997,
          8.395285099999999,
          12.2858414,
          14.5624532,
          14.313638699999998,
          13.0165799,
          6.67952205,
          14.5723796,
          14.765816500000001,
          15.436539999999999,
          12.650010499999999,
          12.6916461,
          15.5747701,
          17.4658076,
          13.807573800000002,
          14.533342000000001,
          16.1433342,
          11.6891718,
          16.539788899999998,
          6.532527,
          16.631131699999997,
          14.9291625,
          14.6685924,
          13.582027199999999,
          13.3088965,
          11.001988800000001,
          14.5208438,
          12.2571929,
          15.554651199999999,
          12.391176699999999,
          17.856531600000004,
          16.1660444,
          13.543985699999999,
          27.59992665,
          15.107839300000002,
          15.0308951,
          14.6426506,
          13.942121799999999,
          15.3327334,
          14.125979999999998,
          15.924004,
          14.309378400000002,
          7.780412400000001,
          16.5711584,
          13.7688291,
          14.6534934,
          15.587980199999999,
          16.963694399999998,
          14.302903699999998,
          12.9385391,
          13.4036792,
          12.1619539,
          7.823961200000001,
          13.0501076,
          15.0490807,
          14.3035831,
          13.8564024,
          14.696462099999998,
          12.5858451,
          11.5072658,
          15.557047400000002,
          16.736727300000002,
          15.8512259,
          15.5818293,
          14.809968900000001,
          14.328652800000002,
          21.5029257,
          12.3837756,
          13.7582536,
          15.158795199999998,
          13.548204,
          13.902070000000002,
          14.1912388,
          11.7857685,
          13.661591699999999,
          12.726047099999999,
          12.69318,
          14.2992749,
          11.9505716,
          11.8156761,
          18.522418,
          11.3368732,
          14.173672,
          14.834370999999999,
          13.7897934,
          13.787383499999999,
          15.678965300000002,
          13.1856128,
          15.697374100000001,
          16.6589729,
          14.278093799999999,
          14.5373457,
          15.153016699999998,
          12.535262800000002,
          13.800534400000002,
          12.801283900000001,
          12.910582199999999,
          13.342659699999999,
          16.649552,
          13.021181599999998,
          13.303035699999999,
          12.5190282,
          12.9541909,
          22.253514600000006,
          12.919968199999998,
          22.6992078,
          16.8690983,
          14.329879199999999,
          14.0138434,
          12.9676799,
          13.1393294,
          24.84593265,
          13.268483699999999,
          14.174726199999998,
          15.1484565,
          15.824687699999998,
          12.2975497,
          17.287619699999997,
          15.690992800000002,
          15.054964800000002,
          15.377913500000002,
          13.450217499999999,
          11.6646773,
          19.135863,
          14.049760800000001,
          11.759433999999999,
          11.9262666,
          14.187400199999997,
          15.005673999999999,
          13.352374800000002,
          18.4440108,
          15.0121538,
          13.5495999,
          9.323770800000002,
          11.5617969,
          14.892288399999998,
          12.2717551,
          13.140889199999998,
          15.662800899999999,
          17.7641365,
          8.2179728,
          17.837387200000002,
          15.8800438,
          13.4836255,
          14.1006456,
          14.864399300000002,
          19.548247500000002,
          23.9164212,
          12.660862199999999,
          13.014140600000001,
          11.151440800000001,
          13.607362099999998,
          10.221661099999999,
          17.9415738,
          12.214285,
          14.965385399999999,
          14.5046666,
          13.2981165,
          15.263700699999998,
          10.8950272,
          13.094303199999999,
          14.327975199999997,
          13.04772,
          13.585313500000002,
          10.2310605,
          16.537142499999998,
          13.081173199999999,
          14.426928899999998,
          16.0172503,
          17.1374532,
          11.4240745,
          21.26079165,
          14.2658839,
          14.264677599999999,
          14.602923800000001,
          15.852412699999999,
          13.886336499999999,
          17.0784291,
          15.347295800000001,
          14.221418900000002,
          7.3414399,
          13.6684156,
          15.634766800000001,
          12.943258,
          13.298460999999998,
          11.7297801,
          11.7204982,
          6.37313205,
          14.9751541,
          12.6121407,
          5.9213169,
          12.0013972,
          13.624807500000001,
          13.111209299999999,
          17.097337399999997,
          13.4503609,
          16.0851781,
          16.988332500000002,
          13.5025707,
          15.948264100000001,
          12.313216699999998,
          13.762417000000001,
          13.4279053,
          14.297591199999998,
          15.6588085,
          13.119821100000001,
          11.7431524,
          12.0209138,
          6.44377735,
          25.067951100000002,
          11.5084606,
          11.026518800000002,
          17.2794336,
          16.0090982,
          12.0430028,
          10.9439296,
          14.874704099999999,
          13.0676496,
          15.256019699999998,
          20.6574897,
          13.107295,
          15.133043599999999,
          14.184144400000001,
          13.9387261,
          17.728509,
          15.9802971,
          15.353214600000001,
          16.3534078,
          15.512384599999999,
          14.454688399999998,
          14.2117105,
          11.690649800000001,
          18.104115300000004,
          15.8273682,
          9.5332924,
          25.932741600000004,
          14.4486358,
          15.676387599999998,
          11.766492900000001,
          15.9949934,
          15.086609699999999,
          15.096472899999998,
          14.0425264,
          21.503277899999997,
          13.694894699999999,
          13.7463045,
          15.7408177,
          8.00687065,
          13.151028,
          13.4187802,
          5.8925247,
          14.103756400000002,
          13.996189900000001,
          13.9402546,
          13.9884856,
          13.305969199999998,
          16.499546,
          14.1471661,
          12.625709,
          21.177262600000002,
          15.7456048,
          14.441704399999999,
          25.0058742,
          15.803824300000002,
          19.90635945,
          12.0826966,
          13.899589800000001,
          17.722513,
          17.4543362,
          19.2197747,
          15.741174800000001,
          14.997550599999999,
          11.052381599999999,
          16.7802439,
          15.727621300000001,
          13.4964769,
          13.6292446,
          13.540787699999997,
          13.955963500000001,
          18.2044082,
          13.839966800000001,
          12.8164752,
          17.6149728,
          14.5690551,
          11.955473199999998,
          13.032825,
          16.6762229,
          15.6397513,
          14.589986600000001,
          8.0294304,
          15.254411300000001,
          11.3767686,
          14.755277599999998,
          12.6724709,
          12.2260162,
          15.257276300000001,
          12.1606663,
          15.576737300000001,
          14.603443300000002,
          13.1391595,
          12.263373699999999,
          15.1753114,
          13.4280193,
          14.2069894,
          12.305914900000001,
          11.5537439,
          16.0612059,
          14.176258800000001,
          13.613895699999999,
          16.1001509,
          13.845414800000002,
          16.1426203,
          12.22712,
          14.9701454,
          18.2805318,
          10.2936181,
          17.668398999999997,
          13.6499833,
          12.754108500000001,
          15.4475419,
          16.386646300000002,
          15.812177199999999,
          15.264419400000001,
          14.2277348,
          12.774604400000001,
          15.0714171,
          16.6846544,
          12.163318400000001,
          14.304585699999999,
          12.729816099999999,
          14.834251,
          14.0739154,
          16.0102734,
          13.256159699999998,
          12.7405782,
          12.499341000000001,
          13.774156099999999,
          15.145408499999998,
          12.2521964,
          14.2710405,
          12.497255699999998,
          16.728292,
          12.965087800000001,
          15.0783652,
          13.3749467,
          21.6893922,
          11.1133594,
          17.967447600000003,
          19.5251871,
          6.6072451,
          17.321263000000002,
          16.721591699999998,
          11.925264,
          12.6840588,
          14.094990099999999,
          13.9708135,
          12.7547617,
          15.553061600000001,
          13.5288334,
          12.393440199999999,
          12.7705629,
          13.8768782,
          14.0851919,
          11.8607709,
          18.0641493,
          15.589206200000001,
          12.590632800000002,
          19.509978,
          15.524271100000002,
          12.9925319,
          13.6875443,
          15.952727800000002,
          12.445625300000001,
          15.5116672,
          14.8664035,
          11.744288099999999,
          14.1673609,
          17.334838100000002,
          12.1208864,
          15.9455829,
          15.579765300000002,
          12.8467272,
          13.333084,
          13.0606534,
          14.9612845,
          16.3406795,
          12.093205699999999,
          11.456622300000001,
          16.6553571,
          15.983579500000001,
          20.5371077,
          11.759667,
          13.099184,
          14.181975699999999,
          15.6669842,
          13.8520804,
          17.1957304,
          15.909596599999999,
          12.5160872,
          12.961718199999998,
          18.251046399999996,
          13.1158788,
          12.9477853,
          13.7301294,
          11.7397686,
          5.2426603
         ],
         "y": [
          10.377,
          9.692,
          7.812,
          7.524,
          7.909,
          9.19,
          6.683,
          9.385,
          7.829,
          10.624,
          6.39,
          9.181,
          10.266,
          7.948,
          9.698,
          9.374,
          8.299,
          7.308,
          10.235,
          9.37,
          9.905,
          8.515,
          8.823,
          7.283,
          7.027,
          5.692,
          12.205,
          7.491,
          8.597,
          4.918,
          8.467,
          9.457,
          11.101,
          7.12,
          6.65,
          9.322,
          9.523,
          11.826,
          10.661,
          6.721,
          9.105,
          9.095,
          7.767,
          6.82,
          8.911,
          5.24,
          7.494,
          7.762,
          9.73,
          10.161,
          7.482,
          8.762,
          7.896,
          8.51,
          9.841,
          7.418,
          8.319,
          8.876,
          7.192,
          9.124,
          4.648,
          6.972,
          6.947,
          10.102,
          8.666,
          8.52,
          12.012,
          8.054,
          6.511,
          7.582,
          10.806,
          9.109,
          9.108,
          9.326,
          9.277,
          9.048,
          9.811,
          5.732,
          6.818,
          4.386,
          7.843,
          11.311,
          5.631,
          7.187,
          6.273,
          10.507,
          10.545,
          10.243,
          11.124,
          13.013,
          9.183,
          7.556,
          11.285,
          7.626,
          7.139,
          9.005,
          5.737,
          10.746,
          8.95,
          8.828,
          9.879,
          6.733,
          10.529,
          8.143,
          8.877,
          8.331,
          9.962,
          9.549,
          9.66,
          9.436,
          6.764,
          9.321,
          8.777,
          7.556,
          10.146,
          9.293,
          8.828,
          9.669,
          9.946,
          8.397,
          9.919,
          4.354,
          10.177,
          7.236,
          7.711,
          10.482,
          9.109,
          9.733,
          8.91,
          8.862,
          7.323,
          8.447,
          8.65,
          8.435,
          9.146,
          8.978,
          9.821,
          9.479,
          7.66,
          8.872,
          6.226,
          8.571,
          9.637,
          7.035,
          10.013,
          9.398,
          10.641,
          9.073,
          12.093,
          8.252,
          9.674,
          8.534,
          8.166,
          6.379,
          9.968,
          9.888,
          7.31,
          10.198,
          8.632,
          9.048,
          8.592,
          9.016,
          6.759,
          7.935,
          8.458,
          7.469,
          10.297,
          9.011,
          10.814,
          7.368,
          9.228,
          9.786,
          7.11,
          9.28,
          10.105,
          6.314,
          9.838,
          8.345,
          8.253,
          8.77,
          10.027,
          8.669,
          8.441,
          9.223,
          8.44,
          9.081,
          9.471,
          10.792,
          6.612,
          7.39,
          9.856,
          10.229,
          7.993,
          6.904,
          9.562,
          8.16,
          9.693,
          8.833,
          8.49,
          11.163,
          7.62,
          7.254,
          6.849,
          8.116,
          7.645,
          9.832,
          8.95,
          9.235,
          9.157,
          10.591,
          7.119,
          8.527,
          9.721,
          9.16,
          11.805,
          7.781,
          9.177,
          7.953,
          6.779,
          5.573,
          9.057,
          12.127,
          9.182,
          8.41,
          11.047,
          7.783,
          9.243,
          9.923,
          4.059,
          8.713,
          5.801,
          8.294,
          10.243,
          10.119,
          6.84,
          10.164,
          8.294,
          9.369,
          6.524,
          8.465,
          11.072,
          13.217,
          5.939,
          7.667,
          3.781,
          7.628,
          7.773,
          6.925,
          8.051,
          9.054,
          9.433,
          10.805,
          8.125,
          5.731,
          10.691,
          8.436,
          8.504,
          8.551,
          4.615,
          10.774,
          7.82,
          8.559,
          9.936,
          8.894,
          6.838,
          10.065,
          9.469,
          8.433,
          7.649,
          10.367,
          9.58,
          8.435,
          9.862,
          9.039,
          9.025,
          8.735,
          8.384,
          9.115,
          8.058,
          6.785,
          8.185,
          7.655,
          9.274,
          7.832,
          6.287,
          7.277,
          10.175,
          7.647,
          11.766,
          7.662,
          10.666,
          11.37,
          7.92,
          10.404,
          7.925,
          9.987,
          10.693,
          7.346,
          10.062,
          8.629,
          7.082,
          9.452,
          6.226,
          9.568,
          9.201,
          8.412,
          9.975,
          8.934,
          7.932,
          5.956,
          7.954,
          9.033,
          8.487,
          11.321,
          8.38,
          7.602,
          8.896,
          8.531,
          10.138,
          11.554,
          9.225,
          10.856,
          10.226,
          7.296,
          9.135,
          7.557,
          11.753,
          8.101,
          3.986,
          7.675,
          6.829,
          9.587,
          7.072,
          10.328,
          7.693,
          9.579,
          8.457,
          8.958,
          9.602,
          8.487,
          8.838,
          7.982,
          9.082,
          9.605,
          9.181,
          7.205,
          8.64,
          11.937,
          9.83,
          7.767,
          11.083,
          7.548,
          7.686,
          12.282,
          10.451,
          9.301,
          8.816,
          10.008,
          8.707,
          8.477,
          6.216,
          10.092,
          10.19,
          9.395,
          8.868,
          7.54,
          4.737,
          9.251,
          10.382,
          8.081,
          9.445,
          8.338,
          8.302,
          10.38,
          8.004,
          7.38,
          9.23,
          7.174,
          7.739,
          9.93,
          8.292,
          11.951,
          8.546,
          3.653,
          8.104,
          9.08,
          8.842,
          8.367,
          7.317,
          9.682,
          7.958,
          9.947,
          10.443,
          7.417,
          6.997,
          9.669,
          8.355,
          10.99,
          7.94,
          6.339,
          10.536,
          9.874,
          8.612,
          9.991,
          8.019,
          10.711,
          5.64,
          10.308,
          8.144,
          4.857,
          12.545,
          9.066,
          6.977,
          9.7,
          11.049,
          8.236,
          9.387,
          11.294,
          11.385,
          9.305,
          9.346,
          9.216,
          7.628,
          7.527,
          8.83,
          8.429,
          8.868,
          9.024,
          7.793,
          7.955,
          8.241,
          7.857,
          7.324,
          6.945,
          9.012,
          11.606,
          8.085,
          9.434,
          7.649,
          11.813,
          6.187,
          10.039,
          10.585,
          11.025,
          10.28,
          10.372,
          6.969,
          7.027,
          9.202,
          8.636,
          7.019,
          8.761,
          8.848,
          7.223,
          7.976,
          7.253,
          6.729,
          6.528,
          10.096,
          11.488,
          9.089,
          11.131,
          7.334,
          8.38,
          7.761,
          9.778,
          9.654,
          8.923,
          10.887,
          7.904,
          7.537,
          7.702,
          6.964,
          9.983,
          10.079,
          6.617,
          10.9,
          6.343,
          7.755,
          9.274,
          7.609,
          6.339,
          9.87,
          10.361,
          12.274,
          6.823,
          7.49,
          7.207,
          9.012,
          7.622,
          9.878,
          7.497,
          8.38,
          9.515,
          9.968,
          8.396,
          7.418,
          11.162,
          8.428,
          5.604
         ],
         "z": [
          0,
          2,
          2,
          0,
          0,
          1,
          1,
          1,
          0,
          2,
          0,
          0,
          1,
          1,
          2,
          2,
          1,
          1,
          1,
          1,
          1,
          2,
          0,
          1,
          2,
          1,
          2,
          0,
          2,
          1,
          0,
          2,
          0,
          1,
          1,
          0,
          1,
          2,
          0,
          0,
          0,
          0,
          2,
          2,
          1,
          0,
          0,
          1,
          2,
          0,
          1,
          0,
          1,
          1,
          0,
          2,
          0,
          1,
          0,
          2,
          1,
          2,
          0,
          0,
          1,
          1,
          2,
          0,
          2,
          2,
          0,
          2,
          2,
          0,
          1,
          1,
          2,
          1,
          0,
          2,
          1,
          0,
          0,
          0,
          2,
          2,
          1,
          2,
          1,
          1,
          0,
          0,
          1,
          1,
          2,
          2,
          2,
          0,
          0,
          2,
          1,
          2,
          0,
          1,
          0,
          2,
          2,
          1,
          0,
          1,
          2,
          0,
          0,
          1,
          1,
          2,
          2,
          2,
          1,
          0,
          0,
          1,
          2,
          0,
          0,
          2,
          2,
          1,
          2,
          2,
          1,
          1,
          0,
          1,
          2,
          0,
          2,
          2,
          2,
          2,
          2,
          1,
          1,
          1,
          1,
          0,
          0,
          0,
          1,
          1,
          2,
          2,
          0,
          0,
          2,
          2,
          1,
          1,
          2,
          1,
          2,
          1,
          2,
          0,
          1,
          2,
          0,
          0,
          1,
          1,
          1,
          2,
          0,
          0,
          1,
          1,
          0,
          2,
          1,
          1,
          2,
          0,
          0,
          2,
          2,
          1,
          2,
          0,
          1,
          0,
          1,
          1,
          1,
          1,
          2,
          2,
          0,
          2,
          0,
          2,
          2,
          0,
          0,
          0,
          1,
          2,
          2,
          0,
          1,
          0,
          0,
          1,
          2,
          2,
          2,
          0,
          0,
          2,
          2,
          1,
          0,
          0,
          2,
          0,
          2,
          2,
          2,
          1,
          0,
          1,
          2,
          0,
          1,
          1,
          2,
          2,
          0,
          0,
          0,
          1,
          1,
          1,
          2,
          0,
          0,
          2,
          0,
          1,
          2,
          2,
          0,
          0,
          2,
          0,
          0,
          2,
          1,
          0,
          1,
          2,
          1,
          1,
          1,
          2,
          0,
          0,
          1,
          2,
          1,
          1,
          0,
          1,
          1,
          0,
          2,
          0,
          1,
          1,
          1,
          0,
          1,
          0,
          1,
          0,
          1,
          0,
          1,
          1,
          2,
          2,
          1,
          1,
          1,
          1,
          0,
          2,
          1,
          0,
          2,
          2,
          0,
          0,
          0,
          2,
          0,
          0,
          0,
          2,
          0,
          0,
          2,
          2,
          0,
          2,
          2,
          2,
          0,
          2,
          0,
          2,
          1,
          1,
          0,
          2,
          0,
          2,
          1,
          2,
          1,
          2,
          0,
          1,
          0,
          1,
          1,
          1,
          0,
          2,
          0,
          1,
          2,
          1,
          0,
          2,
          0,
          0,
          2,
          0,
          0,
          1,
          1,
          0,
          0,
          1,
          2,
          2,
          1,
          1,
          0,
          1,
          2,
          0,
          2,
          2,
          2,
          0,
          1,
          2,
          1,
          1,
          2,
          1,
          1,
          2,
          2,
          1,
          2,
          2,
          0,
          1,
          1,
          2,
          2,
          0,
          2,
          0,
          1,
          2,
          0,
          1,
          2,
          1,
          1,
          1,
          0,
          2,
          1,
          1,
          0,
          0,
          1,
          2,
          0,
          2,
          2,
          0,
          2,
          1,
          2,
          1,
          2,
          2,
          2,
          2,
          0,
          0,
          1,
          1,
          0,
          1,
          0,
          0,
          2,
          0,
          1,
          1,
          2,
          2,
          0,
          0,
          0,
          0,
          0,
          1,
          1,
          2,
          0,
          2,
          1,
          0,
          0,
          2,
          1,
          0,
          0,
          2,
          0,
          1,
          0,
          1,
          1,
          2,
          1,
          1,
          0,
          2,
          0,
          0,
          2,
          2,
          1,
          0,
          1,
          0,
          1,
          2,
          0,
          0,
          2,
          0,
          2,
          2,
          0,
          2,
          2,
          1,
          0,
          2,
          0,
          2,
          0,
          0,
          0,
          0,
          1,
          0,
          1,
          0,
          0,
          0,
          2,
          1,
          2,
          1,
          2,
          2,
          1,
          0,
          1,
          0
         ]
        }
       ],
       "layout": {
        "coloraxis": {
         "colorbar": {
          "title": {
           "text": "weekend"
          }
         },
         "colorscale": [
          [
           0,
           "#0d0887"
          ],
          [
           0.1111111111111111,
           "#46039f"
          ],
          [
           0.2222222222222222,
           "#7201a8"
          ],
          [
           0.3333333333333333,
           "#9c179e"
          ],
          [
           0.4444444444444444,
           "#bd3786"
          ],
          [
           0.5555555555555556,
           "#d8576b"
          ],
          [
           0.6666666666666666,
           "#ed7953"
          ],
          [
           0.7777777777777778,
           "#fb9f3a"
          ],
          [
           0.8888888888888888,
           "#fdca26"
          ],
          [
           1,
           "#f0f921"
          ]
         ]
        },
        "height": 600,
        "legend": {
         "tracegroupgap": 0
        },
        "margin": {
         "t": 60
        },
        "scene": {
         "domain": {
          "x": [
           0,
           0.98
          ],
          "y": [
           0,
           1
          ]
         },
         "xaxis": {
          "title": {
           "text": "ori_fee"
          }
         },
         "yaxis": {
          "title": {
           "text": "distance_to_customer_KM"
          }
         },
         "zaxis": {
          "title": {
           "text": "timeofday"
          }
         }
        },
        "template": {
         "data": {
          "bar": [
           {
            "error_x": {
             "color": "#2a3f5f"
            },
            "error_y": {
             "color": "#2a3f5f"
            },
            "marker": {
             "line": {
              "color": "#E5ECF6",
              "width": 0.5
             }
            },
            "type": "bar"
           }
          ],
          "barpolar": [
           {
            "marker": {
             "line": {
              "color": "#E5ECF6",
              "width": 0.5
             }
            },
            "type": "barpolar"
           }
          ],
          "carpet": [
           {
            "aaxis": {
             "endlinecolor": "#2a3f5f",
             "gridcolor": "white",
             "linecolor": "white",
             "minorgridcolor": "white",
             "startlinecolor": "#2a3f5f"
            },
            "baxis": {
             "endlinecolor": "#2a3f5f",
             "gridcolor": "white",
             "linecolor": "white",
             "minorgridcolor": "white",
             "startlinecolor": "#2a3f5f"
            },
            "type": "carpet"
           }
          ],
          "choropleth": [
           {
            "colorbar": {
             "outlinewidth": 0,
             "ticks": ""
            },
            "type": "choropleth"
           }
          ],
          "contour": [
           {
            "colorbar": {
             "outlinewidth": 0,
             "ticks": ""
            },
            "colorscale": [
             [
              0,
              "#0d0887"
             ],
             [
              0.1111111111111111,
              "#46039f"
             ],
             [
              0.2222222222222222,
              "#7201a8"
             ],
             [
              0.3333333333333333,
              "#9c179e"
             ],
             [
              0.4444444444444444,
              "#bd3786"
             ],
             [
              0.5555555555555556,
              "#d8576b"
             ],
             [
              0.6666666666666666,
              "#ed7953"
             ],
             [
              0.7777777777777778,
              "#fb9f3a"
             ],
             [
              0.8888888888888888,
              "#fdca26"
             ],
             [
              1,
              "#f0f921"
             ]
            ],
            "type": "contour"
           }
          ],
          "contourcarpet": [
           {
            "colorbar": {
             "outlinewidth": 0,
             "ticks": ""
            },
            "type": "contourcarpet"
           }
          ],
          "heatmap": [
           {
            "colorbar": {
             "outlinewidth": 0,
             "ticks": ""
            },
            "colorscale": [
             [
              0,
              "#0d0887"
             ],
             [
              0.1111111111111111,
              "#46039f"
             ],
             [
              0.2222222222222222,
              "#7201a8"
             ],
             [
              0.3333333333333333,
              "#9c179e"
             ],
             [
              0.4444444444444444,
              "#bd3786"
             ],
             [
              0.5555555555555556,
              "#d8576b"
             ],
             [
              0.6666666666666666,
              "#ed7953"
             ],
             [
              0.7777777777777778,
              "#fb9f3a"
             ],
             [
              0.8888888888888888,
              "#fdca26"
             ],
             [
              1,
              "#f0f921"
             ]
            ],
            "type": "heatmap"
           }
          ],
          "heatmapgl": [
           {
            "colorbar": {
             "outlinewidth": 0,
             "ticks": ""
            },
            "colorscale": [
             [
              0,
              "#0d0887"
             ],
             [
              0.1111111111111111,
              "#46039f"
             ],
             [
              0.2222222222222222,
              "#7201a8"
             ],
             [
              0.3333333333333333,
              "#9c179e"
             ],
             [
              0.4444444444444444,
              "#bd3786"
             ],
             [
              0.5555555555555556,
              "#d8576b"
             ],
             [
              0.6666666666666666,
              "#ed7953"
             ],
             [
              0.7777777777777778,
              "#fb9f3a"
             ],
             [
              0.8888888888888888,
              "#fdca26"
             ],
             [
              1,
              "#f0f921"
             ]
            ],
            "type": "heatmapgl"
           }
          ],
          "histogram": [
           {
            "marker": {
             "colorbar": {
              "outlinewidth": 0,
              "ticks": ""
             }
            },
            "type": "histogram"
           }
          ],
          "histogram2d": [
           {
            "colorbar": {
             "outlinewidth": 0,
             "ticks": ""
            },
            "colorscale": [
             [
              0,
              "#0d0887"
             ],
             [
              0.1111111111111111,
              "#46039f"
             ],
             [
              0.2222222222222222,
              "#7201a8"
             ],
             [
              0.3333333333333333,
              "#9c179e"
             ],
             [
              0.4444444444444444,
              "#bd3786"
             ],
             [
              0.5555555555555556,
              "#d8576b"
             ],
             [
              0.6666666666666666,
              "#ed7953"
             ],
             [
              0.7777777777777778,
              "#fb9f3a"
             ],
             [
              0.8888888888888888,
              "#fdca26"
             ],
             [
              1,
              "#f0f921"
             ]
            ],
            "type": "histogram2d"
           }
          ],
          "histogram2dcontour": [
           {
            "colorbar": {
             "outlinewidth": 0,
             "ticks": ""
            },
            "colorscale": [
             [
              0,
              "#0d0887"
             ],
             [
              0.1111111111111111,
              "#46039f"
             ],
             [
              0.2222222222222222,
              "#7201a8"
             ],
             [
              0.3333333333333333,
              "#9c179e"
             ],
             [
              0.4444444444444444,
              "#bd3786"
             ],
             [
              0.5555555555555556,
              "#d8576b"
             ],
             [
              0.6666666666666666,
              "#ed7953"
             ],
             [
              0.7777777777777778,
              "#fb9f3a"
             ],
             [
              0.8888888888888888,
              "#fdca26"
             ],
             [
              1,
              "#f0f921"
             ]
            ],
            "type": "histogram2dcontour"
           }
          ],
          "mesh3d": [
           {
            "colorbar": {
             "outlinewidth": 0,
             "ticks": ""
            },
            "type": "mesh3d"
           }
          ],
          "parcoords": [
           {
            "line": {
             "colorbar": {
              "outlinewidth": 0,
              "ticks": ""
             }
            },
            "type": "parcoords"
           }
          ],
          "scatter": [
           {
            "marker": {
             "colorbar": {
              "outlinewidth": 0,
              "ticks": ""
             }
            },
            "type": "scatter"
           }
          ],
          "scatter3d": [
           {
            "line": {
             "colorbar": {
              "outlinewidth": 0,
              "ticks": ""
             }
            },
            "marker": {
             "colorbar": {
              "outlinewidth": 0,
              "ticks": ""
             }
            },
            "type": "scatter3d"
           }
          ],
          "scattercarpet": [
           {
            "marker": {
             "colorbar": {
              "outlinewidth": 0,
              "ticks": ""
             }
            },
            "type": "scattercarpet"
           }
          ],
          "scattergeo": [
           {
            "marker": {
             "colorbar": {
              "outlinewidth": 0,
              "ticks": ""
             }
            },
            "type": "scattergeo"
           }
          ],
          "scattergl": [
           {
            "marker": {
             "colorbar": {
              "outlinewidth": 0,
              "ticks": ""
             }
            },
            "type": "scattergl"
           }
          ],
          "scattermapbox": [
           {
            "marker": {
             "colorbar": {
              "outlinewidth": 0,
              "ticks": ""
             }
            },
            "type": "scattermapbox"
           }
          ],
          "scatterpolar": [
           {
            "marker": {
             "colorbar": {
              "outlinewidth": 0,
              "ticks": ""
             }
            },
            "type": "scatterpolar"
           }
          ],
          "scatterpolargl": [
           {
            "marker": {
             "colorbar": {
              "outlinewidth": 0,
              "ticks": ""
             }
            },
            "type": "scatterpolargl"
           }
          ],
          "scatterternary": [
           {
            "marker": {
             "colorbar": {
              "outlinewidth": 0,
              "ticks": ""
             }
            },
            "type": "scatterternary"
           }
          ],
          "surface": [
           {
            "colorbar": {
             "outlinewidth": 0,
             "ticks": ""
            },
            "colorscale": [
             [
              0,
              "#0d0887"
             ],
             [
              0.1111111111111111,
              "#46039f"
             ],
             [
              0.2222222222222222,
              "#7201a8"
             ],
             [
              0.3333333333333333,
              "#9c179e"
             ],
             [
              0.4444444444444444,
              "#bd3786"
             ],
             [
              0.5555555555555556,
              "#d8576b"
             ],
             [
              0.6666666666666666,
              "#ed7953"
             ],
             [
              0.7777777777777778,
              "#fb9f3a"
             ],
             [
              0.8888888888888888,
              "#fdca26"
             ],
             [
              1,
              "#f0f921"
             ]
            ],
            "type": "surface"
           }
          ],
          "table": [
           {
            "cells": {
             "fill": {
              "color": "#EBF0F8"
             },
             "line": {
              "color": "white"
             }
            },
            "header": {
             "fill": {
              "color": "#C8D4E3"
             },
             "line": {
              "color": "white"
             }
            },
            "type": "table"
           }
          ]
         },
         "layout": {
          "annotationdefaults": {
           "arrowcolor": "#2a3f5f",
           "arrowhead": 0,
           "arrowwidth": 1
          },
          "colorscale": {
           "diverging": [
            [
             0,
             "#8e0152"
            ],
            [
             0.1,
             "#c51b7d"
            ],
            [
             0.2,
             "#de77ae"
            ],
            [
             0.3,
             "#f1b6da"
            ],
            [
             0.4,
             "#fde0ef"
            ],
            [
             0.5,
             "#f7f7f7"
            ],
            [
             0.6,
             "#e6f5d0"
            ],
            [
             0.7,
             "#b8e186"
            ],
            [
             0.8,
             "#7fbc41"
            ],
            [
             0.9,
             "#4d9221"
            ],
            [
             1,
             "#276419"
            ]
           ],
           "sequential": [
            [
             0,
             "#0d0887"
            ],
            [
             0.1111111111111111,
             "#46039f"
            ],
            [
             0.2222222222222222,
             "#7201a8"
            ],
            [
             0.3333333333333333,
             "#9c179e"
            ],
            [
             0.4444444444444444,
             "#bd3786"
            ],
            [
             0.5555555555555556,
             "#d8576b"
            ],
            [
             0.6666666666666666,
             "#ed7953"
            ],
            [
             0.7777777777777778,
             "#fb9f3a"
            ],
            [
             0.8888888888888888,
             "#fdca26"
            ],
            [
             1,
             "#f0f921"
            ]
           ],
           "sequentialminus": [
            [
             0,
             "#0d0887"
            ],
            [
             0.1111111111111111,
             "#46039f"
            ],
            [
             0.2222222222222222,
             "#7201a8"
            ],
            [
             0.3333333333333333,
             "#9c179e"
            ],
            [
             0.4444444444444444,
             "#bd3786"
            ],
            [
             0.5555555555555556,
             "#d8576b"
            ],
            [
             0.6666666666666666,
             "#ed7953"
            ],
            [
             0.7777777777777778,
             "#fb9f3a"
            ],
            [
             0.8888888888888888,
             "#fdca26"
            ],
            [
             1,
             "#f0f921"
            ]
           ]
          },
          "colorway": [
           "#636efa",
           "#EF553B",
           "#00cc96",
           "#ab63fa",
           "#FFA15A",
           "#19d3f3",
           "#FF6692",
           "#B6E880",
           "#FF97FF",
           "#FECB52"
          ],
          "font": {
           "color": "#2a3f5f"
          },
          "geo": {
           "bgcolor": "white",
           "lakecolor": "white",
           "landcolor": "#E5ECF6",
           "showlakes": true,
           "showland": true,
           "subunitcolor": "white"
          },
          "hoverlabel": {
           "align": "left"
          },
          "hovermode": "closest",
          "mapbox": {
           "style": "light"
          },
          "paper_bgcolor": "white",
          "plot_bgcolor": "#E5ECF6",
          "polar": {
           "angularaxis": {
            "gridcolor": "white",
            "linecolor": "white",
            "ticks": ""
           },
           "bgcolor": "#E5ECF6",
           "radialaxis": {
            "gridcolor": "white",
            "linecolor": "white",
            "ticks": ""
           }
          },
          "scene": {
           "xaxis": {
            "backgroundcolor": "#E5ECF6",
            "gridcolor": "white",
            "gridwidth": 2,
            "linecolor": "white",
            "showbackground": true,
            "ticks": "",
            "zerolinecolor": "white"
           },
           "yaxis": {
            "backgroundcolor": "#E5ECF6",
            "gridcolor": "white",
            "gridwidth": 2,
            "linecolor": "white",
            "showbackground": true,
            "ticks": "",
            "zerolinecolor": "white"
           },
           "zaxis": {
            "backgroundcolor": "#E5ECF6",
            "gridcolor": "white",
            "gridwidth": 2,
            "linecolor": "white",
            "showbackground": true,
            "ticks": "",
            "zerolinecolor": "white"
           }
          },
          "shapedefaults": {
           "line": {
            "color": "#2a3f5f"
           }
          },
          "ternary": {
           "aaxis": {
            "gridcolor": "white",
            "linecolor": "white",
            "ticks": ""
           },
           "baxis": {
            "gridcolor": "white",
            "linecolor": "white",
            "ticks": ""
           },
           "bgcolor": "#E5ECF6",
           "caxis": {
            "gridcolor": "white",
            "linecolor": "white",
            "ticks": ""
           }
          },
          "title": {
           "x": 0.05
          },
          "xaxis": {
           "automargin": true,
           "gridcolor": "white",
           "linecolor": "white",
           "ticks": "",
           "zerolinecolor": "white",
           "zerolinewidth": 2
          },
          "yaxis": {
           "automargin": true,
           "gridcolor": "white",
           "linecolor": "white",
           "ticks": "",
           "zerolinecolor": "white",
           "zerolinewidth": 2
          }
         }
        }
       }
      },
      "text/html": [
       "<div>\n",
       "        \n",
       "        \n",
       "            <div id=\"c3f4e356-6acb-4adb-8db0-786af1d15f1d\" class=\"plotly-graph-div\" style=\"height:600px; width:100%;\"></div>\n",
       "            <script type=\"text/javascript\">\n",
       "                require([\"plotly\"], function(Plotly) {\n",
       "                    window.PLOTLYENV=window.PLOTLYENV || {};\n",
       "                    \n",
       "                if (document.getElementById(\"c3f4e356-6acb-4adb-8db0-786af1d15f1d\")) {\n",
       "                    Plotly.newPlot(\n",
       "                        'c3f4e356-6acb-4adb-8db0-786af1d15f1d',\n",
       "                        [{\"hoverlabel\": {\"namelength\": 0}, \"hovertemplate\": \"ori_fee=%{x}<br>distance_to_customer_KM=%{y}<br>timeofday=%{z}<br>weekend=%{marker.color}\", \"legendgroup\": \"\", \"marker\": {\"color\": [0, 0, 0, 0, 0, 0, 0, 0, 0, 0, 0, 0, 0, 0, 0, 0, 0, 1, 1, 0, 0, 0, 0, 0, 0, 1, 0, 0, 0, 0, 0, 0, 0, 0, 0, 0, 1, 0, 1, 0, 0, 0, 0, 0, 0, 0, 0, 0, 1, 0, 1, 0, 1, 0, 0, 0, 0, 0, 1, 1, 0, 0, 0, 0, 0, 0, 0, 0, 0, 0, 0, 0, 0, 1, 0, 1, 0, 1, 0, 0, 0, 0, 0, 1, 0, 1, 0, 0, 1, 0, 0, 0, 0, 0, 0, 1, 0, 1, 0, 0, 0, 1, 1, 1, 1, 0, 0, 1, 1, 0, 1, 0, 1, 0, 0, 0, 0, 0, 0, 0, 0, 1, 1, 0, 1, 0, 0, 1, 0, 0, 1, 0, 1, 0, 0, 0, 0, 0, 0, 0, 1, 1, 1, 0, 0, 0, 0, 1, 0, 0, 0, 0, 1, 0, 0, 0, 1, 0, 0, 0, 0, 0, 0, 1, 0, 0, 1, 0, 0, 0, 0, 0, 0, 0, 1, 0, 1, 0, 0, 0, 1, 1, 1, 0, 0, 0, 1, 0, 1, 0, 0, 0, 1, 0, 0, 0, 1, 0, 1, 0, 1, 1, 1, 0, 0, 0, 0, 0, 0, 0, 0, 1, 0, 0, 0, 0, 0, 0, 0, 0, 0, 0, 0, 0, 0, 0, 0, 1, 1, 0, 0, 0, 0, 1, 1, 1, 1, 1, 1, 0, 1, 0, 0, 1, 1, 0, 0, 0, 0, 0, 0, 0, 0, 0, 0, 0, 1, 0, 0, 0, 0, 0, 0, 1, 0, 1, 1, 0, 0, 0, 1, 1, 0, 0, 0, 0, 1, 0, 0, 0, 0, 0, 0, 0, 0, 0, 0, 0, 0, 0, 0, 0, 0, 0, 1, 0, 0, 1, 1, 0, 0, 0, 1, 0, 0, 0, 1, 0, 1, 0, 0, 0, 1, 1, 0, 1, 0, 1, 1, 0, 0, 0, 0, 0, 0, 0, 0, 1, 0, 1, 1, 0, 0, 0, 1, 0, 0, 0, 1, 0, 0, 1, 1, 0, 0, 1, 0, 0, 0, 0, 0, 1, 0, 1, 1, 1, 1, 0, 1, 0, 1, 1, 0, 1, 0, 1, 0, 0, 0, 0, 0, 0, 0, 1, 1, 0, 1, 0, 0, 0, 1, 0, 0, 0, 0, 0, 0, 0, 0, 0, 0, 0, 1, 0, 0, 1, 0, 0, 1, 0, 0, 0, 0, 0, 1, 0, 0, 1, 1, 0, 1, 0, 0, 0, 0, 1, 0, 0, 0, 0, 1, 0, 0, 0, 0, 0, 0, 0, 0, 0, 0, 1, 0, 1, 0, 1, 0, 0, 0, 0, 0, 1, 1, 0, 1, 0, 0, 0, 0, 0, 0, 0, 1, 0, 0, 0, 1, 0, 1, 0, 0, 0, 1, 1, 0, 0, 0, 1, 0, 1, 0, 1, 0, 0, 1, 0, 0, 0, 1, 0, 0, 0, 1, 0, 1, 0, 0, 1, 1, 1, 0, 1, 0, 0, 1, 0, 0, 0, 0, 0], \"coloraxis\": \"coloraxis\", \"symbol\": \"circle\"}, \"mode\": \"markers\", \"name\": \"\", \"scene\": \"scene\", \"showlegend\": false, \"type\": \"scatter3d\", \"x\": [13.3829212, 13.6128478, 11.8434992, 5.2415807999999995, 12.7622707, 22.19590275, 12.1365496, 15.3376339, 12.5559294, 16.9732533, 11.4761979, 11.7239562, 7.9453195999999995, 10.939041699999999, 13.177599800000003, 16.4156635, 12.1932203, 15.9920517, 22.04310435, 7.2736348, 13.3657019, 14.550549499999999, 11.7512937, 12.8363311, 13.825757300000001, 7.01281905, 15.3978265, 12.232291, 14.508351500000002, 10.135926199999998, 13.797630400000001, 13.373862400000002, 13.3350358, 12.367599, 12.12123, 14.8068796, 14.815224300000002, 17.8441694, 15.0390698, 11.784976499999999, 13.7635452, 11.1191834, 12.001394900000001, 14.234059099999998, 14.1935378, 9.791186999999999, 11.8992165, 13.7506888, 15.4007135, 15.599225400000002, 15.999425500000001, 13.7377872, 15.829386300000001, 13.9427646, 14.9451438, 11.741509800000001, 13.688482800000001, 14.411714800000002, 14.440490099999998, 18.3701091, 10.1023008, 13.0468735, 11.766273199999999, 14.8186707, 14.3088362, 14.934942600000001, 15.1214047, 13.2602195, 13.356034699999999, 11.7512988, 13.242806900000001, 15.724924, 15.870891, 16.4380413, 11.954946099999999, 14.310236199999999, 17.2694876, 13.5018628, 5.54390835, 10.7343368, 13.735370999999999, 13.2758769, 10.6165948, 14.6565086, 12.7704058, 17.8973579, 16.742214800000003, 14.296621700000001, 16.0204516, 18.8534507, 18.4504818, 12.398656800000001, 13.638224300000001, 12.4771872, 14.192556699999997, 8.395285099999999, 12.2858414, 14.5624532, 14.313638699999998, 13.0165799, 6.67952205, 14.5723796, 14.765816500000001, 15.436539999999999, 12.650010499999999, 12.6916461, 15.5747701, 17.4658076, 13.807573800000002, 14.533342000000001, 16.1433342, 11.6891718, 16.539788899999998, 6.532527, 16.631131699999997, 14.9291625, 14.6685924, 13.582027199999999, 13.3088965, 11.001988800000001, 14.5208438, 12.2571929, 15.554651199999999, 12.391176699999999, 17.856531600000004, 16.1660444, 13.543985699999999, 27.59992665, 15.107839300000002, 15.0308951, 14.6426506, 13.942121799999999, 15.3327334, 14.125979999999998, 15.924004, 14.309378400000002, 7.780412400000001, 16.5711584, 13.7688291, 14.6534934, 15.587980199999999, 16.963694399999998, 14.302903699999998, 12.9385391, 13.4036792, 12.1619539, 7.823961200000001, 13.0501076, 15.0490807, 14.3035831, 13.8564024, 14.696462099999998, 12.5858451, 11.5072658, 15.557047400000002, 16.736727300000002, 15.8512259, 15.5818293, 14.809968900000001, 14.328652800000002, 21.5029257, 12.3837756, 13.7582536, 15.158795199999998, 13.548204, 13.902070000000002, 14.1912388, 11.7857685, 13.661591699999999, 12.726047099999999, 12.69318, 14.2992749, 11.9505716, 11.8156761, 18.522418, 11.3368732, 14.173672, 14.834370999999999, 13.7897934, 13.787383499999999, 15.678965300000002, 13.1856128, 15.697374100000001, 16.6589729, 14.278093799999999, 14.5373457, 15.153016699999998, 12.535262800000002, 13.800534400000002, 12.801283900000001, 12.910582199999999, 13.342659699999999, 16.649552, 13.021181599999998, 13.303035699999999, 12.5190282, 12.9541909, 22.253514600000006, 12.919968199999998, 22.6992078, 16.8690983, 14.329879199999999, 14.0138434, 12.9676799, 13.1393294, 24.84593265, 13.268483699999999, 14.174726199999998, 15.1484565, 15.824687699999998, 12.2975497, 17.287619699999997, 15.690992800000002, 15.054964800000002, 15.377913500000002, 13.450217499999999, 11.6646773, 19.135863, 14.049760800000001, 11.759433999999999, 11.9262666, 14.187400199999997, 15.005673999999999, 13.352374800000002, 18.4440108, 15.0121538, 13.5495999, 9.323770800000002, 11.5617969, 14.892288399999998, 12.2717551, 13.140889199999998, 15.662800899999999, 17.7641365, 8.2179728, 17.837387200000002, 15.8800438, 13.4836255, 14.1006456, 14.864399300000002, 19.548247500000002, 23.9164212, 12.660862199999999, 13.014140600000001, 11.151440800000001, 13.607362099999998, 10.221661099999999, 17.9415738, 12.214285, 14.965385399999999, 14.5046666, 13.2981165, 15.263700699999998, 10.8950272, 13.094303199999999, 14.327975199999997, 13.04772, 13.585313500000002, 10.2310605, 16.537142499999998, 13.081173199999999, 14.426928899999998, 16.0172503, 17.1374532, 11.4240745, 21.26079165, 14.2658839, 14.264677599999999, 14.602923800000001, 15.852412699999999, 13.886336499999999, 17.0784291, 15.347295800000001, 14.221418900000002, 7.3414399, 13.6684156, 15.634766800000001, 12.943258, 13.298460999999998, 11.7297801, 11.7204982, 6.37313205, 14.9751541, 12.6121407, 5.9213169, 12.0013972, 13.624807500000001, 13.111209299999999, 17.097337399999997, 13.4503609, 16.0851781, 16.988332500000002, 13.5025707, 15.948264100000001, 12.313216699999998, 13.762417000000001, 13.4279053, 14.297591199999998, 15.6588085, 13.119821100000001, 11.7431524, 12.0209138, 6.44377735, 25.067951100000002, 11.5084606, 11.026518800000002, 17.2794336, 16.0090982, 12.0430028, 10.9439296, 14.874704099999999, 13.0676496, 15.256019699999998, 20.6574897, 13.107295, 15.133043599999999, 14.184144400000001, 13.9387261, 17.728509, 15.9802971, 15.353214600000001, 16.3534078, 15.512384599999999, 14.454688399999998, 14.2117105, 11.690649800000001, 18.104115300000004, 15.8273682, 9.5332924, 25.932741600000004, 14.4486358, 15.676387599999998, 11.766492900000001, 15.9949934, 15.086609699999999, 15.096472899999998, 14.0425264, 21.503277899999997, 13.694894699999999, 13.7463045, 15.7408177, 8.00687065, 13.151028, 13.4187802, 5.8925247, 14.103756400000002, 13.996189900000001, 13.9402546, 13.9884856, 13.305969199999998, 16.499546, 14.1471661, 12.625709, 21.177262600000002, 15.7456048, 14.441704399999999, 25.0058742, 15.803824300000002, 19.90635945, 12.0826966, 13.899589800000001, 17.722513, 17.4543362, 19.2197747, 15.741174800000001, 14.997550599999999, 11.052381599999999, 16.7802439, 15.727621300000001, 13.4964769, 13.6292446, 13.540787699999997, 13.955963500000001, 18.2044082, 13.839966800000001, 12.8164752, 17.6149728, 14.5690551, 11.955473199999998, 13.032825, 16.6762229, 15.6397513, 14.589986600000001, 8.0294304, 15.254411300000001, 11.3767686, 14.755277599999998, 12.6724709, 12.2260162, 15.257276300000001, 12.1606663, 15.576737300000001, 14.603443300000002, 13.1391595, 12.263373699999999, 15.1753114, 13.4280193, 14.2069894, 12.305914900000001, 11.5537439, 16.0612059, 14.176258800000001, 13.613895699999999, 16.1001509, 13.845414800000002, 16.1426203, 12.22712, 14.9701454, 18.2805318, 10.2936181, 17.668398999999997, 13.6499833, 12.754108500000001, 15.4475419, 16.386646300000002, 15.812177199999999, 15.264419400000001, 14.2277348, 12.774604400000001, 15.0714171, 16.6846544, 12.163318400000001, 14.304585699999999, 12.729816099999999, 14.834251, 14.0739154, 16.0102734, 13.256159699999998, 12.7405782, 12.499341000000001, 13.774156099999999, 15.145408499999998, 12.2521964, 14.2710405, 12.497255699999998, 16.728292, 12.965087800000001, 15.0783652, 13.3749467, 21.6893922, 11.1133594, 17.967447600000003, 19.5251871, 6.6072451, 17.321263000000002, 16.721591699999998, 11.925264, 12.6840588, 14.094990099999999, 13.9708135, 12.7547617, 15.553061600000001, 13.5288334, 12.393440199999999, 12.7705629, 13.8768782, 14.0851919, 11.8607709, 18.0641493, 15.589206200000001, 12.590632800000002, 19.509978, 15.524271100000002, 12.9925319, 13.6875443, 15.952727800000002, 12.445625300000001, 15.5116672, 14.8664035, 11.744288099999999, 14.1673609, 17.334838100000002, 12.1208864, 15.9455829, 15.579765300000002, 12.8467272, 13.333084, 13.0606534, 14.9612845, 16.3406795, 12.093205699999999, 11.456622300000001, 16.6553571, 15.983579500000001, 20.5371077, 11.759667, 13.099184, 14.181975699999999, 15.6669842, 13.8520804, 17.1957304, 15.909596599999999, 12.5160872, 12.961718199999998, 18.251046399999996, 13.1158788, 12.9477853, 13.7301294, 11.7397686, 5.2426603], \"y\": [10.377, 9.692, 7.812, 7.524, 7.909, 9.19, 6.683, 9.385, 7.829, 10.624, 6.39, 9.181, 10.266, 7.948, 9.698, 9.374, 8.299, 7.308, 10.235, 9.37, 9.905, 8.515, 8.823, 7.283, 7.027, 5.692, 12.205, 7.491, 8.597, 4.918, 8.467, 9.457, 11.101, 7.12, 6.65, 9.322, 9.523, 11.826, 10.661, 6.721, 9.105, 9.095, 7.767, 6.82, 8.911, 5.24, 7.494, 7.762, 9.73, 10.161, 7.482, 8.762, 7.896, 8.51, 9.841, 7.418, 8.319, 8.876, 7.192, 9.124, 4.648, 6.972, 6.947, 10.102, 8.666, 8.52, 12.012, 8.054, 6.511, 7.582, 10.806, 9.109, 9.108, 9.326, 9.277, 9.048, 9.811, 5.732, 6.818, 4.386, 7.843, 11.311, 5.631, 7.187, 6.273, 10.507, 10.545, 10.243, 11.124, 13.013, 9.183, 7.556, 11.285, 7.626, 7.139, 9.005, 5.737, 10.746, 8.95, 8.828, 9.879, 6.733, 10.529, 8.143, 8.877, 8.331, 9.962, 9.549, 9.66, 9.436, 6.764, 9.321, 8.777, 7.556, 10.146, 9.293, 8.828, 9.669, 9.946, 8.397, 9.919, 4.354, 10.177, 7.236, 7.711, 10.482, 9.109, 9.733, 8.91, 8.862, 7.323, 8.447, 8.65, 8.435, 9.146, 8.978, 9.821, 9.479, 7.66, 8.872, 6.226, 8.571, 9.637, 7.035, 10.013, 9.398, 10.641, 9.073, 12.093, 8.252, 9.674, 8.534, 8.166, 6.379, 9.968, 9.888, 7.31, 10.198, 8.632, 9.048, 8.592, 9.016, 6.759, 7.935, 8.458, 7.469, 10.297, 9.011, 10.814, 7.368, 9.228, 9.786, 7.11, 9.28, 10.105, 6.314, 9.838, 8.345, 8.253, 8.77, 10.027, 8.669, 8.441, 9.223, 8.44, 9.081, 9.471, 10.792, 6.612, 7.39, 9.856, 10.229, 7.993, 6.904, 9.562, 8.16, 9.693, 8.833, 8.49, 11.163, 7.62, 7.254, 6.849, 8.116, 7.645, 9.832, 8.95, 9.235, 9.157, 10.591, 7.119, 8.527, 9.721, 9.16, 11.805, 7.781, 9.177, 7.953, 6.779, 5.573, 9.057, 12.127, 9.182, 8.41, 11.047, 7.783, 9.243, 9.923, 4.059, 8.713, 5.801, 8.294, 10.243, 10.119, 6.84, 10.164, 8.294, 9.369, 6.524, 8.465, 11.072, 13.217, 5.939, 7.667, 3.781, 7.628, 7.773, 6.925, 8.051, 9.054, 9.433, 10.805, 8.125, 5.731, 10.691, 8.436, 8.504, 8.551, 4.615, 10.774, 7.82, 8.559, 9.936, 8.894, 6.838, 10.065, 9.469, 8.433, 7.649, 10.367, 9.58, 8.435, 9.862, 9.039, 9.025, 8.735, 8.384, 9.115, 8.058, 6.785, 8.185, 7.655, 9.274, 7.832, 6.287, 7.277, 10.175, 7.647, 11.766, 7.662, 10.666, 11.37, 7.92, 10.404, 7.925, 9.987, 10.693, 7.346, 10.062, 8.629, 7.082, 9.452, 6.226, 9.568, 9.201, 8.412, 9.975, 8.934, 7.932, 5.956, 7.954, 9.033, 8.487, 11.321, 8.38, 7.602, 8.896, 8.531, 10.138, 11.554, 9.225, 10.856, 10.226, 7.296, 9.135, 7.557, 11.753, 8.101, 3.986, 7.675, 6.829, 9.587, 7.072, 10.328, 7.693, 9.579, 8.457, 8.958, 9.602, 8.487, 8.838, 7.982, 9.082, 9.605, 9.181, 7.205, 8.64, 11.937, 9.83, 7.767, 11.083, 7.548, 7.686, 12.282, 10.451, 9.301, 8.816, 10.008, 8.707, 8.477, 6.216, 10.092, 10.19, 9.395, 8.868, 7.54, 4.737, 9.251, 10.382, 8.081, 9.445, 8.338, 8.302, 10.38, 8.004, 7.38, 9.23, 7.174, 7.739, 9.93, 8.292, 11.951, 8.546, 3.653, 8.104, 9.08, 8.842, 8.367, 7.317, 9.682, 7.958, 9.947, 10.443, 7.417, 6.997, 9.669, 8.355, 10.99, 7.94, 6.339, 10.536, 9.874, 8.612, 9.991, 8.019, 10.711, 5.64, 10.308, 8.144, 4.857, 12.545, 9.066, 6.977, 9.7, 11.049, 8.236, 9.387, 11.294, 11.385, 9.305, 9.346, 9.216, 7.628, 7.527, 8.83, 8.429, 8.868, 9.024, 7.793, 7.955, 8.241, 7.857, 7.324, 6.945, 9.012, 11.606, 8.085, 9.434, 7.649, 11.813, 6.187, 10.039, 10.585, 11.025, 10.28, 10.372, 6.969, 7.027, 9.202, 8.636, 7.019, 8.761, 8.848, 7.223, 7.976, 7.253, 6.729, 6.528, 10.096, 11.488, 9.089, 11.131, 7.334, 8.38, 7.761, 9.778, 9.654, 8.923, 10.887, 7.904, 7.537, 7.702, 6.964, 9.983, 10.079, 6.617, 10.9, 6.343, 7.755, 9.274, 7.609, 6.339, 9.87, 10.361, 12.274, 6.823, 7.49, 7.207, 9.012, 7.622, 9.878, 7.497, 8.38, 9.515, 9.968, 8.396, 7.418, 11.162, 8.428, 5.604], \"z\": [0, 2, 2, 0, 0, 1, 1, 1, 0, 2, 0, 0, 1, 1, 2, 2, 1, 1, 1, 1, 1, 2, 0, 1, 2, 1, 2, 0, 2, 1, 0, 2, 0, 1, 1, 0, 1, 2, 0, 0, 0, 0, 2, 2, 1, 0, 0, 1, 2, 0, 1, 0, 1, 1, 0, 2, 0, 1, 0, 2, 1, 2, 0, 0, 1, 1, 2, 0, 2, 2, 0, 2, 2, 0, 1, 1, 2, 1, 0, 2, 1, 0, 0, 0, 2, 2, 1, 2, 1, 1, 0, 0, 1, 1, 2, 2, 2, 0, 0, 2, 1, 2, 0, 1, 0, 2, 2, 1, 0, 1, 2, 0, 0, 1, 1, 2, 2, 2, 1, 0, 0, 1, 2, 0, 0, 2, 2, 1, 2, 2, 1, 1, 0, 1, 2, 0, 2, 2, 2, 2, 2, 1, 1, 1, 1, 0, 0, 0, 1, 1, 2, 2, 0, 0, 2, 2, 1, 1, 2, 1, 2, 1, 2, 0, 1, 2, 0, 0, 1, 1, 1, 2, 0, 0, 1, 1, 0, 2, 1, 1, 2, 0, 0, 2, 2, 1, 2, 0, 1, 0, 1, 1, 1, 1, 2, 2, 0, 2, 0, 2, 2, 0, 0, 0, 1, 2, 2, 0, 1, 0, 0, 1, 2, 2, 2, 0, 0, 2, 2, 1, 0, 0, 2, 0, 2, 2, 2, 1, 0, 1, 2, 0, 1, 1, 2, 2, 0, 0, 0, 1, 1, 1, 2, 0, 0, 2, 0, 1, 2, 2, 0, 0, 2, 0, 0, 2, 1, 0, 1, 2, 1, 1, 1, 2, 0, 0, 1, 2, 1, 1, 0, 1, 1, 0, 2, 0, 1, 1, 1, 0, 1, 0, 1, 0, 1, 0, 1, 1, 2, 2, 1, 1, 1, 1, 0, 2, 1, 0, 2, 2, 0, 0, 0, 2, 0, 0, 0, 2, 0, 0, 2, 2, 0, 2, 2, 2, 0, 2, 0, 2, 1, 1, 0, 2, 0, 2, 1, 2, 1, 2, 0, 1, 0, 1, 1, 1, 0, 2, 0, 1, 2, 1, 0, 2, 0, 0, 2, 0, 0, 1, 1, 0, 0, 1, 2, 2, 1, 1, 0, 1, 2, 0, 2, 2, 2, 0, 1, 2, 1, 1, 2, 1, 1, 2, 2, 1, 2, 2, 0, 1, 1, 2, 2, 0, 2, 0, 1, 2, 0, 1, 2, 1, 1, 1, 0, 2, 1, 1, 0, 0, 1, 2, 0, 2, 2, 0, 2, 1, 2, 1, 2, 2, 2, 2, 0, 0, 1, 1, 0, 1, 0, 0, 2, 0, 1, 1, 2, 2, 0, 0, 0, 0, 0, 1, 1, 2, 0, 2, 1, 0, 0, 2, 1, 0, 0, 2, 0, 1, 0, 1, 1, 2, 1, 1, 0, 2, 0, 0, 2, 2, 1, 0, 1, 0, 1, 2, 0, 0, 2, 0, 2, 2, 0, 2, 2, 1, 0, 2, 0, 2, 0, 0, 0, 0, 1, 0, 1, 0, 0, 0, 2, 1, 2, 1, 2, 2, 1, 0, 1, 0]}],\n",
       "                        {\"coloraxis\": {\"colorbar\": {\"title\": {\"text\": \"weekend\"}}, \"colorscale\": [[0.0, \"#0d0887\"], [0.1111111111111111, \"#46039f\"], [0.2222222222222222, \"#7201a8\"], [0.3333333333333333, \"#9c179e\"], [0.4444444444444444, \"#bd3786\"], [0.5555555555555556, \"#d8576b\"], [0.6666666666666666, \"#ed7953\"], [0.7777777777777778, \"#fb9f3a\"], [0.8888888888888888, \"#fdca26\"], [1.0, \"#f0f921\"]]}, \"height\": 600, \"legend\": {\"tracegroupgap\": 0}, \"margin\": {\"t\": 60}, \"scene\": {\"domain\": {\"x\": [0.0, 0.98], \"y\": [0.0, 1.0]}, \"xaxis\": {\"title\": {\"text\": \"ori_fee\"}}, \"yaxis\": {\"title\": {\"text\": \"distance_to_customer_KM\"}}, \"zaxis\": {\"title\": {\"text\": \"timeofday\"}}}, \"template\": {\"data\": {\"bar\": [{\"error_x\": {\"color\": \"#2a3f5f\"}, \"error_y\": {\"color\": \"#2a3f5f\"}, \"marker\": {\"line\": {\"color\": \"#E5ECF6\", \"width\": 0.5}}, \"type\": \"bar\"}], \"barpolar\": [{\"marker\": {\"line\": {\"color\": \"#E5ECF6\", \"width\": 0.5}}, \"type\": \"barpolar\"}], \"carpet\": [{\"aaxis\": {\"endlinecolor\": \"#2a3f5f\", \"gridcolor\": \"white\", \"linecolor\": \"white\", \"minorgridcolor\": \"white\", \"startlinecolor\": \"#2a3f5f\"}, \"baxis\": {\"endlinecolor\": \"#2a3f5f\", \"gridcolor\": \"white\", \"linecolor\": \"white\", \"minorgridcolor\": \"white\", \"startlinecolor\": \"#2a3f5f\"}, \"type\": \"carpet\"}], \"choropleth\": [{\"colorbar\": {\"outlinewidth\": 0, \"ticks\": \"\"}, \"type\": \"choropleth\"}], \"contour\": [{\"colorbar\": {\"outlinewidth\": 0, \"ticks\": \"\"}, \"colorscale\": [[0.0, \"#0d0887\"], [0.1111111111111111, \"#46039f\"], [0.2222222222222222, \"#7201a8\"], [0.3333333333333333, \"#9c179e\"], [0.4444444444444444, \"#bd3786\"], [0.5555555555555556, \"#d8576b\"], [0.6666666666666666, \"#ed7953\"], [0.7777777777777778, \"#fb9f3a\"], [0.8888888888888888, \"#fdca26\"], [1.0, \"#f0f921\"]], \"type\": \"contour\"}], \"contourcarpet\": [{\"colorbar\": {\"outlinewidth\": 0, \"ticks\": \"\"}, \"type\": \"contourcarpet\"}], \"heatmap\": [{\"colorbar\": {\"outlinewidth\": 0, \"ticks\": \"\"}, \"colorscale\": [[0.0, \"#0d0887\"], [0.1111111111111111, \"#46039f\"], [0.2222222222222222, \"#7201a8\"], [0.3333333333333333, \"#9c179e\"], [0.4444444444444444, \"#bd3786\"], [0.5555555555555556, \"#d8576b\"], [0.6666666666666666, \"#ed7953\"], [0.7777777777777778, \"#fb9f3a\"], [0.8888888888888888, \"#fdca26\"], [1.0, \"#f0f921\"]], \"type\": \"heatmap\"}], \"heatmapgl\": [{\"colorbar\": {\"outlinewidth\": 0, \"ticks\": \"\"}, \"colorscale\": [[0.0, \"#0d0887\"], [0.1111111111111111, \"#46039f\"], [0.2222222222222222, \"#7201a8\"], [0.3333333333333333, \"#9c179e\"], [0.4444444444444444, \"#bd3786\"], [0.5555555555555556, \"#d8576b\"], [0.6666666666666666, \"#ed7953\"], [0.7777777777777778, \"#fb9f3a\"], [0.8888888888888888, \"#fdca26\"], [1.0, \"#f0f921\"]], \"type\": \"heatmapgl\"}], \"histogram\": [{\"marker\": {\"colorbar\": {\"outlinewidth\": 0, \"ticks\": \"\"}}, \"type\": \"histogram\"}], \"histogram2d\": [{\"colorbar\": {\"outlinewidth\": 0, \"ticks\": \"\"}, \"colorscale\": [[0.0, \"#0d0887\"], [0.1111111111111111, \"#46039f\"], [0.2222222222222222, \"#7201a8\"], [0.3333333333333333, \"#9c179e\"], [0.4444444444444444, \"#bd3786\"], [0.5555555555555556, \"#d8576b\"], [0.6666666666666666, \"#ed7953\"], [0.7777777777777778, \"#fb9f3a\"], [0.8888888888888888, \"#fdca26\"], [1.0, \"#f0f921\"]], \"type\": \"histogram2d\"}], \"histogram2dcontour\": [{\"colorbar\": {\"outlinewidth\": 0, \"ticks\": \"\"}, \"colorscale\": [[0.0, \"#0d0887\"], [0.1111111111111111, \"#46039f\"], [0.2222222222222222, \"#7201a8\"], [0.3333333333333333, \"#9c179e\"], [0.4444444444444444, \"#bd3786\"], [0.5555555555555556, \"#d8576b\"], [0.6666666666666666, \"#ed7953\"], [0.7777777777777778, \"#fb9f3a\"], [0.8888888888888888, \"#fdca26\"], [1.0, \"#f0f921\"]], \"type\": \"histogram2dcontour\"}], \"mesh3d\": [{\"colorbar\": {\"outlinewidth\": 0, \"ticks\": \"\"}, \"type\": \"mesh3d\"}], \"parcoords\": [{\"line\": {\"colorbar\": {\"outlinewidth\": 0, \"ticks\": \"\"}}, \"type\": \"parcoords\"}], \"scatter\": [{\"marker\": {\"colorbar\": {\"outlinewidth\": 0, \"ticks\": \"\"}}, \"type\": \"scatter\"}], \"scatter3d\": [{\"line\": {\"colorbar\": {\"outlinewidth\": 0, \"ticks\": \"\"}}, \"marker\": {\"colorbar\": {\"outlinewidth\": 0, \"ticks\": \"\"}}, \"type\": \"scatter3d\"}], \"scattercarpet\": [{\"marker\": {\"colorbar\": {\"outlinewidth\": 0, \"ticks\": \"\"}}, \"type\": \"scattercarpet\"}], \"scattergeo\": [{\"marker\": {\"colorbar\": {\"outlinewidth\": 0, \"ticks\": \"\"}}, \"type\": \"scattergeo\"}], \"scattergl\": [{\"marker\": {\"colorbar\": {\"outlinewidth\": 0, \"ticks\": \"\"}}, \"type\": \"scattergl\"}], \"scattermapbox\": [{\"marker\": {\"colorbar\": {\"outlinewidth\": 0, \"ticks\": \"\"}}, \"type\": \"scattermapbox\"}], \"scatterpolar\": [{\"marker\": {\"colorbar\": {\"outlinewidth\": 0, \"ticks\": \"\"}}, \"type\": \"scatterpolar\"}], \"scatterpolargl\": [{\"marker\": {\"colorbar\": {\"outlinewidth\": 0, \"ticks\": \"\"}}, \"type\": \"scatterpolargl\"}], \"scatterternary\": [{\"marker\": {\"colorbar\": {\"outlinewidth\": 0, \"ticks\": \"\"}}, \"type\": \"scatterternary\"}], \"surface\": [{\"colorbar\": {\"outlinewidth\": 0, \"ticks\": \"\"}, \"colorscale\": [[0.0, \"#0d0887\"], [0.1111111111111111, \"#46039f\"], [0.2222222222222222, \"#7201a8\"], [0.3333333333333333, \"#9c179e\"], [0.4444444444444444, \"#bd3786\"], [0.5555555555555556, \"#d8576b\"], [0.6666666666666666, \"#ed7953\"], [0.7777777777777778, \"#fb9f3a\"], [0.8888888888888888, \"#fdca26\"], [1.0, \"#f0f921\"]], \"type\": \"surface\"}], \"table\": [{\"cells\": {\"fill\": {\"color\": \"#EBF0F8\"}, \"line\": {\"color\": \"white\"}}, \"header\": {\"fill\": {\"color\": \"#C8D4E3\"}, \"line\": {\"color\": \"white\"}}, \"type\": \"table\"}]}, \"layout\": {\"annotationdefaults\": {\"arrowcolor\": \"#2a3f5f\", \"arrowhead\": 0, \"arrowwidth\": 1}, \"colorscale\": {\"diverging\": [[0, \"#8e0152\"], [0.1, \"#c51b7d\"], [0.2, \"#de77ae\"], [0.3, \"#f1b6da\"], [0.4, \"#fde0ef\"], [0.5, \"#f7f7f7\"], [0.6, \"#e6f5d0\"], [0.7, \"#b8e186\"], [0.8, \"#7fbc41\"], [0.9, \"#4d9221\"], [1, \"#276419\"]], \"sequential\": [[0.0, \"#0d0887\"], [0.1111111111111111, \"#46039f\"], [0.2222222222222222, \"#7201a8\"], [0.3333333333333333, \"#9c179e\"], [0.4444444444444444, \"#bd3786\"], [0.5555555555555556, \"#d8576b\"], [0.6666666666666666, \"#ed7953\"], [0.7777777777777778, \"#fb9f3a\"], [0.8888888888888888, \"#fdca26\"], [1.0, \"#f0f921\"]], \"sequentialminus\": [[0.0, \"#0d0887\"], [0.1111111111111111, \"#46039f\"], [0.2222222222222222, \"#7201a8\"], [0.3333333333333333, \"#9c179e\"], [0.4444444444444444, \"#bd3786\"], [0.5555555555555556, \"#d8576b\"], [0.6666666666666666, \"#ed7953\"], [0.7777777777777778, \"#fb9f3a\"], [0.8888888888888888, \"#fdca26\"], [1.0, \"#f0f921\"]]}, \"colorway\": [\"#636efa\", \"#EF553B\", \"#00cc96\", \"#ab63fa\", \"#FFA15A\", \"#19d3f3\", \"#FF6692\", \"#B6E880\", \"#FF97FF\", \"#FECB52\"], \"font\": {\"color\": \"#2a3f5f\"}, \"geo\": {\"bgcolor\": \"white\", \"lakecolor\": \"white\", \"landcolor\": \"#E5ECF6\", \"showlakes\": true, \"showland\": true, \"subunitcolor\": \"white\"}, \"hoverlabel\": {\"align\": \"left\"}, \"hovermode\": \"closest\", \"mapbox\": {\"style\": \"light\"}, \"paper_bgcolor\": \"white\", \"plot_bgcolor\": \"#E5ECF6\", \"polar\": {\"angularaxis\": {\"gridcolor\": \"white\", \"linecolor\": \"white\", \"ticks\": \"\"}, \"bgcolor\": \"#E5ECF6\", \"radialaxis\": {\"gridcolor\": \"white\", \"linecolor\": \"white\", \"ticks\": \"\"}}, \"scene\": {\"xaxis\": {\"backgroundcolor\": \"#E5ECF6\", \"gridcolor\": \"white\", \"gridwidth\": 2, \"linecolor\": \"white\", \"showbackground\": true, \"ticks\": \"\", \"zerolinecolor\": \"white\"}, \"yaxis\": {\"backgroundcolor\": \"#E5ECF6\", \"gridcolor\": \"white\", \"gridwidth\": 2, \"linecolor\": \"white\", \"showbackground\": true, \"ticks\": \"\", \"zerolinecolor\": \"white\"}, \"zaxis\": {\"backgroundcolor\": \"#E5ECF6\", \"gridcolor\": \"white\", \"gridwidth\": 2, \"linecolor\": \"white\", \"showbackground\": true, \"ticks\": \"\", \"zerolinecolor\": \"white\"}}, \"shapedefaults\": {\"line\": {\"color\": \"#2a3f5f\"}}, \"ternary\": {\"aaxis\": {\"gridcolor\": \"white\", \"linecolor\": \"white\", \"ticks\": \"\"}, \"baxis\": {\"gridcolor\": \"white\", \"linecolor\": \"white\", \"ticks\": \"\"}, \"bgcolor\": \"#E5ECF6\", \"caxis\": {\"gridcolor\": \"white\", \"linecolor\": \"white\", \"ticks\": \"\"}}, \"title\": {\"x\": 0.05}, \"xaxis\": {\"automargin\": true, \"gridcolor\": \"white\", \"linecolor\": \"white\", \"ticks\": \"\", \"zerolinecolor\": \"white\", \"zerolinewidth\": 2}, \"yaxis\": {\"automargin\": true, \"gridcolor\": \"white\", \"linecolor\": \"white\", \"ticks\": \"\", \"zerolinecolor\": \"white\", \"zerolinewidth\": 2}}}},\n",
       "                        {\"responsive\": true}\n",
       "                    ).then(function(){\n",
       "                            \n",
       "var gd = document.getElementById('c3f4e356-6acb-4adb-8db0-786af1d15f1d');\n",
       "var x = new MutationObserver(function (mutations, observer) {{\n",
       "        var display = window.getComputedStyle(gd).display;\n",
       "        if (!display || display === 'none') {{\n",
       "            console.log([gd, 'removed!']);\n",
       "            Plotly.purge(gd);\n",
       "            observer.disconnect();\n",
       "        }}\n",
       "}});\n",
       "\n",
       "// Listen for the removal of the full notebook cells\n",
       "var notebookContainer = gd.closest('#notebook-container');\n",
       "if (notebookContainer) {{\n",
       "    x.observe(notebookContainer, {childList: true});\n",
       "}}\n",
       "\n",
       "// Listen for the clearing of the current output cell\n",
       "var outputEl = gd.closest('.output');\n",
       "if (outputEl) {{\n",
       "    x.observe(outputEl, {childList: true});\n",
       "}}\n",
       "\n",
       "                        })\n",
       "                };\n",
       "                });\n",
       "            </script>\n",
       "        </div>"
      ]
     },
     "metadata": {},
     "output_type": "display_data"
    }
   ],
   "source": [
    "import plotly.express as px\n",
    "fig = px.scatter_3d(outlier, x='ori_fee', y='distance_to_customer_KM', z='timeofday',\n",
    "              color='weekend')\n",
    "fig.show()"
   ]
  },
  {
   "cell_type": "code",
   "execution_count": null,
   "metadata": {},
   "outputs": [],
   "source": []
  }
 ],
 "metadata": {
  "kernelspec": {
   "display_name": "Python 3",
   "language": "python",
   "name": "python3"
  },
  "language_info": {
   "codemirror_mode": {
    "name": "ipython",
    "version": 3
   },
   "file_extension": ".py",
   "mimetype": "text/x-python",
   "name": "python",
   "nbconvert_exporter": "python",
   "pygments_lexer": "ipython3",
   "version": "3.7.4"
  }
 },
 "nbformat": 4,
 "nbformat_minor": 2
}
