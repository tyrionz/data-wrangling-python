{
 "cells": [
  {
   "cell_type": "markdown",
   "metadata": {},
   "source": [
    "# FIT5196 Assessment 3\n",
    "# Group Number: 102\n",
    "#### Student Name: An Nguyen\n",
    "#### Student ID: 30343550\n",
    "#### Student Name: Haoheng Zhu\n",
    "#### Student ID: 30376467\n",
    "\n",
    "Date: 03/10/2019\n",
    "\n",
    "Version: 1\n",
    "\n",
    "Environment: Python 3.6.5 and Jupyter notebook\n",
    "\n",
    "Libraries used: \n",
    "* pandas (for dataframe, included in Anaconda Python 3.6.5) \n",
    "* re (for regular expression, included in Anaconda Python 3.6.5) \n",
    "* networkx (NetworkX is a Python package for the networks function)\n",
    "* sklearn.linear_model (Ordinary least squares Linear Regression)\n",
    "* statsmodels.api (for the estimation of many different statistical models)\n",
    "* contextlib (for common tasks involving the with statement)\n",
    "* tqdm (Progress bar)\n",
    "* numpy (for scientific computing with Python)"
   ]
  },
  {
   "cell_type": "code",
   "execution_count": 1,
   "metadata": {},
   "outputs": [
    {
     "name": "stderr",
     "output_type": "stream",
     "text": [
      "D:\\Anacoda\\lib\\site-packages\\tqdm\\autonotebook\\__init__.py:14: TqdmExperimentalWarning: Using `tqdm.autonotebook.tqdm` in notebook mode. Use `tqdm.tqdm` instead to force console mode (e.g. in jupyter console)\n",
      "  \" (e.g. in jupyter console)\", TqdmExperimentalWarning)\n"
     ]
    }
   ],
   "source": [
    "import pandas as pd #pandas tables\n",
    "import numpy as np #numpy for linear algrebra solution\n",
    "import matplotlib.pyplot as plt #EDA\n",
    "%matplotlib inline\n",
    "pd.set_option('display.max_rows', 500)\n",
    "pd.set_option('display.max_columns', 500)\n",
    "pd.set_option('display.width', 1000)\n",
    "\n",
    "import math #math operations\n",
    "from datetime import datetime #datetime manipulation\n",
    "\n",
    "import tqdm #progress bar\n",
    "from tqdm import tqdm_notebook as tqdm #progress bar\n",
    "from tqdm.autonotebook import tqdm #progress bar\n",
    " #progress bar\n",
    "\n",
    "from sklearn import linear_model  #linear regression \n",
    "import statsmodels.api as sm #linear regression \n",
    "\n",
    "import re #regex\n",
    "from contextlib import suppress #suppress error\n",
    "\n",
    "import networkx as nx #networkx to find shortest distance. "
   ]
  },
  {
   "cell_type": "markdown",
   "metadata": {},
   "source": [
    "# A. Dirty data"
   ]
  },
  {
   "cell_type": "markdown",
   "metadata": {},
   "source": [
    "According to the assignment specifications:    \n",
    "* There is at least one anomaly in the dataset from each category of the data anomalies (i.e.,\n",
    "syntactic, semantic, and coverage).\n",
    "* In the file <GroupName>_dirty_data.csv, any row can carry no more than one anomaly. (i.e.\n",
    "there can only be one anomaly in a single row and all anomalies are fixable)\n",
    "* There are no data anomalies in the file <GroupName>_outlier_data.csv, only outliers.\n",
    "Similarly, there are no data anomalies other than missing value problems in the file\n",
    "<GroupName>_missing_data.csv"
   ]
  },
  {
   "cell_type": "code",
   "execution_count": 2,
   "metadata": {},
   "outputs": [],
   "source": [
    "dirty = pd.read_csv('Group102_dirty_data.csv')\n",
    "ori_col = dirty.columns #keeping original columns"
   ]
  },
  {
   "cell_type": "code",
   "execution_count": 3,
   "metadata": {},
   "outputs": [],
   "source": [
    "dirty['error'] = '' #this column of error will be used to mark the error found in each row\n",
    "\n",
    "\n",
    "def day(x):\n",
    "    \"\"\"\n",
    "    To find if the day is weekday or weekend. \n",
    "    \"\"\"\n",
    "    if x == 5 or x == 6:\n",
    "        return 1 #'Saturday' or Sunday\n",
    "    else:\n",
    "        return 0 # Weekday\n",
    "    return\n",
    "\n",
    "\n",
    "def timeofday(x):\n",
    "    \n",
    "    \"\"\"\n",
    "    Create a column that encode the meal from Breakfas, Lunch, Dinner into 0,1,2\n",
    "    \"\"\"\n",
    "    \n",
    "    if x == 'Breakfast':\n",
    "        return 0\n",
    "    elif x == 'Lunch':\n",
    "        return 1\n",
    "    elif x == 'Dinner':\n",
    "        return 2"
   ]
  },
  {
   "cell_type": "markdown",
   "metadata": {},
   "source": [
    "## 1. date"
   ]
  },
  {
   "cell_type": "markdown",
   "metadata": {},
   "source": [
    "We will have a look at the column date. "
   ]
  },
  {
   "cell_type": "code",
   "execution_count": 4,
   "metadata": {},
   "outputs": [
    {
     "data": {
      "text/plain": [
       "0    2018-08-25\n",
       "1    2018-06-25\n",
       "2    2018-07-25\n",
       "3    2018-09-30\n",
       "4    2018-28-01\n",
       "Name: date, dtype: object"
      ]
     },
     "execution_count": 4,
     "metadata": {},
     "output_type": "execute_result"
    }
   ],
   "source": [
    "dirty['date'].head()"
   ]
  },
  {
   "cell_type": "markdown",
   "metadata": {},
   "source": [
    "We will check how many year"
   ]
  },
  {
   "cell_type": "code",
   "execution_count": 5,
   "metadata": {},
   "outputs": [],
   "source": [
    "dirty['date_aux'] = dirty['date'].apply(lambda x:x[:4])"
   ]
  },
  {
   "cell_type": "code",
   "execution_count": 6,
   "metadata": {},
   "outputs": [
    {
     "data": {
      "text/plain": [
       "array(['2018', '02-0', '05-0', '07-0', '09-0', '01-1', '06-1', '02-1',\n",
       "       '08-0', '11-1', '07-1', '01-0', '04-0', '09-1'], dtype=object)"
      ]
     },
     "execution_count": 6,
     "metadata": {},
     "output_type": "execute_result"
    }
   ],
   "source": [
    "dirty['date_aux'].unique()"
   ]
  },
  {
   "cell_type": "markdown",
   "metadata": {},
   "source": [
    "From inspecting year, we can see that there are missformated value in this column. Then we can fix the value to the same format YYYY-DD-MM"
   ]
  },
  {
   "cell_type": "code",
   "execution_count": 7,
   "metadata": {},
   "outputs": [],
   "source": [
    "PATTERNS = [\n",
    "        # 0) 1-12-1963 => 1963-12-01\n",
    "        (re.compile(r'(\\d{1,2})-(\\d{1,2})-(\\d{4})$'), '{2}-{1:0>2}-{0:0>2}'),\n",
    "        # 1) 1789-7-14 => 1789-07-14\n",
    "        (re.compile(r'(\\d{4})-(\\d{1,2})-(\\d{1,2})$'), '{0}-{1:0>2}-{2:0>2}'),\n",
    "]\n",
    "\n",
    "def correct(date):\n",
    "    \n",
    "    \"\"\"\n",
    "    Correct the date into order of YYYY-MM-DD\n",
    "    \"\"\"\n",
    "    \n",
    "    with suppress(ValueError):\n",
    "        return str(int(date))\n",
    "\n",
    "    for pattern, formater in PATTERNS:\n",
    "        match = pattern.match(date)\n",
    "        if match is not None:\n",
    "            return formater.format(*match.groups())\n",
    "        \n",
    "    return date\n",
    "\n",
    "def fix_month(date):\n",
    "    \"\"\"\n",
    "    Correct the date from YYYY-DD-MM into YYYY-MM-DD\n",
    "    \"\"\"\n",
    "    date = date.split('-') #split the YYYY-MM-DD, into [YYYY, MM, DD]\n",
    "    fixed = date[0]\n",
    "    \n",
    "    if int(date[1]) > 12: #if the numeric value larger than 12\n",
    "        fixed = fixed + str('-') + date[2] + str('-') +  date[1]\n",
    "    else: \n",
    "        fixed = fixed + str('-') + date[1] + str('-') + date[2]\n",
    "    return fixed"
   ]
  },
  {
   "cell_type": "markdown",
   "metadata": {},
   "source": [
    "We will create a column 'date_fix' to have the correct value. After getting the date column in correct format. Then we will compare between date_fix and date columns. The different will be spotted, and corrected. "
   ]
  },
  {
   "cell_type": "code",
   "execution_count": 8,
   "metadata": {},
   "outputs": [],
   "source": [
    "dirty['date_fix'] = dirty['date'].apply(lambda x : correct(x))\n",
    "dirty['date_fix'] = dirty['date_fix'].apply(lambda x: fix_month(x))"
   ]
  },
  {
   "cell_type": "code",
   "execution_count": 9,
   "metadata": {},
   "outputs": [
    {
     "name": "stdout",
     "output_type": "stream",
     "text": [
      "There are 37 errors in column date\n"
     ]
    }
   ],
   "source": [
    "print('There are {} errors in column date'.format(len(dirty[dirty['date_fix'] != dirty['date']][['date_fix','date']])))"
   ]
  },
  {
   "cell_type": "markdown",
   "metadata": {},
   "source": [
    "We then correct the date column according to the difference found, and mark the row's error as 'date'"
   ]
  },
  {
   "cell_type": "code",
   "execution_count": 10,
   "metadata": {},
   "outputs": [],
   "source": [
    "for index, loc in dirty[dirty['date_fix'] != dirty['date']][['date_fix','date']].iterrows(): \n",
    "    if dirty.at[index,'error'] == '':\n",
    "        dirty.at[index,'date'] = dirty.at[index,'date_fix']\n",
    "        dirty.at[index,'error'] += 'date'"
   ]
  },
  {
   "cell_type": "markdown",
   "metadata": {},
   "source": [
    "We fixed and marked the rows, from now on we can keep continue and fix other rows"
   ]
  },
  {
   "cell_type": "markdown",
   "metadata": {},
   "source": [
    "## 2. order_type"
   ]
  },
  {
   "cell_type": "markdown",
   "metadata": {},
   "source": [
    "In order to check if the order_type column is correct, we will look at the time of the order."
   ]
  },
  {
   "cell_type": "code",
   "execution_count": 11,
   "metadata": {},
   "outputs": [],
   "source": [
    "dirty['compared_time'] = dirty['time'].apply(lambda x: datetime.strptime(x,'%H:%M:%S'))"
   ]
  },
  {
   "cell_type": "code",
   "execution_count": 12,
   "metadata": {},
   "outputs": [],
   "source": [
    "def find_meal(time):\n",
    "    \"\"\"\n",
    "    look at the time the order is made. \n",
    "    \"\"\"\n",
    "    if time.hour < 12: #Breakfast\n",
    "        meal = 'Breakfast'\n",
    "    elif time.hour < 16: #Lunch\n",
    "        meal = 'Lunch'\n",
    "    else: #Dinner\n",
    "        meal = 'Dinner'\n",
    "    return meal"
   ]
  },
  {
   "cell_type": "code",
   "execution_count": 13,
   "metadata": {},
   "outputs": [
    {
     "data": {
      "text/plain": [
       "37"
      ]
     },
     "execution_count": 13,
     "metadata": {},
     "output_type": "execute_result"
    }
   ],
   "source": [
    "dirty['order_type_timechecked'] = dirty['compared_time'].apply(lambda x:find_meal(x))\n",
    "sum(dirty['order_type_timechecked'] != dirty['order_type']) #from here we can find 37 difference"
   ]
  },
  {
   "cell_type": "markdown",
   "metadata": {},
   "source": [
    "We can fix the order_type column based on the data found in order_type_timechecked now. "
   ]
  },
  {
   "cell_type": "code",
   "execution_count": 14,
   "metadata": {},
   "outputs": [],
   "source": [
    "#fixing problem of order_type based on time\n",
    "for index, loc in dirty[dirty['order_type_timechecked'] != dirty['order_type']].iterrows():\n",
    "    if dirty.at[index,'error'] == '':\n",
    "        dirty.at[index,'order_type'] = dirty.at[index,'order_type_timechecked']\n",
    "        dirty.at[index,'error'] += 'order_type' #mark the error of the row as order_type"
   ]
  },
  {
   "cell_type": "markdown",
   "metadata": {},
   "source": [
    "## 3. order_items"
   ]
  },
  {
   "cell_type": "markdown",
   "metadata": {},
   "source": [
    "In order to check if the order_items were correct, we would need to know the price of each items, and the list of items sold for each meal. For lists of meals, we will get the items from data file outlier, because outliers only contains outlier data, and does not have errors in categorical columns."
   ]
  },
  {
   "cell_type": "code",
   "execution_count": 15,
   "metadata": {},
   "outputs": [],
   "source": [
    "outlier_meal = pd.read_csv('Group102_outlier_data.csv')"
   ]
  },
  {
   "cell_type": "code",
   "execution_count": 16,
   "metadata": {},
   "outputs": [],
   "source": [
    "Breakfast = [] #initiate Breakfast list\n",
    "for index, each in outlier_meal[outlier_meal['order_type'] == 'Breakfast'].iterrows(): #look at all rows of Breakfast\n",
    "    for x in re.findall(r'[a-zA-Z&]+', outlier_meal.at[index, 'order_items']): #loop through the list\n",
    "        if x not in Breakfast:\n",
    "            Breakfast.append(x)\n",
    "\n",
    "Lunch = [] #initiate lunch list\n",
    "for index, each in outlier_meal[outlier_meal['order_type'] == 'Lunch'].iterrows(): #look at all rows of Lunch\n",
    "    for x in re.findall(r'[a-zA-Z&]+', outlier_meal.at[index, 'order_items']): #loop through the list\n",
    "        if x not in Lunch:\n",
    "            Lunch.append(x)\n",
    "\n",
    "Dinner = [] #initiate Dinner list\n",
    "for index, each in outlier_meal[outlier_meal['order_type'] == 'Dinner'].iterrows(): #look at all rows of Dinner\n",
    "    for x in re.findall(r'[a-zA-Z&]+', outlier_meal.at[index, 'order_items']): #loop through the list\n",
    "        if x not in Dinner: \n",
    "            Dinner.append(x)"
   ]
  },
  {
   "cell_type": "markdown",
   "metadata": {},
   "source": [
    "In order to find the price of for each item, we will use linear algebra api of numpy"
   ]
  },
  {
   "cell_type": "code",
   "execution_count": 17,
   "metadata": {},
   "outputs": [],
   "source": [
    "#Pancake, coffee, Cereal, Eggs\n",
    "#Calculate the price of \n",
    "a = np.array([[8,9,1,10], #these are parameters of all the breakfast orders of Pancake, Coffee, Cereal, Eggs\n",
    "              [0,0,3,6],\n",
    "              [3,0,4,4],\n",
    "              [8,6,8,0],\n",
    "             ])\n",
    "b = np.array([502.50,195.00,244.75,407.00]) #these are corresponding price of the breakfast order above\n",
    "breakfast_price = np.linalg.solve(a, b) #solve using numpy.linalg.solve\n",
    "bprice = {} #initiate pricelist of breakfast\n",
    "i= 0 #initiate index\n",
    "for item in ['Pancake', 'Coffee', 'Cereal', 'Eggs']:\n",
    "    bprice[item] = breakfast_price[i] #assignment corresponding price\n",
    "    i+=1\n",
    "\n",
    "#Steak, Salad, Chicken, Burger, Fries\n",
    "lprice = {} #initiate pricelist of lunch\n",
    "a = np.array([[7,3,3,2,10], #these are parameters of all the breakfast orders of Steak, Salad, Chicken, Burger, Fries\n",
    "              [1,3,9,0,3],\n",
    "              [0,1,0,0,6],\n",
    "              [10,10,8,2,8],\n",
    "              [4,0,10,10,4],\n",
    "             ])\n",
    "b = np.array([644.6,420.6,89.2,1036.0,858.0]) #these are corresponding price of the lunch order above\n",
    "lunch_price = np.linalg.solve(a, b)#solve using numpy.linalg.solve\n",
    "i=0\n",
    "for item in ['Steak', 'Salad', 'Chicken', 'Burger','Fries']:\n",
    "    lprice[item] = lunch_price[i]\n",
    "    i+=1\n",
    "\n",
    "#['Salmon', 'Fish&Chips', 'Shrimp', 'Pasta']\n",
    "dprice = {}\n",
    "a = np.array([[3,1,6,0], #these are parameters of all the breakfast orders of 'Salmon', 'Fish&Chips', 'Shrimp', 'Pasta' \n",
    "              [4,0,3,5],\n",
    "              [0,0,1,5],\n",
    "              [0,5,0,4],\n",
    "             ])\n",
    "b = np.array([482,463.5,191.5,285])#these are corresponding price of the dinner order above\n",
    "dinner_price = np.linalg.solve(a, b)#solve using numpy.linalg.solve\n",
    "i=0\n",
    "for item in ['Salmon', 'Fish&Chips', 'Shrimp', 'Pasta']:\n",
    "    dprice[item] = dinner_price[i]\n",
    "    i+=1"
   ]
  },
  {
   "cell_type": "markdown",
   "metadata": {},
   "source": [
    "After collecting data for item price and the menu items for Breakfast, Lunch, Dinner, we will look at if any error in order_items column"
   ]
  },
  {
   "cell_type": "code",
   "execution_count": 18,
   "metadata": {},
   "outputs": [],
   "source": [
    "#fix the wrong item in order_item\n",
    "def order_item_fix(meal,items,total_price):\n",
    "    \"\"\"\n",
    "    At first, look at the meal (Breakfast, Lunch, Dinner) to find the price list.\n",
    "    Then check the items if any of the item do not belong to the price list.\n",
    "    The item that does not belong to the price list is marked as out_list\n",
    "    The price for this item will be found by deducting price of other items from total price,\n",
    "    and then divided by the quantity of the item.\n",
    "    After price of item found, look up in the price list to find the name of the item and replace the wrong\n",
    "    name of the item with the correct name found from list. \n",
    "    \"\"\"\n",
    "    \n",
    "    menu_qtt = re.findall(r'[0-9]+', items) #quantities of each item in order\n",
    "    menu_item = re.findall(r'[a-zA-Z&]+', items) #name of each item in order\n",
    "    \n",
    "    count = 0 #counting variable of item not in list\n",
    "    \n",
    "    # look at meal variable to find the meal_list and assign the take_price list accordingly  \n",
    "    if meal == 'Breakfast':\n",
    "        take_price = bprice\n",
    "        meal_list = Breakfast\n",
    "    if meal == 'Lunch':\n",
    "        take_price = lprice\n",
    "        meal_list = Lunch\n",
    "    if meal == 'Dinner':\n",
    "        take_price = dprice \n",
    "        meal_list = Dinner\n",
    "        \n",
    "        \n",
    "    #Find the item that do not belong to the meal_list    \n",
    "    i = 0\n",
    "    for item in menu_item: #loop through item in menu\n",
    "        if item in meal_list: #if the item in meal list\n",
    "            total_price = total_price - int(menu_qtt[i])*take_price[item] #deducting price*quantity from total price\n",
    "            i+=1 \n",
    "        else: #if the item is not in meal list, error found\n",
    "            out_list = item #mark the item\n",
    "            count = int(menu_qtt[i]) #count how many of that item\n",
    "            i+=1\n",
    "                \n",
    "    price_o_outlist = total_price/count #price of the item not in the list\n",
    "            \n",
    "    for item, price in take_price.items(): #lopp through the take_price item, and compare the price\n",
    "        if abs(price_o_outlist - price) < 0.1: #if the price found, then the name of the item found\n",
    "            fix_out_list = item\n",
    "            \n",
    "    items = items.replace(out_list,fix_out_list) #replace the name of the item by correct item name\n",
    "    \n",
    "    return items #return the correct item list"
   ]
  },
  {
   "cell_type": "code",
   "execution_count": 19,
   "metadata": {},
   "outputs": [],
   "source": [
    "def order_item_check(meal,items):\n",
    "    \"\"\"\n",
    "    This is to mark the error for each column that has issue with order_type\n",
    "    \"\"\"\n",
    "    error = 0\n",
    "    menu_qtt = re.findall(r'[a-zA-Z&]+', items) #enlist all the items\n",
    "    \n",
    "    if meal == 'Breakfast': #grasping meal_list\n",
    "        meal_list = Breakfast\n",
    "    if meal == 'Lunch':\n",
    "        meal_list = Lunch\n",
    "    if meal == 'Dinner':\n",
    "        meal_list = Dinner\n",
    "        \n",
    "    for item in menu_qtt: #check if all items in the correct list\n",
    "        if item not in meal_list:\n",
    "            error = 1 #if not then return error\n",
    "            break\n",
    "            \n",
    "    return error"
   ]
  },
  {
   "cell_type": "markdown",
   "metadata": {},
   "source": [
    "We will create a column 'order_items_menucheck' to see which column has wrong set of order_items"
   ]
  },
  {
   "cell_type": "code",
   "execution_count": 20,
   "metadata": {},
   "outputs": [],
   "source": [
    "dirty['order_items_menucheck'] = dirty[['order_type','order_items']].apply(lambda x: order_item_check(*x), axis=1)"
   ]
  },
  {
   "cell_type": "code",
   "execution_count": 21,
   "metadata": {},
   "outputs": [
    {
     "data": {
      "text/plain": [
       "37"
      ]
     },
     "execution_count": 21,
     "metadata": {},
     "output_type": "execute_result"
    }
   ],
   "source": [
    "len(dirty[dirty['order_items_menucheck'] == 1][['order_items']])"
   ]
  },
  {
   "cell_type": "markdown",
   "metadata": {},
   "source": [
    "So we have 37 rows that have error in items. We can fix these error by using function order_item_fix"
   ]
  },
  {
   "cell_type": "code",
   "execution_count": 22,
   "metadata": {},
   "outputs": [],
   "source": [
    "for index, loc in dirty[dirty['order_items_menucheck'] == 1][['order_type','order_items','order_price']].iterrows():\n",
    "    dirty.at[index,'order_items'] = order_item_fix(dirty.at[index,'order_type'],dirty.at[index,'order_items'],dirty.at[index,'order_price'])\n",
    "    dirty.at[index,'order_items_menucheck'] = 0\n",
    "    dirty.at[index,'error'] = 'order_items'"
   ]
  },
  {
   "cell_type": "markdown",
   "metadata": {},
   "source": [
    "## 4. customer_lat, customer_lon"
   ]
  },
  {
   "cell_type": "markdown",
   "metadata": {},
   "source": [
    "Customer lattitute normally has value less than zero (eg:-37) due to the geolocation of Melbourne city, and longitude about 144. However, by looking at the row we can see some rows having value of customer_lat 144. We will inspect this."
   ]
  },
  {
   "cell_type": "code",
   "execution_count": 23,
   "metadata": {},
   "outputs": [
    {
     "data": {
      "text/html": [
       "<div>\n",
       "<style scoped>\n",
       "    .dataframe tbody tr th:only-of-type {\n",
       "        vertical-align: middle;\n",
       "    }\n",
       "\n",
       "    .dataframe tbody tr th {\n",
       "        vertical-align: top;\n",
       "    }\n",
       "\n",
       "    .dataframe thead th {\n",
       "        text-align: right;\n",
       "    }\n",
       "</style>\n",
       "<table border=\"1\" class=\"dataframe\">\n",
       "  <thead>\n",
       "    <tr style=\"text-align: right;\">\n",
       "      <th></th>\n",
       "      <th>customer_lat</th>\n",
       "      <th>customer_lon</th>\n",
       "    </tr>\n",
       "  </thead>\n",
       "  <tbody>\n",
       "    <tr>\n",
       "      <td>5</td>\n",
       "      <td>144.958183</td>\n",
       "      <td>-37.815605</td>\n",
       "    </tr>\n",
       "    <tr>\n",
       "      <td>330</td>\n",
       "      <td>144.969693</td>\n",
       "      <td>-37.820101</td>\n",
       "    </tr>\n",
       "    <tr>\n",
       "      <td>367</td>\n",
       "      <td>144.948864</td>\n",
       "      <td>-37.814427</td>\n",
       "    </tr>\n",
       "    <tr>\n",
       "      <td>454</td>\n",
       "      <td>144.935733</td>\n",
       "      <td>-37.809891</td>\n",
       "    </tr>\n",
       "  </tbody>\n",
       "</table>\n",
       "</div>"
      ],
      "text/plain": [
       "     customer_lat  customer_lon\n",
       "5      144.958183    -37.815605\n",
       "330    144.969693    -37.820101\n",
       "367    144.948864    -37.814427\n",
       "454    144.935733    -37.809891"
      ]
     },
     "execution_count": 23,
     "metadata": {},
     "output_type": "execute_result"
    }
   ],
   "source": [
    "#some value of customer_lat should be swap with customer_lon\n",
    "dirty[dirty['customer_lat'] > dirty['customer_lon']][['customer_lat','customer_lon']]"
   ]
  },
  {
   "cell_type": "markdown",
   "metadata": {},
   "source": [
    "So there are four rows that has swapped value of longitude and lattitue, we can fix them"
   ]
  },
  {
   "cell_type": "code",
   "execution_count": 24,
   "metadata": {},
   "outputs": [],
   "source": [
    "for index, loc in dirty[dirty['customer_lat'] > dirty['customer_lon']].iterrows():\n",
    "    if dirty.at[index,'error'] == '':\n",
    "        dirty.at[index,'customer_lat'],dirty.at[index,'customer_lon'] = dirty.at[index,'customer_lon'],dirty.at[index,'customer_lat']\n",
    "        dirty.at[index,'error'] += 'long_lat_swap'"
   ]
  },
  {
   "cell_type": "markdown",
   "metadata": {},
   "source": [
    "Some columns that does not have negative sign with the customer_lat"
   ]
  },
  {
   "cell_type": "code",
   "execution_count": 25,
   "metadata": {},
   "outputs": [
    {
     "data": {
      "text/plain": [
       "37"
      ]
     },
     "execution_count": 25,
     "metadata": {},
     "output_type": "execute_result"
    }
   ],
   "source": [
    "#some customer_lat does not have negative sign\n",
    "len(dirty[-1*dirty['customer_lat'] < 0])"
   ]
  },
  {
   "cell_type": "markdown",
   "metadata": {},
   "source": [
    "We can fix these value by adding the negative sign."
   ]
  },
  {
   "cell_type": "code",
   "execution_count": 26,
   "metadata": {},
   "outputs": [],
   "source": [
    "for index, loc in dirty[-1*dirty['customer_lat'] < 0].iterrows():\n",
    "    if dirty.at[index,'error'] == '':\n",
    "        dirty.at[index,'customer_lat'] = -1*dirty.at[index,'customer_lat']\n",
    "        dirty.at[index, 'error'] = 'customer_lat'"
   ]
  },
  {
   "cell_type": "markdown",
   "metadata": {},
   "source": [
    "## 5. order_price"
   ]
  },
  {
   "cell_type": "code",
   "execution_count": 27,
   "metadata": {},
   "outputs": [],
   "source": [
    "\n",
    "def total_price_check(meal,items,total_price):\n",
    "    \n",
    "    menu_qtt = re.findall(r'[0-9]+', items)\n",
    "    menu_item = re.findall(r'[a-zA-Z&]+', items) \n",
    "    count = 0\n",
    "  \n",
    "    if meal == 'Breakfast':\n",
    "        take_price = bprice\n",
    "        meal_list = Breakfast\n",
    "    if meal == 'Lunch':\n",
    "        take_price = lprice\n",
    "        meal_list = Lunch\n",
    "    if meal == 'Dinner':\n",
    "        take_price = dprice \n",
    "        meal_list = Dinner\n",
    "    calculated = 0  \n",
    "    i = 0\n",
    "    for item in menu_item:\n",
    "        if item in meal_list:\n",
    "            calculated = calculated + int(menu_qtt[i])*take_price[item]\n",
    "            i+=1\n",
    "   \n",
    "    return calculated\n",
    "\n",
    "\n",
    "def diff(a,b):\n",
    "    if abs(a-b) < 0.01:\n",
    "        return 0\n",
    "    else:\n",
    "        return 1"
   ]
  },
  {
   "cell_type": "markdown",
   "metadata": {},
   "source": [
    "We will create a column calculated_total_price, and see if that column is different from the order_price."
   ]
  },
  {
   "cell_type": "code",
   "execution_count": 28,
   "metadata": {},
   "outputs": [
    {
     "name": "stdout",
     "output_type": "stream",
     "text": [
      "There are 37 errors in order_price\n"
     ]
    }
   ],
   "source": [
    "dirty['calculated_total_price'] = dirty[['order_type','order_items','order_price']].apply(lambda x: total_price_check(*x), axis=1)\n",
    "dirty['error_total_price'] = dirty[['calculated_total_price','order_price']].apply(lambda x:diff(*x),axis =1)\n",
    "print('There are {} errors in order_price'.format(len(dirty[dirty['error_total_price'] == 1])))"
   ]
  },
  {
   "cell_type": "markdown",
   "metadata": {},
   "source": [
    "So there are 37 errors in total price, which is not calculated correctly. We can fix it based on the calculated_total_price"
   ]
  },
  {
   "cell_type": "code",
   "execution_count": 29,
   "metadata": {},
   "outputs": [],
   "source": [
    "for index, loc in  dirty[dirty['error_total_price'] == 1].iterrows():\n",
    "    dirty.at[index,'order_price'] = dirty.at[index,'calculated_total_price']\n",
    "    dirty.at[index,'error'] = 'wrong order_price'"
   ]
  },
  {
   "cell_type": "markdown",
   "metadata": {},
   "source": [
    "## 6. branch_code"
   ]
  },
  {
   "cell_type": "markdown",
   "metadata": {},
   "source": [
    "We will inspect the unique values of this column."
   ]
  },
  {
   "cell_type": "code",
   "execution_count": 30,
   "metadata": {},
   "outputs": [
    {
     "data": {
      "text/plain": [
       "array(['BK', 'NS', 'TP', 'ns', 'bk', 'tp'], dtype=object)"
      ]
     },
     "execution_count": 30,
     "metadata": {},
     "output_type": "execute_result"
    }
   ],
   "source": [
    "#check \n",
    "dirty['branch_code'].unique()"
   ]
  },
  {
   "cell_type": "markdown",
   "metadata": {},
   "source": [
    "Clearly there are some errors in lower case. We can fix this but we are not sure if other in uppercase are all correct. Because the other way of checking the branch_code is to look at the distance between the customer's geolocation and the branch's geolocation, which will be discussed further."
   ]
  },
  {
   "cell_type": "code",
   "execution_count": 31,
   "metadata": {},
   "outputs": [
    {
     "data": {
      "text/plain": [
       "27"
      ]
     },
     "execution_count": 31,
     "metadata": {},
     "output_type": "execute_result"
    }
   ],
   "source": [
    "#check\n",
    "dirty['branch_code_check'] = dirty['branch_code'].apply(lambda x:x.upper())\n",
    "len(dirty[dirty['branch_code_check'] != dirty['branch_code']])"
   ]
  },
  {
   "cell_type": "markdown",
   "metadata": {},
   "source": [
    "Now we can fix the lowercase"
   ]
  },
  {
   "cell_type": "code",
   "execution_count": 32,
   "metadata": {},
   "outputs": [],
   "source": [
    "for index, loc in dirty[dirty['branch_code_check'] != dirty['branch_code']].iterrows():\n",
    "    dirty.at[index, 'branch_code'] = dirty.at[index,'branch_code_check']\n",
    "    dirty.at[index,'error'] = 'branch_code'"
   ]
  },
  {
   "cell_type": "markdown",
   "metadata": {},
   "source": [
    "## 7. distance_to_customer_KM"
   ]
  },
  {
   "cell_type": "markdown",
   "metadata": {},
   "source": [
    "In order to work with geolocation data, we will need to look at the branches.csv, nodes.csv, and edges.csv. From these data, we can create a network with nodes and length between nodes to find distance. \n",
    "\n",
    "From node data, we can create a column node."
   ]
  },
  {
   "cell_type": "code",
   "execution_count": 33,
   "metadata": {},
   "outputs": [],
   "source": [
    "restaurants_csv = pd.read_csv('branches.csv') \n",
    "nodes = pd.read_csv('nodes.csv')\n",
    "edges = pd.read_csv('edges.csv')\n",
    "\n",
    "nodes_dict = nodes.T.to_dict()\n",
    "def get_node(lat,lon):\n",
    "    for i in range(len(l)):\n",
    "        if l[i]['lat'] == lat and l[i]['lon'] == lon:\n",
    "            return int(l[i]['node'])\n",
    "            break\n",
    "l = []\n",
    "for i in range(len(nodes_dict)):\n",
    "    l.append(nodes_dict[i])\n",
    "    \n",
    "dirty['node'] = dirty[['customer_lat','customer_lon']].apply(lambda x: get_node(*x), axis=1)\n",
    "\n",
    "#to minimize error in calculation, we will round the value to 3 digits after comma\n",
    "dirty['distance_to_customer_KM'] = dirty['distance_to_customer_KM'].apply(lambda x: round(x,3)) "
   ]
  },
  {
   "cell_type": "markdown",
   "metadata": {},
   "source": [
    "We will then check if all node obtained correctly by check if any row has null value"
   ]
  },
  {
   "cell_type": "code",
   "execution_count": 34,
   "metadata": {},
   "outputs": [
    {
     "data": {
      "text/plain": [
       "0"
      ]
     },
     "execution_count": 34,
     "metadata": {},
     "output_type": "execute_result"
    }
   ],
   "source": [
    "#check if all node correctly found\n",
    "dirty['node'].isnull().sum()"
   ]
  },
  {
   "cell_type": "markdown",
   "metadata": {},
   "source": [
    "So far, all nodes are obtained correctly. We can start building network G using package networkx."
   ]
  },
  {
   "cell_type": "code",
   "execution_count": 35,
   "metadata": {},
   "outputs": [],
   "source": [
    "G = nx.Graph() #initiate graph G\n",
    "nodes['node'] = nodes['node'].apply(lambda x:int(x)) #node as integer value\n",
    "G.add_nodes_from(list(nodes['node'])) #add node to G\n",
    "edges = edges[['u','v','distance(m)','street type','speed(km/h)']] #create edges\n",
    "edges_dis = edges[['u','v','distance(m)']] #edge based on distance\n",
    "edges_distance_tuple = [tuple(x) for x in edges_dis.values] #u,v, and distance to tuple\n",
    "for start, end, length in edges_distance_tuple: #add u,v and distance to G\n",
    "    G.add_edge(int(start), int(end), length=length)\n",
    "      \n",
    "# Get node for restaurant\n",
    "restaurants_csv['node'] = restaurants_csv[['branch_lat','branch_lon']].apply(lambda x: get_node(*x), axis=1) \n",
    "\n",
    "# Get node of each restaurant and store in NS, TP, Bk for futher calculation\n",
    "NS = int(restaurants_csv[restaurants_csv['branch_code'] == 'NS']['node'][0])\n",
    "TP = int(restaurants_csv[restaurants_csv['branch_code'] == 'TP']['node'][1])\n",
    "BK = int(restaurants_csv[restaurants_csv['branch_code'] == 'BK']['node'][2])"
   ]
  },
  {
   "cell_type": "code",
   "execution_count": 36,
   "metadata": {},
   "outputs": [],
   "source": [
    "def distance(u,v):\n",
    "    \"\"\"\n",
    "    Calculating distance from two nodes\n",
    "    \"\"\"\n",
    "    dist = 0. #initate a float value for dist\n",
    "    dist = nx.shortest_path_length(G, u, v,weight=\"length\")/1000 #distance in km\n",
    "    return round(dist,3)\n",
    "\n",
    "def get_r_node(res_name):\n",
    "    \"\"\"\n",
    "    Get restaurant node given the branch_code\n",
    "    \"\"\"\n",
    "    if res_name == 'NS':\n",
    "        return NS\n",
    "    elif res_name == 'BK':\n",
    "        return BK\n",
    "    else:\n",
    "        return TP"
   ]
  },
  {
   "cell_type": "markdown",
   "metadata": {},
   "source": [
    "We create a column br_node to find the node in network G for each branch_code. Then a column of distance_check is created to calculate value between that node to customer's node. Then values of distance_check and distance_to_customer_KM will be compared to find if erroneous."
   ]
  },
  {
   "cell_type": "code",
   "execution_count": 37,
   "metadata": {},
   "outputs": [
    {
     "data": {
      "text/html": [
       "<div>\n",
       "<style scoped>\n",
       "    .dataframe tbody tr th:only-of-type {\n",
       "        vertical-align: middle;\n",
       "    }\n",
       "\n",
       "    .dataframe tbody tr th {\n",
       "        vertical-align: top;\n",
       "    }\n",
       "\n",
       "    .dataframe thead th {\n",
       "        text-align: right;\n",
       "    }\n",
       "</style>\n",
       "<table border=\"1\" class=\"dataframe\">\n",
       "  <thead>\n",
       "    <tr style=\"text-align: right;\">\n",
       "      <th></th>\n",
       "      <th>br_node</th>\n",
       "      <th>node</th>\n",
       "      <th>branch_code</th>\n",
       "      <th>distance_check</th>\n",
       "      <th>distance_to_customer_KM</th>\n",
       "      <th>error</th>\n",
       "    </tr>\n",
       "  </thead>\n",
       "  <tbody>\n",
       "    <tr>\n",
       "      <td>8</td>\n",
       "      <td>1889485053</td>\n",
       "      <td>575386414</td>\n",
       "      <td>BK</td>\n",
       "      <td>6.400</td>\n",
       "      <td>6.619</td>\n",
       "      <td></td>\n",
       "    </tr>\n",
       "    <tr>\n",
       "      <td>11</td>\n",
       "      <td>1889485053</td>\n",
       "      <td>1492153102</td>\n",
       "      <td>BK</td>\n",
       "      <td>8.327</td>\n",
       "      <td>7.823</td>\n",
       "      <td></td>\n",
       "    </tr>\n",
       "    <tr>\n",
       "      <td>13</td>\n",
       "      <td>2455254505</td>\n",
       "      <td>4735909077</td>\n",
       "      <td>NS</td>\n",
       "      <td>8.431</td>\n",
       "      <td>10.022</td>\n",
       "      <td>branch_code</td>\n",
       "    </tr>\n",
       "    <tr>\n",
       "      <td>18</td>\n",
       "      <td>1390575046</td>\n",
       "      <td>92130447</td>\n",
       "      <td>TP</td>\n",
       "      <td>9.828</td>\n",
       "      <td>7.282</td>\n",
       "      <td></td>\n",
       "    </tr>\n",
       "    <tr>\n",
       "      <td>24</td>\n",
       "      <td>1390575046</td>\n",
       "      <td>1463547090</td>\n",
       "      <td>TP</td>\n",
       "      <td>10.929</td>\n",
       "      <td>4.548</td>\n",
       "      <td></td>\n",
       "    </tr>\n",
       "  </tbody>\n",
       "</table>\n",
       "</div>"
      ],
      "text/plain": [
       "       br_node        node branch_code  distance_check  distance_to_customer_KM        error\n",
       "8   1889485053   575386414          BK           6.400                    6.619             \n",
       "11  1889485053  1492153102          BK           8.327                    7.823             \n",
       "13  2455254505  4735909077          NS           8.431                   10.022  branch_code\n",
       "18  1390575046    92130447          TP           9.828                    7.282             \n",
       "24  1390575046  1463547090          TP          10.929                    4.548             "
      ]
     },
     "execution_count": 37,
     "metadata": {},
     "output_type": "execute_result"
    }
   ],
   "source": [
    "#get branch node\n",
    "dirty['br_node'] = dirty['branch_code'].apply(lambda x:get_r_node(x))\n",
    "\n",
    "#calculate the distance between the branch_node and the customer's node\n",
    "dirty['distance_check'] = dirty[['br_node','node']].apply(lambda x: distance(*x), axis=1) \n",
    "\n",
    "#compare the value between distance_check and distance_to_customer_KM\n",
    "dirty[dirty['distance_check'] != dirty['distance_to_customer_KM']][['br_node','node','branch_code','distance_check','distance_to_customer_KM','error']].head()"
   ]
  },
  {
   "cell_type": "markdown",
   "metadata": {},
   "source": [
    "From the table above, we can see that some rows has different value in distance_check and distance_to_customer_KM, we do not know which one is correct yet. This can be two possibilities, the distance_to_customer_KM was wrong, and the distance_check is correct based on the branch_code (if branch_code correct); and the other was the distance_to_customer_KM is correct, the branch_code should be adjusted accordingly. \n",
    "\n",
    "Furthermore, we can see that some rows, in column error indicate that the row has error with branch_code before. This error is due to the branch_code was in lowercase, and thus, the distance_to_customer_KM in this case must be correct, due to the specification 3 of the assignment that in dirty rows there can be no more than two anomalies. Thus, with these columns, we will adjust the value of branch_code again to match with the distance_to_customer_KM."
   ]
  },
  {
   "cell_type": "code",
   "execution_count": 38,
   "metadata": {},
   "outputs": [],
   "source": [
    "# assign these value to dataframe temp\n",
    "temp = dirty[dirty['distance_check'] != dirty['distance_to_customer_KM']][['br_node','node','distance_check','branch_code','distance_to_customer_KM','error']]"
   ]
  },
  {
   "cell_type": "code",
   "execution_count": 39,
   "metadata": {},
   "outputs": [
    {
     "data": {
      "text/plain": [
       "19"
      ]
     },
     "execution_count": 39,
     "metadata": {},
     "output_type": "execute_result"
    }
   ],
   "source": [
    "len(temp[temp['error'] == 'branch_code'])"
   ]
  },
  {
   "cell_type": "markdown",
   "metadata": {},
   "source": [
    "As discussed above, there are 19 such rows. In order to not violate the specification 3, we then fix the branch_code according to the distance. And the rest, we fix the distance according to the branch_code."
   ]
  },
  {
   "cell_type": "code",
   "execution_count": 40,
   "metadata": {},
   "outputs": [],
   "source": [
    "def find_branch_given_dist(u,dist):\n",
    "    \n",
    "    \"\"\"\n",
    "    Given node and distance to node, we can\n",
    "    return the name of the branch_code\n",
    "    \"\"\"\n",
    "    \n",
    "    distance_to_NS = distance(u,NS)\n",
    "    distance_to_TP = distance(u,TP)\n",
    "    distance_to_BK = distance(u,BK)\n",
    "    \n",
    "    if abs(dist - distance_to_NS) < 0.01:\n",
    "        return 'NS'\n",
    "    elif abs(dist - distance_to_TP) < 0.01:\n",
    "        return 'TP'\n",
    "    elif abs(dist - distance_to_BK) < 0.01:\n",
    "        return 'BK'\n",
    "    \n",
    "for index, loc in temp[temp['error'] == 'branch_code'].iterrows():\n",
    "    dirty.at[index, 'branch_code'] = find_branch_given_dist(dirty.at[index, 'node'],dirty.at[index, 'distance_to_customer_KM'])\n",
    "    dirty.at[index, 'error'] = 'branch_code'"
   ]
  },
  {
   "cell_type": "markdown",
   "metadata": {},
   "source": [
    "Now we can fix the error of the wrong distance. "
   ]
  },
  {
   "cell_type": "code",
   "execution_count": 41,
   "metadata": {},
   "outputs": [],
   "source": [
    "fix_distance = dirty[dirty['distance_check'] != dirty['distance_to_customer_KM']]\n",
    "fix_distance = fix_distance[fix_distance['error'] == '']"
   ]
  },
  {
   "cell_type": "code",
   "execution_count": 42,
   "metadata": {},
   "outputs": [
    {
     "data": {
      "text/html": [
       "<div>\n",
       "<style scoped>\n",
       "    .dataframe tbody tr th:only-of-type {\n",
       "        vertical-align: middle;\n",
       "    }\n",
       "\n",
       "    .dataframe tbody tr th {\n",
       "        vertical-align: top;\n",
       "    }\n",
       "\n",
       "    .dataframe thead th {\n",
       "        text-align: right;\n",
       "    }\n",
       "</style>\n",
       "<table border=\"1\" class=\"dataframe\">\n",
       "  <thead>\n",
       "    <tr style=\"text-align: right;\">\n",
       "      <th></th>\n",
       "      <th>distance_to_customer_KM</th>\n",
       "      <th>distance_check</th>\n",
       "      <th>error</th>\n",
       "    </tr>\n",
       "  </thead>\n",
       "  <tbody>\n",
       "    <tr>\n",
       "      <td>8</td>\n",
       "      <td>6.619</td>\n",
       "      <td>6.400</td>\n",
       "      <td></td>\n",
       "    </tr>\n",
       "    <tr>\n",
       "      <td>11</td>\n",
       "      <td>7.823</td>\n",
       "      <td>8.327</td>\n",
       "      <td></td>\n",
       "    </tr>\n",
       "    <tr>\n",
       "      <td>18</td>\n",
       "      <td>7.282</td>\n",
       "      <td>9.828</td>\n",
       "      <td></td>\n",
       "    </tr>\n",
       "    <tr>\n",
       "      <td>24</td>\n",
       "      <td>4.548</td>\n",
       "      <td>10.929</td>\n",
       "      <td></td>\n",
       "    </tr>\n",
       "    <tr>\n",
       "      <td>40</td>\n",
       "      <td>9.795</td>\n",
       "      <td>10.092</td>\n",
       "      <td></td>\n",
       "    </tr>\n",
       "  </tbody>\n",
       "</table>\n",
       "</div>"
      ],
      "text/plain": [
       "    distance_to_customer_KM  distance_check error\n",
       "8                     6.619           6.400      \n",
       "11                    7.823           8.327      \n",
       "18                    7.282           9.828      \n",
       "24                    4.548          10.929      \n",
       "40                    9.795          10.092      "
      ]
     },
     "execution_count": 42,
     "metadata": {},
     "output_type": "execute_result"
    }
   ],
   "source": [
    "fix_distance[['distance_to_customer_KM','distance_check','error']].head()"
   ]
  },
  {
   "cell_type": "markdown",
   "metadata": {},
   "source": [
    "We dont know from the table above that if it is a distance_to_customer_KM error, or it could be the error from branch code. We will investigate further by calculating the distance from the node to two other branches. "
   ]
  },
  {
   "cell_type": "code",
   "execution_count": 43,
   "metadata": {},
   "outputs": [
    {
     "data": {
      "text/html": [
       "<div>\n",
       "<style scoped>\n",
       "    .dataframe tbody tr th:only-of-type {\n",
       "        vertical-align: middle;\n",
       "    }\n",
       "\n",
       "    .dataframe tbody tr th {\n",
       "        vertical-align: top;\n",
       "    }\n",
       "\n",
       "    .dataframe thead th {\n",
       "        text-align: right;\n",
       "    }\n",
       "</style>\n",
       "<table border=\"1\" class=\"dataframe\">\n",
       "  <thead>\n",
       "    <tr style=\"text-align: right;\">\n",
       "      <th></th>\n",
       "      <th>branch_code</th>\n",
       "      <th>distance_to_customer_KM</th>\n",
       "      <th>distance_check</th>\n",
       "      <th>to_NS</th>\n",
       "      <th>to_TP</th>\n",
       "      <th>to_BK</th>\n",
       "    </tr>\n",
       "  </thead>\n",
       "  <tbody>\n",
       "    <tr>\n",
       "      <td>8</td>\n",
       "      <td>BK</td>\n",
       "      <td>6.619</td>\n",
       "      <td>6.400</td>\n",
       "      <td>9.160</td>\n",
       "      <td>9.325</td>\n",
       "      <td>6.400</td>\n",
       "    </tr>\n",
       "    <tr>\n",
       "      <td>11</td>\n",
       "      <td>BK</td>\n",
       "      <td>7.823</td>\n",
       "      <td>8.327</td>\n",
       "      <td>8.350</td>\n",
       "      <td>8.854</td>\n",
       "      <td>8.327</td>\n",
       "    </tr>\n",
       "    <tr>\n",
       "      <td>18</td>\n",
       "      <td>TP</td>\n",
       "      <td>7.282</td>\n",
       "      <td>9.828</td>\n",
       "      <td>9.302</td>\n",
       "      <td>9.828</td>\n",
       "      <td>9.393</td>\n",
       "    </tr>\n",
       "    <tr>\n",
       "      <td>24</td>\n",
       "      <td>TP</td>\n",
       "      <td>4.548</td>\n",
       "      <td>10.929</td>\n",
       "      <td>10.467</td>\n",
       "      <td>10.929</td>\n",
       "      <td>4.548</td>\n",
       "    </tr>\n",
       "    <tr>\n",
       "      <td>40</td>\n",
       "      <td>TP</td>\n",
       "      <td>9.795</td>\n",
       "      <td>10.092</td>\n",
       "      <td>9.016</td>\n",
       "      <td>10.092</td>\n",
       "      <td>9.192</td>\n",
       "    </tr>\n",
       "  </tbody>\n",
       "</table>\n",
       "</div>"
      ],
      "text/plain": [
       "   branch_code  distance_to_customer_KM  distance_check   to_NS   to_TP  to_BK\n",
       "8           BK                    6.619           6.400   9.160   9.325  6.400\n",
       "11          BK                    7.823           8.327   8.350   8.854  8.327\n",
       "18          TP                    7.282           9.828   9.302   9.828  9.393\n",
       "24          TP                    4.548          10.929  10.467  10.929  4.548\n",
       "40          TP                    9.795          10.092   9.016  10.092  9.192"
      ]
     },
     "execution_count": 43,
     "metadata": {},
     "output_type": "execute_result"
    }
   ],
   "source": [
    "for index, loc in fix_distance.iterrows():\n",
    "    fix_distance.at[index,'to_NS'] = distance(fix_distance.at[index,'node'],NS)\n",
    "    fix_distance.at[index,'to_TP'] = distance(fix_distance.at[index,'node'],TP)\n",
    "    fix_distance.at[index,'to_BK'] = distance(fix_distance.at[index,'node'],BK)\n",
    "fix_distance[['branch_code','distance_to_customer_KM','distance_check','to_NS','to_TP','to_BK']].head()"
   ]
  },
  {
   "cell_type": "markdown",
   "metadata": {},
   "source": [
    "From the table above, we can see that some distance_to_customer_KM values do not match any of the correct distance from customer node to the branches. To these value, we will fixed the value based on the branch_code"
   ]
  },
  {
   "cell_type": "markdown",
   "metadata": {},
   "source": [
    "So we will check from here if any distance to customer matches any of the branch_code. For easy check, we will store if match is found into one column named branch_check."
   ]
  },
  {
   "cell_type": "code",
   "execution_count": 44,
   "metadata": {},
   "outputs": [
    {
     "name": "stderr",
     "output_type": "stream",
     "text": [
      "D:\\Anacoda\\lib\\site-packages\\ipykernel_launcher.py:7: UserWarning: Boolean Series key will be reindexed to match DataFrame index.\n",
      "  import sys\n"
     ]
    }
   ],
   "source": [
    "fix_distance['branch_check'] = ''\n",
    "for index, loc in fix_distance.iterrows():\n",
    "        fix_distance.at[index,'branch_check'] = find_branch_given_dist(fix_distance.at[index,'node'],fix_distance.at[index,'distance_to_customer_KM'])\n",
    "dirty['branch_check'] = ''\n",
    "for index, loc in fix_distance.iterrows():\n",
    "        dirty.at[index,'branch_check'] = find_branch_given_dist(fix_distance.at[index,'node'],fix_distance.at[index,'distance_to_customer_KM'])        \n",
    "branch_check_df = fix_distance[fix_distance['branch_check'].notnull()][fix_distance['branch_check'] != '']"
   ]
  },
  {
   "cell_type": "code",
   "execution_count": 45,
   "metadata": {},
   "outputs": [
    {
     "data": {
      "text/html": [
       "<div>\n",
       "<style scoped>\n",
       "    .dataframe tbody tr th:only-of-type {\n",
       "        vertical-align: middle;\n",
       "    }\n",
       "\n",
       "    .dataframe tbody tr th {\n",
       "        vertical-align: top;\n",
       "    }\n",
       "\n",
       "    .dataframe thead th {\n",
       "        text-align: right;\n",
       "    }\n",
       "</style>\n",
       "<table border=\"1\" class=\"dataframe\">\n",
       "  <thead>\n",
       "    <tr style=\"text-align: right;\">\n",
       "      <th></th>\n",
       "      <th>branch_code</th>\n",
       "      <th>distance_to_customer_KM</th>\n",
       "      <th>distance_check</th>\n",
       "      <th>branch_check</th>\n",
       "    </tr>\n",
       "  </thead>\n",
       "  <tbody>\n",
       "    <tr>\n",
       "      <td>8</td>\n",
       "      <td>BK</td>\n",
       "      <td>6.619</td>\n",
       "      <td>6.400</td>\n",
       "      <td>None</td>\n",
       "    </tr>\n",
       "    <tr>\n",
       "      <td>11</td>\n",
       "      <td>BK</td>\n",
       "      <td>7.823</td>\n",
       "      <td>8.327</td>\n",
       "      <td>None</td>\n",
       "    </tr>\n",
       "    <tr>\n",
       "      <td>18</td>\n",
       "      <td>TP</td>\n",
       "      <td>7.282</td>\n",
       "      <td>9.828</td>\n",
       "      <td>None</td>\n",
       "    </tr>\n",
       "    <tr>\n",
       "      <td>24</td>\n",
       "      <td>TP</td>\n",
       "      <td>4.548</td>\n",
       "      <td>10.929</td>\n",
       "      <td>BK</td>\n",
       "    </tr>\n",
       "    <tr>\n",
       "      <td>40</td>\n",
       "      <td>TP</td>\n",
       "      <td>9.795</td>\n",
       "      <td>10.092</td>\n",
       "      <td>None</td>\n",
       "    </tr>\n",
       "  </tbody>\n",
       "</table>\n",
       "</div>"
      ],
      "text/plain": [
       "   branch_code  distance_to_customer_KM  distance_check branch_check\n",
       "8           BK                    6.619           6.400         None\n",
       "11          BK                    7.823           8.327         None\n",
       "18          TP                    7.282           9.828         None\n",
       "24          TP                    4.548          10.929           BK\n",
       "40          TP                    9.795          10.092         None"
      ]
     },
     "execution_count": 45,
     "metadata": {},
     "output_type": "execute_result"
    }
   ],
   "source": [
    "fix_distance[['branch_code','distance_to_customer_KM','distance_check','branch_check']].head()"
   ]
  },
  {
   "cell_type": "markdown",
   "metadata": {},
   "source": [
    "By looking at the column above, we can see that there are some rows, that the distance did not mach any of the correct distance to branch_code. To these column, we can adjust the value of distance_to_customer_KM based on branch_code."
   ]
  },
  {
   "cell_type": "code",
   "execution_count": 46,
   "metadata": {},
   "outputs": [
    {
     "data": {
      "text/html": [
       "<div>\n",
       "<style scoped>\n",
       "    .dataframe tbody tr th:only-of-type {\n",
       "        vertical-align: middle;\n",
       "    }\n",
       "\n",
       "    .dataframe tbody tr th {\n",
       "        vertical-align: top;\n",
       "    }\n",
       "\n",
       "    .dataframe thead th {\n",
       "        text-align: right;\n",
       "    }\n",
       "</style>\n",
       "<table border=\"1\" class=\"dataframe\">\n",
       "  <thead>\n",
       "    <tr style=\"text-align: right;\">\n",
       "      <th></th>\n",
       "      <th>branch_code</th>\n",
       "      <th>distance_to_customer_KM</th>\n",
       "      <th>distance_check</th>\n",
       "      <th>branch_check</th>\n",
       "    </tr>\n",
       "  </thead>\n",
       "  <tbody>\n",
       "    <tr>\n",
       "      <td>24</td>\n",
       "      <td>TP</td>\n",
       "      <td>4.548</td>\n",
       "      <td>10.929</td>\n",
       "      <td>BK</td>\n",
       "    </tr>\n",
       "    <tr>\n",
       "      <td>61</td>\n",
       "      <td>TP</td>\n",
       "      <td>11.395</td>\n",
       "      <td>10.513</td>\n",
       "      <td>NS</td>\n",
       "    </tr>\n",
       "    <tr>\n",
       "      <td>87</td>\n",
       "      <td>NS</td>\n",
       "      <td>4.078</td>\n",
       "      <td>9.497</td>\n",
       "      <td>BK</td>\n",
       "    </tr>\n",
       "    <tr>\n",
       "      <td>142</td>\n",
       "      <td>BK</td>\n",
       "      <td>7.671</td>\n",
       "      <td>7.035</td>\n",
       "      <td>NS</td>\n",
       "    </tr>\n",
       "    <tr>\n",
       "      <td>150</td>\n",
       "      <td>TP</td>\n",
       "      <td>9.231</td>\n",
       "      <td>10.347</td>\n",
       "      <td>NS</td>\n",
       "    </tr>\n",
       "    <tr>\n",
       "      <td>153</td>\n",
       "      <td>BK</td>\n",
       "      <td>7.903</td>\n",
       "      <td>7.603</td>\n",
       "      <td>NS</td>\n",
       "    </tr>\n",
       "    <tr>\n",
       "      <td>200</td>\n",
       "      <td>BK</td>\n",
       "      <td>8.714</td>\n",
       "      <td>8.557</td>\n",
       "      <td>NS</td>\n",
       "    </tr>\n",
       "    <tr>\n",
       "      <td>261</td>\n",
       "      <td>TP</td>\n",
       "      <td>8.537</td>\n",
       "      <td>9.857</td>\n",
       "      <td>BK</td>\n",
       "    </tr>\n",
       "    <tr>\n",
       "      <td>391</td>\n",
       "      <td>NS</td>\n",
       "      <td>8.619</td>\n",
       "      <td>9.394</td>\n",
       "      <td>TP</td>\n",
       "    </tr>\n",
       "    <tr>\n",
       "      <td>419</td>\n",
       "      <td>TP</td>\n",
       "      <td>9.182</td>\n",
       "      <td>9.091</td>\n",
       "      <td>BK</td>\n",
       "    </tr>\n",
       "  </tbody>\n",
       "</table>\n",
       "</div>"
      ],
      "text/plain": [
       "    branch_code  distance_to_customer_KM  distance_check branch_check\n",
       "24           TP                    4.548          10.929           BK\n",
       "61           TP                   11.395          10.513           NS\n",
       "87           NS                    4.078           9.497           BK\n",
       "142          BK                    7.671           7.035           NS\n",
       "150          TP                    9.231          10.347           NS\n",
       "153          BK                    7.903           7.603           NS\n",
       "200          BK                    8.714           8.557           NS\n",
       "261          TP                    8.537           9.857           BK\n",
       "391          NS                    8.619           9.394           TP\n",
       "419          TP                    9.182           9.091           BK"
      ]
     },
     "execution_count": 46,
     "metadata": {},
     "output_type": "execute_result"
    }
   ],
   "source": [
    "branch_check_df[['branch_code','distance_to_customer_KM','distance_check','branch_check']]"
   ]
  },
  {
   "cell_type": "markdown",
   "metadata": {},
   "source": [
    "And to the column, that the distance_to_customer_KM actually matchs the correct values of correct distance, then we can conclude that the branch_code here is erroneous because there is very unlikely that distance_to_customer_KM can be erroneous. To these rows, we can fix by adjust the branch_code based on the distance_to_customer_KM."
   ]
  },
  {
   "cell_type": "code",
   "execution_count": 47,
   "metadata": {},
   "outputs": [],
   "source": [
    "for index, loc in branch_check_df.iterrows():\n",
    "    dirty.at[index,'branch_code'] = dirty.at[index,'branch_check']\n",
    "    dirty.at[index,'error'] = 'branch_code'"
   ]
  },
  {
   "cell_type": "code",
   "execution_count": 48,
   "metadata": {},
   "outputs": [],
   "source": [
    "fix_dist_index = fix_distance[fix_distance['branch_check'].isnull()]\n",
    "for index, loc in fix_dist_index.iterrows():\n",
    "    dirty.at[index,'distance_to_customer_KM'] = fix_dist_index.at[index, 'distance_check']\n",
    "    dirty.at[index,'error'] = 'distance_to_customer_KM'"
   ]
  },
  {
   "cell_type": "markdown",
   "metadata": {},
   "source": [
    "## 8. delivery fee and customerhasloyalty?"
   ]
  },
  {
   "cell_type": "markdown",
   "metadata": {},
   "source": [
    "At first, we will look at the column deliver_fee to check if any error. The delivery_fee will be discounted 50% if the customer has loyalty. We will create a column that contain the original fee by multiplying the delivery fee with two if the customer has loyalty, otherwise with one."
   ]
  },
  {
   "cell_type": "code",
   "execution_count": 49,
   "metadata": {},
   "outputs": [
    {
     "data": {
      "application/vnd.jupyter.widget-view+json": {
       "model_id": "4f92d27ed12947ceb8bfaad6e1febb76",
       "version_major": 2,
       "version_minor": 0
      },
      "text/plain": [
       "HBox(children=(IntProgress(value=1, bar_style='info', max=1), HTML(value='')))"
      ]
     },
     "metadata": {},
     "output_type": "display_data"
    },
    {
     "name": "stdout",
     "output_type": "stream",
     "text": [
      "\n"
     ]
    }
   ],
   "source": [
    "dirty['ori_fee'] = 0. #initiate a column of original delivery fee\n",
    "for index, loc in tqdm(dirty.iterrows()):\n",
    "    if loc['customerHasloyalty?'] == 1:\n",
    "        dirty.at[index,'ori_fee'] = 2*dirty.at[index,'delivery_fee']\n",
    "    else:\n",
    "        dirty.at[index,'ori_fee'] = dirty.at[index,'delivery_fee']"
   ]
  },
  {
   "cell_type": "code",
   "execution_count": 50,
   "metadata": {},
   "outputs": [],
   "source": [
    "dirty['date'] = dirty['date'].apply(lambda x: datetime.strptime(x, '%Y-%m-%d')) # change date column to date time\n",
    "dirty['weekend'] = dirty['date'].apply(lambda x: day(x.weekday())) #one hot encode weekend/weekday column\n",
    "dirty['timeofday'] = dirty['order_type'].apply(lambda x: timeofday(x)) #one hot encode order_type column"
   ]
  },
  {
   "cell_type": "markdown",
   "metadata": {},
   "source": [
    "We will look at among order of the customers who have loyalty, if any outliers found. Outliers mean that the discounted may or may not be applied appropriately."
   ]
  },
  {
   "cell_type": "code",
   "execution_count": 51,
   "metadata": {},
   "outputs": [
    {
     "name": "stderr",
     "output_type": "stream",
     "text": [
      "D:\\Anacoda\\lib\\site-packages\\ipykernel_launcher.py:1: UserWarning: Boolean Series key will be reindexed to match DataFrame index.\n",
      "  \"\"\"Entry point for launching an IPython kernel.\n"
     ]
    },
    {
     "data": {
      "text/plain": [
       "<matplotlib.axes._subplots.AxesSubplot at 0x2b0a7e31ec8>"
      ]
     },
     "execution_count": 51,
     "metadata": {},
     "output_type": "execute_result"
    },
    {
     "data": {
      "image/png": "[encoded data removed]",
      "text/plain": [
       "<Figure size 432x288 with 1 Axes>"
      ]
     },
     "metadata": {
      "needs_background": "light"
     },
     "output_type": "display_data"
    }
   ],
   "source": [
    "ns_notnull = dirty[dirty['branch_code'] == 'NS'][dirty['customerHasloyalty?'] == 1]\n",
    "ns = ns_notnull[['ori_fee','distance_to_customer_KM','timeofday','weekend']]\n",
    "ns.plot(y = 'ori_fee', x = 'distance_to_customer_KM', kind = 'scatter')"
   ]
  },
  {
   "cell_type": "code",
   "execution_count": 52,
   "metadata": {},
   "outputs": [
    {
     "name": "stdout",
     "output_type": "stream",
     "text": [
      "There are 13 order that the delivery_fee too high among at branch Nickolson for the customers who have loyalty.\n"
     ]
    }
   ],
   "source": [
    "print('There are {} order that the delivery_fee too high among at branch Nickolson for the customers who have loyalty.'.format(len(ns_notnull[ns_notnull['ori_fee'] > 21]['customerHasloyalty?'])))"
   ]
  },
  {
   "cell_type": "code",
   "execution_count": 53,
   "metadata": {},
   "outputs": [
    {
     "data": {
      "text/plain": [
       "                           237\n",
       "distance_to_customer_KM     37\n",
       "date                        37\n",
       "order_type                  37\n",
       "customer_lat                37\n",
       "order_items                 37\n",
       "wrong order_price           37\n",
       "branch_code                 37\n",
       "long_lat_swap                4\n",
       "Name: error, dtype: int64"
      ]
     },
     "execution_count": 53,
     "metadata": {},
     "output_type": "execute_result"
    }
   ],
   "source": [
    "dirty['error'].value_counts()"
   ]
  },
  {
   "cell_type": "markdown",
   "metadata": {},
   "source": [
    "We found 13 outlier over here, which means that the fees should be discounted at 50%. We will fix it and mark it as 'loyalty' error. The original price should be discounted."
   ]
  },
  {
   "cell_type": "code",
   "execution_count": 54,
   "metadata": {},
   "outputs": [],
   "source": [
    "#fixing ns loyalty\n",
    "for index, loc in ns_notnull[ns_notnull['ori_fee'] > 21].iterrows():\n",
    "    dirty.at[index,'customerHasloyalty?'] = 0 #because originally ori_fee was multiplied by 2\n",
    "    dirty.at[index,'ori_fee'] = dirty.at[index,'ori_fee']/2 #Original fees of these case is the same\n",
    "    dirty.at[index,'error'] = 'loyalty'"
   ]
  },
  {
   "cell_type": "code",
   "execution_count": 55,
   "metadata": {},
   "outputs": [
    {
     "data": {
      "text/plain": [
       "                           224\n",
       "distance_to_customer_KM     37\n",
       "date                        37\n",
       "order_type                  37\n",
       "customer_lat                37\n",
       "order_items                 37\n",
       "wrong order_price           37\n",
       "branch_code                 37\n",
       "loyalty                     13\n",
       "long_lat_swap                4\n",
       "Name: error, dtype: int64"
      ]
     },
     "execution_count": 55,
     "metadata": {},
     "output_type": "execute_result"
    }
   ],
   "source": [
    "dirty['error'].value_counts()"
   ]
  },
  {
   "cell_type": "markdown",
   "metadata": {},
   "source": [
    "We will look at among order of the customers who have loyalty at branch TP now."
   ]
  },
  {
   "cell_type": "code",
   "execution_count": 56,
   "metadata": {},
   "outputs": [
    {
     "name": "stderr",
     "output_type": "stream",
     "text": [
      "D:\\Anacoda\\lib\\site-packages\\ipykernel_launcher.py:2: UserWarning: Boolean Series key will be reindexed to match DataFrame index.\n",
      "  \n"
     ]
    },
    {
     "data": {
      "text/plain": [
       "<matplotlib.axes._subplots.AxesSubplot at 0x2b0a7dd5748>"
      ]
     },
     "execution_count": 56,
     "metadata": {},
     "output_type": "execute_result"
    },
    {
     "data": {
      "image/png": "[encoded data removed]",
      "text/plain": [
       "<Figure size 432x288 with 1 Axes>"
      ]
     },
     "metadata": {
      "needs_background": "light"
     },
     "output_type": "display_data"
    }
   ],
   "source": [
    "#tp_notnull = dirty[dirty['error'] == '']\n",
    "tp_notnull = dirty[dirty['branch_code'] == 'TP'][dirty['customerHasloyalty?'] == 1]\n",
    "tp = tp_notnull[['ori_fee','distance_to_customer_KM','timeofday','weekend']]\n",
    "tp.plot(y = 'ori_fee', x = 'distance_to_customer_KM', kind = 'scatter')"
   ]
  },
  {
   "cell_type": "code",
   "execution_count": 57,
   "metadata": {},
   "outputs": [
    {
     "name": "stdout",
     "output_type": "stream",
     "text": [
      "There are 8 order that the delivery_fee too high among at branch TP for the customers who have loyalty.\n"
     ]
    }
   ],
   "source": [
    "print('There are {} order that the delivery_fee too high among at branch TP for the customers who have loyalty.'.format(len(tp_notnull[tp_notnull['ori_fee'] > 21]['customerHasloyalty?'])))"
   ]
  },
  {
   "cell_type": "markdown",
   "metadata": {},
   "source": [
    "We will fix these accordingly. "
   ]
  },
  {
   "cell_type": "code",
   "execution_count": 58,
   "metadata": {},
   "outputs": [],
   "source": [
    "for index, loc in tp_notnull[tp_notnull['ori_fee'] > 20].iterrows():\n",
    "    dirty.at[index,'customerHasloyalty?'] = 0 #because originally ori_fee was multiplied by 2\n",
    "    dirty.at[index,'ori_fee'] = dirty.at[index,'ori_fee']/2 #Original fees of these case is the same\n",
    "    dirty.at[index,'error'] = 'loyalty'"
   ]
  },
  {
   "cell_type": "code",
   "execution_count": 59,
   "metadata": {},
   "outputs": [
    {
     "data": {
      "text/plain": [
       "                           216\n",
       "distance_to_customer_KM     37\n",
       "date                        37\n",
       "order_type                  37\n",
       "customer_lat                37\n",
       "order_items                 37\n",
       "wrong order_price           37\n",
       "branch_code                 37\n",
       "loyalty                     21\n",
       "long_lat_swap                4\n",
       "Name: error, dtype: int64"
      ]
     },
     "execution_count": 59,
     "metadata": {},
     "output_type": "execute_result"
    }
   ],
   "source": [
    "dirty['error'].value_counts()"
   ]
  },
  {
   "cell_type": "markdown",
   "metadata": {},
   "source": [
    "We will look at among order of the customers who have loyalty at branch BK now."
   ]
  },
  {
   "cell_type": "code",
   "execution_count": 60,
   "metadata": {},
   "outputs": [
    {
     "name": "stderr",
     "output_type": "stream",
     "text": [
      "D:\\Anacoda\\lib\\site-packages\\ipykernel_launcher.py:1: UserWarning: Boolean Series key will be reindexed to match DataFrame index.\n",
      "  \"\"\"Entry point for launching an IPython kernel.\n"
     ]
    },
    {
     "data": {
      "text/plain": [
       "<matplotlib.axes._subplots.AxesSubplot at 0x2b0a7d1a808>"
      ]
     },
     "execution_count": 60,
     "metadata": {},
     "output_type": "execute_result"
    },
    {
     "data": {
      "image/png": "[encoded data removed]",
      "text/plain": [
       "<Figure size 432x288 with 1 Axes>"
      ]
     },
     "metadata": {
      "needs_background": "light"
     },
     "output_type": "display_data"
    }
   ],
   "source": [
    "bk_notnull = dirty[dirty['branch_code'] == 'BK'][dirty['customerHasloyalty?'] == 1]\n",
    "bk = bk_notnull[['ori_fee','distance_to_customer_KM','timeofday','weekend']]\n",
    "bk.plot(y = 'ori_fee', x = 'distance_to_customer_KM', kind = 'scatter')"
   ]
  },
  {
   "cell_type": "code",
   "execution_count": 61,
   "metadata": {},
   "outputs": [
    {
     "name": "stdout",
     "output_type": "stream",
     "text": [
      "There are 13 order that the delivery_fee too high among at branch BK for the customers who have loyalty.\n"
     ]
    }
   ],
   "source": [
    "print('There are {} order that the delivery_fee too high among at branch BK for the customers who have loyalty.'.format(len(bk_notnull[bk_notnull['ori_fee'] > 19.5])))"
   ]
  },
  {
   "cell_type": "markdown",
   "metadata": {},
   "source": [
    "We can fix these accordingly. This mean that these customers may not have loyalty, but got discount."
   ]
  },
  {
   "cell_type": "code",
   "execution_count": 62,
   "metadata": {},
   "outputs": [],
   "source": [
    "for index, loc in bk_notnull[bk_notnull['ori_fee'] > 20].iterrows():\n",
    "    dirty.at[index,'customerHasloyalty?'] = 0 #because originally ori_fee was multiplied by 2\n",
    "    dirty.at[index,'ori_fee'] = dirty.at[index,'ori_fee']/2 #Original fees of these case is the same\n",
    "    dirty.at[index,'error'] = 'loyalty'"
   ]
  },
  {
   "cell_type": "markdown",
   "metadata": {},
   "source": [
    "Let us look at the pattern of customer has no loyalty"
   ]
  },
  {
   "cell_type": "code",
   "execution_count": 63,
   "metadata": {},
   "outputs": [
    {
     "name": "stderr",
     "output_type": "stream",
     "text": [
      "D:\\Anacoda\\lib\\site-packages\\ipykernel_launcher.py:1: UserWarning: Boolean Series key will be reindexed to match DataFrame index.\n",
      "  \"\"\"Entry point for launching an IPython kernel.\n"
     ]
    },
    {
     "data": {
      "text/plain": [
       "<matplotlib.axes._subplots.AxesSubplot at 0x2b0a7ca4748>"
      ]
     },
     "execution_count": 63,
     "metadata": {},
     "output_type": "execute_result"
    },
    {
     "data": {
      "image/png": "[encoded data removed]",
      "text/plain": [
       "<Figure size 432x288 with 1 Axes>"
      ]
     },
     "metadata": {
      "needs_background": "light"
     },
     "output_type": "display_data"
    }
   ],
   "source": [
    "ns_notnull = dirty[dirty['branch_code'] == 'NS'][dirty['customerHasloyalty?'] == 0]\n",
    "ns = ns_notnull[['ori_fee','distance_to_customer_KM','timeofday','weekend']]\n",
    "ns.plot(y = 'ori_fee', x = 'distance_to_customer_KM', kind = 'scatter')"
   ]
  },
  {
   "cell_type": "markdown",
   "metadata": {},
   "source": [
    "The data looks fair at NS branch. "
   ]
  },
  {
   "cell_type": "code",
   "execution_count": 64,
   "metadata": {},
   "outputs": [
    {
     "name": "stderr",
     "output_type": "stream",
     "text": [
      "D:\\Anacoda\\lib\\site-packages\\ipykernel_launcher.py:1: UserWarning: Boolean Series key will be reindexed to match DataFrame index.\n",
      "  \"\"\"Entry point for launching an IPython kernel.\n"
     ]
    },
    {
     "data": {
      "text/plain": [
       "<matplotlib.axes._subplots.AxesSubplot at 0x2b0a7c19b48>"
      ]
     },
     "execution_count": 64,
     "metadata": {},
     "output_type": "execute_result"
    },
    {
     "data": {
      "image/png": "[encoded data removed]",
      "text/plain": [
       "<Figure size 432x288 with 1 Axes>"
      ]
     },
     "metadata": {
      "needs_background": "light"
     },
     "output_type": "display_data"
    }
   ],
   "source": [
    "tp_notnull = dirty[dirty['branch_code'] == 'TP'][dirty['customerHasloyalty?'] == 0]\n",
    "tp = tp_notnull[['ori_fee','distance_to_customer_KM','timeofday','weekend']]\n",
    "tp.plot(y = 'ori_fee', x = 'distance_to_customer_KM', kind = 'scatter')"
   ]
  },
  {
   "cell_type": "markdown",
   "metadata": {},
   "source": [
    "The data looks fair at TP branch."
   ]
  },
  {
   "cell_type": "code",
   "execution_count": 65,
   "metadata": {},
   "outputs": [
    {
     "name": "stderr",
     "output_type": "stream",
     "text": [
      "D:\\Anacoda\\lib\\site-packages\\ipykernel_launcher.py:1: UserWarning: Boolean Series key will be reindexed to match DataFrame index.\n",
      "  \"\"\"Entry point for launching an IPython kernel.\n"
     ]
    },
    {
     "data": {
      "text/plain": [
       "<matplotlib.axes._subplots.AxesSubplot at 0x2b0a7a2e688>"
      ]
     },
     "execution_count": 65,
     "metadata": {},
     "output_type": "execute_result"
    },
    {
     "data": {
      "image/png": "[encoded data removed]",
      "text/plain": [
       "<Figure size 432x288 with 1 Axes>"
      ]
     },
     "metadata": {
      "needs_background": "light"
     },
     "output_type": "display_data"
    }
   ],
   "source": [
    "bk_notnull = dirty[dirty['branch_code'] == 'BK'][dirty['customerHasloyalty?'] == 0]\n",
    "bk = bk_notnull[['ori_fee','distance_to_customer_KM','timeofday','weekend']]\n",
    "bk.plot(y = 'ori_fee', x = 'distance_to_customer_KM', kind = 'scatter')"
   ]
  },
  {
   "cell_type": "markdown",
   "metadata": {},
   "source": [
    "Right here can see some outlier, which means that some of the fee actually got discounted of 50% but the data did not indicate that those customers have loyalty. So we will need to adjust the loyalty score to 1. "
   ]
  },
  {
   "cell_type": "code",
   "execution_count": 66,
   "metadata": {},
   "outputs": [
    {
     "name": "stderr",
     "output_type": "stream",
     "text": [
      "D:\\Anacoda\\lib\\site-packages\\ipykernel_launcher.py:1: UserWarning: Boolean Series key will be reindexed to match DataFrame index.\n",
      "  \"\"\"Entry point for launching an IPython kernel.\n"
     ]
    },
    {
     "data": {
      "text/plain": [
       "3"
      ]
     },
     "execution_count": 66,
     "metadata": {},
     "output_type": "execute_result"
    }
   ],
   "source": [
    "len(bk_notnull[bk_notnull['ori_fee'] < 8][bk_notnull['distance_to_customer_KM'] < 8]) + len(bk_notnull[bk_notnull['ori_fee'] < 12][bk_notnull['distance_to_customer_KM'] > 9])\n"
   ]
  },
  {
   "cell_type": "markdown",
   "metadata": {},
   "source": [
    "There are three such outliers, we can fix them by multiplying the delivery with two, as the order should not have discounts. "
   ]
  },
  {
   "cell_type": "code",
   "execution_count": 67,
   "metadata": {},
   "outputs": [
    {
     "name": "stderr",
     "output_type": "stream",
     "text": [
      "D:\\Anacoda\\lib\\site-packages\\ipykernel_launcher.py:1: UserWarning: Boolean Series key will be reindexed to match DataFrame index.\n",
      "  \"\"\"Entry point for launching an IPython kernel.\n",
      "D:\\Anacoda\\lib\\site-packages\\ipykernel_launcher.py:5: UserWarning: Boolean Series key will be reindexed to match DataFrame index.\n",
      "  \"\"\"\n"
     ]
    }
   ],
   "source": [
    "for index, loc in bk_notnull[bk_notnull['ori_fee'] < 8][bk_notnull['distance_to_customer_KM'] < 8].iterrows():\n",
    "    dirty.at[index,'customerHasloyalty?'] = 1 #because originally ori_fee was multiplied by 2\n",
    "    dirty.at[index,'ori_fee'] = dirty.at[index,'ori_fee']*2 #Original fees of these case is the same\n",
    "    dirty.at[index,'error'] = 'loyalty'\n",
    "for index, loc in bk_notnull[bk_notnull['ori_fee'] < 12][bk_notnull['distance_to_customer_KM'] > 9].iterrows():\n",
    "    dirty.at[index,'customerHasloyalty?'] = 1 #because originally ori_fee was multiplied by 2\n",
    "    dirty.at[index,'ori_fee'] = dirty.at[index,'ori_fee']*2 #Original fees of these case is the same\n",
    "    dirty.at[index,'error'] = 'loyalty'"
   ]
  },
  {
   "cell_type": "code",
   "execution_count": 68,
   "metadata": {},
   "outputs": [],
   "source": [
    "dirty_output =  dirty[ori_col]"
   ]
  },
  {
   "cell_type": "code",
   "execution_count": 69,
   "metadata": {},
   "outputs": [],
   "source": [
    "dirty_output.to_csv('Group102_dirty_data_solution.csv')"
   ]
  },
  {
   "cell_type": "markdown",
   "metadata": {},
   "source": [
    "# B. Missing data"
   ]
  },
  {
   "cell_type": "markdown",
   "metadata": {},
   "source": [
    "According to specification 4 of assignment: \n",
    "* There are no data anomalies in the file <GroupName>_outlier_data.csv, only outliers.\n",
    "Similarly, there are no data anomalies other than missing value problems in the file\n",
    "<GroupName>_missing_data.csv"
   ]
  },
  {
   "cell_type": "code",
   "execution_count": 70,
   "metadata": {},
   "outputs": [],
   "source": [
    "missing = pd.read_csv('Group102_missing_data.csv')\n",
    "org_col = missing.columns # saving the original columns for output"
   ]
  },
  {
   "cell_type": "code",
   "execution_count": 71,
   "metadata": {},
   "outputs": [
    {
     "data": {
      "text/plain": [
       "order_id                     0\n",
       "date                         0\n",
       "time                         0\n",
       "order_type                   0\n",
       "branch_code                100\n",
       "order_items                  0\n",
       "order_price                  0\n",
       "customer_lat                 0\n",
       "customer_lon                 0\n",
       "customerHasloyalty?          0\n",
       "distance_to_customer_KM     50\n",
       "delivery_fee                50\n",
       "dtype: int64"
      ]
     },
     "execution_count": 71,
     "metadata": {},
     "output_type": "execute_result"
    }
   ],
   "source": [
    "missing.isnull().sum()"
   ]
  },
  {
   "cell_type": "markdown",
   "metadata": {},
   "source": [
    "There are 100 missing values in column branch_code, 50 in distance_to_customer_KM, and 50 in delivery_fee"
   ]
  },
  {
   "cell_type": "markdown",
   "metadata": {},
   "source": [
    "According to the specification 8 of the assginment: \n",
    "\n",
    "* The restaurant uses Djikstra algorithm to calculate the shortest distance between customer\n",
    "and restaurant. \n",
    "\n",
    "We will create a column node to store node (from nodes.csv), weekend stored in encoded variable (1 for weekend, 0 for weekday) and timeofday in encoded form (0 for morning, 1 afternoon, 2 evening)"
   ]
  },
  {
   "cell_type": "code",
   "execution_count": 72,
   "metadata": {},
   "outputs": [],
   "source": [
    "missing['node'] = missing[['customer_lat','customer_lon']].apply(lambda x: get_node(*x), axis=1)\n",
    "missing['distance_to_customer_KM'] = missing['distance_to_customer_KM'].apply(lambda x: round(x,3))\n",
    "missing['date'] = missing['date'].apply(lambda x: datetime.strptime(x, '%Y-%m-%d'))\n",
    "missing['weekend'] = missing['date'].apply(lambda x: day(x.weekday()))\n",
    "missing['timeofday'] = missing['order_type'].apply(lambda x: timeofday(x))"
   ]
  },
  {
   "cell_type": "markdown",
   "metadata": {},
   "source": [
    "For further analysis, we will calculate the distance from each customer's node to each branch's node."
   ]
  },
  {
   "cell_type": "code",
   "execution_count": 73,
   "metadata": {},
   "outputs": [
    {
     "data": {
      "application/vnd.jupyter.widget-view+json": {
       "model_id": "12dd106dbeac4dea9aabdca3f21c8854",
       "version_major": 2,
       "version_minor": 0
      },
      "text/plain": [
       "HBox(children=(IntProgress(value=1, bar_style='info', max=1), HTML(value='')))"
      ]
     },
     "metadata": {},
     "output_type": "display_data"
    },
    {
     "name": "stdout",
     "output_type": "stream",
     "text": [
      "\n"
     ]
    }
   ],
   "source": [
    "for index, loc in tqdm(missing[missing['branch_code'].isnull()].iterrows()):\n",
    "    missing.at[index,'dist_to_TP'] = distance(missing.at[index,'node'],TP)\n",
    "    missing.at[index,'dist_to_NS'] = distance(missing.at[index,'node'],NS)\n",
    "    missing.at[index,'dist_to_BK'] = distance(missing.at[index,'node'],BK)"
   ]
  },
  {
   "cell_type": "markdown",
   "metadata": {},
   "source": [
    "## 1. branch_code and distance_to_customer_KM"
   ]
  },
  {
   "cell_type": "markdown",
   "metadata": {},
   "source": [
    "Now we will investigate missing values for branch_code column. "
   ]
  },
  {
   "cell_type": "code",
   "execution_count": 74,
   "metadata": {},
   "outputs": [],
   "source": [
    "bmissing = missing[missing['branch_code'].isnull()]"
   ]
  },
  {
   "cell_type": "code",
   "execution_count": 75,
   "metadata": {},
   "outputs": [
    {
     "name": "stdout",
     "output_type": "stream",
     "text": [
      "There are 100 missing in branch_code column\n"
     ]
    }
   ],
   "source": [
    "print('There are {} missing in branch_code column'.format(len(bmissing)))"
   ]
  },
  {
   "cell_type": "markdown",
   "metadata": {},
   "source": [
    "We will see among 100 columns, any other columns has missing value"
   ]
  },
  {
   "cell_type": "code",
   "execution_count": 76,
   "metadata": {},
   "outputs": [
    {
     "data": {
      "text/plain": [
       "order_id                     0\n",
       "date                         0\n",
       "time                         0\n",
       "order_type                   0\n",
       "branch_code                100\n",
       "order_items                  0\n",
       "order_price                  0\n",
       "customer_lat                 0\n",
       "customer_lon                 0\n",
       "customerHasloyalty?          0\n",
       "distance_to_customer_KM     50\n",
       "delivery_fee                 0\n",
       "node                         0\n",
       "weekend                      0\n",
       "timeofday                    0\n",
       "dist_to_TP                   0\n",
       "dist_to_NS                   0\n",
       "dist_to_BK                   0\n",
       "dtype: int64"
      ]
     },
     "execution_count": 76,
     "metadata": {},
     "output_type": "execute_result"
    }
   ],
   "source": [
    "bmissing.isnull().sum()"
   ]
  },
  {
   "cell_type": "markdown",
   "metadata": {},
   "source": [
    "Besides 100 missing value in branch_code, there are 50 missing value in distance_to_customer_KM. branch_code can be found by calculating the distance from customer's geolocation, and we can compared the calculated distance to the distance_to_customer_KM to find the exact branch_code. Clearly in this case, we can only do so for 50 rows. \n",
    "\n",
    "We will create a new column name 'fill' to mark the value that has been filled (1 filled, 0 not filled). And solve the 50 missing values that have distance_to_customer_KM in the same row."
   ]
  },
  {
   "cell_type": "code",
   "execution_count": 77,
   "metadata": {},
   "outputs": [],
   "source": [
    "#Here we can find the missing branchcode based on the distance_to_customer_KM and node\n",
    "missing['fill'] = 0\n",
    "for index, loc in bmissing.iterrows():\n",
    "    missing.at[index,'branch_code'] = find_branch_given_dist(missing.at[index,'node'],missing.at[index,'distance_to_customer_KM'])\n",
    "    missing.at[index,'fill'] = 1"
   ]
  },
  {
   "cell_type": "markdown",
   "metadata": {},
   "source": [
    "After filling the missing value, we can have a look at the missing value in missing dataframe"
   ]
  },
  {
   "cell_type": "code",
   "execution_count": 78,
   "metadata": {},
   "outputs": [
    {
     "data": {
      "text/plain": [
       "order_id                     0\n",
       "date                         0\n",
       "time                         0\n",
       "order_type                   0\n",
       "branch_code                 50\n",
       "order_items                  0\n",
       "order_price                  0\n",
       "customer_lat                 0\n",
       "customer_lon                 0\n",
       "customerHasloyalty?          0\n",
       "distance_to_customer_KM     50\n",
       "delivery_fee                50\n",
       "node                         0\n",
       "weekend                      0\n",
       "timeofday                    0\n",
       "dist_to_TP                 400\n",
       "dist_to_NS                 400\n",
       "dist_to_BK                 400\n",
       "fill                         0\n",
       "dtype: int64"
      ]
     },
     "execution_count": 78,
     "metadata": {},
     "output_type": "execute_result"
    }
   ],
   "source": [
    "missing.isnull().sum()"
   ]
  },
  {
   "cell_type": "markdown",
   "metadata": {},
   "source": [
    "dis_to_XX is the three column we created for comparing purposes, so they are not important. Now we can see that 50 missing values have been solved. We now look that the next 50 missing value in this column."
   ]
  },
  {
   "cell_type": "markdown",
   "metadata": {},
   "source": [
    "Because among these 50 columns, we can only rely on the clue of delivery fee to infer the distance. According to the specifications 7 of the assignment:\n",
    "    \n",
    "   * 7. Delivery fee is calculated using a different method for each branch.\n",
    "The fee depends linearly (but in different ways for each branch) on:\n",
    "        * weekend or weekday (1 or 0) - as a continuous variable\n",
    "        * time of the day (morning 0, afternoon 1, evening 2) - as a continuous variable\n",
    "        * distance between branch and customer"
   ]
  },
  {
   "cell_type": "markdown",
   "metadata": {},
   "source": [
    "So our approach is that we can use linear regression on the rows that do not have missing value. From these linear models, we can use the coefficient to estimate the distance from customer to the branches. We then use these calculated (3 values) to compare with the customer's distance to the three branches, and pick the one that has the least difference."
   ]
  },
  {
   "cell_type": "markdown",
   "metadata": {},
   "source": [
    "However, we will need to consider the distcounted fee for the customer who have loyalty. To simplify the matter, we will only consider the original delivery fee before discounted. We will create a column ori_fee to store these value. If the customer has loyalty, the ori_fee is double the amount of delivery fee, otherwise equal."
   ]
  },
  {
   "cell_type": "code",
   "execution_count": 79,
   "metadata": {},
   "outputs": [
    {
     "data": {
      "application/vnd.jupyter.widget-view+json": {
       "model_id": "78348cbfbabb4451b02e0bf3e2375d59",
       "version_major": 2,
       "version_minor": 0
      },
      "text/plain": [
       "HBox(children=(IntProgress(value=1, bar_style='info', max=1), HTML(value='')))"
      ]
     },
     "metadata": {},
     "output_type": "display_data"
    },
    {
     "name": "stdout",
     "output_type": "stream",
     "text": [
      "\n"
     ]
    }
   ],
   "source": [
    "for index, loc in tqdm(missing.iterrows()):\n",
    "    if loc['customerHasloyalty?'] == 1:\n",
    "        missing.at[index,'ori_fee'] = 2*missing.at[index,'delivery_fee']\n",
    "    else:\n",
    "        missing.at[index,'ori_fee'] = missing.at[index,'delivery_fee']"
   ]
  },
  {
   "cell_type": "markdown",
   "metadata": {},
   "source": [
    "We will see how many missing value in ori_fee"
   ]
  },
  {
   "cell_type": "code",
   "execution_count": 80,
   "metadata": {},
   "outputs": [
    {
     "data": {
      "text/plain": [
       "450"
      ]
     },
     "execution_count": 80,
     "metadata": {},
     "output_type": "execute_result"
    }
   ],
   "source": [
    " len(missing[missing['ori_fee'].notnull()])"
   ]
  },
  {
   "cell_type": "markdown",
   "metadata": {},
   "source": [
    "Clearly 50 missing, because there are 50 missing delivery_fee as founded above from the missing dataset, we will deal with these values later."
   ]
  },
  {
   "cell_type": "markdown",
   "metadata": {},
   "source": [
    "Now for each branch, we wil look at the not null value of column ori_fee, and the rows of these dataframe must have available distance_to_customer_KM. From these column, a linear regression model is fitted to find the coefficients."
   ]
  },
  {
   "cell_type": "code",
   "execution_count": 81,
   "metadata": {},
   "outputs": [
    {
     "data": {
      "text/html": [
       "<table class=\"simpletable\">\n",
       "<caption>OLS Regression Results</caption>\n",
       "<tr>\n",
       "  <th>Dep. Variable:</th>         <td>ori_fee</td>     <th>  R-squared (uncentered):</th>      <td>   0.998</td> \n",
       "</tr>\n",
       "<tr>\n",
       "  <th>Model:</th>                   <td>OLS</td>       <th>  Adj. R-squared (uncentered):</th> <td>   0.998</td> \n",
       "</tr>\n",
       "<tr>\n",
       "  <th>Method:</th>             <td>Least Squares</td>  <th>  F-statistic:       </th>          <td>1.853e+04</td>\n",
       "</tr>\n",
       "<tr>\n",
       "  <th>Date:</th>             <td>Fri, 04 Oct 2019</td> <th>  Prob (F-statistic):</th>          <td>6.76e-161</td>\n",
       "</tr>\n",
       "<tr>\n",
       "  <th>Time:</th>                 <td>16:15:14</td>     <th>  Log-Likelihood:    </th>          <td> -130.85</td> \n",
       "</tr>\n",
       "<tr>\n",
       "  <th>No. Observations:</th>      <td>   124</td>      <th>  AIC:               </th>          <td>   267.7</td> \n",
       "</tr>\n",
       "<tr>\n",
       "  <th>Df Residuals:</th>          <td>   121</td>      <th>  BIC:               </th>          <td>   276.2</td> \n",
       "</tr>\n",
       "<tr>\n",
       "  <th>Df Model:</th>              <td>     3</td>      <th>                     </th>              <td> </td>    \n",
       "</tr>\n",
       "<tr>\n",
       "  <th>Covariance Type:</th>      <td>nonrobust</td>    <th>                     </th>              <td> </td>    \n",
       "</tr>\n",
       "</table>\n",
       "<table class=\"simpletable\">\n",
       "<tr>\n",
       "             <td></td>                <th>coef</th>     <th>std err</th>      <th>t</th>      <th>P>|t|</th>  <th>[0.025</th>    <th>0.975]</th>  \n",
       "</tr>\n",
       "<tr>\n",
       "  <th>distance_to_customer_KM</th> <td>    1.5405</td> <td>    0.011</td> <td>  138.440</td> <td> 0.000</td> <td>    1.518</td> <td>    1.562</td>\n",
       "</tr>\n",
       "<tr>\n",
       "  <th>timeofday</th>               <td>    0.5519</td> <td>    0.075</td> <td>    7.342</td> <td> 0.000</td> <td>    0.403</td> <td>    0.701</td>\n",
       "</tr>\n",
       "<tr>\n",
       "  <th>weekend</th>                 <td>    2.1507</td> <td>    0.143</td> <td>   14.999</td> <td> 0.000</td> <td>    1.867</td> <td>    2.435</td>\n",
       "</tr>\n",
       "</table>\n",
       "<table class=\"simpletable\">\n",
       "<tr>\n",
       "  <th>Omnibus:</th>       <td> 2.093</td> <th>  Durbin-Watson:     </th> <td>   2.239</td>\n",
       "</tr>\n",
       "<tr>\n",
       "  <th>Prob(Omnibus):</th> <td> 0.351</td> <th>  Jarque-Bera (JB):  </th> <td>   1.542</td>\n",
       "</tr>\n",
       "<tr>\n",
       "  <th>Skew:</th>          <td> 0.039</td> <th>  Prob(JB):          </th> <td>   0.462</td>\n",
       "</tr>\n",
       "<tr>\n",
       "  <th>Kurtosis:</th>      <td> 2.459</td> <th>  Cond. No.          </th> <td>    20.5</td>\n",
       "</tr>\n",
       "</table><br/><br/>Warnings:<br/>[1] Standard Errors assume that the covariance matrix of the errors is correctly specified."
      ],
      "text/plain": [
       "<class 'statsmodels.iolib.summary.Summary'>\n",
       "\"\"\"\n",
       "                                 OLS Regression Results                                \n",
       "=======================================================================================\n",
       "Dep. Variable:                ori_fee   R-squared (uncentered):                   0.998\n",
       "Model:                            OLS   Adj. R-squared (uncentered):              0.998\n",
       "Method:                 Least Squares   F-statistic:                          1.853e+04\n",
       "Date:                Fri, 04 Oct 2019   Prob (F-statistic):                   6.76e-161\n",
       "Time:                        16:15:14   Log-Likelihood:                         -130.85\n",
       "No. Observations:                 124   AIC:                                      267.7\n",
       "Df Residuals:                     121   BIC:                                      276.2\n",
       "Df Model:                           3                                                  \n",
       "Covariance Type:            nonrobust                                                  \n",
       "===========================================================================================\n",
       "                              coef    std err          t      P>|t|      [0.025      0.975]\n",
       "-------------------------------------------------------------------------------------------\n",
       "distance_to_customer_KM     1.5405      0.011    138.440      0.000       1.518       1.562\n",
       "timeofday                   0.5519      0.075      7.342      0.000       0.403       0.701\n",
       "weekend                     2.1507      0.143     14.999      0.000       1.867       2.435\n",
       "==============================================================================\n",
       "Omnibus:                        2.093   Durbin-Watson:                   2.239\n",
       "Prob(Omnibus):                  0.351   Jarque-Bera (JB):                1.542\n",
       "Skew:                           0.039   Prob(JB):                        0.462\n",
       "Kurtosis:                       2.459   Cond. No.                         20.5\n",
       "==============================================================================\n",
       "\n",
       "Warnings:\n",
       "[1] Standard Errors assume that the covariance matrix of the errors is correctly specified.\n",
       "\"\"\""
      ]
     },
     "execution_count": 81,
     "metadata": {},
     "output_type": "execute_result"
    }
   ],
   "source": [
    "ns_notnull = missing[missing['ori_fee'].notnull()]\n",
    "ns_notnull = ns_notnull[ns_notnull['distance_to_customer_KM'].notnull()]\n",
    "ns_notnull = ns_notnull[ns_notnull['branch_code'] == 'NS']\n",
    "ns = ns_notnull[['ori_fee','distance_to_customer_KM','timeofday','weekend']]\n",
    "\n",
    "X = ns[['distance_to_customer_KM','timeofday','weekend']] # here we have 2 variables for multiple regression. If you just want to use one variable for simple linear regression, then use X = df['Interest_Rate'] for example.Alternatively, you may add additional variables within the brackets\n",
    "Y = ns['ori_fee']\n",
    "model_ns = sm.OLS(Y, X).fit()\n",
    "model_ns.summary()"
   ]
  },
  {
   "cell_type": "markdown",
   "metadata": {},
   "source": [
    "We have coefficients for NS branch are: 1.5367, 0.6063, 2.1365. The adjusted R-squared value is 0.998, which means that this model is quite good, and can explain 99.8% of the variance of the dataset. We will use these coefficients to predict the null values. The predicted distance will be stored in dist_hat_NS."
   ]
  },
  {
   "cell_type": "code",
   "execution_count": 82,
   "metadata": {},
   "outputs": [
    {
     "data": {
      "text/html": [
       "<div>\n",
       "<style scoped>\n",
       "    .dataframe tbody tr th:only-of-type {\n",
       "        vertical-align: middle;\n",
       "    }\n",
       "\n",
       "    .dataframe tbody tr th {\n",
       "        vertical-align: top;\n",
       "    }\n",
       "\n",
       "    .dataframe thead th {\n",
       "        text-align: right;\n",
       "    }\n",
       "</style>\n",
       "<table border=\"1\" class=\"dataframe\">\n",
       "  <thead>\n",
       "    <tr style=\"text-align: right;\">\n",
       "      <th></th>\n",
       "      <th>order_id</th>\n",
       "      <th>date</th>\n",
       "      <th>time</th>\n",
       "      <th>order_type</th>\n",
       "      <th>branch_code</th>\n",
       "      <th>order_items</th>\n",
       "      <th>order_price</th>\n",
       "      <th>customer_lat</th>\n",
       "      <th>customer_lon</th>\n",
       "      <th>customerHasloyalty?</th>\n",
       "      <th>distance_to_customer_KM</th>\n",
       "      <th>delivery_fee</th>\n",
       "      <th>node</th>\n",
       "      <th>weekend</th>\n",
       "      <th>timeofday</th>\n",
       "      <th>dist_to_TP</th>\n",
       "      <th>dist_to_NS</th>\n",
       "      <th>dist_to_BK</th>\n",
       "      <th>fill</th>\n",
       "      <th>ori_fee</th>\n",
       "    </tr>\n",
       "  </thead>\n",
       "  <tbody>\n",
       "    <tr>\n",
       "      <td>34</td>\n",
       "      <td>ORDA09752</td>\n",
       "      <td>2018-05-29</td>\n",
       "      <td>12:54:05</td>\n",
       "      <td>Lunch</td>\n",
       "      <td>None</td>\n",
       "      <td>[('Chicken', 4), ('Fries', 1), ('Steak', 8), (...</td>\n",
       "      <td>672.00</td>\n",
       "      <td>-37.816727</td>\n",
       "      <td>145.008912</td>\n",
       "      <td>0</td>\n",
       "      <td>NaN</td>\n",
       "      <td>8.910156</td>\n",
       "      <td>5563404257</td>\n",
       "      <td>0</td>\n",
       "      <td>1</td>\n",
       "      <td>11.602</td>\n",
       "      <td>10.761</td>\n",
       "      <td>3.873</td>\n",
       "      <td>1</td>\n",
       "      <td>8.910156</td>\n",
       "    </tr>\n",
       "    <tr>\n",
       "      <td>45</td>\n",
       "      <td>ORDC03174</td>\n",
       "      <td>2018-08-09</td>\n",
       "      <td>15:16:03</td>\n",
       "      <td>Lunch</td>\n",
       "      <td>None</td>\n",
       "      <td>[('Burger', 6), ('Chicken', 5), ('Fries', 4), ...</td>\n",
       "      <td>531.60</td>\n",
       "      <td>-37.805317</td>\n",
       "      <td>144.940949</td>\n",
       "      <td>0</td>\n",
       "      <td>NaN</td>\n",
       "      <td>14.502396</td>\n",
       "      <td>702363974</td>\n",
       "      <td>0</td>\n",
       "      <td>1</td>\n",
       "      <td>10.412</td>\n",
       "      <td>9.307</td>\n",
       "      <td>9.506</td>\n",
       "      <td>1</td>\n",
       "      <td>14.502396</td>\n",
       "    </tr>\n",
       "    <tr>\n",
       "      <td>49</td>\n",
       "      <td>ORDC06727</td>\n",
       "      <td>2018-03-22</td>\n",
       "      <td>10:32:06</td>\n",
       "      <td>Breakfast</td>\n",
       "      <td>None</td>\n",
       "      <td>[('Pancake', 5), ('Coffee', 7)]</td>\n",
       "      <td>173.75</td>\n",
       "      <td>-37.800244</td>\n",
       "      <td>144.955044</td>\n",
       "      <td>0</td>\n",
       "      <td>NaN</td>\n",
       "      <td>12.762549</td>\n",
       "      <td>663120916</td>\n",
       "      <td>0</td>\n",
       "      <td>0</td>\n",
       "      <td>9.826</td>\n",
       "      <td>7.598</td>\n",
       "      <td>8.506</td>\n",
       "      <td>1</td>\n",
       "      <td>12.762549</td>\n",
       "    </tr>\n",
       "    <tr>\n",
       "      <td>53</td>\n",
       "      <td>ORDB06683</td>\n",
       "      <td>2018-11-03</td>\n",
       "      <td>18:08:27</td>\n",
       "      <td>Dinner</td>\n",
       "      <td>None</td>\n",
       "      <td>[('Fish&amp;Chips', 4), ('Shrimp', 3), ('Pasta', 3)]</td>\n",
       "      <td>384.50</td>\n",
       "      <td>-37.811583</td>\n",
       "      <td>144.945728</td>\n",
       "      <td>0</td>\n",
       "      <td>NaN</td>\n",
       "      <td>15.724240</td>\n",
       "      <td>579971507</td>\n",
       "      <td>1</td>\n",
       "      <td>2</td>\n",
       "      <td>9.874</td>\n",
       "      <td>9.932</td>\n",
       "      <td>9.955</td>\n",
       "      <td>1</td>\n",
       "      <td>15.724240</td>\n",
       "    </tr>\n",
       "    <tr>\n",
       "      <td>54</td>\n",
       "      <td>ORDX08128</td>\n",
       "      <td>2018-10-26</td>\n",
       "      <td>17:48:10</td>\n",
       "      <td>Dinner</td>\n",
       "      <td>None</td>\n",
       "      <td>[('Pasta', 9), ('Shrimp', 3), ('Fish&amp;Chips', 1...</td>\n",
       "      <td>1046.50</td>\n",
       "      <td>-37.808213</td>\n",
       "      <td>144.974359</td>\n",
       "      <td>0</td>\n",
       "      <td>NaN</td>\n",
       "      <td>13.202494</td>\n",
       "      <td>6207152063</td>\n",
       "      <td>0</td>\n",
       "      <td>2</td>\n",
       "      <td>9.319</td>\n",
       "      <td>7.204</td>\n",
       "      <td>6.430</td>\n",
       "      <td>1</td>\n",
       "      <td>13.202494</td>\n",
       "    </tr>\n",
       "  </tbody>\n",
       "</table>\n",
       "</div>"
      ],
      "text/plain": [
       "     order_id       date      time order_type branch_code                                        order_items  order_price  customer_lat  customer_lon  customerHasloyalty?  distance_to_customer_KM  delivery_fee        node  weekend  timeofday  dist_to_TP  dist_to_NS  dist_to_BK  fill    ori_fee\n",
       "34  ORDA09752 2018-05-29  12:54:05      Lunch        None  [('Chicken', 4), ('Fries', 1), ('Steak', 8), (...       672.00    -37.816727    145.008912                    0                      NaN      8.910156  5563404257        0          1      11.602      10.761       3.873     1   8.910156\n",
       "45  ORDC03174 2018-08-09  15:16:03      Lunch        None  [('Burger', 6), ('Chicken', 5), ('Fries', 4), ...       531.60    -37.805317    144.940949                    0                      NaN     14.502396   702363974        0          1      10.412       9.307       9.506     1  14.502396\n",
       "49  ORDC06727 2018-03-22  10:32:06  Breakfast        None                    [('Pancake', 5), ('Coffee', 7)]       173.75    -37.800244    144.955044                    0                      NaN     12.762549   663120916        0          0       9.826       7.598       8.506     1  12.762549\n",
       "53  ORDB06683 2018-11-03  18:08:27     Dinner        None   [('Fish&Chips', 4), ('Shrimp', 3), ('Pasta', 3)]       384.50    -37.811583    144.945728                    0                      NaN     15.724240   579971507        1          2       9.874       9.932       9.955     1  15.724240\n",
       "54  ORDX08128 2018-10-26  17:48:10     Dinner        None  [('Pasta', 9), ('Shrimp', 3), ('Fish&Chips', 1...      1046.50    -37.808213    144.974359                    0                      NaN     13.202494  6207152063        0          2       9.319       7.204       6.430     1  13.202494"
      ]
     },
     "execution_count": 82,
     "metadata": {},
     "output_type": "execute_result"
    }
   ],
   "source": [
    "ns_isnull = missing[missing['ori_fee'].notnull()]\n",
    "ns_isnull = ns_isnull[ns_isnull['distance_to_customer_KM'].isnull()]\n",
    "ns_isnull.head()"
   ]
  },
  {
   "cell_type": "code",
   "execution_count": 83,
   "metadata": {},
   "outputs": [],
   "source": [
    "_isnull = ns_isnull\n",
    "for index, loc in ns_isnull.iterrows():\n",
    "    _isnull.at[index, 'dist_hat_ns'] = (ns_isnull.at[index, 'ori_fee'] -0.6063*ns_isnull.at[index, 'timeofday'] - 2.1365*ns_isnull.at[index, 'weekend'])/1.5367"
   ]
  },
  {
   "cell_type": "markdown",
   "metadata": {},
   "source": [
    "Then we do the same with other branches like TP and BK"
   ]
  },
  {
   "cell_type": "code",
   "execution_count": 84,
   "metadata": {},
   "outputs": [
    {
     "data": {
      "text/html": [
       "<table class=\"simpletable\">\n",
       "<caption>OLS Regression Results</caption>\n",
       "<tr>\n",
       "  <th>Dep. Variable:</th>         <td>ori_fee</td>     <th>  R-squared (uncentered):</th>      <td>   0.998</td> \n",
       "</tr>\n",
       "<tr>\n",
       "  <th>Model:</th>                   <td>OLS</td>       <th>  Adj. R-squared (uncentered):</th> <td>   0.998</td> \n",
       "</tr>\n",
       "<tr>\n",
       "  <th>Method:</th>             <td>Least Squares</td>  <th>  F-statistic:       </th>          <td>2.074e+04</td>\n",
       "</tr>\n",
       "<tr>\n",
       "  <th>Date:</th>             <td>Fri, 04 Oct 2019</td> <th>  Prob (F-statistic):</th>          <td>6.67e-173</td>\n",
       "</tr>\n",
       "<tr>\n",
       "  <th>Time:</th>                 <td>16:15:14</td>     <th>  Log-Likelihood:    </th>          <td> -120.64</td> \n",
       "</tr>\n",
       "<tr>\n",
       "  <th>No. Observations:</th>      <td>   132</td>      <th>  AIC:               </th>          <td>   247.3</td> \n",
       "</tr>\n",
       "<tr>\n",
       "  <th>Df Residuals:</th>          <td>   129</td>      <th>  BIC:               </th>          <td>   255.9</td> \n",
       "</tr>\n",
       "<tr>\n",
       "  <th>Df Model:</th>              <td>     3</td>      <th>                     </th>              <td> </td>    \n",
       "</tr>\n",
       "<tr>\n",
       "  <th>Covariance Type:</th>      <td>nonrobust</td>    <th>                     </th>              <td> </td>    \n",
       "</tr>\n",
       "</table>\n",
       "<table class=\"simpletable\">\n",
       "<tr>\n",
       "             <td></td>                <th>coef</th>     <th>std err</th>      <th>t</th>      <th>P>|t|</th>  <th>[0.025</th>    <th>0.975]</th>  \n",
       "</tr>\n",
       "<tr>\n",
       "  <th>distance_to_customer_KM</th> <td>    1.2657</td> <td>    0.010</td> <td>  128.982</td> <td> 0.000</td> <td>    1.246</td> <td>    1.285</td>\n",
       "</tr>\n",
       "<tr>\n",
       "  <th>timeofday</th>               <td>    0.8480</td> <td>    0.065</td> <td>   13.056</td> <td> 0.000</td> <td>    0.719</td> <td>    0.976</td>\n",
       "</tr>\n",
       "<tr>\n",
       "  <th>weekend</th>                 <td>    1.1228</td> <td>    0.122</td> <td>    9.184</td> <td> 0.000</td> <td>    0.881</td> <td>    1.365</td>\n",
       "</tr>\n",
       "</table>\n",
       "<table class=\"simpletable\">\n",
       "<tr>\n",
       "  <th>Omnibus:</th>       <td> 3.417</td> <th>  Durbin-Watson:     </th> <td>   2.287</td>\n",
       "</tr>\n",
       "<tr>\n",
       "  <th>Prob(Omnibus):</th> <td> 0.181</td> <th>  Jarque-Bera (JB):  </th> <td>   2.902</td>\n",
       "</tr>\n",
       "<tr>\n",
       "  <th>Skew:</th>          <td>-0.341</td> <th>  Prob(JB):          </th> <td>   0.234</td>\n",
       "</tr>\n",
       "<tr>\n",
       "  <th>Kurtosis:</th>      <td> 3.249</td> <th>  Cond. No.          </th> <td>    22.1</td>\n",
       "</tr>\n",
       "</table><br/><br/>Warnings:<br/>[1] Standard Errors assume that the covariance matrix of the errors is correctly specified."
      ],
      "text/plain": [
       "<class 'statsmodels.iolib.summary.Summary'>\n",
       "\"\"\"\n",
       "                                 OLS Regression Results                                \n",
       "=======================================================================================\n",
       "Dep. Variable:                ori_fee   R-squared (uncentered):                   0.998\n",
       "Model:                            OLS   Adj. R-squared (uncentered):              0.998\n",
       "Method:                 Least Squares   F-statistic:                          2.074e+04\n",
       "Date:                Fri, 04 Oct 2019   Prob (F-statistic):                   6.67e-173\n",
       "Time:                        16:15:14   Log-Likelihood:                         -120.64\n",
       "No. Observations:                 132   AIC:                                      247.3\n",
       "Df Residuals:                     129   BIC:                                      255.9\n",
       "Df Model:                           3                                                  \n",
       "Covariance Type:            nonrobust                                                  \n",
       "===========================================================================================\n",
       "                              coef    std err          t      P>|t|      [0.025      0.975]\n",
       "-------------------------------------------------------------------------------------------\n",
       "distance_to_customer_KM     1.2657      0.010    128.982      0.000       1.246       1.285\n",
       "timeofday                   0.8480      0.065     13.056      0.000       0.719       0.976\n",
       "weekend                     1.1228      0.122      9.184      0.000       0.881       1.365\n",
       "==============================================================================\n",
       "Omnibus:                        3.417   Durbin-Watson:                   2.287\n",
       "Prob(Omnibus):                  0.181   Jarque-Bera (JB):                2.902\n",
       "Skew:                          -0.341   Prob(JB):                        0.234\n",
       "Kurtosis:                       3.249   Cond. No.                         22.1\n",
       "==============================================================================\n",
       "\n",
       "Warnings:\n",
       "[1] Standard Errors assume that the covariance matrix of the errors is correctly specified.\n",
       "\"\"\""
      ]
     },
     "execution_count": 84,
     "metadata": {},
     "output_type": "execute_result"
    }
   ],
   "source": [
    "tp_notnull = missing[missing['ori_fee'].notnull()]\n",
    "tp_notnull = tp_notnull[tp_notnull['distance_to_customer_KM'].notnull()]\n",
    "tp_notnull = tp_notnull[tp_notnull['branch_code'] == 'TP']\n",
    "tp = tp_notnull[['ori_fee','distance_to_customer_KM','timeofday','weekend']]\n",
    "\n",
    "\n",
    "X = tp[['distance_to_customer_KM','timeofday','weekend']] # here we have 2 variables for multiple regression. If you just want to use one variable for simple linear regression, then use X = df['Interest_Rate'] for example.Alternatively, you may add additional variables within the brackets\n",
    "Y = tp['ori_fee']\n",
    "model_tp = sm.OLS(Y, X).fit()\n",
    "model_tp.summary()"
   ]
  },
  {
   "cell_type": "markdown",
   "metadata": {},
   "source": [
    "We have coefficients 1.2657, 0.8480, 1.1228 for TP"
   ]
  },
  {
   "cell_type": "code",
   "execution_count": 85,
   "metadata": {},
   "outputs": [],
   "source": [
    "tp_isnull = missing[missing['ori_fee'].notnull()]\n",
    "tp_isnull = tp_isnull[tp_isnull['distance_to_customer_KM'].isnull()]\n",
    "for index, loc in ns_isnull.iterrows():\n",
    "    _isnull.at[index, 'dist_hat_tp'] = (tp_isnull.at[index, 'ori_fee'] -0.8487*tp_isnull.at[index, 'timeofday'] - 1.1237*tp_isnull.at[index, 'weekend'])/1.2655"
   ]
  },
  {
   "cell_type": "code",
   "execution_count": 86,
   "metadata": {},
   "outputs": [
    {
     "data": {
      "text/html": [
       "<table class=\"simpletable\">\n",
       "<caption>OLS Regression Results</caption>\n",
       "<tr>\n",
       "  <th>Dep. Variable:</th>         <td>ori_fee</td>     <th>  R-squared (uncentered):</th>      <td>   0.995</td> \n",
       "</tr>\n",
       "<tr>\n",
       "  <th>Model:</th>                   <td>OLS</td>       <th>  Adj. R-squared (uncentered):</th> <td>   0.995</td> \n",
       "</tr>\n",
       "<tr>\n",
       "  <th>Method:</th>             <td>Least Squares</td>  <th>  F-statistic:       </th>          <td>   9331.</td> \n",
       "</tr>\n",
       "<tr>\n",
       "  <th>Date:</th>             <td>Fri, 04 Oct 2019</td> <th>  Prob (F-statistic):</th>          <td>6.71e-162</td>\n",
       "</tr>\n",
       "<tr>\n",
       "  <th>Time:</th>                 <td>16:15:14</td>     <th>  Log-Likelihood:    </th>          <td> -205.40</td> \n",
       "</tr>\n",
       "<tr>\n",
       "  <th>No. Observations:</th>      <td>   144</td>      <th>  AIC:               </th>          <td>   416.8</td> \n",
       "</tr>\n",
       "<tr>\n",
       "  <th>Df Residuals:</th>          <td>   141</td>      <th>  BIC:               </th>          <td>   425.7</td> \n",
       "</tr>\n",
       "<tr>\n",
       "  <th>Df Model:</th>              <td>     3</td>      <th>                     </th>              <td> </td>    \n",
       "</tr>\n",
       "<tr>\n",
       "  <th>Covariance Type:</th>      <td>nonrobust</td>    <th>                     </th>              <td> </td>    \n",
       "</tr>\n",
       "</table>\n",
       "<table class=\"simpletable\">\n",
       "<tr>\n",
       "             <td></td>                <th>coef</th>     <th>std err</th>      <th>t</th>      <th>P>|t|</th>  <th>[0.025</th>    <th>0.975]</th>  \n",
       "</tr>\n",
       "<tr>\n",
       "  <th>distance_to_customer_KM</th> <td>    1.5373</td> <td>    0.017</td> <td>   87.849</td> <td> 0.000</td> <td>    1.503</td> <td>    1.572</td>\n",
       "</tr>\n",
       "<tr>\n",
       "  <th>timeofday</th>               <td>    1.4764</td> <td>    0.099</td> <td>   14.964</td> <td> 0.000</td> <td>    1.281</td> <td>    1.672</td>\n",
       "</tr>\n",
       "<tr>\n",
       "  <th>weekend</th>                 <td>    2.5715</td> <td>    0.215</td> <td>   11.938</td> <td> 0.000</td> <td>    2.146</td> <td>    2.997</td>\n",
       "</tr>\n",
       "</table>\n",
       "<table class=\"simpletable\">\n",
       "<tr>\n",
       "  <th>Omnibus:</th>       <td> 3.139</td> <th>  Durbin-Watson:     </th> <td>   1.753</td>\n",
       "</tr>\n",
       "<tr>\n",
       "  <th>Prob(Omnibus):</th> <td> 0.208</td> <th>  Jarque-Bera (JB):  </th> <td>   2.075</td>\n",
       "</tr>\n",
       "<tr>\n",
       "  <th>Skew:</th>          <td> 0.064</td> <th>  Prob(JB):          </th> <td>   0.354</td>\n",
       "</tr>\n",
       "<tr>\n",
       "  <th>Kurtosis:</th>      <td> 2.426</td> <th>  Cond. No.          </th> <td>    20.1</td>\n",
       "</tr>\n",
       "</table><br/><br/>Warnings:<br/>[1] Standard Errors assume that the covariance matrix of the errors is correctly specified."
      ],
      "text/plain": [
       "<class 'statsmodels.iolib.summary.Summary'>\n",
       "\"\"\"\n",
       "                                 OLS Regression Results                                \n",
       "=======================================================================================\n",
       "Dep. Variable:                ori_fee   R-squared (uncentered):                   0.995\n",
       "Model:                            OLS   Adj. R-squared (uncentered):              0.995\n",
       "Method:                 Least Squares   F-statistic:                              9331.\n",
       "Date:                Fri, 04 Oct 2019   Prob (F-statistic):                   6.71e-162\n",
       "Time:                        16:15:14   Log-Likelihood:                         -205.40\n",
       "No. Observations:                 144   AIC:                                      416.8\n",
       "Df Residuals:                     141   BIC:                                      425.7\n",
       "Df Model:                           3                                                  \n",
       "Covariance Type:            nonrobust                                                  \n",
       "===========================================================================================\n",
       "                              coef    std err          t      P>|t|      [0.025      0.975]\n",
       "-------------------------------------------------------------------------------------------\n",
       "distance_to_customer_KM     1.5373      0.017     87.849      0.000       1.503       1.572\n",
       "timeofday                   1.4764      0.099     14.964      0.000       1.281       1.672\n",
       "weekend                     2.5715      0.215     11.938      0.000       2.146       2.997\n",
       "==============================================================================\n",
       "Omnibus:                        3.139   Durbin-Watson:                   1.753\n",
       "Prob(Omnibus):                  0.208   Jarque-Bera (JB):                2.075\n",
       "Skew:                           0.064   Prob(JB):                        0.354\n",
       "Kurtosis:                       2.426   Cond. No.                         20.1\n",
       "==============================================================================\n",
       "\n",
       "Warnings:\n",
       "[1] Standard Errors assume that the covariance matrix of the errors is correctly specified.\n",
       "\"\"\""
      ]
     },
     "execution_count": 86,
     "metadata": {},
     "output_type": "execute_result"
    }
   ],
   "source": [
    "bk_notnull = missing[missing['ori_fee'].notnull()]\n",
    "bk_notnull = bk_notnull[bk_notnull['distance_to_customer_KM'].notnull()]\n",
    "bk_notnull = bk_notnull[bk_notnull['branch_code'] == 'BK']\n",
    "bk = bk_notnull[['ori_fee','distance_to_customer_KM','timeofday','weekend']]\n",
    "\n",
    "X = bk[['distance_to_customer_KM','timeofday','weekend']] # here we have 2 variables for multiple regression. If you just want to use one variable for simple linear regression, then use X = df['Interest_Rate'] for example.Alternatively, you may add additional variables within the brackets\n",
    "Y = bk['ori_fee']\n",
    "model_bk = sm.OLS(Y, X).fit()\n",
    "model_bk.summary()"
   ]
  },
  {
   "cell_type": "markdown",
   "metadata": {},
   "source": [
    "We have coefficients = 1.5373 , 1.4764, 2.5715 for BK"
   ]
  },
  {
   "cell_type": "code",
   "execution_count": 87,
   "metadata": {},
   "outputs": [],
   "source": [
    "bk_isnull = missing[missing['ori_fee'].notnull()]\n",
    "bk_isnull = bk_isnull[bk_isnull['distance_to_customer_KM'].isnull()]\n",
    "for index, loc in bk_isnull.iterrows():\n",
    "    _isnull.at[index, 'dist_hat_bk'] = (bk_isnull.at[index, 'ori_fee'] -1.4893*bk_isnull.at[index, 'timeofday'] - 2.5655*bk_isnull.at[index, 'weekend'])/1.5362"
   ]
  },
  {
   "cell_type": "markdown",
   "metadata": {},
   "source": [
    "After getting predicted values, we can inspect futher."
   ]
  },
  {
   "cell_type": "code",
   "execution_count": 88,
   "metadata": {},
   "outputs": [
    {
     "data": {
      "text/html": [
       "<div>\n",
       "<style scoped>\n",
       "    .dataframe tbody tr th:only-of-type {\n",
       "        vertical-align: middle;\n",
       "    }\n",
       "\n",
       "    .dataframe tbody tr th {\n",
       "        vertical-align: top;\n",
       "    }\n",
       "\n",
       "    .dataframe thead th {\n",
       "        text-align: right;\n",
       "    }\n",
       "</style>\n",
       "<table border=\"1\" class=\"dataframe\">\n",
       "  <thead>\n",
       "    <tr style=\"text-align: right;\">\n",
       "      <th></th>\n",
       "      <th>dist_hat_tp</th>\n",
       "      <th>dist_hat_bk</th>\n",
       "      <th>dist_hat_ns</th>\n",
       "      <th>dist_to_TP</th>\n",
       "      <th>dist_to_BK</th>\n",
       "      <th>dist_to_NS</th>\n",
       "      <th>node</th>\n",
       "    </tr>\n",
       "  </thead>\n",
       "  <tbody>\n",
       "    <tr>\n",
       "      <td>34</td>\n",
       "      <td>6.370175</td>\n",
       "      <td>4.830658</td>\n",
       "      <td>5.403694</td>\n",
       "      <td>11.602</td>\n",
       "      <td>3.873</td>\n",
       "      <td>10.761</td>\n",
       "      <td>5563404257</td>\n",
       "    </tr>\n",
       "    <tr>\n",
       "      <td>45</td>\n",
       "      <td>10.789171</td>\n",
       "      <td>8.470965</td>\n",
       "      <td>9.042817</td>\n",
       "      <td>10.412</td>\n",
       "      <td>9.506</td>\n",
       "      <td>9.307</td>\n",
       "      <td>702363974</td>\n",
       "    </tr>\n",
       "    <tr>\n",
       "      <td>49</td>\n",
       "      <td>10.084986</td>\n",
       "      <td>8.307870</td>\n",
       "      <td>8.305167</td>\n",
       "      <td>9.826</td>\n",
       "      <td>8.506</td>\n",
       "      <td>7.598</td>\n",
       "      <td>663120916</td>\n",
       "    </tr>\n",
       "    <tr>\n",
       "      <td>53</td>\n",
       "      <td>10.196080</td>\n",
       "      <td>6.626832</td>\n",
       "      <td>8.053061</td>\n",
       "      <td>9.874</td>\n",
       "      <td>9.955</td>\n",
       "      <td>9.932</td>\n",
       "      <td>579971507</td>\n",
       "    </tr>\n",
       "    <tr>\n",
       "      <td>54</td>\n",
       "      <td>9.091343</td>\n",
       "      <td>6.655314</td>\n",
       "      <td>7.802365</td>\n",
       "      <td>9.319</td>\n",
       "      <td>6.430</td>\n",
       "      <td>7.204</td>\n",
       "      <td>6207152063</td>\n",
       "    </tr>\n",
       "  </tbody>\n",
       "</table>\n",
       "</div>"
      ],
      "text/plain": [
       "    dist_hat_tp  dist_hat_bk  dist_hat_ns  dist_to_TP  dist_to_BK  dist_to_NS        node\n",
       "34     6.370175     4.830658     5.403694      11.602       3.873      10.761  5563404257\n",
       "45    10.789171     8.470965     9.042817      10.412       9.506       9.307   702363974\n",
       "49    10.084986     8.307870     8.305167       9.826       8.506       7.598   663120916\n",
       "53    10.196080     6.626832     8.053061       9.874       9.955       9.932   579971507\n",
       "54     9.091343     6.655314     7.802365       9.319       6.430       7.204  6207152063"
      ]
     },
     "execution_count": 88,
     "metadata": {},
     "output_type": "execute_result"
    }
   ],
   "source": [
    "_isnull[['dist_hat_tp','dist_hat_bk','dist_hat_ns','dist_to_TP','dist_to_BK','dist_to_NS','node']].head()"
   ]
  },
  {
   "cell_type": "markdown",
   "metadata": {},
   "source": [
    "For instance, if we look at the first predicted row, three models predicted that given the deliver_fee, timeofday, and weekend variable, the distance is around 4.8 to 6.3, which is very close to distance from customer to branch BK. Then from here, we can clearly find the minimum difference to infer location."
   ]
  },
  {
   "cell_type": "code",
   "execution_count": 89,
   "metadata": {},
   "outputs": [
    {
     "data": {
      "text/plain": [
       "0.1891803262182844"
      ]
     },
     "execution_count": 89,
     "metadata": {},
     "output_type": "execute_result"
    }
   ],
   "source": [
    "abs(8.053061 - 9.932)/9.932"
   ]
  },
  {
   "cell_type": "markdown",
   "metadata": {},
   "source": [
    "This method will work well with the customer's location that have nearly equal distance to two or three branches. If we look at index 53, this customer's location is in a place that the distances from three branches to which are 9.87(TP), 9.95(BK), and 9.93(NS). The TP linear model can detect the distance 97% accuracy, while the other like BK and NS can only predict 67%, 81% respectively.Then we can now use this estimation to impute the value of missing branch_code. And also, at the same time, we can impute the missing distance_to_customer_KM."
   ]
  },
  {
   "cell_type": "code",
   "execution_count": 90,
   "metadata": {},
   "outputs": [],
   "source": [
    "def find_min(dist_hat_tp,dist_hat_ns,dist_hat_bk,dist_to_BK,dist_to_TP,dist_to_NS):\n",
    "    tp = abs(dist_hat_tp-dist_to_TP)\n",
    "    bk = abs(dist_hat_bk-dist_to_BK)\n",
    "    ns = abs(dist_hat_ns-dist_to_NS)\n",
    "    dist = min(tp,bk,ns)\n",
    "    dist_2cus = 0.\n",
    "    if dist == tp:\n",
    "        branch_code = 'TP'\n",
    "        dist_2cus = dist_to_TP\n",
    "    elif dist == bk:\n",
    "        branch_code = 'BK'\n",
    "        dist_2cus = dist_to_BK        \n",
    "    elif dist == ns:\n",
    "        branch_code = 'NS'\n",
    "        dist_2cus = dist_to_NS \n",
    "    \n",
    "    return branch_code, dist_2cus"
   ]
  },
  {
   "cell_type": "code",
   "execution_count": 91,
   "metadata": {},
   "outputs": [],
   "source": [
    "for index, loc in _isnull.iterrows():\n",
    "    _isnull.at[index,'branch_code'], _isnull.at[index,'distance_to_customer_KM'] \\\n",
    "    = find_min(_isnull.at[index,'dist_hat_tp'],\\\n",
    "               _isnull.at[index,'dist_hat_ns'],\\\n",
    "              _isnull.at[index,'dist_hat_bk'],\\\n",
    "              _isnull.at[index,'dist_to_BK'],\\\n",
    "              _isnull.at[index,'dist_to_TP'],\\\n",
    "              _isnull.at[index,'dist_to_NS']) #assign predict value to _isnull data frame\n",
    "\n"
   ]
  },
  {
   "cell_type": "code",
   "execution_count": 92,
   "metadata": {},
   "outputs": [
    {
     "data": {
      "text/html": [
       "<div>\n",
       "<style scoped>\n",
       "    .dataframe tbody tr th:only-of-type {\n",
       "        vertical-align: middle;\n",
       "    }\n",
       "\n",
       "    .dataframe tbody tr th {\n",
       "        vertical-align: top;\n",
       "    }\n",
       "\n",
       "    .dataframe thead th {\n",
       "        text-align: right;\n",
       "    }\n",
       "</style>\n",
       "<table border=\"1\" class=\"dataframe\">\n",
       "  <thead>\n",
       "    <tr style=\"text-align: right;\">\n",
       "      <th></th>\n",
       "      <th>dist_hat_tp</th>\n",
       "      <th>dist_hat_bk</th>\n",
       "      <th>dist_hat_ns</th>\n",
       "      <th>dist_to_TP</th>\n",
       "      <th>dist_to_BK</th>\n",
       "      <th>dist_to_NS</th>\n",
       "      <th>branch_code</th>\n",
       "      <th>distance_to_customer_KM</th>\n",
       "      <th>delivery_fee</th>\n",
       "      <th>weekend</th>\n",
       "      <th>timeofday</th>\n",
       "    </tr>\n",
       "  </thead>\n",
       "  <tbody>\n",
       "    <tr>\n",
       "      <td>34</td>\n",
       "      <td>6.370175</td>\n",
       "      <td>4.830658</td>\n",
       "      <td>5.403694</td>\n",
       "      <td>11.602</td>\n",
       "      <td>3.873</td>\n",
       "      <td>10.761</td>\n",
       "      <td>BK</td>\n",
       "      <td>3.873</td>\n",
       "      <td>8.910156</td>\n",
       "      <td>0</td>\n",
       "      <td>1</td>\n",
       "    </tr>\n",
       "    <tr>\n",
       "      <td>45</td>\n",
       "      <td>10.789171</td>\n",
       "      <td>8.470965</td>\n",
       "      <td>9.042817</td>\n",
       "      <td>10.412</td>\n",
       "      <td>9.506</td>\n",
       "      <td>9.307</td>\n",
       "      <td>NS</td>\n",
       "      <td>9.307</td>\n",
       "      <td>14.502396</td>\n",
       "      <td>0</td>\n",
       "      <td>1</td>\n",
       "    </tr>\n",
       "    <tr>\n",
       "      <td>49</td>\n",
       "      <td>10.084986</td>\n",
       "      <td>8.307870</td>\n",
       "      <td>8.305167</td>\n",
       "      <td>9.826</td>\n",
       "      <td>8.506</td>\n",
       "      <td>7.598</td>\n",
       "      <td>BK</td>\n",
       "      <td>8.506</td>\n",
       "      <td>12.762549</td>\n",
       "      <td>0</td>\n",
       "      <td>0</td>\n",
       "    </tr>\n",
       "    <tr>\n",
       "      <td>53</td>\n",
       "      <td>10.196080</td>\n",
       "      <td>6.626832</td>\n",
       "      <td>8.053061</td>\n",
       "      <td>9.874</td>\n",
       "      <td>9.955</td>\n",
       "      <td>9.932</td>\n",
       "      <td>TP</td>\n",
       "      <td>9.874</td>\n",
       "      <td>15.724240</td>\n",
       "      <td>1</td>\n",
       "      <td>2</td>\n",
       "    </tr>\n",
       "    <tr>\n",
       "      <td>54</td>\n",
       "      <td>9.091343</td>\n",
       "      <td>6.655314</td>\n",
       "      <td>7.802365</td>\n",
       "      <td>9.319</td>\n",
       "      <td>6.430</td>\n",
       "      <td>7.204</td>\n",
       "      <td>BK</td>\n",
       "      <td>6.430</td>\n",
       "      <td>13.202494</td>\n",
       "      <td>0</td>\n",
       "      <td>2</td>\n",
       "    </tr>\n",
       "  </tbody>\n",
       "</table>\n",
       "</div>"
      ],
      "text/plain": [
       "    dist_hat_tp  dist_hat_bk  dist_hat_ns  dist_to_TP  dist_to_BK  dist_to_NS branch_code  distance_to_customer_KM  delivery_fee  weekend  timeofday\n",
       "34     6.370175     4.830658     5.403694      11.602       3.873      10.761          BK                    3.873      8.910156        0          1\n",
       "45    10.789171     8.470965     9.042817      10.412       9.506       9.307          NS                    9.307     14.502396        0          1\n",
       "49    10.084986     8.307870     8.305167       9.826       8.506       7.598          BK                    8.506     12.762549        0          0\n",
       "53    10.196080     6.626832     8.053061       9.874       9.955       9.932          TP                    9.874     15.724240        1          2\n",
       "54     9.091343     6.655314     7.802365       9.319       6.430       7.204          BK                    6.430     13.202494        0          2"
      ]
     },
     "execution_count": 92,
     "metadata": {},
     "output_type": "execute_result"
    }
   ],
   "source": [
    "_isnull[['dist_hat_tp','dist_hat_bk','dist_hat_ns','dist_to_TP','dist_to_BK','dist_to_NS','branch_code','distance_to_customer_KM','delivery_fee','weekend','timeofday']].head()"
   ]
  },
  {
   "cell_type": "markdown",
   "metadata": {},
   "source": [
    "After imputing by mininum difference, we can see that the distance_to_customer_KM makes sense given the delivery_fee, timeofday, and weekend. Now we can update these value to the missing data."
   ]
  },
  {
   "cell_type": "code",
   "execution_count": 93,
   "metadata": {},
   "outputs": [],
   "source": [
    "for index, loc in _isnull.iterrows(): #update the pred\n",
    "    missing.at[index,'branch_code'],missing.at[index,'distance_to_customer_KM'] = _isnull.at[index,'branch_code'],_isnull.at[index,'distance_to_customer_KM']"
   ]
  },
  {
   "cell_type": "markdown",
   "metadata": {},
   "source": [
    "## 2. delivery_fee"
   ]
  },
  {
   "cell_type": "markdown",
   "metadata": {},
   "source": [
    "With delivery_fee, we can use linear regression models for each branch. According to specification 7, we can look at the rows that do not have null value, and fit linear regression model for each branch. Then we will use these linear models, to predict the values of delivery_fee for missing data. \n",
    "\n",
    "   * 7. Delivery fee is calculated using a different method for each branch.\n",
    "The fee depends linearly (but in different ways for each branch) on:\n",
    "        * weekend or weekday (1 or 0) - as a continuous variable\n",
    "        * time of the day (morning 0, afternoon 1, evening 2) - as a continuous variable\n",
    "        * distance between branch and customer\n",
    "        \n",
    "Again, we will use the ori_fee column, instead of the delivery_fee to simplify the issue. After getting the predicted values for ori_fee, we can update again with the loyalty value."
   ]
  },
  {
   "cell_type": "code",
   "execution_count": 94,
   "metadata": {},
   "outputs": [
    {
     "name": "stderr",
     "output_type": "stream",
     "text": [
      "D:\\Anacoda\\lib\\site-packages\\ipykernel_launcher.py:11: UserWarning: Boolean Series key will be reindexed to match DataFrame index.\n",
      "  # This is added back by InteractiveShellApp.init_path()\n",
      "D:\\Anacoda\\lib\\site-packages\\ipykernel_launcher.py:13: UserWarning: Boolean Series key will be reindexed to match DataFrame index.\n",
      "  del sys.path[0]\n"
     ]
    }
   ],
   "source": [
    "ns_notnull = missing[missing['ori_fee'].notnull()]\n",
    "ns_notnull = ns_notnull[ns_notnull['distance_to_customer_KM'].notnull()]\n",
    "ns_notnull = ns_notnull[ns_notnull['branch_code'] == 'NS']\n",
    "ns = ns_notnull[['ori_fee','distance_to_customer_KM','timeofday','weekend']]\n",
    "\n",
    "\n",
    "X = ns[['distance_to_customer_KM','timeofday','weekend']] # here we have 2 variables for multiple regression. If you just want to use one variable for simple linear regression, then use X = df['Interest_Rate'] for example.Alternatively, you may add additional variables within the brackets\n",
    "Y = ns['ori_fee']\n",
    "model_ns = sm.OLS(Y, X).fit()\n",
    "\n",
    "pred_ori_ns = model_ns.predict(missing[missing['delivery_fee'].isnull()][missing['branch_code'] == 'NS'][['distance_to_customer_KM','timeofday','weekend']])\n",
    "\n",
    "for index, loc in missing[missing['delivery_fee'].isnull()][missing['branch_code'] == 'NS'][['ori_fee']].iterrows():\n",
    "    missing.at[index,'ori_fee'] = pred_ori_ns[index]"
   ]
  },
  {
   "cell_type": "code",
   "execution_count": 95,
   "metadata": {},
   "outputs": [
    {
     "name": "stderr",
     "output_type": "stream",
     "text": [
      "D:\\Anacoda\\lib\\site-packages\\ipykernel_launcher.py:11: UserWarning: Boolean Series key will be reindexed to match DataFrame index.\n",
      "  # This is added back by InteractiveShellApp.init_path()\n",
      "D:\\Anacoda\\lib\\site-packages\\ipykernel_launcher.py:12: UserWarning: Boolean Series key will be reindexed to match DataFrame index.\n",
      "  if sys.path[0] == '':\n"
     ]
    }
   ],
   "source": [
    "tp_notnull = missing[missing['ori_fee'].notnull()]\n",
    "tp_notnull = tp_notnull[tp_notnull['distance_to_customer_KM'].notnull()]\n",
    "tp_notnull = tp_notnull[tp_notnull['branch_code'] == 'TP']\n",
    "tp = tp_notnull[['ori_fee','distance_to_customer_KM','timeofday','weekend']]\n",
    "\n",
    "\n",
    "X = tp[['distance_to_customer_KM','timeofday','weekend']] # here we have 2 variables for multiple regression. If you just want to use one variable for simple linear regression, then use X = df['Interest_Rate'] for example.Alternatively, you may add additional variables within the brackets\n",
    "Y = tp['ori_fee']\n",
    "model_tp = sm.OLS(Y, X).fit()\n",
    "\n",
    "pred_ori_tp = model_tp.predict(missing[missing['delivery_fee'].isnull()][missing['branch_code'] == 'TP'][['distance_to_customer_KM','timeofday','weekend']])\n",
    "for index, loc in missing[missing['delivery_fee'].isnull()][missing['branch_code'] == 'TP'][['ori_fee']].iterrows():\n",
    "    missing.at[index,'ori_fee'] = pred_ori_tp[index]"
   ]
  },
  {
   "cell_type": "code",
   "execution_count": 96,
   "metadata": {},
   "outputs": [
    {
     "name": "stderr",
     "output_type": "stream",
     "text": [
      "D:\\Anacoda\\lib\\site-packages\\ipykernel_launcher.py:11: UserWarning: Boolean Series key will be reindexed to match DataFrame index.\n",
      "  # This is added back by InteractiveShellApp.init_path()\n",
      "D:\\Anacoda\\lib\\site-packages\\ipykernel_launcher.py:12: UserWarning: Boolean Series key will be reindexed to match DataFrame index.\n",
      "  if sys.path[0] == '':\n"
     ]
    }
   ],
   "source": [
    "bk_notnull = missing[missing['ori_fee'].notnull()]\n",
    "bk_notnull = bk_notnull[bk_notnull['distance_to_customer_KM'].notnull()]\n",
    "bk_notnull = bk_notnull[bk_notnull['branch_code'] == 'BK']\n",
    "bk = bk_notnull[['ori_fee','distance_to_customer_KM','timeofday','weekend']]\n",
    "\n",
    "\n",
    "X = bk[['distance_to_customer_KM','timeofday','weekend']] # here we have 2 variables for multiple regression. If you just want to use one variable for simple linear regression, then use X = df['Interest_Rate'] for example.Alternatively, you may add additional variables within the brackets\n",
    "Y = bk['ori_fee']\n",
    "model_bk = sm.OLS(Y, X).fit()\n",
    "\n",
    "pred_ori_bk = model_bk.predict(missing[missing['delivery_fee'].isnull()][missing['branch_code'] == 'BK'][['distance_to_customer_KM','timeofday','weekend']])\n",
    "for index, loc in missing[missing['delivery_fee'].isnull()][missing['branch_code'] == 'BK'][['ori_fee']].iterrows():\n",
    "    missing.at[index,'ori_fee'] = pred_ori_bk[index]"
   ]
  },
  {
   "cell_type": "code",
   "execution_count": 97,
   "metadata": {},
   "outputs": [
    {
     "name": "stdout",
     "output_type": "stream",
     "text": [
      "The adjusted R squared for TP, BK, and NS are 0.998, 0.995 and 0.998\n"
     ]
    }
   ],
   "source": [
    "print('The adjusted R squared for TP, BK, and NS are {:.3}, {:.3} and {:.3}'.format(model_tp.rsquared_adj,model_bk.rsquared_adj,model_ns.rsquared_adj))"
   ]
  },
  {
   "cell_type": "markdown",
   "metadata": {},
   "source": [
    "Look at the values above, all three models can explain for 99% of variance, then we can be confident that the predicted value of delivery_fee for each branches is really close to reality."
   ]
  },
  {
   "cell_type": "markdown",
   "metadata": {},
   "source": [
    "We can update the value for delivery_fee"
   ]
  },
  {
   "cell_type": "code",
   "execution_count": 98,
   "metadata": {},
   "outputs": [],
   "source": [
    "missing['delivery_fee'] = missing['ori_fee']/(1+missing['customerHasloyalty?'])"
   ]
  },
  {
   "cell_type": "markdown",
   "metadata": {},
   "source": [
    "We can double check again with the missing data. "
   ]
  },
  {
   "cell_type": "code",
   "execution_count": 99,
   "metadata": {},
   "outputs": [
    {
     "data": {
      "text/plain": [
       "order_id                     0\n",
       "date                         0\n",
       "time                         0\n",
       "order_type                   0\n",
       "branch_code                  0\n",
       "order_items                  0\n",
       "order_price                  0\n",
       "customer_lat                 0\n",
       "customer_lon                 0\n",
       "customerHasloyalty?          0\n",
       "distance_to_customer_KM      0\n",
       "delivery_fee                 0\n",
       "node                         0\n",
       "weekend                      0\n",
       "timeofday                    0\n",
       "dist_to_TP                 400\n",
       "dist_to_NS                 400\n",
       "dist_to_BK                 400\n",
       "fill                         0\n",
       "ori_fee                      0\n",
       "dtype: int64"
      ]
     },
     "execution_count": 99,
     "metadata": {},
     "output_type": "execute_result"
    }
   ],
   "source": [
    "missing.isnull().sum()"
   ]
  },
  {
   "cell_type": "markdown",
   "metadata": {},
   "source": [
    "So out of three columns created for EDA task, we can see that the original columns are now free from missing data. We can produce the output."
   ]
  },
  {
   "cell_type": "code",
   "execution_count": 100,
   "metadata": {},
   "outputs": [],
   "source": [
    "missing_output = missing[org_col]\n",
    "missing_output.to_csv('Group102_missing_data_solution.csv')"
   ]
  },
  {
   "cell_type": "markdown",
   "metadata": {},
   "source": [
    "# C. Outlier"
   ]
  },
  {
   "cell_type": "markdown",
   "metadata": {},
   "source": [
    "In this task, we are supposed to explore the 'outlier_data' csv file and detect outliers. There are no data anomalies in this data file, all data is clean. Thus, we will use pandas boxplot and some other plotting techniques to explore the data. If the column is univariate, we believe inter_quantile_range approach is sufficient for detecting outliers. But if the column is multi-variate, we will use a combination of linear regression residual method and inter_quantile_range method to detect outliers.\n",
    "\n",
    "* create some new columns for analysis purpose\n",
    "* univariate -> Inter Quantile Range\n",
    "* multi-variate -> Linear Regression Residual & Inter Quantile Range"
   ]
  },
  {
   "cell_type": "code",
   "execution_count": 399,
   "metadata": {},
   "outputs": [],
   "source": [
    "outlier = pd.read_csv(\"Group135_outlier_data.csv\")"
   ]
  },
  {
   "cell_type": "code",
   "execution_count": 400,
   "metadata": {},
   "outputs": [
    {
     "data": {
      "application/vnd.jupyter.widget-view+json": {
       "model_id": "7e481086ef9943cbbad33611390f9f2a",
       "version_major": 2,
       "version_minor": 0
      },
      "text/plain": [
       "HBox(children=(IntProgress(value=1, bar_style='info', max=1), HTML(value='')))"
      ]
     },
     "metadata": {},
     "output_type": "display_data"
    },
    {
     "name": "stdout",
     "output_type": "stream",
     "text": [
      "\n"
     ]
    }
   ],
   "source": [
    "outlier['ori_fee'] = 0. #initiate a column of original delivery fee\n",
    "\n",
    "# generate original delivery fee by checking customer loyalty status\n",
    "# if customer loyalty status has value 1, original delivery fee is twice as the column 'delivery_fee'\n",
    "for index, loc in tqdm(outlier.iterrows()):\n",
    "    if loc['customerHasloyalty?'] == 1:\n",
    "        outlier.at[index,'ori_fee'] = 2*outlier.at[index,'delivery_fee'] # create new column 'ori_fee' and stores its original delivery_fee\n",
    "    else:\n",
    "        outlier.at[index,'ori_fee'] = outlier.at[index,'delivery_fee'] #c reate new column 'ori_fee' and stores its original delivery_fee"
   ]
  },
  {
   "cell_type": "code",
   "execution_count": 401,
   "metadata": {},
   "outputs": [],
   "source": [
    "def qtt_items(order):\n",
    "    '''\n",
    "    takes an order from dataframe, returns the total item quantities in the order\n",
    "    '''\n",
    "    menu_qtt = re.findall(r'[0-9]+', order) # use re to find all the numerical data\n",
    "    qtt = 0\n",
    "    for each in menu_qtt:\n",
    "        qtt +=int(each) # increment the total quantity by each found matching object\n",
    "    return qtt    "
   ]
  },
  {
   "cell_type": "code",
   "execution_count": 402,
   "metadata": {},
   "outputs": [],
   "source": [
    "# create some columns to assist future statistical analysis\n",
    "outlier['node'] = outlier[['customer_lat','customer_lon']].apply(lambda x: get_node(*x), axis=1)\n",
    "outlier['distance_to_customer_KM'] = outlier['distance_to_customer_KM'].apply(lambda x: round(x,3))\n",
    "outlier['date'] = outlier['date'].apply(lambda x: datetime.strptime(x, '%Y-%m-%d'))\n",
    "outlier['weekend'] = outlier['date'].apply(lambda x: day(x.weekday()))\n",
    "outlier['timeofday'] = outlier['order_type'].apply(lambda x: timeofday(x))\n",
    "outlier['qqt_item_ordered'] = outlier['order_items'].apply(lambda x: qtt_items(x))"
   ]
  },
  {
   "cell_type": "code",
   "execution_count": 403,
   "metadata": {},
   "outputs": [
    {
     "data": {
      "text/plain": [
       "order_id                           object\n",
       "date                       datetime64[ns]\n",
       "time                               object\n",
       "order_type                         object\n",
       "branch_code                        object\n",
       "order_items                        object\n",
       "order_price                       float64\n",
       "customer_lat                      float64\n",
       "customer_lon                      float64\n",
       "customerHasloyalty?                 int64\n",
       "distance_to_customer_KM           float64\n",
       "delivery_fee                      float64\n",
       "ori_fee                           float64\n",
       "node                                int64\n",
       "weekend                             int64\n",
       "timeofday                           int64\n",
       "qqt_item_ordered                    int64\n",
       "dtype: object"
      ]
     },
     "execution_count": 403,
     "metadata": {},
     "output_type": "execute_result"
    }
   ],
   "source": [
    "outlier.dtypes"
   ]
  },
  {
   "cell_type": "code",
   "execution_count": 404,
   "metadata": {},
   "outputs": [],
   "source": [
    "# seperate numerical columns and categorical columns\n",
    "numerical = [var for var in outlier.columns if outlier[var].dtype!='O']\n",
    "categorical = [var for var in outlier.columns if outlier[var].dtype=='O']"
   ]
  },
  {
   "cell_type": "code",
   "execution_count": 405,
   "metadata": {},
   "outputs": [
    {
     "name": "stdout",
     "output_type": "stream",
     "text": [
      "There are 5 categorical variables\n",
      "There are 12 numerical variables\n"
     ]
    }
   ],
   "source": [
    "print('There are {} categorical variables'.format(len(categorical)))\n",
    "print('There are {} numerical variables'.format(len(numerical)))"
   ]
  },
  {
   "cell_type": "code",
   "execution_count": 406,
   "metadata": {},
   "outputs": [
    {
     "name": "stdout",
     "output_type": "stream",
     "text": [
      "customerHasloyalty?  values:  [0 1]\n"
     ]
    }
   ],
   "source": [
    "# examine unique values of column 'customerHasloyalty?'\n",
    "for var in ['customerHasloyalty?']:\n",
    "    print(var, ' values: ', outlier[var].unique())"
   ]
  },
  {
   "cell_type": "markdown",
   "metadata": {},
   "source": [
    "customerHasloyalty? has only two value, thus we cannot find the outliers for this column."
   ]
  },
  {
   "cell_type": "code",
   "execution_count": 407,
   "metadata": {},
   "outputs": [
    {
     "data": {
      "image/png": "[encoded data removed]",
      "text/plain": [
       "<Figure size 1080x432 with 1 Axes>"
      ]
     },
     "metadata": {
      "needs_background": "light"
     },
     "output_type": "display_data"
    },
    {
     "data": {
      "image/png": "[encoded data removed]",
      "text/plain": [
       "<Figure size 1080x432 with 1 Axes>"
      ]
     },
     "metadata": {
      "needs_background": "light"
     },
     "output_type": "display_data"
    },
    {
     "data": {
      "image/png": "[encoded data removed]",
      "text/plain": [
       "<Figure size 1080x432 with 1 Axes>"
      ]
     },
     "metadata": {
      "needs_background": "light"
     },
     "output_type": "display_data"
    },
    {
     "data": {
      "image/png": "[encoded data removed]",
      "text/plain": [
       "<Figure size 1080x432 with 1 Axes>"
      ]
     },
     "metadata": {
      "needs_background": "light"
     },
     "output_type": "display_data"
    },
    {
     "data": {
      "image/png": "[encoded data removed]",
      "text/plain": [
       "<Figure size 1080x432 with 1 Axes>"
      ]
     },
     "metadata": {
      "needs_background": "light"
     },
     "output_type": "display_data"
    },
    {
     "data": {
      "image/png": "[encoded data removed]",
      "text/plain": [
       "<Figure size 1080x432 with 1 Axes>"
      ]
     },
     "metadata": {
      "needs_background": "light"
     },
     "output_type": "display_data"
    },
    {
     "data": {
      "image/png": "[encoded data removed]",
      "text/plain": [
       "<Figure size 1080x432 with 1 Axes>"
      ]
     },
     "metadata": {
      "needs_background": "light"
     },
     "output_type": "display_data"
    },
    {
     "data": {
      "image/png": "[encoded data removed]",
      "text/plain": [
       "<Figure size 1080x432 with 1 Axes>"
      ]
     },
     "metadata": {
      "needs_background": "light"
     },
     "output_type": "display_data"
    },
    {
     "data": {
      "image/png": "[encoded data removed]",
      "text/plain": [
       "<Figure size 1080x432 with 1 Axes>"
      ]
     },
     "metadata": {
      "needs_background": "light"
     },
     "output_type": "display_data"
    },
    {
     "data": {
      "image/png": "[encoded data removed]",
      "text/plain": [
       "<Figure size 1080x432 with 1 Axes>"
      ]
     },
     "metadata": {
      "needs_background": "light"
     },
     "output_type": "display_data"
    }
   ],
   "source": [
    "# boxplot all numerical columns in order to have an overlook of the distributions\n",
    "for var in numerical:\n",
    "    if var != 'customerHasloyalty?' and var != 'date':\n",
    "        plt.figure(figsize=(15,6))\n",
    "        plt.subplot(1, 2, 1)\n",
    "        fig = outlier.boxplot(column=var)\n",
    "        fig.set_title(str(var))"
   ]
  },
  {
   "cell_type": "markdown",
   "metadata": {},
   "source": [
    "Define a function that will return outliers by IQR method.\n",
    "* IQR = Q3 - Q1\n",
    "* __*outlier*__ is any data that's smaller than $(q1 - 1.5*iqr)$ or greater than $(q3 + 1.5*iqr)$\n",
    "* return (index_list, outlier_list, count of outliers)"
   ]
  },
  {
   "cell_type": "code",
   "execution_count": 408,
   "metadata": {},
   "outputs": [],
   "source": [
    "def iqr_outlier(df,column):\n",
    "    '''\n",
    "    takes dataframe (df) and column name (column) as input, returns a list of outliers using Inter-Quantile-Range (IQR)\n",
    "    \n",
    "    return outlier_list, count of outliers\n",
    "    '''\n",
    "    q3 = df[column].quantile(.75)\n",
    "    q1 = df[column].quantile(.25)\n",
    "    iqr = q3-q1\n",
    "    outlier_list = [] # initiate outlier_list in order to store all outliers\n",
    "    index_list = []\n",
    "    # if the data is smaller than (q1 - 1.5*iqr), it's considered outlier by IQR\n",
    "    # if the data is greater than (q3 + 1.5*iqr), it's considered outlier by IQR\n",
    "    for index, rows in df[column].items():\n",
    "        if rows<(q1-1.5*iqr):\n",
    "            outlier_list.append(rows)\n",
    "            index_list.append(index)\n",
    "            \n",
    "        elif rows>(q3+1.5*iqr):\n",
    "            outlier_list.append(rows)\n",
    "            index_list.append(index)\n",
    "    count = len(outlier_list)\n",
    "    \n",
    "    return index_list,outlier_list, count"
   ]
  },
  {
   "cell_type": "markdown",
   "metadata": {},
   "source": [
    "Use iqr_outlier to detect potential outliers. Examine the detected outliers to make sure they are really outliers."
   ]
  },
  {
   "cell_type": "code",
   "execution_count": 409,
   "metadata": {},
   "outputs": [
    {
     "data": {
      "text/plain": [
       "([24, 79, 106, 363], [1445.0, 1302.5, 1287.0, 1270.0], 4)"
      ]
     },
     "execution_count": 409,
     "metadata": {},
     "output_type": "execute_result"
    }
   ],
   "source": [
    "# examine column 'order_price'\n",
    "iqr_outlier(outlier,'order_price')"
   ]
  },
  {
   "cell_type": "markdown",
   "metadata": {},
   "source": [
    " There are 4 outliers __'1322.0, 1422.5, 1279.0, 1356.5'__ in column 'order_price'. __IQR__ is a valid tester in this case because 'order_price' is not determined by any other columns. 'order_price' is a univariate column.\n",
    " \n",
    " These 4 order_price are resulted by large quantity on expensive dish order. We should remove them to avoid bias when analysing 'order_price' column."
   ]
  },
  {
   "cell_type": "code",
   "execution_count": 410,
   "metadata": {},
   "outputs": [
    {
     "data": {
      "image/png": "[encoded data removed]",
      "text/plain": [
       "<Figure size 432x288 with 1 Axes>"
      ]
     },
     "metadata": {
      "needs_background": "light"
     },
     "output_type": "display_data"
    }
   ],
   "source": [
    "bp = outlier.boxplot(column='customer_lat')"
   ]
  },
  {
   "cell_type": "code",
   "execution_count": 411,
   "metadata": {},
   "outputs": [
    {
     "data": {
      "text/html": [
       "<div>\n",
       "<style scoped>\n",
       "    .dataframe tbody tr th:only-of-type {\n",
       "        vertical-align: middle;\n",
       "    }\n",
       "\n",
       "    .dataframe tbody tr th {\n",
       "        vertical-align: top;\n",
       "    }\n",
       "\n",
       "    .dataframe thead th {\n",
       "        text-align: right;\n",
       "    }\n",
       "</style>\n",
       "<table border=\"1\" class=\"dataframe\">\n",
       "  <thead>\n",
       "    <tr style=\"text-align: right;\">\n",
       "      <th></th>\n",
       "      <th>node</th>\n",
       "      <th>lat</th>\n",
       "      <th>lon</th>\n",
       "    </tr>\n",
       "  </thead>\n",
       "  <tbody>\n",
       "    <tr>\n",
       "      <td>14829</td>\n",
       "      <td>5002706670</td>\n",
       "      <td>-38.110916</td>\n",
       "      <td>144.654173</td>\n",
       "    </tr>\n",
       "  </tbody>\n",
       "</table>\n",
       "</div>"
      ],
      "text/plain": [
       "             node        lat         lon\n",
       "14829  5002706670 -38.110916  144.654173"
      ]
     },
     "execution_count": 411,
     "metadata": {},
     "output_type": "execute_result"
    }
   ],
   "source": [
    "nodes[nodes['lat'] < -38]"
   ]
  },
  {
   "cell_type": "code",
   "execution_count": 412,
   "metadata": {},
   "outputs": [
    {
     "data": {
      "text/plain": [
       "([], [], 0)"
      ]
     },
     "execution_count": 412,
     "metadata": {},
     "output_type": "execute_result"
    }
   ],
   "source": [
    "iqr_outlier(outlier,'customer_lat')"
   ]
  },
  {
   "cell_type": "markdown",
   "metadata": {},
   "source": [
    "There's one outlier __'-38.1109156'__ in column 'customer_lat', this means that there is one customer that lives way further than others.\n",
    "\n",
    "We should remove this row for analysis purpose otherwise this single data will have too much influence on the standard deviation of this 'customer_lat' column. Besides that, the mean, distribution will also be heavily influenced by this outlier.\n",
    "\n",
    "There are some circumstances that we might want to study this outlier, such as when this customer orders very large quantity of food either regularly or occationally. But this would be of some other study interests. For this assignment, this outlier should be removed."
   ]
  },
  {
   "cell_type": "code",
   "execution_count": 413,
   "metadata": {},
   "outputs": [
    {
     "data": {
      "text/plain": [
       "<matplotlib.axes._subplots.AxesSubplot at 0x2b0abfc9808>"
      ]
     },
     "execution_count": 413,
     "metadata": {},
     "output_type": "execute_result"
    },
    {
     "data": {
      "image/png": "[encoded data removed]",
      "text/plain": [
       "<Figure size 432x288 with 1 Axes>"
      ]
     },
     "metadata": {
      "needs_background": "light"
     },
     "output_type": "display_data"
    }
   ],
   "source": [
    "outlier.boxplot(column='customer_lon')"
   ]
  },
  {
   "cell_type": "code",
   "execution_count": 414,
   "metadata": {},
   "outputs": [
    {
     "data": {
      "text/plain": [
       "([], [], 0)"
      ]
     },
     "execution_count": 414,
     "metadata": {},
     "output_type": "execute_result"
    }
   ],
   "source": [
    "iqr_outlier(outlier, 'customer_lon')"
   ]
  },
  {
   "cell_type": "markdown",
   "metadata": {},
   "source": [
    "There are two outliers __'144.65417250000002, 145.0209268'__ in column 'customer_lon', this tells that there are two customers who live really far away from most of the customers.\n",
    "\n",
    "We should remove these two rows for analysis purpose otherwise this two data will have too much influence on the standard deviation of this 'customer_lon' column. Besides that, the mean, distribution will also be heavily influenced by the outliers."
   ]
  },
  {
   "cell_type": "code",
   "execution_count": 415,
   "metadata": {},
   "outputs": [
    {
     "data": {
      "text/plain": [
       "<matplotlib.axes._subplots.AxesSubplot at 0x2b0ab870388>"
      ]
     },
     "execution_count": 415,
     "metadata": {},
     "output_type": "execute_result"
    },
    {
     "data": {
      "image/png": "[encoded data removed]",
      "text/plain": [
       "<Figure size 432x288 with 1 Axes>"
      ]
     },
     "metadata": {
      "needs_background": "light"
     },
     "output_type": "display_data"
    }
   ],
   "source": [
    "outlier.boxplot(column='distance_to_customer_KM')"
   ]
  },
  {
   "cell_type": "code",
   "execution_count": 416,
   "metadata": {},
   "outputs": [
    {
     "data": {
      "text/plain": [
       "([79, 89, 121, 228, 241, 244, 328, 383],\n",
       " [4.386, 13.013, 4.354, 4.059, 13.217, 3.781, 3.986, 3.653],\n",
       " 8)"
      ]
     },
     "execution_count": 416,
     "metadata": {},
     "output_type": "execute_result"
    }
   ],
   "source": [
    "iqr_outlier(outlier, 'distance_to_customer_KM')"
   ]
  },
  {
   "cell_type": "markdown",
   "metadata": {},
   "source": [
    "There are 11 outliers in column 'distance_to_customer_KM'. This tells us that these 11 customers are either really far away from any of the 3 branches or really close. We should remove these outliers for data analysis purpose, if we keep them the standard deviation, distribution, mean will be heavily influenced."
   ]
  },
  {
   "cell_type": "code",
   "execution_count": 417,
   "metadata": {},
   "outputs": [
    {
     "data": {
      "text/plain": [
       "([], [], 0)"
      ]
     },
     "execution_count": 417,
     "metadata": {},
     "output_type": "execute_result"
    }
   ],
   "source": [
    "iqr_outlier(outlier[outlier['branch_code'] == 'NS'],'distance_to_customer_KM')"
   ]
  },
  {
   "cell_type": "markdown",
   "metadata": {},
   "source": [
    "There is 1 outlier in column 'distance_to_customer_KM' by __'NS'__ branch. We filter only 'NS' branch because 3 branches are located in 3 different locations, we not only want to find all outliers, we want to find the local outliers as well.\n",
    "\n",
    "This row of data should be removed for analysis purpose because it's a local outlier, if we keep this row the statistical analysis would be impacted and the standard deviation, the mean would be influenced heavily."
   ]
  },
  {
   "cell_type": "code",
   "execution_count": 418,
   "metadata": {},
   "outputs": [
    {
     "data": {
      "text/plain": [
       "([241], [13.217], 1)"
      ]
     },
     "execution_count": 418,
     "metadata": {},
     "output_type": "execute_result"
    }
   ],
   "source": [
    "iqr_outlier(outlier[outlier['branch_code'] == 'TP'],'distance_to_customer_KM')"
   ]
  },
  {
   "cell_type": "markdown",
   "metadata": {},
   "source": [
    "There are 4 outlier in column 'distance_to_customer_KM' by __'TP'__ branch. We filter only 'NS' branch because 3 branches are located in 3 different locations, we not only want to find all outliers, we want to find the local outliers as well.\n",
    "\n",
    "These 4 rows of data should be removed for analysis purpose because it's a local outlier."
   ]
  },
  {
   "cell_type": "code",
   "execution_count": 419,
   "metadata": {},
   "outputs": [
    {
     "data": {
      "text/plain": [
       "([89], [13.013], 1)"
      ]
     },
     "execution_count": 419,
     "metadata": {},
     "output_type": "execute_result"
    }
   ],
   "source": [
    "iqr_outlier(outlier[outlier['branch_code'] == 'BK'],'distance_to_customer_KM')"
   ]
  },
  {
   "cell_type": "markdown",
   "metadata": {},
   "source": [
    "There are 5 outlier in column 'distance_to_customer_KM' by __'BK'__ branch. We filter only 'NS' branch because 3 branches are located in 3 different locations, we not only want to find all outliers, we want to find the local outliers as well.\n",
    "\n",
    "These 5 rows of data should be removed for analysis purpose because it's a local outlier."
   ]
  },
  {
   "cell_type": "code",
   "execution_count": 420,
   "metadata": {},
   "outputs": [
    {
     "data": {
      "text/plain": [
       "<matplotlib.axes._subplots.AxesSubplot at 0x2b0af765788>"
      ]
     },
     "execution_count": 420,
     "metadata": {},
     "output_type": "execute_result"
    },
    {
     "data": {
      "image/png": "[encoded data removed]",
      "text/plain": [
       "<Figure size 432x288 with 1 Axes>"
      ]
     },
     "metadata": {
      "needs_background": "light"
     },
     "output_type": "display_data"
    }
   ],
   "source": [
    "outlier.boxplot(column='delivery_fee')"
   ]
  },
  {
   "cell_type": "code",
   "execution_count": 421,
   "metadata": {},
   "outputs": [
    {
     "data": {
      "text/plain": [
       "38"
      ]
     },
     "execution_count": 421,
     "metadata": {},
     "output_type": "execute_result"
    }
   ],
   "source": [
    "ori_outlier = iqr_outlier(outlier, 'ori_fee')\n",
    "ori_outlier[2]"
   ]
  },
  {
   "cell_type": "markdown",
   "metadata": {},
   "source": [
    "There are 27 outliers in column 'ori_fee'. This tells us that these 27 customers are either really far away from any of the 3 branches or really close. We should remove these outliers for data analysis purpose, if we keep them the standard deviation, distribution, mean will be heavily influenced."
   ]
  },
  {
   "cell_type": "code",
   "execution_count": 422,
   "metadata": {},
   "outputs": [
    {
     "data": {
      "text/plain": [
       "([5, 12, 19, 78, 95, 113, 136, 146, 160, 197, 274, 281, 284, 302, 337, 356],\n",
       " [22.19590275,\n",
       "  7.9453195999999995,\n",
       "  7.2736348,\n",
       "  5.54390835,\n",
       "  8.395285099999999,\n",
       "  6.532527,\n",
       "  7.780412400000001,\n",
       "  7.823961200000001,\n",
       "  21.5029257,\n",
       "  22.253514600000006,\n",
       "  7.3414399,\n",
       "  6.37313205,\n",
       "  5.9213169,\n",
       "  6.44377735,\n",
       "  21.503277899999997,\n",
       "  25.0058742],\n",
       " 16)"
      ]
     },
     "execution_count": 422,
     "metadata": {},
     "output_type": "execute_result"
    }
   ],
   "source": [
    "iqr_outlier(outlier[outlier['branch_code'] == 'NS'],'ori_fee')"
   ]
  },
  {
   "cell_type": "markdown",
   "metadata": {},
   "source": [
    "There are 10 outlier in column 'ogi_fee' by __'NS'__ branch. We filter only 'NS' branch because 3 branches are located in 3 different locations, we not only want to find all outliers, we want to find the local outliers as well.\n",
    "\n",
    "This row of data should be removed for analysis purpose because it's a local outlier, if we keep this row the statistical analysis would be impacted and the standard deviation, the mean would be influenced heavily."
   ]
  },
  {
   "cell_type": "code",
   "execution_count": 423,
   "metadata": {},
   "outputs": [
    {
     "data": {
      "text/plain": [
       "([3, 18, 90, 100, 124, 199, 217, 241, 265, 344, 358, 410, 439, 443, 461],\n",
       " [5.2415807999999995,\n",
       "  22.04310435,\n",
       "  18.4504818,\n",
       "  6.67952205,\n",
       "  17.856531600000004,\n",
       "  22.6992078,\n",
       "  19.135863,\n",
       "  23.9164212,\n",
       "  21.26079165,\n",
       "  5.8925247,\n",
       "  19.90635945,\n",
       "  17.668398999999997,\n",
       "  21.6893922,\n",
       "  6.6072451,\n",
       "  19.509978],\n",
       " 15)"
      ]
     },
     "execution_count": 423,
     "metadata": {},
     "output_type": "execute_result"
    }
   ],
   "source": [
    "iqr_outlier(outlier[outlier['branch_code'] == 'TP'],'ori_fee')"
   ]
  },
  {
   "cell_type": "markdown",
   "metadata": {},
   "source": [
    "There are 12 outlier in column 'ogi_fee' by __'TP'__ branch. We filter only 'NS' branch because 3 branches are located in 3 different locations, we not only want to find all outliers, we want to find the local outliers as well.\n",
    "\n",
    "This row of data should be removed for analysis purpose because it's a local outlier, if we keep this row the statistical analysis would be impacted and the standard deviation, the mean would be influenced heavily."
   ]
  },
  {
   "cell_type": "code",
   "execution_count": 424,
   "metadata": {},
   "outputs": [
    {
     "data": {
      "text/plain": [
       "([127, 205, 303, 329, 499],\n",
       " [27.59992665, 24.84593265, 25.067951100000002, 25.932741600000004, 5.2426603],\n",
       " 5)"
      ]
     },
     "execution_count": 424,
     "metadata": {},
     "output_type": "execute_result"
    }
   ],
   "source": [
    "iqr_outlier(outlier[outlier['branch_code'] == 'BK'],'ori_fee')"
   ]
  },
  {
   "cell_type": "markdown",
   "metadata": {},
   "source": [
    "There are 9 outlier in column 'ogi_fee' by __'BK'__ branch. We filter only 'NS' branch because 3 branches are located in 3 different locations, we not only want to find all outliers, we want to find the local outliers as well.\n",
    "\n",
    "This row of data should be removed for analysis purpose because it's a local outlier, if we keep this row the statistical analysis would be impacted and the standard deviation, the mean would be influenced heavily."
   ]
  },
  {
   "cell_type": "markdown",
   "metadata": {},
   "source": [
    "### 'delivery_fee'\n",
    "'delivery_fee' is determined by many variables, thus simple IQR won't be sufficient to determine if there is an outlier. We need to run linear regressions residuals method to identify the outliers along with IQR method."
   ]
  },
  {
   "cell_type": "markdown",
   "metadata": {},
   "source": [
    "The variables which determine delivery_fee that we need to consider are: \n",
    "1. branch_code\n",
    "2. weekend or weekday\n",
    "3. time of the day\n",
    "4. distance"
   ]
  },
  {
   "cell_type": "code",
   "execution_count": 425,
   "metadata": {},
   "outputs": [],
   "source": [
    "outlier['ori_fee_hat'] =0."
   ]
  },
  {
   "cell_type": "code",
   "execution_count": 426,
   "metadata": {},
   "outputs": [],
   "source": [
    "o_notnull = outlier[outlier['ori_fee'].notnull()]\n",
    "o = o_notnull[['ori_fee','distance_to_customer_KM','timeofday','weekend']]\n",
    "\n",
    "\n",
    "X = o[['distance_to_customer_KM','timeofday','weekend']] # here we have 2 variables for multiple regression. If you just want to use one variable for simple linear regression, then use X = df['Interest_Rate'] for example.Alternatively, you may add additional variables within the brackets\n",
    "Y = o['ori_fee']\n",
    "model_o = sm.OLS(Y, X).fit()"
   ]
  },
  {
   "cell_type": "code",
   "execution_count": 427,
   "metadata": {},
   "outputs": [],
   "source": [
    "def iqr(dataset):\n",
    "    '''\n",
    "    takes dataframe (df) and column name (column) as input, returns a list of outliers using Inter-Quantile-Range (IQR)\n",
    "    \n",
    "    return outlier_list, count of outliers\n",
    "    '''\n",
    "    q3 = dataset.quantile(.75)\n",
    "    q1 = dataset.quantile(.25)\n",
    "    iqr = q3-q1\n",
    "    outlier_list = [] # initiate outlier_list in order to store all outliers\n",
    "    index_list = []\n",
    "    # if the data is smaller than (q1 - 1.5*iqr), it's considered outlier by IQR\n",
    "    # if the data is greater than (q3 + 1.5*iqr), it's considered outlier by IQR\n",
    "    for rows in dataset:\n",
    "        if rows<(q1-1.5*iqr):\n",
    "            outlier_list.append(rows)\n",
    "            #index_list.append(index)\n",
    "            \n",
    "        elif rows>(q3+1.5*iqr):\n",
    "            outlier_list.append(rows)\n",
    "            #index_list.append(index)\n",
    "    count = len(outlier_list)\n",
    "    \n",
    "    return outlier_list, count"
   ]
  },
  {
   "cell_type": "code",
   "execution_count": 428,
   "metadata": {},
   "outputs": [
    {
     "data": {
      "text/plain": [
       "([8.065057761745466,\n",
       "  -7.716214003487858,\n",
       "  -7.113273339501742,\n",
       "  -8.761495620880666,\n",
       "  -8.431475778306353,\n",
       "  10.464911283652569,\n",
       "  -8.305474734704203,\n",
       "  -7.313638757897593,\n",
       "  7.165380859089247,\n",
       "  7.57312965103049,\n",
       "  8.744397211608465,\n",
       "  -8.081533448219485,\n",
       "  7.032856798272867,\n",
       "  -7.612079076966542,\n",
       "  9.341974950104376,\n",
       "  10.667983052223729,\n",
       "  6.645071318219918,\n",
       "  -6.637219283937066,\n",
       "  -7.168118586670219,\n",
       "  9.175358331950859,\n",
       "  -9.076622913891644],\n",
       " 21)"
      ]
     },
     "execution_count": 428,
     "metadata": {},
     "output_type": "execute_result"
    }
   ],
   "source": [
    "iqr(model_o.resid)"
   ]
  },
  {
   "cell_type": "code",
   "execution_count": 437,
   "metadata": {},
   "outputs": [],
   "source": [
    "o_bk_notnull = outlier[outlier['ori_fee'].notnull()]\n",
    "o_bk_notnull = o_bk_notnull[o_bk_notnull['branch_code'] == 'BK']\n",
    "o_bk = o_bk_notnull[['ori_fee','distance_to_customer_KM','timeofday','weekend']]\n",
    "\n",
    "\n",
    "X_bk = o_bk[['distance_to_customer_KM','timeofday','weekend']] # here we have 2 variables for multiple regression. If you just want to use one variable for simple linear regression, then use X = df['Interest_Rate'] for example.Alternatively, you may add additional variables within the brackets\n",
    "Y_bk = o_bk['ori_fee']\n",
    "model_o_bk = sm.OLS(Y_bk, X_bk).fit()\n"
   ]
  },
  {
   "cell_type": "code",
   "execution_count": 438,
   "metadata": {},
   "outputs": [
    {
     "data": {
      "text/plain": [
       "([-5.4823185888854775,\n",
       "  -3.001938670835962,\n",
       "  8.699817775150244,\n",
       "  6.802588750002293,\n",
       "  -9.877487427691428,\n",
       "  -7.326569623055727,\n",
       "  7.443046300792833,\n",
       "  9.064727021034805,\n",
       "  -8.117909188924624,\n",
       "  -3.639660612235537],\n",
       " 10)"
      ]
     },
     "execution_count": 438,
     "metadata": {},
     "output_type": "execute_result"
    }
   ],
   "source": [
    "iqr(model_o_bk.resid)"
   ]
  },
  {
   "cell_type": "code",
   "execution_count": 442,
   "metadata": {},
   "outputs": [
    {
     "data": {
      "text/plain": [
       "([-4.29745586901273,\n",
       "  6.174084364111048,\n",
       "  6.808140793681034,\n",
       "  -6.6484113312466695,\n",
       "  5.990668985178477,\n",
       "  6.940207088831009,\n",
       "  7.446546992117938,\n",
       "  6.356522853154644,\n",
       "  6.410493586101394,\n",
       "  -5.747280677220343,\n",
       "  6.7777535440651455,\n",
       "  6.712698928994234,\n",
       "  -7.3704103061490365,\n",
       "  5.397934251624044],\n",
       " 14)"
      ]
     },
     "execution_count": 442,
     "metadata": {},
     "output_type": "execute_result"
    }
   ],
   "source": [
    "iqr(model_o_tp.resid)"
   ]
  },
  {
   "cell_type": "code",
   "execution_count": 440,
   "metadata": {},
   "outputs": [
    {
     "data": {
      "text/plain": [
       "([7.6688686027931094,\n",
       "  -8.205439809564679,\n",
       "  -7.525026249831797,\n",
       "  -4.744715106092378,\n",
       "  -8.780300409237167,\n",
       "  -5.528738486711884,\n",
       "  -8.357796674599365,\n",
       "  -8.233715860175854,\n",
       "  7.219324754989591,\n",
       "  7.606235413141805,\n",
       "  6.832511510823213,\n",
       "  -7.595574649658103,\n",
       "  -5.178556503298204,\n",
       "  -4.224978923206277,\n",
       "  -1.9759512612963022,\n",
       "  -5.220247130663396,\n",
       "  6.667368919652276,\n",
       "  8.774468668376368],\n",
       " 18)"
      ]
     },
     "execution_count": 440,
     "metadata": {},
     "output_type": "execute_result"
    }
   ],
   "source": [
    "iqr(model_o_ns.resid)"
   ]
  },
  {
   "cell_type": "code",
   "execution_count": 432,
   "metadata": {},
   "outputs": [
    {
     "data": {
      "text/plain": [
       "{'whiskers': [<matplotlib.lines.Line2D at 0x2b0ac248a48>,\n",
       "  <matplotlib.lines.Line2D at 0x2b0ae8ed688>],\n",
       " 'caps': [<matplotlib.lines.Line2D at 0x2b0a7c0c448>,\n",
       "  <matplotlib.lines.Line2D at 0x2b0a7cdd148>],\n",
       " 'boxes': [<matplotlib.lines.Line2D at 0x2b0ac248d88>],\n",
       " 'medians': [<matplotlib.lines.Line2D at 0x2b0ac6e1648>],\n",
       " 'fliers': [<matplotlib.lines.Line2D at 0x2b0abef5a48>],\n",
       " 'means': []}"
      ]
     },
     "execution_count": 432,
     "metadata": {},
     "output_type": "execute_result"
    },
    {
     "data": {
      "image/png": "[encoded data removed]",
      "text/plain": [
       "<Figure size 432x288 with 1 Axes>"
      ]
     },
     "metadata": {
      "needs_background": "light"
     },
     "output_type": "display_data"
    }
   ],
   "source": [
    "plt.boxplot(o_bk['ori_fee'])"
   ]
  },
  {
   "cell_type": "code",
   "execution_count": 433,
   "metadata": {},
   "outputs": [
    {
     "data": {
      "text/plain": [
       "{'whiskers': [<matplotlib.lines.Line2D at 0x2b0ac322208>,\n",
       "  <matplotlib.lines.Line2D at 0x2b0a7c7a0c8>],\n",
       " 'caps': [<matplotlib.lines.Line2D at 0x2b0aeca8f08>,\n",
       "  <matplotlib.lines.Line2D at 0x2b0ac139a48>],\n",
       " 'boxes': [<matplotlib.lines.Line2D at 0x2b0ac1e2f48>],\n",
       " 'medians': [<matplotlib.lines.Line2D at 0x2b0ac052648>],\n",
       " 'fliers': [<matplotlib.lines.Line2D at 0x2b0ac1cca88>],\n",
       " 'means': []}"
      ]
     },
     "execution_count": 433,
     "metadata": {},
     "output_type": "execute_result"
    },
    {
     "data": {
      "image/png": "[encoded data removed]",
      "text/plain": [
       "<Figure size 432x288 with 1 Axes>"
      ]
     },
     "metadata": {
      "needs_background": "light"
     },
     "output_type": "display_data"
    }
   ],
   "source": [
    "plt.boxplot(model_o_bk.resid)"
   ]
  },
  {
   "cell_type": "code",
   "execution_count": 439,
   "metadata": {},
   "outputs": [
    {
     "data": {
      "text/plain": [
       "{'whiskers': [<matplotlib.lines.Line2D at 0x2b0af3efec8>,\n",
       "  <matplotlib.lines.Line2D at 0x2b0aee0cf88>],\n",
       " 'caps': [<matplotlib.lines.Line2D at 0x2b0af3df408>,\n",
       "  <matplotlib.lines.Line2D at 0x2b0af3dfb48>],\n",
       " 'boxes': [<matplotlib.lines.Line2D at 0x2b0aea4a588>],\n",
       " 'medians': [<matplotlib.lines.Line2D at 0x2b0af3f9788>],\n",
       " 'fliers': [<matplotlib.lines.Line2D at 0x2b0aee078c8>],\n",
       " 'means': []}"
      ]
     },
     "execution_count": 439,
     "metadata": {},
     "output_type": "execute_result"
    },
    {
     "data": {
      "image/png": "[encoded data removed]",
      "text/plain": [
       "<Figure size 432x288 with 1 Axes>"
      ]
     },
     "metadata": {
      "needs_background": "light"
     },
     "output_type": "display_data"
    }
   ],
   "source": [
    "o_ns_notnull = outlier[outlier['ori_fee'].notnull()]\n",
    "o_ns_notnull = o_ns_notnull[o_ns_notnull['branch_code'] == 'NS']\n",
    "o_ns = o_ns_notnull[['ori_fee','distance_to_customer_KM','timeofday','weekend']]\n",
    "\n",
    "\n",
    "X_ns = o_ns[['distance_to_customer_KM','timeofday','weekend']] # here we have 2 variables for multiple regression. If you just want to use one variable for simple linear regression, then use X = df['Interest_Rate'] for example.Alternatively, you may add additional variables within the brackets\n",
    "Y_ns = o_ns['ori_fee']\n",
    "model_o_ns = sm.OLS(Y_ns, X_ns).fit()\n",
    "plt.boxplot(model_o_ns.resid)"
   ]
  },
  {
   "cell_type": "code",
   "execution_count": 441,
   "metadata": {},
   "outputs": [
    {
     "data": {
      "text/plain": [
       "{'whiskers': [<matplotlib.lines.Line2D at 0x2b0af5e1a08>,\n",
       "  <matplotlib.lines.Line2D at 0x2b0af5e1888>],\n",
       " 'caps': [<matplotlib.lines.Line2D at 0x2b0aee39888>,\n",
       "  <matplotlib.lines.Line2D at 0x2b0aee39e08>],\n",
       " 'boxes': [<matplotlib.lines.Line2D at 0x2b0aee33648>],\n",
       " 'medians': [<matplotlib.lines.Line2D at 0x2b0aee2f508>],\n",
       " 'fliers': [<matplotlib.lines.Line2D at 0x2b0aee2f608>],\n",
       " 'means': []}"
      ]
     },
     "execution_count": 441,
     "metadata": {},
     "output_type": "execute_result"
    },
    {
     "data": {
      "image/png": "[encoded data removed]",
      "text/plain": [
       "<Figure size 432x288 with 1 Axes>"
      ]
     },
     "metadata": {
      "needs_background": "light"
     },
     "output_type": "display_data"
    }
   ],
   "source": [
    "o_tp_notnull = outlier[outlier['ori_fee'].notnull()]\n",
    "o_tp_notnull = o_tp_notnull[o_tp_notnull['branch_code'] == 'TP']\n",
    "o_tp = o_tp_notnull[['ori_fee','distance_to_customer_KM','timeofday','weekend']]\n",
    "\n",
    "\n",
    "X_tp = o_tp[['distance_to_customer_KM','timeofday','weekend']] # here we have 2 variables for multiple regression. If you just want to use one variable for simple linear regression, then use X = df['Interest_Rate'] for example.Alternatively, you may add additional variables within the brackets\n",
    "Y_tp = o_tp['ori_fee']\n",
    "model_o_tp = sm.OLS(Y_tp, X_tp).fit()\n",
    "plt.boxplot(model_o_tp.resid)"
   ]
  },
  {
   "cell_type": "markdown",
   "metadata": {},
   "source": [
    "By plotting residuals, we believe residuals is a good indentifier of outliers. Next thing we want to do is to combine residuals and IQR in order to get more accurate result."
   ]
  },
  {
   "cell_type": "markdown",
   "metadata": {},
   "source": [
    "In order to generate a 'residual' column, we first need to predict delivery_fee based on 'distance', 'time of day', 'weekend or week day', 'branch_code'"
   ]
  },
  {
   "cell_type": "code",
   "execution_count": 375,
   "metadata": {},
   "outputs": [],
   "source": [
    "# train the model of NS_branch with 'distance_to_customer_KM','timeofday','weekend'\n",
    "pred_ns = model_o_ns.predict(outlier[outlier['branch_code'] == 'NS'][['distance_to_customer_KM','timeofday','weekend']])\n",
    "\n",
    "for index, loc in outlier[outlier['branch_code'] == 'NS'].iterrows():\n",
    "    # create 'ori_fee_hat' column that stores the prediction of delivery fee after training the model\n",
    "    outlier.at[index,'ori_fee_hat'] = pred_ns[index]"
   ]
  },
  {
   "cell_type": "code",
   "execution_count": 376,
   "metadata": {},
   "outputs": [],
   "source": [
    "# train the model of TP_branch with 'distance_to_customer_KM','timeofday','weekend'\n",
    "pred_tp = model_o_tp.predict(outlier[outlier['branch_code'] == 'TP'][['distance_to_customer_KM','timeofday','weekend']])\n",
    "\n",
    "for index, loc in outlier[outlier['branch_code'] == 'TP'].iterrows():\n",
    "    # create 'ori_fee_hat' column that stores the prediction of delivery fee after training the model\n",
    "    outlier.at[index,'ori_fee_hat'] = pred_tp[index]"
   ]
  },
  {
   "cell_type": "code",
   "execution_count": 377,
   "metadata": {},
   "outputs": [],
   "source": [
    "# train the model of BK_branch with 'distance_to_customer_KM','timeofday','weekend'\n",
    "pred_bk = model_o_tp.predict(outlier[outlier['branch_code'] == 'BK'][['distance_to_customer_KM','timeofday','weekend']])\n",
    "\n",
    "for index, loc in outlier[outlier['branch_code'] == 'BK'].iterrows():\n",
    "    # create 'ori_fee_hat' column that stores the prediction of delivery fee after training the model\n",
    "    outlier.at[index,'ori_fee_hat'] = pred_bk[index]"
   ]
  },
  {
   "cell_type": "code",
   "execution_count": 378,
   "metadata": {},
   "outputs": [],
   "source": [
    "# generate 'residual' column by subtracting 'ori_fee_hat' from 'ori_fee'\n",
    "outlier['residual'] = outlier['ori_fee_hat']-outlier['ori_fee']"
   ]
  },
  {
   "cell_type": "code",
   "execution_count": 379,
   "metadata": {},
   "outputs": [
    {
     "data": {
      "text/plain": [
       "<matplotlib.axes._subplots.AxesSubplot at 0x2b0aef92c88>"
      ]
     },
     "execution_count": 379,
     "metadata": {},
     "output_type": "execute_result"
    },
    {
     "data": {
      "image/png": "[encoded data removed]",
      "text/plain": [
       "<Figure size 432x288 with 1 Axes>"
      ]
     },
     "metadata": {
      "needs_background": "light"
     },
     "output_type": "display_data"
    }
   ],
   "source": [
    "# boxplot residual by 'NS' branch\n",
    "outlier[outlier['branch_code']=='NS'].boxplot(column='residual')"
   ]
  },
  {
   "cell_type": "code",
   "execution_count": 380,
   "metadata": {},
   "outputs": [
    {
     "data": {
      "text/plain": [
       "([5,\n",
       "  12,\n",
       "  19,\n",
       "  78,\n",
       "  95,\n",
       "  113,\n",
       "  136,\n",
       "  146,\n",
       "  160,\n",
       "  197,\n",
       "  247,\n",
       "  274,\n",
       "  281,\n",
       "  284,\n",
       "  302,\n",
       "  337,\n",
       "  356],\n",
       " [-6.3999553576573405,\n",
       "  9.55608412738289,\n",
       "  8.807611979245298,\n",
       "  5.2625984272344555,\n",
       "  10.58077494885693,\n",
       "  6.673535957904246,\n",
       "  10.245496537464765,\n",
       "  9.041987555727756,\n",
       "  -5.4249775764427,\n",
       "  -5.7935822973119535,\n",
       "  -5.7356436928489,\n",
       "  9.422811748717535,\n",
       "  5.760016876331735,\n",
       "  5.27338538024063,\n",
       "  5.667919775661013,\n",
       "  -4.845221023074,\n",
       "  -7.559207201759808],\n",
       " 17)"
      ]
     },
     "execution_count": 380,
     "metadata": {},
     "output_type": "execute_result"
    }
   ],
   "source": [
    "# apply iqr_outlier function on residuals by 'NS' branch\n",
    "iqr_outlier(outlier[outlier['branch_code']=='NS'], 'residual')"
   ]
  },
  {
   "cell_type": "markdown",
   "metadata": {},
   "source": [
    "These 10 rows are derived from residuals and inter quantile range, they are adjusted by 'branch_code', 'distance_to_customer_KM', 'timeofday', 'weekend or weekday', they are still too far away from most of the dataset, thus we believe these 5 rows are outliers.\n",
    "\n",
    "We want to remove these 10 rows for they are rare and unusual fees on delivery_fee, keeping them will result in bias prediction. The reason behind these occurance of the outliers could be that 'NS' branch is the closest restaurant to these customers but they are still too far from it, or these customers just live really close to the 'NS' branch."
   ]
  },
  {
   "cell_type": "code",
   "execution_count": 381,
   "metadata": {},
   "outputs": [
    {
     "data": {
      "text/plain": [
       "<matplotlib.axes._subplots.AxesSubplot at 0x2b0a2941408>"
      ]
     },
     "execution_count": 381,
     "metadata": {},
     "output_type": "execute_result"
    },
    {
     "data": {
      "image/png": "[encoded data removed]",
      "text/plain": [
       "<Figure size 432x288 with 1 Axes>"
      ]
     },
     "metadata": {
      "needs_background": "light"
     },
     "output_type": "display_data"
    }
   ],
   "source": [
    "# boxplot residual by 'TP' branch\n",
    "outlier[outlier['branch_code']=='TP'].boxplot(column='residual')"
   ]
  },
  {
   "cell_type": "code",
   "execution_count": 382,
   "metadata": {},
   "outputs": [
    {
     "data": {
      "text/plain": [
       "([18, 90, 100, 124, 199, 217, 241, 265, 344, 358, 439, 443, 461],\n",
       " [-2.347327185010659,\n",
       "  -3.895458078183628,\n",
       "  10.20848799554221,\n",
       "  -3.391114532392205,\n",
       "  -2.546233433516658,\n",
       "  -4.070727699947076,\n",
       "  -1.7376925240077092,\n",
       "  -3.0642926003432294,\n",
       "  8.659329028628562,\n",
       "  -3.862285774864258,\n",
       "  -2.965827436217271,\n",
       "  10.867342347786725,\n",
       "  -1.867380913259499],\n",
       " 13)"
      ]
     },
     "execution_count": 382,
     "metadata": {},
     "output_type": "execute_result"
    }
   ],
   "source": [
    "# apply iqr_outlier function on residuals by 'TP' branch\n",
    "iqr_outlier(outlier[outlier['branch_code']=='TP'], 'residual')"
   ]
  },
  {
   "cell_type": "markdown",
   "metadata": {},
   "source": [
    "These 9 rows are derived from residuals and inter quantile range, they are adjusted by 'branch_code', 'distance_to_customer_KM', 'timeofday', 'weekend or weekday', they are still too far away from most of the dataset, thus we believe these 9 rows are outliers.\n",
    "\n",
    "We want to remove these 9 rows for they are rare and unusual fees on delivery_fee, keeping them will result in bias prediction. The reason behind these occurance of the outliers could be that 'TP' branch is the closest restaurant to these customers but they are still too far from it, or these customers just live really close to the 'TP' branch."
   ]
  },
  {
   "cell_type": "code",
   "execution_count": 383,
   "metadata": {
    "scrolled": true
   },
   "outputs": [
    {
     "data": {
      "text/plain": [
       "<matplotlib.axes._subplots.AxesSubplot at 0x2b0af149708>"
      ]
     },
     "execution_count": 383,
     "metadata": {},
     "output_type": "execute_result"
    },
    {
     "data": {
      "image/png": "[encoded data removed]",
      "text/plain": [
       "<Figure size 432x288 with 1 Axes>"
      ]
     },
     "metadata": {
      "needs_background": "light"
     },
     "output_type": "display_data"
    }
   ],
   "source": [
    "# boxplot residual by 'BK' branch\n",
    "outlier[outlier['branch_code']=='BK'].boxplot(column='residual')"
   ]
  },
  {
   "cell_type": "code",
   "execution_count": 384,
   "metadata": {},
   "outputs": [
    {
     "data": {
      "text/plain": [
       "([25, 89, 127, 205, 227, 234, 303, 329, 341, 499],\n",
       " [5.4823185888854775,\n",
       "  3.001938670835962,\n",
       "  -8.699817775150244,\n",
       "  -6.802588750002293,\n",
       "  9.877487427691428,\n",
       "  7.326569623055727,\n",
       "  -7.443046300792833,\n",
       "  -9.064727021034805,\n",
       "  8.117909188924624,\n",
       "  3.639660612235537],\n",
       " 10)"
      ]
     },
     "execution_count": 384,
     "metadata": {},
     "output_type": "execute_result"
    }
   ],
   "source": [
    "# apply iqr_outlier function on residuals by 'BK' branch\n",
    "iqr_outlier(outlier[outlier['branch_code']=='BK'], 'residual')"
   ]
  },
  {
   "cell_type": "markdown",
   "metadata": {},
   "source": [
    "After adjusting 'branch_code', 'distance_to_customer_KM', 'timeofday', 'weekend or weekday', we believe these are the real outliers from the corresponding 'delivery_fee' column.\n",
    "\n",
    "We want to remove these 14 rows for they are rare and unusual fees on delivery_fee, keeping them will result in bias prediction. The reason behind these occurance of the outliers could be that 'BK' branch is the closest restaurant to these customers but they are still too far from it, or these customers just live really close to the 'BK' branch."
   ]
  },
  {
   "cell_type": "markdown",
   "metadata": {},
   "source": [
    "## Generate the output file"
   ]
  },
  {
   "cell_type": "code",
   "execution_count": 341,
   "metadata": {},
   "outputs": [],
   "source": [
    "# obtain the indices of all the outliers\n",
    "order_outlier = iqr_outlier(outlier,'order_price')[0]\n",
    "lat_outlier = iqr_outlier(outlier,'customer_lat')[0]\n",
    "lon_outlier = iqr_outlier(outlier, 'customer_lon')[0]\n",
    "ns_dis_outlier = iqr_outlier(outlier[outlier['branch_code'] == 'NS'],'distance_to_customer_KM')[0]\n",
    "tp_dis_outlier = iqr_outlier(outlier[outlier['branch_code'] == 'TP'],'distance_to_customer_KM')[0]\n",
    "bk_dis_outlier = iqr_outlier(outlier[outlier['branch_code'] == 'BK'],'distance_to_customer_KM')[0]\n",
    "dis_outlier = iqr_outlier(outlier, 'distance_to_customer_KM')[0]\n",
    "ns_outlier = iqr_outlier(outlier[outlier['branch_code']=='NS'], 'residual')[0]\n",
    "tp_outlier = iqr_outlier(outlier[outlier['branch_code']=='TP'], 'residual')[0]\n",
    "bk_outlier = iqr_outlier(outlier[outlier['branch_code']=='BK'], 'residual')[0]\n",
    "ori_outlier = iqr_outlier(outlier, 'ori_fee')[0]\n",
    "ns_ori_outlier = iqr_outlier(outlier[outlier['branch_code'] == 'NS'],'ori_fee')[0]\n",
    "tp_ori_outlier = iqr_outlier(outlier[outlier['branch_code'] == 'TP'],'ori_fee')[0]\n",
    "bk_ori_outlier = iqr_outlier(outlier[outlier['branch_code'] == 'BK'],'ori_fee')[0]\n",
    "\n",
    "# generate a list that stores all indices of outliers, then use set() to keep the unique indices\n",
    "all_outlier = set(order_outlier+lat_outlier+lon_outlier+ns_dis_outlier+\\\n",
    "                  tp_dis_outlier+bk_dis_outlier+ns_outlier+dis_outlier+tp_outlier+bk_outlier+ori_outlier+\\\n",
    "                 ns_ori_outlier+tp_ori_outlier+bk_ori_outlier)"
   ]
  },
  {
   "cell_type": "code",
   "execution_count": 342,
   "metadata": {},
   "outputs": [],
   "source": [
    "# drop outlier rows\n",
    "for item in all_outlier:\n",
    "    outlier = outlier.drop(item,axis=0)\n",
    "\n",
    "# drop extra columns and reset index\n",
    "outlier.drop(['ori_fee','node','weekend','timeofday','qqt_item_ordered', 'ori_fee_hat', 'residual'],axis=1,inplace=True)\n",
    "outlier.reset_index(inplace=True)\n",
    "outlier.drop('index',axis=1,inplace=True)\n",
    "\n",
    "# generate the output file\n",
    "outlier.to_csv('Group135_outlier_data_solution.csv')"
   ]
  },
  {
   "cell_type": "markdown",
   "metadata": {},
   "source": [
    "## Summary\n",
    "\n",
    "The assignment was challenging in terms of choosing proper approaches to achieve the goals.\n",
    "For detecting and removing outlier part, some challenges were to identify which column belong to univariate, which ones belong to multi-variate, what approaches to use for detecting outliers respectively. The most challenging part was to figure out the coefficients for multi-variate 'delivery_fee', we finally found `statsmodels.api` and its `predict` method to get the coefficients. \n",
    "\n",
    "Main learning:\n",
    " * StatsModels:\n",
    "   * sm.OLS(y, X).fit()\n",
    "   * model.predict()\n",
    "   * model.resid\n",
    " * networkx:\n",
    "   * nx.Graph()\n",
    "   * nx.shortest_path_length(Graph, u, v, weight)\n",
    "   * nx.Graph().add_nodes_from() # add nodes\n",
    " * np.linalg.solve(a,b)"
   ]
  },
  {
   "cell_type": "markdown",
   "metadata": {},
   "source": [
    "## Reference\n",
    "- Scikit-learn *Machine learning in python* Retrieved from https://scikit-learn.org/stable/\n",
    "- StatsModels *Welcome to Statsmodels’s Documentation* Retrieved from https://www.statsmodels.org/stable/index.html"
   ]
  }
 ],
 "metadata": {
  "kernelspec": {
   "display_name": "Python 3",
   "language": "python",
   "name": "python3"
  },
  "language_info": {
   "codemirror_mode": {
    "name": "ipython",
    "version": 3
   },
   "file_extension": ".py",
   "mimetype": "text/x-python",
   "name": "python",
   "nbconvert_exporter": "python",
   "pygments_lexer": "ipython3",
   "version": "3.7.4"
  }
 },
 "nbformat": 4,
 "nbformat_minor": 2
}
