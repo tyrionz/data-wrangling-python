{
 "cells": [
  {
   "cell_type": "markdown",
   "metadata": {},
   "source": [
    "## Assignment 3 ------ Outlier"
   ]
  },
  {
   "cell_type": "markdown",
   "metadata": {},
   "source": [
    "## Group 102\n",
    "## Member: Haoheng Zhu\n",
    "## StudentID: 30376467\n",
    "## Member: \n",
    "## StudentID:"
   ]
  },
  {
   "cell_type": "code",
   "execution_count": 56,
   "metadata": {},
   "outputs": [
    {
     "name": "stdout",
     "output_type": "stream",
     "text": [
      "Populating the interactive namespace from numpy and matplotlib\n"
     ]
    }
   ],
   "source": [
    "import pandas as pd\n",
    "import numpy as np\n",
    "from sklearn.linear_model import LinearRegression\n",
    "%pylab inline\n",
    "import matplotlib.pyplot as plt\n",
    "from datetime import datetime"
   ]
  },
  {
   "cell_type": "code",
   "execution_count": 2,
   "metadata": {},
   "outputs": [],
   "source": [
    "outlier = pd.read_csv(\"Group102_outlier_data.csv\")"
   ]
  },
  {
   "cell_type": "code",
   "execution_count": 3,
   "metadata": {},
   "outputs": [
    {
     "data": {
      "text/html": [
       "<div>\n",
       "<style scoped>\n",
       "    .dataframe tbody tr th:only-of-type {\n",
       "        vertical-align: middle;\n",
       "    }\n",
       "\n",
       "    .dataframe tbody tr th {\n",
       "        vertical-align: top;\n",
       "    }\n",
       "\n",
       "    .dataframe thead th {\n",
       "        text-align: right;\n",
       "    }\n",
       "</style>\n",
       "<table border=\"1\" class=\"dataframe\">\n",
       "  <thead>\n",
       "    <tr style=\"text-align: right;\">\n",
       "      <th></th>\n",
       "      <th>order_id</th>\n",
       "      <th>date</th>\n",
       "      <th>time</th>\n",
       "      <th>order_type</th>\n",
       "      <th>branch_code</th>\n",
       "      <th>order_items</th>\n",
       "      <th>order_price</th>\n",
       "      <th>customer_lat</th>\n",
       "      <th>customer_lon</th>\n",
       "      <th>customerHasloyalty?</th>\n",
       "      <th>distance_to_customer_KM</th>\n",
       "      <th>delivery_fee</th>\n",
       "    </tr>\n",
       "  </thead>\n",
       "  <tbody>\n",
       "    <tr>\n",
       "      <td>0</td>\n",
       "      <td>ORDZ02701</td>\n",
       "      <td>2018-03-24</td>\n",
       "      <td>10:42:15</td>\n",
       "      <td>Breakfast</td>\n",
       "      <td>NS</td>\n",
       "      <td>[('Cereal', 3), ('Coffee', 3), ('Eggs', 9)]</td>\n",
       "      <td>283.5</td>\n",
       "      <td>-37.819338</td>\n",
       "      <td>144.985153</td>\n",
       "      <td>0</td>\n",
       "      <td>9.030</td>\n",
       "      <td>15.647793</td>\n",
       "    </tr>\n",
       "    <tr>\n",
       "      <td>1</td>\n",
       "      <td>ORDY10919</td>\n",
       "      <td>2018-08-22</td>\n",
       "      <td>15:46:28</td>\n",
       "      <td>Lunch</td>\n",
       "      <td>TP</td>\n",
       "      <td>[('Steak', 7), ('Chicken', 6), ('Burger', 9), ...</td>\n",
       "      <td>928.4</td>\n",
       "      <td>-37.811063</td>\n",
       "      <td>144.950357</td>\n",
       "      <td>0</td>\n",
       "      <td>9.308</td>\n",
       "      <td>12.843769</td>\n",
       "    </tr>\n",
       "    <tr>\n",
       "      <td>2</td>\n",
       "      <td>ORDZ06306</td>\n",
       "      <td>2018-09-23</td>\n",
       "      <td>16:47:19</td>\n",
       "      <td>Dinner</td>\n",
       "      <td>NS</td>\n",
       "      <td>[('Pasta', 6), ('Shrimp', 2), ('Salmon', 2), (...</td>\n",
       "      <td>705.0</td>\n",
       "      <td>-37.809089</td>\n",
       "      <td>144.929144</td>\n",
       "      <td>0</td>\n",
       "      <td>9.907</td>\n",
       "      <td>17.848914</td>\n",
       "    </tr>\n",
       "    <tr>\n",
       "      <td>3</td>\n",
       "      <td>ORDX00059</td>\n",
       "      <td>2018-08-27</td>\n",
       "      <td>15:56:37</td>\n",
       "      <td>Lunch</td>\n",
       "      <td>BK</td>\n",
       "      <td>[('Burger', 8), ('Salad', 9), ('Chicken', 9)]</td>\n",
       "      <td>690.8</td>\n",
       "      <td>-37.804651</td>\n",
       "      <td>144.937735</td>\n",
       "      <td>0</td>\n",
       "      <td>10.141</td>\n",
       "      <td>16.331203</td>\n",
       "    </tr>\n",
       "    <tr>\n",
       "      <td>4</td>\n",
       "      <td>ORDA09339</td>\n",
       "      <td>2018-01-11</td>\n",
       "      <td>08:20:16</td>\n",
       "      <td>Breakfast</td>\n",
       "      <td>BK</td>\n",
       "      <td>[('Eggs', 6), ('Coffee', 5)]</td>\n",
       "      <td>169.5</td>\n",
       "      <td>-37.807260</td>\n",
       "      <td>144.957396</td>\n",
       "      <td>1</td>\n",
       "      <td>8.190</td>\n",
       "      <td>6.756584</td>\n",
       "    </tr>\n",
       "  </tbody>\n",
       "</table>\n",
       "</div>"
      ],
      "text/plain": [
       "    order_id        date      time order_type branch_code  \\\n",
       "0  ORDZ02701  2018-03-24  10:42:15  Breakfast          NS   \n",
       "1  ORDY10919  2018-08-22  15:46:28      Lunch          TP   \n",
       "2  ORDZ06306  2018-09-23  16:47:19     Dinner          NS   \n",
       "3  ORDX00059  2018-08-27  15:56:37      Lunch          BK   \n",
       "4  ORDA09339  2018-01-11  08:20:16  Breakfast          BK   \n",
       "\n",
       "                                         order_items  order_price  \\\n",
       "0        [('Cereal', 3), ('Coffee', 3), ('Eggs', 9)]        283.5   \n",
       "1  [('Steak', 7), ('Chicken', 6), ('Burger', 9), ...        928.4   \n",
       "2  [('Pasta', 6), ('Shrimp', 2), ('Salmon', 2), (...        705.0   \n",
       "3      [('Burger', 8), ('Salad', 9), ('Chicken', 9)]        690.8   \n",
       "4                       [('Eggs', 6), ('Coffee', 5)]        169.5   \n",
       "\n",
       "   customer_lat  customer_lon  customerHasloyalty?  distance_to_customer_KM  \\\n",
       "0    -37.819338    144.985153                    0                    9.030   \n",
       "1    -37.811063    144.950357                    0                    9.308   \n",
       "2    -37.809089    144.929144                    0                    9.907   \n",
       "3    -37.804651    144.937735                    0                   10.141   \n",
       "4    -37.807260    144.957396                    1                    8.190   \n",
       "\n",
       "   delivery_fee  \n",
       "0     15.647793  \n",
       "1     12.843769  \n",
       "2     17.848914  \n",
       "3     16.331203  \n",
       "4      6.756584  "
      ]
     },
     "execution_count": 3,
     "metadata": {},
     "output_type": "execute_result"
    }
   ],
   "source": [
    "outlier.head()"
   ]
  },
  {
   "cell_type": "code",
   "execution_count": 4,
   "metadata": {
    "scrolled": true
   },
   "outputs": [
    {
     "data": {
      "image/png": "[encoded data removed]",
      "text/plain": [
       "<Figure size 432x288 with 1 Axes>"
      ]
     },
     "metadata": {
      "needs_background": "light"
     },
     "output_type": "display_data"
    }
   ],
   "source": [
    "import matplotlib.pyplot as plt\n",
    "%matplotlib inline\n",
    "\n",
    "# first take a look at overall boxplot\n",
    "bp = outlier.boxplot()"
   ]
  },
  {
   "cell_type": "markdown",
   "metadata": {},
   "source": [
    "### Exam columns one by one"
   ]
  },
  {
   "cell_type": "code",
   "execution_count": 5,
   "metadata": {},
   "outputs": [],
   "source": [
    "def iqr_outlier(df,column):\n",
    "    '''\n",
    "    takes dataframe (df) and column name (column) as input, returns a list of outliers using IQR\n",
    "    \n",
    "    return outlier_list, count of outliers\n",
    "    '''\n",
    "    q3 = df[column].quantile(.75)\n",
    "    q1 = df[column].quantile(.25)\n",
    "    iqr = q3-q1\n",
    "    outlier_list = []\n",
    "    for rows in list(df[column]):\n",
    "        if rows<(q1-1.5*iqr):\n",
    "            outlier_list.append(rows)\n",
    "        elif rows>(q3+1.5*iqr):\n",
    "            outlier_list.append(rows)\n",
    "    count = len(outlier_list)\n",
    "    return outlier_list, count"
   ]
  },
  {
   "cell_type": "code",
   "execution_count": 38,
   "metadata": {},
   "outputs": [],
   "source": [
    "#Pancake, coffee, Cereal, Eggs\n",
    "a = np.array([[0,3,3,9], \n",
    "              [0,5,0,6],\n",
    "              [0,8,3,6],\n",
    "              [8,2,7,2],\n",
    "             ])\n",
    "b = np.array([283.5,169.5,255,400.00])\n",
    "breakfast_price = np.linalg.solve(a, b)\n",
    "bprice = {}\n",
    "i= 0\n",
    "for item in ['Pancake', 'Coffee', 'Cereal', 'Eggs']:\n",
    "    bprice[item] = breakfast_price[i]\n",
    "    i+=1\n",
    "\n",
    "#Steak, Salad, Chicken, Burger, Fries\n",
    "lprice = {}\n",
    "a = np.array([[7,2,6,9,9], \n",
    "              [0,9,9,8,0],\n",
    "              [5,3,3,7,2],\n",
    "              [10,5,0,0,0],\n",
    "              [1,3,6,9,6],\n",
    "             ])\n",
    "b = np.array([928.4,690.8,613.6,536,639.6])\n",
    "lunch_price = np.linalg.solve(a, b)\n",
    "i=0\n",
    "for item in ['Steak', 'Salad', 'Chicken', 'Burger','Fries']:\n",
    "    lprice[item] = lunch_price[i]\n",
    "    i+=1\n",
    "\n",
    "#['Salmon', 'Fish&Chips', 'Shrimp', 'Pasta']\n",
    "dprice = {}\n",
    "a = np.array([[2,10,2,6], \n",
    "              [8,0,0,10],\n",
    "              [0,0,8,4],\n",
    "              [4,0,9,0],\n",
    "             ])\n",
    "b = np.array([705,603,542,650])\n",
    "dinner_price = np.linalg.solve(a, b)\n",
    "i=0\n",
    "for item in ['Salmon', 'Fish&Chips', 'Shrimp', 'Pasta']:\n",
    "    dprice[item] = dinner_price[i]\n",
    "    i+=1"
   ]
  },
  {
   "cell_type": "code",
   "execution_count": 6,
   "metadata": {
    "scrolled": true
   },
   "outputs": [
    {
     "data": {
      "image/png": "[encoded data removed]",
      "text/plain": [
       "<Figure size 432x288 with 1 Axes>"
      ]
     },
     "metadata": {
      "needs_background": "light"
     },
     "output_type": "display_data"
    }
   ],
   "source": [
    "bp = outlier.boxplot(column='order_price')"
   ]
  },
  {
   "cell_type": "code",
   "execution_count": 7,
   "metadata": {},
   "outputs": [
    {
     "data": {
      "text/plain": [
       "([1322.0, 1422.5, 1279.0, 1356.5], 4)"
      ]
     },
     "execution_count": 7,
     "metadata": {},
     "output_type": "execute_result"
    }
   ],
   "source": [
    "iqr_outlier(outlier,'order_price')"
   ]
  },
  {
   "cell_type": "code",
   "execution_count": 47,
   "metadata": {},
   "outputs": [
    {
     "data": {
      "text/plain": [
       "[\"[('Fish&Chips', 9), ('Salmon', 10), ('Shrimp', 8), ('Pasta', 6)]\"]"
      ]
     },
     "execution_count": 47,
     "metadata": {},
     "output_type": "execute_result"
    }
   ],
   "source": [
    "list(outlier.loc[(outlier['order_price']==1322.0)]['order_items'])"
   ]
  },
  {
   "cell_type": "code",
   "execution_count": 48,
   "metadata": {},
   "outputs": [
    {
     "data": {
      "text/plain": [
       "1322.0"
      ]
     },
     "execution_count": 48,
     "metadata": {},
     "output_type": "execute_result"
    }
   ],
   "source": [
    "dprice.get('Fish&Chips')*9+dprice.get('Salmon')*10+dprice.get('Shrimp')*8+dprice.get('Pasta')*6"
   ]
  },
  {
   "cell_type": "code",
   "execution_count": 49,
   "metadata": {},
   "outputs": [
    {
     "data": {
      "text/plain": [
       "[\"[('Fish&Chips', 8), ('Pasta', 7), ('Salmon', 10), ('Shrimp', 10)]\"]"
      ]
     },
     "execution_count": 49,
     "metadata": {},
     "output_type": "execute_result"
    }
   ],
   "source": [
    "list(outlier.loc[(outlier['order_price']==1422.5)]['order_items'])"
   ]
  },
  {
   "cell_type": "code",
   "execution_count": 50,
   "metadata": {},
   "outputs": [
    {
     "data": {
      "text/plain": [
       "1422.5"
      ]
     },
     "execution_count": 50,
     "metadata": {},
     "output_type": "execute_result"
    }
   ],
   "source": [
    "dprice.get('Fish&Chips')*8+dprice.get('Salmon')*10+dprice.get('Shrimp')*10+dprice.get('Pasta')*7"
   ]
  },
  {
   "cell_type": "code",
   "execution_count": 51,
   "metadata": {},
   "outputs": [
    {
     "data": {
      "text/plain": [
       "[\"[('Salmon', 8), ('Shrimp', 9), ('Pasta', 8), ('Fish&Chips', 7)]\"]"
      ]
     },
     "execution_count": 51,
     "metadata": {},
     "output_type": "execute_result"
    }
   ],
   "source": [
    "list(outlier.loc[(outlier['order_price']==1279.0)]['order_items'])"
   ]
  },
  {
   "cell_type": "code",
   "execution_count": 52,
   "metadata": {},
   "outputs": [
    {
     "data": {
      "text/plain": [
       "1279.0"
      ]
     },
     "execution_count": 52,
     "metadata": {},
     "output_type": "execute_result"
    }
   ],
   "source": [
    "dprice.get('Fish&Chips')*7+dprice.get('Salmon')*8+dprice.get('Shrimp')*9+dprice.get('Pasta')*8"
   ]
  },
  {
   "cell_type": "code",
   "execution_count": 53,
   "metadata": {},
   "outputs": [
    {
     "data": {
      "text/plain": [
       "[\"[('Shrimp', 9), ('Fish&Chips', 10), ('Salmon', 8), ('Pasta', 7)]\"]"
      ]
     },
     "execution_count": 53,
     "metadata": {},
     "output_type": "execute_result"
    }
   ],
   "source": [
    "list(outlier.loc[(outlier['order_price']==1356.5)]['order_items'])"
   ]
  },
  {
   "cell_type": "code",
   "execution_count": 54,
   "metadata": {},
   "outputs": [
    {
     "data": {
      "text/plain": [
       "1356.5"
      ]
     },
     "execution_count": 54,
     "metadata": {},
     "output_type": "execute_result"
    }
   ],
   "source": [
    "dprice.get('Fish&Chips')*10+dprice.get('Salmon')*8+dprice.get('Shrimp')*9+dprice.get('Pasta')*7"
   ]
  },
  {
   "cell_type": "markdown",
   "metadata": {},
   "source": [
    "### There are 4 outliers in column 'order_price'"
   ]
  },
  {
   "cell_type": "code",
   "execution_count": 9,
   "metadata": {},
   "outputs": [
    {
     "data": {
      "image/png": "[encoded data removed]",
      "text/plain": [
       "<Figure size 432x288 with 1 Axes>"
      ]
     },
     "metadata": {
      "needs_background": "light"
     },
     "output_type": "display_data"
    }
   ],
   "source": [
    "bp = outlier.boxplot(column='customer_lat')"
   ]
  },
  {
   "cell_type": "code",
   "execution_count": 10,
   "metadata": {},
   "outputs": [],
   "source": [
    "nodes = pd.read_csv(\"nodes.csv\")"
   ]
  },
  {
   "cell_type": "code",
   "execution_count": 11,
   "metadata": {},
   "outputs": [
    {
     "data": {
      "text/plain": [
       "-38.1109156"
      ]
     },
     "execution_count": 11,
     "metadata": {},
     "output_type": "execute_result"
    }
   ],
   "source": [
    "nodes['lat'].min()"
   ]
  },
  {
   "cell_type": "code",
   "execution_count": 12,
   "metadata": {},
   "outputs": [
    {
     "data": {
      "text/plain": [
       "([-38.1109156], 1)"
      ]
     },
     "execution_count": 12,
     "metadata": {},
     "output_type": "execute_result"
    }
   ],
   "source": [
    "iqr_outlier(outlier,'customer_lat')"
   ]
  },
  {
   "cell_type": "markdown",
   "metadata": {},
   "source": [
    "There's one outlier in column 'customer_lat', this means that there is one customer that lives way further than others"
   ]
  },
  {
   "cell_type": "code",
   "execution_count": 13,
   "metadata": {
    "scrolled": true
   },
   "outputs": [
    {
     "data": {
      "image/png": "[encoded data removed]",
      "text/plain": [
       "<Figure size 432x288 with 1 Axes>"
      ]
     },
     "metadata": {
      "needs_background": "light"
     },
     "output_type": "display_data"
    }
   ],
   "source": [
    "bp = outlier.boxplot(column='customer_lon')"
   ]
  },
  {
   "cell_type": "code",
   "execution_count": 14,
   "metadata": {},
   "outputs": [
    {
     "data": {
      "text/plain": [
       "([144.65417250000002, 145.0209268], 2)"
      ]
     },
     "execution_count": 14,
     "metadata": {},
     "output_type": "execute_result"
    }
   ],
   "source": [
    "iqr_outlier(outlier, 'customer_lon')"
   ]
  },
  {
   "cell_type": "markdown",
   "metadata": {},
   "source": [
    "There are two outliers in column 'customer_lon'"
   ]
  },
  {
   "cell_type": "code",
   "execution_count": 15,
   "metadata": {},
   "outputs": [
    {
     "data": {
      "image/png": "[encoded data removed]",
      "text/plain": [
       "<Figure size 432x288 with 1 Axes>"
      ]
     },
     "metadata": {
      "needs_background": "light"
     },
     "output_type": "display_data"
    }
   ],
   "source": [
    "bp = outlier.boxplot(column='customerHasloyalty?')"
   ]
  },
  {
   "cell_type": "code",
   "execution_count": 16,
   "metadata": {},
   "outputs": [
    {
     "data": {
      "text/plain": [
       "([1,\n",
       "  1,\n",
       "  1,\n",
       "  1,\n",
       "  1,\n",
       "  1,\n",
       "  1,\n",
       "  1,\n",
       "  1,\n",
       "  1,\n",
       "  1,\n",
       "  1,\n",
       "  1,\n",
       "  1,\n",
       "  1,\n",
       "  1,\n",
       "  1,\n",
       "  1,\n",
       "  1,\n",
       "  1,\n",
       "  1,\n",
       "  1,\n",
       "  1,\n",
       "  1,\n",
       "  1,\n",
       "  1,\n",
       "  1,\n",
       "  1,\n",
       "  1,\n",
       "  1],\n",
       " 30)"
      ]
     },
     "execution_count": 16,
     "metadata": {},
     "output_type": "execute_result"
    }
   ],
   "source": [
    "iqr_outlier(outlier,'customerHasloyalty?')"
   ]
  },
  {
   "cell_type": "markdown",
   "metadata": {},
   "source": [
    "customerHasloyalty column can have values either 0 or 1, thus this isn't an outlier."
   ]
  },
  {
   "cell_type": "code",
   "execution_count": 17,
   "metadata": {},
   "outputs": [
    {
     "data": {
      "image/png": "[encoded data removed]",
      "text/plain": [
       "<Figure size 432x288 with 1 Axes>"
      ]
     },
     "metadata": {
      "needs_background": "light"
     },
     "output_type": "display_data"
    }
   ],
   "source": [
    "bp = outlier.boxplot(column='distance_to_customer_KM')"
   ]
  },
  {
   "cell_type": "code",
   "execution_count": 18,
   "metadata": {},
   "outputs": [
    {
     "data": {
      "text/plain": [
       "([4.7669999999999995,\n",
       "  5.03,\n",
       "  12.937999999999999,\n",
       "  12.731,\n",
       "  4.175,\n",
       "  51.06100000000001,\n",
       "  4.488,\n",
       "  3.998,\n",
       "  4.042,\n",
       "  4.031000000000001,\n",
       "  13.96],\n",
       " 11)"
      ]
     },
     "execution_count": 18,
     "metadata": {},
     "output_type": "execute_result"
    }
   ],
   "source": [
    "iqr_outlier(outlier,'distance_to_customer_KM')"
   ]
  },
  {
   "cell_type": "markdown",
   "metadata": {},
   "source": [
    "There are 11 outliers in column 'distance_to_customer_KM'"
   ]
  },
  {
   "cell_type": "code",
   "execution_count": 19,
   "metadata": {},
   "outputs": [
    {
     "data": {
      "image/png": "[encoded data removed]",
      "text/plain": [
       "<Figure size 432x288 with 1 Axes>"
      ]
     },
     "metadata": {
      "needs_background": "light"
     },
     "output_type": "display_data"
    }
   ],
   "source": [
    "bp = outlier.boxplot(column='delivery_fee')"
   ]
  },
  {
   "cell_type": "markdown",
   "metadata": {},
   "source": [
    "Some outliers occur because the delivery fee is very different among clients depending on their loyalty status. Thus we need to identify those 'abnormal' delivery fee which is due to loyalty status and make sure these data are removed from outliers. "
   ]
  },
  {
   "cell_type": "code",
   "execution_count": 20,
   "metadata": {},
   "outputs": [],
   "source": [
    "outlier.loc[outlier['customerHasloyalty?']==1, 'original_delivery_fee'] =\\\n",
    "outlier['delivery_fee']*2\n",
    "outlier.loc[outlier['customerHasloyalty?']==0, 'original_delivery_fee'] =\\\n",
    "outlier['delivery_fee']"
   ]
  },
  {
   "cell_type": "code",
   "execution_count": 21,
   "metadata": {
    "scrolled": false
   },
   "outputs": [
    {
     "data": {
      "text/plain": [
       "([7.96379695,\n",
       "  23.61206175,\n",
       "  6.67611355,\n",
       "  7.8401602,\n",
       "  8.10937705,\n",
       "  26.07995595,\n",
       "  6.015808799999999,\n",
       "  7.0394129,\n",
       "  7.248694,\n",
       "  5.83127565,\n",
       "  7.133617299999999,\n",
       "  23.39830665,\n",
       "  6.251012599999999,\n",
       "  6.0581431,\n",
       "  7.5890549,\n",
       "  27.638934600000002,\n",
       "  21.75641925,\n",
       "  21.8183538,\n",
       "  5.96719495,\n",
       "  21.5780565,\n",
       "  6.77262465,\n",
       "  20.0621217,\n",
       "  56.9464441,\n",
       "  20.842773,\n",
       "  21.82074495,\n",
       "  26.488829699999997,\n",
       "  8.0652685],\n",
       " 27)"
      ]
     },
     "execution_count": 21,
     "metadata": {},
     "output_type": "execute_result"
    }
   ],
   "source": [
    "iqr_outlier(outlier,'original_delivery_fee')"
   ]
  },
  {
   "cell_type": "code",
   "execution_count": 55,
   "metadata": {},
   "outputs": [],
   "source": [
    "def day(x):\n",
    "    if x == 5 or x == 6:\n",
    "        return 1 #'Saturday' or Sunday\n",
    "    else:\n",
    "        return 0 # Weekday\n",
    "    return\n",
    "def timeofday(x):\n",
    "    if x == 'Breakfast':\n",
    "        return 0\n",
    "    elif x == 'Lunch':\n",
    "        return 1\n",
    "    elif x == 'Dinner':\n",
    "        return 2"
   ]
  },
  {
   "cell_type": "code",
   "execution_count": 57,
   "metadata": {},
   "outputs": [],
   "source": [
    "outlier['date'] = outlier['date'].apply(lambda x: datetime.strptime(x, '%Y-%m-%d'))\n",
    "outlier['weekend'] = outlier['date'].apply(lambda x: day(x.weekday()))\n",
    "outlier['timeofday'] = outlier['order_type'].apply(lambda x: timeofday(x))"
   ]
  },
  {
   "cell_type": "code",
   "execution_count": 61,
   "metadata": {},
   "outputs": [],
   "source": [
    "# weekday_or_weekend, time_of_day, distance\n",
    "a = np.array([[1,0,9.030], \n",
    "              [1,2,9.907],\n",
    "              [0,0,9.703],\n",
    "             ])\n",
    "b = np.array([15.647793,17.848914,15.168486])\n",
    "ns_price_coef = np.linalg.solve(a, b)\n",
    "nsprice = {}\n",
    "i= 0\n",
    "for item in ['weekday_or_weekend', 'time_of_day', 'distance']:\n",
    "    nsprice[item] = ns_price_coef[i]\n",
    "    i+=1\n"
   ]
  },
  {
   "cell_type": "code",
   "execution_count": 94,
   "metadata": {},
   "outputs": [
    {
     "data": {
      "image/png": "[encoded data removed]",
      "text/plain": [
       "<Figure size 576x396 with 2 Axes>"
      ]
     },
     "metadata": {},
     "output_type": "display_data"
    },
    {
     "data": {
      "text/plain": [
       "<matplotlib.axes._subplots.AxesSubplot at 0x2d2fc86dcc8>"
      ]
     },
     "execution_count": 94,
     "metadata": {},
     "output_type": "execute_result"
    }
   ],
   "source": [
    "from sklearn.model_selection import train_test_split\n",
    "from sklearn.linear_model import Ridge\n",
    "from yellowbrick.regressor import ResidualsPlot\n",
    "\n",
    "# load a regression dataset\n",
    "x = outlier.loc[(outlier['branch_code']=='NS')].distance_to_customer_KM.values\n",
    "y = outlier.loc[(outlier['branch_code']=='NS')].original_delivery_fee.values\n",
    "x = x.reshape((len(x),1))\n",
    "\n",
    "# split the training and test data\n",
    "x_train, x_test, y_train, y_test = train_test_split(x, y, test_size=0.2, random_state=12)\n",
    "\n",
    "# Instantiate the linear model and visualizer\n",
    "model = Ridge()\n",
    "visualizer = ResidualsPlot(model)\n",
    "\n",
    "visualizer.fit(x_train, y_train) # fit the training data\n",
    "visualizer.score(x_test, y_test) # analyze the test data\n",
    "visualizer.poof() # draw the data"
   ]
  },
  {
   "cell_type": "code",
   "execution_count": 60,
   "metadata": {},
   "outputs": [
    {
     "data": {
      "text/html": [
       "<div>\n",
       "<style scoped>\n",
       "    .dataframe tbody tr th:only-of-type {\n",
       "        vertical-align: middle;\n",
       "    }\n",
       "\n",
       "    .dataframe tbody tr th {\n",
       "        vertical-align: top;\n",
       "    }\n",
       "\n",
       "    .dataframe thead th {\n",
       "        text-align: right;\n",
       "    }\n",
       "</style>\n",
       "<table border=\"1\" class=\"dataframe\">\n",
       "  <thead>\n",
       "    <tr style=\"text-align: right;\">\n",
       "      <th></th>\n",
       "      <th>order_id</th>\n",
       "      <th>date</th>\n",
       "      <th>time</th>\n",
       "      <th>order_type</th>\n",
       "      <th>branch_code</th>\n",
       "      <th>order_items</th>\n",
       "      <th>order_price</th>\n",
       "      <th>customer_lat</th>\n",
       "      <th>customer_lon</th>\n",
       "      <th>customerHasloyalty?</th>\n",
       "      <th>distance_to_customer_KM</th>\n",
       "      <th>delivery_fee</th>\n",
       "      <th>original_delivery_fee</th>\n",
       "      <th>weekend</th>\n",
       "      <th>timeofday</th>\n",
       "    </tr>\n",
       "  </thead>\n",
       "  <tbody>\n",
       "    <tr>\n",
       "      <td>0</td>\n",
       "      <td>ORDZ02701</td>\n",
       "      <td>2018-03-24</td>\n",
       "      <td>10:42:15</td>\n",
       "      <td>Breakfast</td>\n",
       "      <td>NS</td>\n",
       "      <td>[('Cereal', 3), ('Coffee', 3), ('Eggs', 9)]</td>\n",
       "      <td>283.5</td>\n",
       "      <td>-37.819338</td>\n",
       "      <td>144.985153</td>\n",
       "      <td>0</td>\n",
       "      <td>9.030</td>\n",
       "      <td>15.647793</td>\n",
       "      <td>15.647793</td>\n",
       "      <td>1</td>\n",
       "      <td>0</td>\n",
       "    </tr>\n",
       "    <tr>\n",
       "      <td>1</td>\n",
       "      <td>ORDY10919</td>\n",
       "      <td>2018-08-22</td>\n",
       "      <td>15:46:28</td>\n",
       "      <td>Lunch</td>\n",
       "      <td>TP</td>\n",
       "      <td>[('Steak', 7), ('Chicken', 6), ('Burger', 9), ...</td>\n",
       "      <td>928.4</td>\n",
       "      <td>-37.811063</td>\n",
       "      <td>144.950357</td>\n",
       "      <td>0</td>\n",
       "      <td>9.308</td>\n",
       "      <td>12.843769</td>\n",
       "      <td>12.843769</td>\n",
       "      <td>0</td>\n",
       "      <td>1</td>\n",
       "    </tr>\n",
       "    <tr>\n",
       "      <td>2</td>\n",
       "      <td>ORDZ06306</td>\n",
       "      <td>2018-09-23</td>\n",
       "      <td>16:47:19</td>\n",
       "      <td>Dinner</td>\n",
       "      <td>NS</td>\n",
       "      <td>[('Pasta', 6), ('Shrimp', 2), ('Salmon', 2), (...</td>\n",
       "      <td>705.0</td>\n",
       "      <td>-37.809089</td>\n",
       "      <td>144.929144</td>\n",
       "      <td>0</td>\n",
       "      <td>9.907</td>\n",
       "      <td>17.848914</td>\n",
       "      <td>17.848914</td>\n",
       "      <td>1</td>\n",
       "      <td>2</td>\n",
       "    </tr>\n",
       "    <tr>\n",
       "      <td>3</td>\n",
       "      <td>ORDX00059</td>\n",
       "      <td>2018-08-27</td>\n",
       "      <td>15:56:37</td>\n",
       "      <td>Lunch</td>\n",
       "      <td>BK</td>\n",
       "      <td>[('Burger', 8), ('Salad', 9), ('Chicken', 9)]</td>\n",
       "      <td>690.8</td>\n",
       "      <td>-37.804651</td>\n",
       "      <td>144.937735</td>\n",
       "      <td>0</td>\n",
       "      <td>10.141</td>\n",
       "      <td>16.331203</td>\n",
       "      <td>16.331203</td>\n",
       "      <td>0</td>\n",
       "      <td>1</td>\n",
       "    </tr>\n",
       "    <tr>\n",
       "      <td>4</td>\n",
       "      <td>ORDA09339</td>\n",
       "      <td>2018-01-11</td>\n",
       "      <td>08:20:16</td>\n",
       "      <td>Breakfast</td>\n",
       "      <td>BK</td>\n",
       "      <td>[('Eggs', 6), ('Coffee', 5)]</td>\n",
       "      <td>169.5</td>\n",
       "      <td>-37.807260</td>\n",
       "      <td>144.957396</td>\n",
       "      <td>1</td>\n",
       "      <td>8.190</td>\n",
       "      <td>6.756584</td>\n",
       "      <td>13.513167</td>\n",
       "      <td>0</td>\n",
       "      <td>0</td>\n",
       "    </tr>\n",
       "    <tr>\n",
       "      <td>5</td>\n",
       "      <td>ORDZ02685</td>\n",
       "      <td>2018-02-01</td>\n",
       "      <td>09:00:50</td>\n",
       "      <td>Breakfast</td>\n",
       "      <td>NS</td>\n",
       "      <td>[('Cereal', 3), ('Eggs', 6), ('Coffee', 8)]</td>\n",
       "      <td>255.0</td>\n",
       "      <td>-37.824622</td>\n",
       "      <td>144.989621</td>\n",
       "      <td>0</td>\n",
       "      <td>9.703</td>\n",
       "      <td>15.168486</td>\n",
       "      <td>15.168486</td>\n",
       "      <td>0</td>\n",
       "      <td>0</td>\n",
       "    </tr>\n",
       "    <tr>\n",
       "      <td>6</td>\n",
       "      <td>ORDZ05528</td>\n",
       "      <td>2018-04-09</td>\n",
       "      <td>11:12:40</td>\n",
       "      <td>Breakfast</td>\n",
       "      <td>NS</td>\n",
       "      <td>[('Pancake', 8), ('Cereal', 7), ('Coffee', 2),...</td>\n",
       "      <td>400.0</td>\n",
       "      <td>-37.802431</td>\n",
       "      <td>144.943639</td>\n",
       "      <td>0</td>\n",
       "      <td>8.774</td>\n",
       "      <td>13.419972</td>\n",
       "      <td>13.419972</td>\n",
       "      <td>0</td>\n",
       "      <td>0</td>\n",
       "    </tr>\n",
       "    <tr>\n",
       "      <td>7</td>\n",
       "      <td>ORDZ00430</td>\n",
       "      <td>2018-12-11</td>\n",
       "      <td>19:19:26</td>\n",
       "      <td>Dinner</td>\n",
       "      <td>NS</td>\n",
       "      <td>[('Pasta', 10), ('Salmon', 8)]</td>\n",
       "      <td>603.0</td>\n",
       "      <td>-37.815320</td>\n",
       "      <td>144.936533</td>\n",
       "      <td>0</td>\n",
       "      <td>9.959</td>\n",
       "      <td>16.378492</td>\n",
       "      <td>16.378492</td>\n",
       "      <td>0</td>\n",
       "      <td>2</td>\n",
       "    </tr>\n",
       "    <tr>\n",
       "      <td>8</td>\n",
       "      <td>ORDI08401</td>\n",
       "      <td>2018-11-17</td>\n",
       "      <td>18:38:52</td>\n",
       "      <td>Dinner</td>\n",
       "      <td>NS</td>\n",
       "      <td>[('Shrimp', 8), ('Pasta', 4)]</td>\n",
       "      <td>542.0</td>\n",
       "      <td>-37.806699</td>\n",
       "      <td>144.941515</td>\n",
       "      <td>0</td>\n",
       "      <td>9.435</td>\n",
       "      <td>17.974376</td>\n",
       "      <td>17.974376</td>\n",
       "      <td>1</td>\n",
       "      <td>2</td>\n",
       "    </tr>\n",
       "    <tr>\n",
       "      <td>9</td>\n",
       "      <td>ORDY05567</td>\n",
       "      <td>2018-09-14</td>\n",
       "      <td>16:27:02</td>\n",
       "      <td>Dinner</td>\n",
       "      <td>TP</td>\n",
       "      <td>[('Shrimp', 9), ('Salmon', 4)]</td>\n",
       "      <td>650.0</td>\n",
       "      <td>-37.811360</td>\n",
       "      <td>144.927209</td>\n",
       "      <td>0</td>\n",
       "      <td>11.475</td>\n",
       "      <td>7.963797</td>\n",
       "      <td>7.963797</td>\n",
       "      <td>0</td>\n",
       "      <td>2</td>\n",
       "    </tr>\n",
       "  </tbody>\n",
       "</table>\n",
       "</div>"
      ],
      "text/plain": [
       "    order_id       date      time order_type branch_code  \\\n",
       "0  ORDZ02701 2018-03-24  10:42:15  Breakfast          NS   \n",
       "1  ORDY10919 2018-08-22  15:46:28      Lunch          TP   \n",
       "2  ORDZ06306 2018-09-23  16:47:19     Dinner          NS   \n",
       "3  ORDX00059 2018-08-27  15:56:37      Lunch          BK   \n",
       "4  ORDA09339 2018-01-11  08:20:16  Breakfast          BK   \n",
       "5  ORDZ02685 2018-02-01  09:00:50  Breakfast          NS   \n",
       "6  ORDZ05528 2018-04-09  11:12:40  Breakfast          NS   \n",
       "7  ORDZ00430 2018-12-11  19:19:26     Dinner          NS   \n",
       "8  ORDI08401 2018-11-17  18:38:52     Dinner          NS   \n",
       "9  ORDY05567 2018-09-14  16:27:02     Dinner          TP   \n",
       "\n",
       "                                         order_items  order_price  \\\n",
       "0        [('Cereal', 3), ('Coffee', 3), ('Eggs', 9)]        283.5   \n",
       "1  [('Steak', 7), ('Chicken', 6), ('Burger', 9), ...        928.4   \n",
       "2  [('Pasta', 6), ('Shrimp', 2), ('Salmon', 2), (...        705.0   \n",
       "3      [('Burger', 8), ('Salad', 9), ('Chicken', 9)]        690.8   \n",
       "4                       [('Eggs', 6), ('Coffee', 5)]        169.5   \n",
       "5        [('Cereal', 3), ('Eggs', 6), ('Coffee', 8)]        255.0   \n",
       "6  [('Pancake', 8), ('Cereal', 7), ('Coffee', 2),...        400.0   \n",
       "7                     [('Pasta', 10), ('Salmon', 8)]        603.0   \n",
       "8                      [('Shrimp', 8), ('Pasta', 4)]        542.0   \n",
       "9                     [('Shrimp', 9), ('Salmon', 4)]        650.0   \n",
       "\n",
       "   customer_lat  customer_lon  customerHasloyalty?  distance_to_customer_KM  \\\n",
       "0    -37.819338    144.985153                    0                    9.030   \n",
       "1    -37.811063    144.950357                    0                    9.308   \n",
       "2    -37.809089    144.929144                    0                    9.907   \n",
       "3    -37.804651    144.937735                    0                   10.141   \n",
       "4    -37.807260    144.957396                    1                    8.190   \n",
       "5    -37.824622    144.989621                    0                    9.703   \n",
       "6    -37.802431    144.943639                    0                    8.774   \n",
       "7    -37.815320    144.936533                    0                    9.959   \n",
       "8    -37.806699    144.941515                    0                    9.435   \n",
       "9    -37.811360    144.927209                    0                   11.475   \n",
       "\n",
       "   delivery_fee  original_delivery_fee  weekend  timeofday  \n",
       "0     15.647793              15.647793        1          0  \n",
       "1     12.843769              12.843769        0          1  \n",
       "2     17.848914              17.848914        1          2  \n",
       "3     16.331203              16.331203        0          1  \n",
       "4      6.756584              13.513167        0          0  \n",
       "5     15.168486              15.168486        0          0  \n",
       "6     13.419972              13.419972        0          0  \n",
       "7     16.378492              16.378492        0          2  \n",
       "8     17.974376              17.974376        1          2  \n",
       "9      7.963797               7.963797        0          2  "
      ]
     },
     "execution_count": 60,
     "metadata": {},
     "output_type": "execute_result"
    }
   ],
   "source": [
    "outlier.head(10)"
   ]
  },
  {
   "cell_type": "markdown",
   "metadata": {},
   "source": [
    "There are 27 outliers in column 'delivery_fee'"
   ]
  },
  {
   "cell_type": "code",
   "execution_count": 69,
   "metadata": {},
   "outputs": [
    {
     "data": {
      "text/plain": [
       "LinearRegression(copy_X=True, fit_intercept=True, n_jobs=None, normalize=False)"
      ]
     },
     "execution_count": 69,
     "metadata": {},
     "output_type": "execute_result"
    }
   ],
   "source": [
    "reg = LinearRegression()\n",
    "x = outlier.loc[(outlier['branch_code']=='NS')].distance_to_customer_KM.values\n",
    "y = outlier.loc[(outlier['branch_code']=='NS')].original_delivery_fee.values\n",
    "x = x.reshape((len(x),1))\n",
    "\n",
    "reg.fit(x,y)"
   ]
  },
  {
   "cell_type": "code",
   "execution_count": 70,
   "metadata": {},
   "outputs": [
    {
     "data": {
      "text/plain": [
       "<matplotlib.collections.PathCollection at 0x2d2fa6b2988>"
      ]
     },
     "execution_count": 70,
     "metadata": {},
     "output_type": "execute_result"
    },
    {
     "data": {
      "image/png": "[encoded data removed]",
      "text/plain": [
       "<Figure size 432x288 with 1 Axes>"
      ]
     },
     "metadata": {
      "needs_background": "light"
     },
     "output_type": "display_data"
    }
   ],
   "source": [
    "plt.scatter(x, y)"
   ]
  },
  {
   "cell_type": "code",
   "execution_count": 71,
   "metadata": {},
   "outputs": [
    {
     "name": "stdout",
     "output_type": "stream",
     "text": [
      "r-squared for this model =  0.7030449305914168\n"
     ]
    }
   ],
   "source": [
    "print ('r-squared for this model = ',reg.score(x,y))"
   ]
  },
  {
   "cell_type": "code",
   "execution_count": 83,
   "metadata": {},
   "outputs": [
    {
     "data": {
      "text/plain": [
       "<matplotlib.collections.PathCollection at 0x2d2fa913908>"
      ]
     },
     "execution_count": 83,
     "metadata": {},
     "output_type": "execute_result"
    },
    {
     "data": {
      "image/png": "[encoded data removed]",
      "text/plain": [
       "<Figure size 432x288 with 1 Axes>"
      ]
     },
     "metadata": {
      "needs_background": "light"
     },
     "output_type": "display_data"
    }
   ],
   "source": [
    "reg = LinearRegression()\n",
    "x = outlier.loc[(outlier['branch_code']=='TP')].distance_to_customer_KM.values\n",
    "y = outlier.loc[(outlier['branch_code']=='TP')].original_delivery_fee.values\n",
    "x = x.reshape((len(x),1))\n",
    "\n",
    "reg.fit(x,y)\n",
    "plt.scatter(x, y)"
   ]
  },
  {
   "cell_type": "code",
   "execution_count": 92,
   "metadata": {},
   "outputs": [
    {
     "data": {
      "text/plain": [
       "{'whiskers': [<matplotlib.lines.Line2D at 0x2d2fc46c8c8>,\n",
       "  <matplotlib.lines.Line2D at 0x2d2fc46cec8>],\n",
       " 'caps': [<matplotlib.lines.Line2D at 0x2d2fc46ccc8>,\n",
       "  <matplotlib.lines.Line2D at 0x2d2fc4729c8>],\n",
       " 'boxes': [<matplotlib.lines.Line2D at 0x2d2fc46c148>],\n",
       " 'medians': [<matplotlib.lines.Line2D at 0x2d2fc472f48>],\n",
       " 'fliers': [<matplotlib.lines.Line2D at 0x2d2fc472d48>],\n",
       " 'means': []}"
      ]
     },
     "execution_count": 92,
     "metadata": {},
     "output_type": "execute_result"
    },
    {
     "data": {
      "image/png": "[encoded data removed]",
      "text/plain": [
       "<Figure size 432x288 with 1 Axes>"
      ]
     },
     "metadata": {
      "needs_background": "light"
     },
     "output_type": "display_data"
    }
   ],
   "source": [
    "import statsmodels.api as sm\n",
    "x = outlier.loc[(outlier['branch_code']=='TP')].distance_to_customer_KM.values\n",
    "y = outlier.loc[(outlier['branch_code']=='TP')].original_delivery_fee.values\n",
    "x = x.reshape((len(x),1))\n",
    "model_1 = sm.OLS(y, x).fit()\n",
    "plt.boxplot(model_1.resid)"
   ]
  },
  {
   "cell_type": "code",
   "execution_count": 74,
   "metadata": {},
   "outputs": [
    {
     "data": {
      "text/plain": [
       "<matplotlib.collections.PathCollection at 0x2d2fa8ac148>"
      ]
     },
     "execution_count": 74,
     "metadata": {},
     "output_type": "execute_result"
    },
    {
     "data": {
      "image/png": "[encoded data removed]",
      "text/plain": [
       "<Figure size 432x288 with 1 Axes>"
      ]
     },
     "metadata": {
      "needs_background": "light"
     },
     "output_type": "display_data"
    }
   ],
   "source": [
    "reg = LinearRegression()\n",
    "x = outlier.loc[(outlier['branch_code']=='BK')].distance_to_customer_KM.values\n",
    "y = outlier.loc[(outlier['branch_code']=='BK')].original_delivery_fee.values\n",
    "x = x.reshape((len(x),1))\n",
    "\n",
    "reg.fit(x,y)\n",
    "plt.scatter(x, y)"
   ]
  },
  {
   "cell_type": "code",
   "execution_count": 80,
   "metadata": {},
   "outputs": [
    {
     "data": {
      "text/plain": [
       "([7.0394129,\n",
       "  7.5890549,\n",
       "  27.638934600000002,\n",
       "  21.75641925,\n",
       "  21.8183538,\n",
       "  6.77262465,\n",
       "  20.842773,\n",
       "  21.82074495,\n",
       "  9.169604300000001],\n",
       " 9)"
      ]
     },
     "execution_count": 80,
     "metadata": {},
     "output_type": "execute_result"
    }
   ],
   "source": [
    "bk_data = outlier.loc[(outlier['branch_code']=='BK')].original_delivery_fee.values\n",
    "iqr_outlier(outlier.where(outlier['branch_code']=='BK').dropna(),'original_delivery_fee')"
   ]
  },
  {
   "cell_type": "code",
   "execution_count": 81,
   "metadata": {},
   "outputs": [
    {
     "data": {
      "text/plain": [
       "([7.96379695,\n",
       "  19.5575832,\n",
       "  6.67611355,\n",
       "  8.10937705,\n",
       "  6.015808799999999,\n",
       "  7.248694,\n",
       "  5.83127565,\n",
       "  18.1012938,\n",
       "  6.251012599999999,\n",
       "  6.0581431,\n",
       "  5.96719495,\n",
       "  18.03160725],\n",
       " 12)"
      ]
     },
     "execution_count": 81,
     "metadata": {},
     "output_type": "execute_result"
    }
   ],
   "source": [
    "bk_data = outlier.loc[(outlier['branch_code']=='TP')].original_delivery_fee.values\n",
    "iqr_outlier(outlier.where(outlier['branch_code']=='TP').dropna(),'original_delivery_fee')"
   ]
  },
  {
   "cell_type": "code",
   "execution_count": 82,
   "metadata": {},
   "outputs": [
    {
     "data": {
      "text/plain": [
       "([23.61206175,\n",
       "  7.8401602,\n",
       "  26.07995595,\n",
       "  7.133617299999999,\n",
       "  23.39830665,\n",
       "  21.5780565,\n",
       "  20.0621217,\n",
       "  56.9464441,\n",
       "  26.488829699999997,\n",
       "  8.0652685],\n",
       " 10)"
      ]
     },
     "execution_count": 82,
     "metadata": {},
     "output_type": "execute_result"
    }
   ],
   "source": [
    "bk_data = outlier.loc[(outlier['branch_code']=='NS')].original_delivery_fee.values\n",
    "iqr_outlier(outlier.where(outlier['branch_code']=='NS').dropna(),'original_delivery_fee')"
   ]
  }
 ],
 "metadata": {
  "kernelspec": {
   "display_name": "Python 3",
   "language": "python",
   "name": "python3"
  },
  "language_info": {
   "codemirror_mode": {
    "name": "ipython",
    "version": 3
   },
   "file_extension": ".py",
   "mimetype": "text/x-python",
   "name": "python",
   "nbconvert_exporter": "python",
   "pygments_lexer": "ipython3",
   "version": "3.7.4"
  }
 },
 "nbformat": 4,
 "nbformat_minor": 2
}
