{
 "cells": [
  {
   "cell_type": "markdown",
   "metadata": {},
   "source": [
    "# FIT5196 Assessment 3\n",
    "# Group Number: 102\n",
    "#### Student Name: Haoheng Zhu\n",
    "#### Student ID: 30376467\n",
    "\n",
    "Date: 03/10/2019\n",
    "\n",
    "Version: 1\n",
    "\n",
    "Environment: Python 3.6.5 and Jupyter notebook\n",
    "\n",
    "Libraries used: \n",
    "* pandas (for dataframe, included in Anaconda Python 3.6.5) \n",
    "* re (for regular expression, included in Anaconda Python 3.6.5) \n",
    "* networkx (NetworkX is a Python package for the networks function)\n",
    "* sklearn.linear_model (Ordinary least squares Linear Regression)\n",
    "* statsmodels.api (for the estimation of many different statistical models)\n",
    "* contextlib (for common tasks involving the with statement)\n",
    "* tqdm (Progress bar)\n",
    "* numpy (for scientific computing with Python)"
   ]
  },
  {
   "cell_type": "markdown",
   "metadata": {},
   "source": [
    "## Introduction\n",
    "\n",
    "In this assignment, we are supposed to:\n",
    "\n",
    "Perform graphical and/or non-graphical EDA methods to understand the data first and then find the data problems. \n",
    "\n",
    "* Detect and fix errors in G102_dirty_data.csv\n",
    "* Detect and remove outlier rows in G102_outlier_data.csv (outliers are to be found w.r.t. delivery_fee attribute)\n",
    "* Impute the missing values in G102_missing_data.csv\n",
    "\n",
    "This assignment mainly test the capability to distinguish and handle three types of __missing data__ (Missing at random, Missing completely at random, Missing not at random), the capability to detect and fix outliers using different approaches."
   ]
  },
  {
   "cell_type": "code",
   "execution_count": 1,
   "metadata": {},
   "outputs": [
    {
     "name": "stderr",
     "output_type": "stream",
     "text": [
      "D:\\Anacoda\\lib\\site-packages\\tqdm\\autonotebook\\__init__.py:14: TqdmExperimentalWarning: Using `tqdm.autonotebook.tqdm` in notebook mode. Use `tqdm.tqdm` instead to force console mode (e.g. in jupyter console)\n",
      "  \" (e.g. in jupyter console)\", TqdmExperimentalWarning)\n"
     ]
    }
   ],
   "source": [
    "import pandas as pd #pandas tables\n",
    "import numpy as np #numpy for linear algrebra solution\n",
    "import matplotlib.pyplot as plt #EDA\n",
    "%matplotlib inline\n",
    "pd.set_option('display.max_rows', 500) #display of pandas\n",
    "pd.set_option('display.max_columns', 500)  #display of pandas\n",
    "pd.set_option('display.width', 1000)  #display of pandas\n",
    "\n",
    "import math #math operations\n",
    "from datetime import datetime #datetime manipulation\n",
    "\n",
    "import tqdm #progress bar\n",
    "from tqdm import tqdm_notebook as tqdm #progress bar\n",
    "from tqdm.autonotebook import tqdm #progress bar\n",
    " #progress bar\n",
    "\n",
    "from sklearn import linear_model  #linear regression \n",
    "import statsmodels.api as sm #linear regression \n",
    "\n",
    "import re #regex\n",
    "from contextlib import suppress #suppress error\n",
    "\n",
    "import networkx as nx #networkx to find shortest distance. "
   ]
  },
  {
   "cell_type": "markdown",
   "metadata": {},
   "source": [
    "# A. Dirty data"
   ]
  },
  {
   "cell_type": "markdown",
   "metadata": {},
   "source": [
    "This task is to **detect and fix errors** in Group102_dirty_data.csv"
   ]
  },
  {
   "cell_type": "markdown",
   "metadata": {},
   "source": [
    "According to the assignment specifications:    \n",
    "* There is __at least one__ anomaly in the dataset from each category of the data anomalies (i.e.,\n",
    "syntactic, semantic, and coverage).\n",
    "* In the file <GroupName>_dirty_data.csv, any row can carry no more than one anomaly. (i.e.\n",
    "there can only be one anomaly in a single row and all anomalies are fixable)\n",
    "* There are no data anomalies in the file <GroupName>_outlier_data.csv, only outliers.\n",
    "Similarly, there are no data anomalies other than missing value problems in the file\n",
    "<GroupName>_missing_data.csv"
   ]
  },
  {
   "cell_type": "code",
   "execution_count": 2,
   "metadata": {},
   "outputs": [],
   "source": [
    "dirty = pd.read_csv('Group102_dirty_data.csv') #reading data\n",
    "ori_col = dirty.columns #keeping original columns"
   ]
  },
  {
   "cell_type": "code",
   "execution_count": 3,
   "metadata": {},
   "outputs": [],
   "source": [
    "dirty['error'] = '' #this column of error will be used to mark the error found in each row\n",
    "\n",
    "\n",
    "def day(x):\n",
    "    \"\"\"\n",
    "    To find if the day is weekday or weekend. \n",
    "    \"\"\"\n",
    "    if x == 5 or x == 6:\n",
    "        return 1 #'Saturday' or Sunday\n",
    "    else:\n",
    "        return 0 # Weekday\n",
    "    return\n",
    "\n",
    "\n",
    "def timeofday(x):\n",
    "    \n",
    "    \"\"\"\n",
    "    Create a column that encode the meal from Breakfast, Lunch, Dinner into 0,1,2\n",
    "    \"\"\"\n",
    "    \n",
    "    if x == 'Breakfast':\n",
    "        return 0\n",
    "    elif x == 'Lunch':\n",
    "        return 1\n",
    "    elif x == 'Dinner':\n",
    "        return 2"
   ]
  },
  {
   "cell_type": "markdown",
   "metadata": {},
   "source": [
    "## 1. date"
   ]
  },
  {
   "cell_type": "markdown",
   "metadata": {},
   "source": [
    "We will have a look at the column **date**. "
   ]
  },
  {
   "cell_type": "code",
   "execution_count": 4,
   "metadata": {},
   "outputs": [
    {
     "data": {
      "text/plain": [
       "0    2018-08-25\n",
       "1    2018-06-25\n",
       "2    2018-07-25\n",
       "3    2018-09-30\n",
       "4    2018-28-01\n",
       "Name: date, dtype: object"
      ]
     },
     "execution_count": 4,
     "metadata": {},
     "output_type": "execute_result"
    }
   ],
   "source": [
    "dirty['date'].head()"
   ]
  },
  {
   "cell_type": "markdown",
   "metadata": {},
   "source": [
    "The __year__ info is the first four digits. We will check how many different year."
   ]
  },
  {
   "cell_type": "code",
   "execution_count": 5,
   "metadata": {},
   "outputs": [],
   "source": [
    "dirty['date_aux'] = dirty['date'].apply(lambda x:x[:4])"
   ]
  },
  {
   "cell_type": "code",
   "execution_count": 6,
   "metadata": {},
   "outputs": [
    {
     "data": {
      "text/plain": [
       "array(['2018', '02-0', '05-0', '07-0', '09-0', '01-1', '06-1', '02-1',\n",
       "       '08-0', '11-1', '07-1', '01-0', '04-0', '09-1'], dtype=object)"
      ]
     },
     "execution_count": 6,
     "metadata": {},
     "output_type": "execute_result"
    }
   ],
   "source": [
    "dirty['date_aux'].unique()"
   ]
  },
  {
   "cell_type": "markdown",
   "metadata": {},
   "source": [
    "From inspecting year, we can see that there are _**missformated**_ value in this column. Then we can fix the value to the same format YYYY-DD-MM"
   ]
  },
  {
   "cell_type": "code",
   "execution_count": 7,
   "metadata": {},
   "outputs": [],
   "source": [
    "PATTERNS = [\n",
    "        # 0) 1-12-1963 => 1963-12-01\n",
    "        (re.compile(r'(\\d{1,2})-(\\d{1,2})-(\\d{4})$'), '{2}-{1:0>2}-{0:0>2}'),\n",
    "        # 1) 1789-7-14 => 1789-07-14\n",
    "        (re.compile(r'(\\d{4})-(\\d{1,2})-(\\d{1,2})$'), '{0}-{1:0>2}-{2:0>2}'),\n",
    "]\n",
    "\n",
    "def correct(date):\n",
    "    \n",
    "    \"\"\"\n",
    "    Correct the date into order of YYYY-MM-DD\n",
    "    \"\"\"\n",
    "    \n",
    "    with suppress(ValueError):\n",
    "        return str(int(date))\n",
    "\n",
    "    for pattern, formater in PATTERNS:\n",
    "        match = pattern.match(date)\n",
    "        if match is not None:\n",
    "            return formater.format(*match.groups())\n",
    "        \n",
    "    return date\n",
    "\n",
    "def fix_month(date):\n",
    "    \"\"\"\n",
    "    Correct the date from YYYY-DD-MM into YYYY-MM-DD\n",
    "    \"\"\"\n",
    "    date = date.split('-') #split the YYYY-MM-DD, into [YYYY, MM, DD]\n",
    "    fixed = date[0]\n",
    "    \n",
    "    if int(date[1]) > 12: #if the numeric value larger than 12\n",
    "        fixed = fixed + str('-') + date[2] + str('-') +  date[1]\n",
    "    else: \n",
    "        fixed = fixed + str('-') + date[1] + str('-') + date[2]\n",
    "    return fixed"
   ]
  },
  {
   "cell_type": "markdown",
   "metadata": {},
   "source": [
    "We will create a column __'date_fix'__ to have the correct value. After getting the date column in correct format. Then we will compare between date_fix and date columns. The different will be spotted and marked in one collumn called errors, and corrected. "
   ]
  },
  {
   "cell_type": "code",
   "execution_count": 8,
   "metadata": {},
   "outputs": [],
   "source": [
    "dirty['date_fix'] = dirty['date'].apply(lambda x : correct(x)) # fix the format to YYYY MM DD\n",
    "dirty['date_fix'] = dirty['date_fix'].apply(lambda x: fix_month(x)) # incase the format is DD MM then fix to MM DD"
   ]
  },
  {
   "cell_type": "code",
   "execution_count": 9,
   "metadata": {},
   "outputs": [
    {
     "name": "stdout",
     "output_type": "stream",
     "text": [
      "There are 37 errors in column date\n"
     ]
    }
   ],
   "source": [
    "print('There are {} errors in column date'.format(len(dirty[dirty['date_fix'] != dirty['date']][['date_fix','date']])))"
   ]
  },
  {
   "cell_type": "markdown",
   "metadata": {},
   "source": [
    "We then correct the date column according to the difference found, and mark the row's error as 'date'"
   ]
  },
  {
   "cell_type": "code",
   "execution_count": 10,
   "metadata": {},
   "outputs": [],
   "source": [
    "#we only loop through the row that problems spotted\n",
    "for index, loc in dirty[dirty['date_fix'] != dirty['date']][['date_fix','date']].iterrows():\n",
    "    if dirty.at[index,'error'] == '': #if error is not spotted for the row\n",
    "        dirty.at[index,'date'] = dirty.at[index,'date_fix'] #fix the date\n",
    "        dirty.at[index,'error'] += 'date' #mark in the error column the problem found"
   ]
  },
  {
   "cell_type": "markdown",
   "metadata": {},
   "source": [
    "We fixed and marked the rows, from now on we can keep continue and fix other rows"
   ]
  },
  {
   "cell_type": "markdown",
   "metadata": {},
   "source": [
    "## 2. order_type"
   ]
  },
  {
   "cell_type": "markdown",
   "metadata": {},
   "source": [
    "In order to check if the __order_type__ column is correct, we will look at the time of the order."
   ]
  },
  {
   "cell_type": "code",
   "execution_count": 11,
   "metadata": {},
   "outputs": [],
   "source": [
    "dirty['compared_time'] = dirty['time'].apply(lambda x: datetime.strptime(x,'%H:%M:%S')) #strip time"
   ]
  },
  {
   "cell_type": "markdown",
   "metadata": {},
   "source": [
    "Create a function to find the meal based on given time."
   ]
  },
  {
   "cell_type": "code",
   "execution_count": 12,
   "metadata": {},
   "outputs": [],
   "source": [
    "def find_meal(time): #find meal based on given time. \n",
    "    \"\"\"\n",
    "    look at the time the order is made. \n",
    "    \"\"\"\n",
    "    if time.hour < 12: #Breakfast\n",
    "        meal = 'Breakfast'\n",
    "    elif time.hour < 16: #Lunch\n",
    "        meal = 'Lunch'\n",
    "    else: #Dinner\n",
    "        meal = 'Dinner'\n",
    "    return meal"
   ]
  },
  {
   "cell_type": "markdown",
   "metadata": {},
   "source": [
    "We will find the __order_type__ based on the time given, then save the value to new column to find if any difference with order_type column"
   ]
  },
  {
   "cell_type": "code",
   "execution_count": 13,
   "metadata": {},
   "outputs": [
    {
     "name": "stdout",
     "output_type": "stream",
     "text": [
      "There are 37 errors in column order_type\n"
     ]
    }
   ],
   "source": [
    "dirty['order_type_timechecked'] = dirty['compared_time'].apply(lambda x:find_meal(x)) # Find meal based on given time\n",
    "print('There are {} errors in column order_type'.format(sum(dirty['order_type_timechecked'] != dirty['order_type'])))  #from here we can find 37 difference"
   ]
  },
  {
   "cell_type": "markdown",
   "metadata": {},
   "source": [
    "We can fix the order_type column based on the data found in order_type_timechecked now. "
   ]
  },
  {
   "cell_type": "code",
   "execution_count": 14,
   "metadata": {},
   "outputs": [],
   "source": [
    "#fixing problem of order_type based on time\n",
    "for index, loc in dirty[dirty['order_type_timechecked'] != dirty['order_type']].iterrows():\n",
    "    if dirty.at[index,'error'] == '':\n",
    "        dirty.at[index,'order_type'] = dirty.at[index,'order_type_timechecked'] #update the correct value\n",
    "        dirty.at[index,'error'] += 'order_type' #mark the error of the row as order_type"
   ]
  },
  {
   "cell_type": "markdown",
   "metadata": {},
   "source": [
    "## 3. order_items"
   ]
  },
  {
   "cell_type": "markdown",
   "metadata": {},
   "source": [
    "In order to check if the **order_items** were correct, we would need to know the price of each items, and the list of items sold for each meal. For lists of meals, we will get the items from data file outlier, because outliers only contains outlier data, and does not have errors in categorical columns."
   ]
  },
  {
   "cell_type": "code",
   "execution_count": 15,
   "metadata": {},
   "outputs": [],
   "source": [
    "outlier_meal = pd.read_csv('Group102_outlier_data.csv') #read data"
   ]
  },
  {
   "cell_type": "code",
   "execution_count": 16,
   "metadata": {},
   "outputs": [],
   "source": [
    "Breakfast = [] #initiate Breakfast list\n",
    "for index, each in outlier_meal[outlier_meal['order_type'] == 'Breakfast'].iterrows(): #look at all rows of Breakfast\n",
    "    for x in re.findall(r'[a-zA-Z&]+', outlier_meal.at[index, 'order_items']): #loop through the list\n",
    "        if x not in Breakfast:\n",
    "            Breakfast.append(x)\n",
    "\n",
    "Lunch = [] #initiate lunch list\n",
    "for index, each in outlier_meal[outlier_meal['order_type'] == 'Lunch'].iterrows(): #look at all rows of Lunch\n",
    "    for x in re.findall(r'[a-zA-Z&]+', outlier_meal.at[index, 'order_items']): #loop through the list\n",
    "        if x not in Lunch:\n",
    "            Lunch.append(x)\n",
    "\n",
    "Dinner = [] #initiate Dinner list\n",
    "for index, each in outlier_meal[outlier_meal['order_type'] == 'Dinner'].iterrows(): #look at all rows of Dinner\n",
    "    for x in re.findall(r'[a-zA-Z&]+', outlier_meal.at[index, 'order_items']): #loop through the list\n",
    "        if x not in Dinner: \n",
    "            Dinner.append(x)"
   ]
  },
  {
   "cell_type": "markdown",
   "metadata": {},
   "source": [
    "In order to find the price of for each item, we will use `linear algebra api` of numpy"
   ]
  },
  {
   "cell_type": "code",
   "execution_count": 17,
   "metadata": {},
   "outputs": [],
   "source": [
    "#Pancake, coffee, Cereal, Eggs\n",
    "#Calculate the price of item in breakfast\n",
    "#these are parameters of all the breakfast orders of Pancake, Coffee, Cereal, Eggs in outlier data first five rows\n",
    "a = np.array([[8,9,1,10], \n",
    "              [0,0,3,6],\n",
    "              [3,0,4,4],\n",
    "              [8,6,8,0],\n",
    "             ])\n",
    "b = np.array([502.50,195.00,244.75,407.00]) #these are corresponding price of the breakfast order above\n",
    "breakfast_price = np.linalg.solve(a, b) #solve using numpy.linalg.solve\n",
    "bprice = {} #initiate pricelist of breakfast\n",
    "i= 0 #initiate index\n",
    "for item in ['Pancake', 'Coffee', 'Cereal', 'Eggs']:\n",
    "    bprice[item] = breakfast_price[i] #assignment corresponding price\n",
    "    i+=1\n",
    "\n",
    "#Steak, Salad, Chicken, Burger, Fries\n",
    "lprice = {} #initiate pricelist of lunch\n",
    "#these are parameters of all the lunch orders of Pancake, Coffee, Cereal, Eggs in outlier data first five rows\n",
    "a = np.array([[7,3,3,2,10], \n",
    "              [1,3,9,0,3],\n",
    "              [0,1,0,0,6],\n",
    "              [10,10,8,2,8],\n",
    "              [4,0,10,10,4],\n",
    "             ])\n",
    "b = np.array([644.6,420.6,89.2,1036.0,858.0]) #these are corresponding price of the lunch order above\n",
    "lunch_price = np.linalg.solve(a, b)#solve using numpy.linalg.solve\n",
    "i=0\n",
    "for item in ['Steak', 'Salad', 'Chicken', 'Burger','Fries']:\n",
    "    lprice[item] = lunch_price[i]\n",
    "    i+=1\n",
    "\n",
    "#['Salmon', 'Fish&Chips', 'Shrimp', 'Pasta']\n",
    "dprice = {}\n",
    "#these are parameters of all the dinner orders of Pancake, Coffee, Cereal, Eggs in outlier data first five rows\n",
    "a = np.array([[3,1,6,0], \n",
    "              [4,0,3,5],\n",
    "              [0,0,1,5],\n",
    "              [0,5,0,4],\n",
    "             ])\n",
    "b = np.array([482,463.5,191.5,285])#these are corresponding price of the dinner order above\n",
    "dinner_price = np.linalg.solve(a, b)#solve using numpy.linalg.solve\n",
    "i=0\n",
    "for item in ['Salmon', 'Fish&Chips', 'Shrimp', 'Pasta']:\n",
    "    dprice[item] = dinner_price[i]\n",
    "    i+=1"
   ]
  },
  {
   "cell_type": "markdown",
   "metadata": {},
   "source": [
    "After collecting data for item price and the menu items for Breakfast, Lunch, Dinner, we will look at if any error in order_items column"
   ]
  },
  {
   "cell_type": "code",
   "execution_count": 18,
   "metadata": {},
   "outputs": [],
   "source": [
    "#fix the wrong item in order_item\n",
    "def order_item_fix(meal,items,total_price):\n",
    "    \"\"\"\n",
    "    At first, look at the meal (Breakfast, Lunch, Dinner) to find the price list.\n",
    "    Then check the items, if any of the which does not belong to the price list.\n",
    "    The item that does not belong to the price list is marked as out_list\n",
    "    The price for this item will be found by deducting price of other items from total price,\n",
    "    and then divided by the quantity of the item.\n",
    "    After the price of item found, look up in the price list to find the name of the item and replace the wrong\n",
    "    name of the item with the correct name found from list. \n",
    "    \"\"\"\n",
    "    \n",
    "    menu_qtt = re.findall(r'[0-9]+', items) #quantities of each item in order\n",
    "    menu_item = re.findall(r'[a-zA-Z&]+', items) #name of each item in order\n",
    "    \n",
    "    count = 0 #counting variable of item not in list\n",
    "    \n",
    "    # let's loop through meal with take_price list, and meal_list\n",
    "    # look at meal variable to find the meal_list and assign the take_price list accordingly  \n",
    "    if meal == 'Breakfast':\n",
    "        take_price = bprice\n",
    "        meal_list = Breakfast\n",
    "    if meal == 'Lunch':\n",
    "        take_price = lprice\n",
    "        meal_list = Lunch\n",
    "    if meal == 'Dinner':\n",
    "        take_price = dprice \n",
    "        meal_list = Dinner\n",
    "        \n",
    "        \n",
    "    #Find the item that do not belong to the meal_list    \n",
    "    i = 0\n",
    "    for item in menu_item: #loop through item in menu\n",
    "        if item in meal_list: #if the item in meal list\n",
    "            total_price = total_price - int(menu_qtt[i])*take_price[item] #deducting price*quantity from total price\n",
    "            i+=1 \n",
    "        else: #if the item is not in meal list, error found\n",
    "            out_list = item #mark the item\n",
    "            count = int(menu_qtt[i]) #count how many of that item\n",
    "            i+=1\n",
    "                \n",
    "    price_o_outlist = total_price/count #price of the item not in the list\n",
    "            \n",
    "    for item, price in take_price.items(): #lopp through the take_price item, and compare the price\n",
    "        if abs(price_o_outlist - price) < 0.1: #if the price found, then the name of the item found\n",
    "            fix_out_list = item\n",
    "            \n",
    "    items = items.replace(out_list,fix_out_list) #replace the name of the item by correct item name\n",
    "    \n",
    "    return items #return the correct item list"
   ]
  },
  {
   "cell_type": "markdown",
   "metadata": {},
   "source": [
    "Before fixing using order_item_fix, we will create a function to check if the order_item has correct items before fixing to save time, and save the index of the rows that have errors with order_items."
   ]
  },
  {
   "cell_type": "code",
   "execution_count": 19,
   "metadata": {},
   "outputs": [],
   "source": [
    "def order_item_check(meal,items):\n",
    "    \"\"\"\n",
    "    This is to mark the error for each column that has issue with order_type\n",
    "    \"\"\"\n",
    "    error = 0\n",
    "    menu_qtt = re.findall(r'[a-zA-Z&]+', items) #enlist all the items\n",
    "    \n",
    "    if meal == 'Breakfast': #grasping meal_list\n",
    "        meal_list = Breakfast\n",
    "    if meal == 'Lunch':\n",
    "        meal_list = Lunch\n",
    "    if meal == 'Dinner':\n",
    "        meal_list = Dinner\n",
    "        \n",
    "    for item in menu_qtt: #check if all items in the correct list\n",
    "        if item not in meal_list:\n",
    "            error = 1 #if not then return error\n",
    "            break\n",
    "            \n",
    "    return error"
   ]
  },
  {
   "cell_type": "markdown",
   "metadata": {},
   "source": [
    "We will create a column 'order_items_menucheck' to see which column has wrong set of order_items"
   ]
  },
  {
   "cell_type": "code",
   "execution_count": 20,
   "metadata": {},
   "outputs": [],
   "source": [
    "dirty['order_items_menucheck'] = dirty[['order_type','order_items']].apply(lambda x: order_item_check(*x), axis=1)"
   ]
  },
  {
   "cell_type": "code",
   "execution_count": 21,
   "metadata": {},
   "outputs": [
    {
     "name": "stdout",
     "output_type": "stream",
     "text": [
      "There are 37 errors in column order_items\n"
     ]
    }
   ],
   "source": [
    "print('There are {} errors in column order_items'.format(len(dirty[dirty['order_items_menucheck'] == 1][['order_items']])))  "
   ]
  },
  {
   "cell_type": "markdown",
   "metadata": {},
   "source": [
    "So we have 37 rows that have error in **items**. We can fix these error by using function order_item_fix"
   ]
  },
  {
   "cell_type": "code",
   "execution_count": 22,
   "metadata": {},
   "outputs": [],
   "source": [
    "# loop through rows that have difference\n",
    "for index, loc in dirty[dirty['order_items_menucheck'] == 1][['order_type','order_items','order_price']].iterrows():\n",
    "    dirty.at[index,'order_items'] = order_item_fix(dirty.at[index,'order_type'],dirty.at[index,'order_items'],dirty.at[index,'order_price']) #update\n",
    "    dirty.at[index,'order_items_menucheck'] = 0 # mark that the column has been fixed\n",
    "    dirty.at[index,'error'] = 'order_items' # mark the errors in column"
   ]
  },
  {
   "cell_type": "markdown",
   "metadata": {},
   "source": [
    "## 4. customer_lat, customer_lon"
   ]
  },
  {
   "cell_type": "markdown",
   "metadata": {},
   "source": [
    "__Customer lattitute__ normally has value less than zero (eg:-37) due to the geolocation of Melbourne city, and longitude about 144. However, by looking at the row we can see some rows having value of customer_lat 144. We will inspect this."
   ]
  },
  {
   "cell_type": "code",
   "execution_count": 23,
   "metadata": {},
   "outputs": [
    {
     "data": {
      "text/html": [
       "<div>\n",
       "<style scoped>\n",
       "    .dataframe tbody tr th:only-of-type {\n",
       "        vertical-align: middle;\n",
       "    }\n",
       "\n",
       "    .dataframe tbody tr th {\n",
       "        vertical-align: top;\n",
       "    }\n",
       "\n",
       "    .dataframe thead th {\n",
       "        text-align: right;\n",
       "    }\n",
       "</style>\n",
       "<table border=\"1\" class=\"dataframe\">\n",
       "  <thead>\n",
       "    <tr style=\"text-align: right;\">\n",
       "      <th></th>\n",
       "      <th>customer_lat</th>\n",
       "      <th>customer_lon</th>\n",
       "    </tr>\n",
       "  </thead>\n",
       "  <tbody>\n",
       "    <tr>\n",
       "      <td>5</td>\n",
       "      <td>144.958183</td>\n",
       "      <td>-37.815605</td>\n",
       "    </tr>\n",
       "    <tr>\n",
       "      <td>330</td>\n",
       "      <td>144.969693</td>\n",
       "      <td>-37.820101</td>\n",
       "    </tr>\n",
       "    <tr>\n",
       "      <td>367</td>\n",
       "      <td>144.948864</td>\n",
       "      <td>-37.814427</td>\n",
       "    </tr>\n",
       "    <tr>\n",
       "      <td>454</td>\n",
       "      <td>144.935733</td>\n",
       "      <td>-37.809891</td>\n",
       "    </tr>\n",
       "  </tbody>\n",
       "</table>\n",
       "</div>"
      ],
      "text/plain": [
       "     customer_lat  customer_lon\n",
       "5      144.958183    -37.815605\n",
       "330    144.969693    -37.820101\n",
       "367    144.948864    -37.814427\n",
       "454    144.935733    -37.809891"
      ]
     },
     "execution_count": 23,
     "metadata": {},
     "output_type": "execute_result"
    }
   ],
   "source": [
    "# some value of customer_lat should be swap with customer_lon\n",
    "dirty[dirty['customer_lat'] > dirty['customer_lon']][['customer_lat','customer_lon']]"
   ]
  },
  {
   "cell_type": "markdown",
   "metadata": {},
   "source": [
    "So there are __four rows__ that has swapped value of longitude and lattitue, we can fix them"
   ]
  },
  {
   "cell_type": "code",
   "execution_count": 24,
   "metadata": {},
   "outputs": [],
   "source": [
    "for index, loc in dirty[dirty['customer_lat'] > dirty['customer_lon']].iterrows():\n",
    "    if dirty.at[index,'error'] == '': #check if any error found before\n",
    "        #update\n",
    "        dirty.at[index,'customer_lat'],dirty.at[index,'customer_lon'] = dirty.at[index,'customer_lon'],dirty.at[index,'customer_lat']\n",
    "        #mark the error in column\n",
    "        dirty.at[index,'error'] += 'long_lat_swap'"
   ]
  },
  {
   "cell_type": "markdown",
   "metadata": {},
   "source": [
    "We also noticed before that some columns that does not have negative sign with the customer_lat"
   ]
  },
  {
   "cell_type": "code",
   "execution_count": 25,
   "metadata": {},
   "outputs": [
    {
     "data": {
      "text/plain": [
       "37"
      ]
     },
     "execution_count": 25,
     "metadata": {},
     "output_type": "execute_result"
    }
   ],
   "source": [
    "#some customer_lat does not have negative sign\n",
    "len(dirty[-1*dirty['customer_lat'] < 0])"
   ]
  },
  {
   "cell_type": "markdown",
   "metadata": {},
   "source": [
    "We can fix these value by adding the negative sign."
   ]
  },
  {
   "cell_type": "code",
   "execution_count": 26,
   "metadata": {},
   "outputs": [],
   "source": [
    "for index, loc in dirty[-1*dirty['customer_lat'] < 0].iterrows():\n",
    "    if dirty.at[index,'error'] == '':\n",
    "        dirty.at[index,'customer_lat'] = -1*dirty.at[index,'customer_lat']\n",
    "        dirty.at[index, 'error'] = 'customer_lat'"
   ]
  },
  {
   "cell_type": "markdown",
   "metadata": {},
   "source": [
    "## 5. order_price"
   ]
  },
  {
   "cell_type": "code",
   "execution_count": 27,
   "metadata": {},
   "outputs": [],
   "source": [
    "\n",
    "def total_price_check(meal,items,total_price):\n",
    "    \n",
    "    \"\"\"\n",
    "    Check if the total price of the meal is correct given the meal (eg: breakfast, lunch, dinner),\n",
    "    items of the meal, and the total price. Return the calculated price to compare with the total_price\n",
    "    later on.\n",
    "    \"\"\"\n",
    "    \n",
    "    menu_qtt = re.findall(r'[0-9]+', items)\n",
    "    menu_item = re.findall(r'[a-zA-Z&]+', items) \n",
    "    count = 0\n",
    "  \n",
    "    if meal == 'Breakfast':\n",
    "        take_price = bprice\n",
    "        meal_list = Breakfast\n",
    "    if meal == 'Lunch':\n",
    "        take_price = lprice\n",
    "        meal_list = Lunch\n",
    "    if meal == 'Dinner':\n",
    "        take_price = dprice \n",
    "        meal_list = Dinner\n",
    "    calculated = 0  \n",
    "    i = 0\n",
    "    for item in menu_item:\n",
    "        if item in meal_list:\n",
    "            calculated = calculated + int(menu_qtt[i])*take_price[item]\n",
    "            i+=1\n",
    "   \n",
    "    return calculated\n",
    "\n",
    "\n",
    "def diff(a,b): # check if difference\n",
    "    if abs(a-b) < 0.01: #difference of 1 cent will be considered as the same\n",
    "        return 0 # return 0 if no difference\n",
    "    else:\n",
    "        return 1 # return 1 if difference"
   ]
  },
  {
   "cell_type": "markdown",
   "metadata": {},
   "source": [
    "We will create a column __calculated_total_price__, and see if that column is different from the order_price."
   ]
  },
  {
   "cell_type": "code",
   "execution_count": 28,
   "metadata": {},
   "outputs": [
    {
     "name": "stdout",
     "output_type": "stream",
     "text": [
      "There are 37 errors in order_price\n"
     ]
    }
   ],
   "source": [
    "#create a column to store the calculate total price\n",
    "dirty['calculated_total_price'] = dirty[['order_type','order_items','order_price']].apply(lambda x: total_price_check(*x), axis=1)\n",
    "#mark any row that has difference\n",
    "dirty['error_total_price'] = dirty[['calculated_total_price','order_price']].apply(lambda x:diff(*x),axis =1)\n",
    "\n",
    "print('There are {} errors in order_price'.format(len(dirty[dirty['error_total_price'] == 1])))"
   ]
  },
  {
   "cell_type": "markdown",
   "metadata": {},
   "source": [
    "So there are 37 errors in total price, which is not calculated correctly. We can fix it based on the calculated_total_price"
   ]
  },
  {
   "cell_type": "code",
   "execution_count": 29,
   "metadata": {},
   "outputs": [],
   "source": [
    "for index, loc in  dirty[dirty['error_total_price'] == 1].iterrows():\n",
    "    dirty.at[index,'order_price'] = dirty.at[index,'calculated_total_price'] #update\n",
    "    dirty.at[index,'error'] = 'wrong order_price' #mark error "
   ]
  },
  {
   "cell_type": "markdown",
   "metadata": {},
   "source": [
    "## 6. branch_code"
   ]
  },
  {
   "cell_type": "markdown",
   "metadata": {},
   "source": [
    "We will inspect the unique values of this column."
   ]
  },
  {
   "cell_type": "code",
   "execution_count": 30,
   "metadata": {},
   "outputs": [
    {
     "data": {
      "text/plain": [
       "array(['BK', 'NS', 'TP', 'ns', 'bk', 'tp'], dtype=object)"
      ]
     },
     "execution_count": 30,
     "metadata": {},
     "output_type": "execute_result"
    }
   ],
   "source": [
    "#check how many unique branch_code\n",
    "dirty['branch_code'].unique()"
   ]
  },
  {
   "cell_type": "markdown",
   "metadata": {},
   "source": [
    "Clearly there are some errors in lower case. We can fix this but we are not sure if other in uppercase are all correct. The other way of checking the branch_code is to look at the distance between the customer's geolocation and the branch's geolocation, which will be discussed further."
   ]
  },
  {
   "cell_type": "code",
   "execution_count": 31,
   "metadata": {},
   "outputs": [
    {
     "data": {
      "text/plain": [
       "27"
      ]
     },
     "execution_count": 31,
     "metadata": {},
     "output_type": "execute_result"
    }
   ],
   "source": [
    "#check\n",
    "dirty['branch_code_check'] = dirty['branch_code'].apply(lambda x:x.upper())\n",
    "len(dirty[dirty['branch_code_check'] != dirty['branch_code']])"
   ]
  },
  {
   "cell_type": "markdown",
   "metadata": {},
   "source": [
    "Now we can fix the lowercase"
   ]
  },
  {
   "cell_type": "code",
   "execution_count": 32,
   "metadata": {},
   "outputs": [],
   "source": [
    "for index, loc in dirty[dirty['branch_code_check'] != dirty['branch_code']].iterrows():\n",
    "    dirty.at[index, 'branch_code'] = dirty.at[index,'branch_code_check']\n",
    "    dirty.at[index,'error'] = 'branch_code'"
   ]
  },
  {
   "cell_type": "markdown",
   "metadata": {},
   "source": [
    "## 7. distance_to_customer_KM"
   ]
  },
  {
   "cell_type": "markdown",
   "metadata": {},
   "source": [
    "In order to work with __geolocation data__, we will need to look at the branches.csv, nodes.csv, and edges.csv. From these data, we can create a network with nodes and length between nodes to find distance. \n",
    "\n",
    "From node data, we can create a column node."
   ]
  },
  {
   "cell_type": "code",
   "execution_count": 33,
   "metadata": {},
   "outputs": [],
   "source": [
    "restaurants_csv = pd.read_csv('branches.csv')  #read data\n",
    "nodes = pd.read_csv('nodes.csv') #read nodes\n",
    "edges = pd.read_csv('edges.csv') #read edges\n",
    "\n",
    "nodes_dict = nodes.T.to_dict() #transpose table\n",
    "\n",
    "def get_node(lat,lon): # get node\n",
    "    for i in range(len(l)):\n",
    "        if l[i]['lat'] == lat and l[i]['lon'] == lon:\n",
    "            return int(l[i]['node'])\n",
    "            break\n",
    "l = [] #store node_dictionany in this list l\n",
    "\n",
    "for i in range(len(nodes_dict)):\n",
    "    l.append(nodes_dict[i])\n",
    "    \n",
    "dirty['node'] = dirty[['customer_lat','customer_lon']].apply(lambda x: get_node(*x), axis=1)\n",
    "\n",
    "#to minimize error in calculation, we will round the value to 3 digits after comma\n",
    "dirty['distance_to_customer_KM'] = dirty['distance_to_customer_KM'].apply(lambda x: round(x,3)) "
   ]
  },
  {
   "cell_type": "markdown",
   "metadata": {},
   "source": [
    "We will then check if all node obtained correctly by check if any row has null value"
   ]
  },
  {
   "cell_type": "code",
   "execution_count": 34,
   "metadata": {},
   "outputs": [
    {
     "data": {
      "text/plain": [
       "0"
      ]
     },
     "execution_count": 34,
     "metadata": {},
     "output_type": "execute_result"
    }
   ],
   "source": [
    "#check if all node correctly found\n",
    "dirty['node'].isnull().sum()"
   ]
  },
  {
   "cell_type": "markdown",
   "metadata": {},
   "source": [
    "So far, all nodes are obtained correctly. We can start building network G using package networkx."
   ]
  },
  {
   "cell_type": "code",
   "execution_count": 35,
   "metadata": {},
   "outputs": [],
   "source": [
    "G = nx.Graph() #initiate graph G\n",
    "nodes['node'] = nodes['node'].apply(lambda x:int(x)) #node as integer value\n",
    "G.add_nodes_from(list(nodes['node'])) #add node to G\n",
    "edges = edges[['u','v','distance(m)','street type','speed(km/h)']] #create edges\n",
    "edges_dis = edges[['u','v','distance(m)']] #edge based on distance\n",
    "edges_distance_tuple = [tuple(x) for x in edges_dis.values] #u,v, and distance to tuple\n",
    "for start, end, length in edges_distance_tuple: #add u,v and distance to G\n",
    "    G.add_edge(int(start), int(end), length=length)\n",
    "      \n",
    "# Get node for restaurant\n",
    "restaurants_csv['node'] = restaurants_csv[['branch_lat','branch_lon']].apply(lambda x: get_node(*x), axis=1) \n",
    "\n",
    "# Get node of each restaurant and store in NS, TP, BK for futher calculation\n",
    "NS = int(restaurants_csv[restaurants_csv['branch_code'] == 'NS']['node'][0])\n",
    "TP = int(restaurants_csv[restaurants_csv['branch_code'] == 'TP']['node'][1])\n",
    "BK = int(restaurants_csv[restaurants_csv['branch_code'] == 'BK']['node'][2])"
   ]
  },
  {
   "cell_type": "code",
   "execution_count": 36,
   "metadata": {},
   "outputs": [],
   "source": [
    "def distance(u,v):\n",
    "    \"\"\"\n",
    "    Calculating distance from two nodes\n",
    "    \"\"\"\n",
    "    dist = 0. #initate a float value for dist\n",
    "    dist = nx.shortest_path_length(G, u, v,weight=\"length\")/1000 #distance in km\n",
    "    return round(dist,3)\n",
    "\n",
    "def get_r_node(res_name):\n",
    "    \"\"\"\n",
    "    Get restaurant node given the branch_code\n",
    "    \"\"\"\n",
    "    if res_name == 'NS':\n",
    "        return NS\n",
    "    elif res_name == 'BK':\n",
    "        return BK\n",
    "    else:\n",
    "        return TP"
   ]
  },
  {
   "cell_type": "markdown",
   "metadata": {},
   "source": [
    "We create a column br_node to find the node in network G for each branch_code. Then a column of distance_check is created to calculate value between that node to customer's node. Then values of distance_check and distance_to_customer_KM will be compared to find if any error."
   ]
  },
  {
   "cell_type": "code",
   "execution_count": 37,
   "metadata": {},
   "outputs": [
    {
     "data": {
      "text/html": [
       "<div>\n",
       "<style scoped>\n",
       "    .dataframe tbody tr th:only-of-type {\n",
       "        vertical-align: middle;\n",
       "    }\n",
       "\n",
       "    .dataframe tbody tr th {\n",
       "        vertical-align: top;\n",
       "    }\n",
       "\n",
       "    .dataframe thead th {\n",
       "        text-align: right;\n",
       "    }\n",
       "</style>\n",
       "<table border=\"1\" class=\"dataframe\">\n",
       "  <thead>\n",
       "    <tr style=\"text-align: right;\">\n",
       "      <th></th>\n",
       "      <th>br_node</th>\n",
       "      <th>node</th>\n",
       "      <th>branch_code</th>\n",
       "      <th>distance_check</th>\n",
       "      <th>distance_to_customer_KM</th>\n",
       "      <th>error</th>\n",
       "    </tr>\n",
       "  </thead>\n",
       "  <tbody>\n",
       "    <tr>\n",
       "      <td>8</td>\n",
       "      <td>1889485053</td>\n",
       "      <td>575386414</td>\n",
       "      <td>BK</td>\n",
       "      <td>6.400</td>\n",
       "      <td>6.619</td>\n",
       "      <td></td>\n",
       "    </tr>\n",
       "    <tr>\n",
       "      <td>11</td>\n",
       "      <td>1889485053</td>\n",
       "      <td>1492153102</td>\n",
       "      <td>BK</td>\n",
       "      <td>8.327</td>\n",
       "      <td>7.823</td>\n",
       "      <td></td>\n",
       "    </tr>\n",
       "    <tr>\n",
       "      <td>13</td>\n",
       "      <td>2455254505</td>\n",
       "      <td>4735909077</td>\n",
       "      <td>NS</td>\n",
       "      <td>8.431</td>\n",
       "      <td>10.022</td>\n",
       "      <td>branch_code</td>\n",
       "    </tr>\n",
       "    <tr>\n",
       "      <td>18</td>\n",
       "      <td>1390575046</td>\n",
       "      <td>92130447</td>\n",
       "      <td>TP</td>\n",
       "      <td>9.828</td>\n",
       "      <td>7.282</td>\n",
       "      <td></td>\n",
       "    </tr>\n",
       "    <tr>\n",
       "      <td>24</td>\n",
       "      <td>1390575046</td>\n",
       "      <td>1463547090</td>\n",
       "      <td>TP</td>\n",
       "      <td>10.929</td>\n",
       "      <td>4.548</td>\n",
       "      <td></td>\n",
       "    </tr>\n",
       "  </tbody>\n",
       "</table>\n",
       "</div>"
      ],
      "text/plain": [
       "       br_node        node branch_code  distance_check  distance_to_customer_KM        error\n",
       "8   1889485053   575386414          BK           6.400                    6.619             \n",
       "11  1889485053  1492153102          BK           8.327                    7.823             \n",
       "13  2455254505  4735909077          NS           8.431                   10.022  branch_code\n",
       "18  1390575046    92130447          TP           9.828                    7.282             \n",
       "24  1390575046  1463547090          TP          10.929                    4.548             "
      ]
     },
     "execution_count": 37,
     "metadata": {},
     "output_type": "execute_result"
    }
   ],
   "source": [
    "#get branch node\n",
    "dirty['br_node'] = dirty['branch_code'].apply(lambda x:get_r_node(x))\n",
    "\n",
    "#calculate the distance between the branch_node and the customer's node\n",
    "dirty['distance_check'] = dirty[['br_node','node']].apply(lambda x: distance(*x), axis=1) \n",
    "\n",
    "#compare the value between distance_check and distance_to_customer_KM\n",
    "dirty[dirty['distance_check'] != dirty['distance_to_customer_KM']][['br_node','node','branch_code','distance_check','distance_to_customer_KM','error']].head()"
   ]
  },
  {
   "cell_type": "markdown",
   "metadata": {},
   "source": [
    "From the table above, we can see that some rows has __different value__ in distance_check and distance_to_customer_KM, we do not know which one is correct yet. This can be either one of two possibilities; the distance_to_customer_KM was wrong and the distance_check is correct based on the branch_code (if branch_code correct), or the other was the distance_to_customer_KM is correct, the branch_code should be adjusted accordingly. \n",
    "\n",
    "Furthermore, we can see that in column error of some rows, the row has error with branch_code before. This error is due to the branch_code was in lowercase, and thus, the distance_to_customer_KM in this case must be correct, due to the specification 3 of the assignment that in dirty rows there can be no more than one anomalies. Thus, with these columns, we will adjust the value of branch_code again to match with the distance_to_customer_KM."
   ]
  },
  {
   "cell_type": "code",
   "execution_count": 38,
   "metadata": {},
   "outputs": [],
   "source": [
    "# assign these value to dataframe temp\n",
    "temp = dirty[dirty['distance_check'] != dirty['distance_to_customer_KM']][['br_node','node','distance_check','branch_code','distance_to_customer_KM','error']]"
   ]
  },
  {
   "cell_type": "code",
   "execution_count": 39,
   "metadata": {},
   "outputs": [
    {
     "data": {
      "text/plain": [
       "19"
      ]
     },
     "execution_count": 39,
     "metadata": {},
     "output_type": "execute_result"
    }
   ],
   "source": [
    "len(temp[temp['error'] == 'branch_code'])"
   ]
  },
  {
   "cell_type": "markdown",
   "metadata": {},
   "source": [
    "As discussed above, there are 19 such rows. In order to not violate the specification 3, we then fix the branch_code according to the distance. And the rest, we fix the distance according to the **branch_code**."
   ]
  },
  {
   "cell_type": "code",
   "execution_count": 40,
   "metadata": {},
   "outputs": [],
   "source": [
    "def find_branch_given_dist(u,dist):\n",
    "    \n",
    "    \"\"\"\n",
    "    Given node and distance to node, we can\n",
    "    return the name of the branch_code\n",
    "    \"\"\"\n",
    "    \n",
    "    distance_to_NS = distance(u,NS)\n",
    "    distance_to_TP = distance(u,TP)\n",
    "    distance_to_BK = distance(u,BK)\n",
    "    \n",
    "    if abs(dist - distance_to_NS) < 0.01:\n",
    "        return 'NS'\n",
    "    elif abs(dist - distance_to_TP) < 0.01:\n",
    "        return 'TP'\n",
    "    elif abs(dist - distance_to_BK) < 0.01:\n",
    "        return 'BK'\n",
    "    \n",
    "for index, loc in temp[temp['error'] == 'branch_code'].iterrows():\n",
    "    dirty.at[index, 'branch_code'] = find_branch_given_dist(dirty.at[index, 'node'],dirty.at[index, 'distance_to_customer_KM'])\n",
    "    dirty.at[index, 'error'] = 'branch_code'"
   ]
  },
  {
   "cell_type": "markdown",
   "metadata": {},
   "source": [
    "Now we can fix the error of the **wrong distance**. "
   ]
  },
  {
   "cell_type": "code",
   "execution_count": 41,
   "metadata": {},
   "outputs": [],
   "source": [
    "# store the rows that has difference in fix_distance\n",
    "fix_distance = dirty[dirty['distance_check'] != dirty['distance_to_customer_KM']]\n",
    "# filter only the one that the column error has empty value\n",
    "fix_distance = fix_distance[fix_distance['error'] == '']"
   ]
  },
  {
   "cell_type": "code",
   "execution_count": 42,
   "metadata": {},
   "outputs": [
    {
     "data": {
      "text/html": [
       "<div>\n",
       "<style scoped>\n",
       "    .dataframe tbody tr th:only-of-type {\n",
       "        vertical-align: middle;\n",
       "    }\n",
       "\n",
       "    .dataframe tbody tr th {\n",
       "        vertical-align: top;\n",
       "    }\n",
       "\n",
       "    .dataframe thead th {\n",
       "        text-align: right;\n",
       "    }\n",
       "</style>\n",
       "<table border=\"1\" class=\"dataframe\">\n",
       "  <thead>\n",
       "    <tr style=\"text-align: right;\">\n",
       "      <th></th>\n",
       "      <th>distance_to_customer_KM</th>\n",
       "      <th>distance_check</th>\n",
       "      <th>error</th>\n",
       "    </tr>\n",
       "  </thead>\n",
       "  <tbody>\n",
       "    <tr>\n",
       "      <td>8</td>\n",
       "      <td>6.619</td>\n",
       "      <td>6.400</td>\n",
       "      <td></td>\n",
       "    </tr>\n",
       "    <tr>\n",
       "      <td>11</td>\n",
       "      <td>7.823</td>\n",
       "      <td>8.327</td>\n",
       "      <td></td>\n",
       "    </tr>\n",
       "    <tr>\n",
       "      <td>18</td>\n",
       "      <td>7.282</td>\n",
       "      <td>9.828</td>\n",
       "      <td></td>\n",
       "    </tr>\n",
       "    <tr>\n",
       "      <td>24</td>\n",
       "      <td>4.548</td>\n",
       "      <td>10.929</td>\n",
       "      <td></td>\n",
       "    </tr>\n",
       "    <tr>\n",
       "      <td>40</td>\n",
       "      <td>9.795</td>\n",
       "      <td>10.092</td>\n",
       "      <td></td>\n",
       "    </tr>\n",
       "  </tbody>\n",
       "</table>\n",
       "</div>"
      ],
      "text/plain": [
       "    distance_to_customer_KM  distance_check error\n",
       "8                     6.619           6.400      \n",
       "11                    7.823           8.327      \n",
       "18                    7.282           9.828      \n",
       "24                    4.548          10.929      \n",
       "40                    9.795          10.092      "
      ]
     },
     "execution_count": 42,
     "metadata": {},
     "output_type": "execute_result"
    }
   ],
   "source": [
    "# take a look at the data of distance\n",
    "fix_distance[['distance_to_customer_KM','distance_check','error']].head()"
   ]
  },
  {
   "cell_type": "markdown",
   "metadata": {},
   "source": [
    "We can not be sure from the table above that if it is a distance_to_customer_KM erroneous, or it could be the error from branch code. We will **investigate further** by calculating the distance from the node to two other branches. "
   ]
  },
  {
   "cell_type": "code",
   "execution_count": 43,
   "metadata": {},
   "outputs": [
    {
     "data": {
      "text/html": [
       "<div>\n",
       "<style scoped>\n",
       "    .dataframe tbody tr th:only-of-type {\n",
       "        vertical-align: middle;\n",
       "    }\n",
       "\n",
       "    .dataframe tbody tr th {\n",
       "        vertical-align: top;\n",
       "    }\n",
       "\n",
       "    .dataframe thead th {\n",
       "        text-align: right;\n",
       "    }\n",
       "</style>\n",
       "<table border=\"1\" class=\"dataframe\">\n",
       "  <thead>\n",
       "    <tr style=\"text-align: right;\">\n",
       "      <th></th>\n",
       "      <th>branch_code</th>\n",
       "      <th>distance_to_customer_KM</th>\n",
       "      <th>distance_check</th>\n",
       "      <th>to_NS</th>\n",
       "      <th>to_TP</th>\n",
       "      <th>to_BK</th>\n",
       "    </tr>\n",
       "  </thead>\n",
       "  <tbody>\n",
       "    <tr>\n",
       "      <td>8</td>\n",
       "      <td>BK</td>\n",
       "      <td>6.619</td>\n",
       "      <td>6.400</td>\n",
       "      <td>9.160</td>\n",
       "      <td>9.325</td>\n",
       "      <td>6.400</td>\n",
       "    </tr>\n",
       "    <tr>\n",
       "      <td>11</td>\n",
       "      <td>BK</td>\n",
       "      <td>7.823</td>\n",
       "      <td>8.327</td>\n",
       "      <td>8.350</td>\n",
       "      <td>8.854</td>\n",
       "      <td>8.327</td>\n",
       "    </tr>\n",
       "    <tr>\n",
       "      <td>18</td>\n",
       "      <td>TP</td>\n",
       "      <td>7.282</td>\n",
       "      <td>9.828</td>\n",
       "      <td>9.302</td>\n",
       "      <td>9.828</td>\n",
       "      <td>9.393</td>\n",
       "    </tr>\n",
       "    <tr>\n",
       "      <td>24</td>\n",
       "      <td>TP</td>\n",
       "      <td>4.548</td>\n",
       "      <td>10.929</td>\n",
       "      <td>10.467</td>\n",
       "      <td>10.929</td>\n",
       "      <td>4.548</td>\n",
       "    </tr>\n",
       "    <tr>\n",
       "      <td>40</td>\n",
       "      <td>TP</td>\n",
       "      <td>9.795</td>\n",
       "      <td>10.092</td>\n",
       "      <td>9.016</td>\n",
       "      <td>10.092</td>\n",
       "      <td>9.192</td>\n",
       "    </tr>\n",
       "  </tbody>\n",
       "</table>\n",
       "</div>"
      ],
      "text/plain": [
       "   branch_code  distance_to_customer_KM  distance_check   to_NS   to_TP  to_BK\n",
       "8           BK                    6.619           6.400   9.160   9.325  6.400\n",
       "11          BK                    7.823           8.327   8.350   8.854  8.327\n",
       "18          TP                    7.282           9.828   9.302   9.828  9.393\n",
       "24          TP                    4.548          10.929  10.467  10.929  4.548\n",
       "40          TP                    9.795          10.092   9.016  10.092  9.192"
      ]
     },
     "execution_count": 43,
     "metadata": {},
     "output_type": "execute_result"
    }
   ],
   "source": [
    "for index, loc in fix_distance.iterrows():\n",
    "    fix_distance.at[index,'to_NS'] = distance(fix_distance.at[index,'node'],NS)\n",
    "    fix_distance.at[index,'to_TP'] = distance(fix_distance.at[index,'node'],TP)\n",
    "    fix_distance.at[index,'to_BK'] = distance(fix_distance.at[index,'node'],BK)\n",
    "fix_distance[['branch_code','distance_to_customer_KM','distance_check','to_NS','to_TP','to_BK']].head()"
   ]
  },
  {
   "cell_type": "markdown",
   "metadata": {},
   "source": [
    "From the table above,some distance_to_customer_KM values do not match any of the correct distance from customer node to the branches. To these values, we will fixed the value based on the **branch_code**"
   ]
  },
  {
   "cell_type": "markdown",
   "metadata": {},
   "source": [
    "So we will check from here if any distance to customer matches any of the branch_code. For easy check, we will store if match is found into one column named branch_check."
   ]
  },
  {
   "cell_type": "code",
   "execution_count": 44,
   "metadata": {},
   "outputs": [
    {
     "name": "stderr",
     "output_type": "stream",
     "text": [
      "D:\\Anacoda\\lib\\site-packages\\ipykernel_launcher.py:10: UserWarning: Boolean Series key will be reindexed to match DataFrame index.\n",
      "  # Remove the CWD from sys.path while we load stuff.\n"
     ]
    }
   ],
   "source": [
    "fix_distance['branch_check'] = '' # create column branch_check\n",
    "for index, loc in fix_distance.iterrows(): #loop through the row\n",
    "        fix_distance.at[index,'branch_check'] = find_branch_given_dist(fix_distance.at[index,'node'],fix_distance.at[index,'distance_to_customer_KM'])\n",
    "dirty['branch_check'] = ''# create column branch_check for dirty data\n",
    "for index, loc in fix_distance.iterrows(): #update to dirty data\n",
    "        dirty.at[index,'branch_check'] = find_branch_given_dist(fix_distance.at[index,'node'],fix_distance.at[index,'distance_to_customer_KM'])        \n",
    "\n",
    "        \n",
    "#store the filter in to branch_check_df        \n",
    "branch_check_df = fix_distance[fix_distance['branch_check'].notnull()][fix_distance['branch_check'] != ''] "
   ]
  },
  {
   "cell_type": "code",
   "execution_count": 45,
   "metadata": {},
   "outputs": [
    {
     "data": {
      "text/html": [
       "<div>\n",
       "<style scoped>\n",
       "    .dataframe tbody tr th:only-of-type {\n",
       "        vertical-align: middle;\n",
       "    }\n",
       "\n",
       "    .dataframe tbody tr th {\n",
       "        vertical-align: top;\n",
       "    }\n",
       "\n",
       "    .dataframe thead th {\n",
       "        text-align: right;\n",
       "    }\n",
       "</style>\n",
       "<table border=\"1\" class=\"dataframe\">\n",
       "  <thead>\n",
       "    <tr style=\"text-align: right;\">\n",
       "      <th></th>\n",
       "      <th>branch_code</th>\n",
       "      <th>distance_to_customer_KM</th>\n",
       "      <th>distance_check</th>\n",
       "      <th>branch_check</th>\n",
       "    </tr>\n",
       "  </thead>\n",
       "  <tbody>\n",
       "    <tr>\n",
       "      <td>8</td>\n",
       "      <td>BK</td>\n",
       "      <td>6.619</td>\n",
       "      <td>6.400</td>\n",
       "      <td>None</td>\n",
       "    </tr>\n",
       "    <tr>\n",
       "      <td>11</td>\n",
       "      <td>BK</td>\n",
       "      <td>7.823</td>\n",
       "      <td>8.327</td>\n",
       "      <td>None</td>\n",
       "    </tr>\n",
       "    <tr>\n",
       "      <td>18</td>\n",
       "      <td>TP</td>\n",
       "      <td>7.282</td>\n",
       "      <td>9.828</td>\n",
       "      <td>None</td>\n",
       "    </tr>\n",
       "    <tr>\n",
       "      <td>24</td>\n",
       "      <td>TP</td>\n",
       "      <td>4.548</td>\n",
       "      <td>10.929</td>\n",
       "      <td>BK</td>\n",
       "    </tr>\n",
       "    <tr>\n",
       "      <td>40</td>\n",
       "      <td>TP</td>\n",
       "      <td>9.795</td>\n",
       "      <td>10.092</td>\n",
       "      <td>None</td>\n",
       "    </tr>\n",
       "  </tbody>\n",
       "</table>\n",
       "</div>"
      ],
      "text/plain": [
       "   branch_code  distance_to_customer_KM  distance_check branch_check\n",
       "8           BK                    6.619           6.400         None\n",
       "11          BK                    7.823           8.327         None\n",
       "18          TP                    7.282           9.828         None\n",
       "24          TP                    4.548          10.929           BK\n",
       "40          TP                    9.795          10.092         None"
      ]
     },
     "execution_count": 45,
     "metadata": {},
     "output_type": "execute_result"
    }
   ],
   "source": [
    "fix_distance[['branch_code','distance_to_customer_KM','distance_check','branch_check']].head()"
   ]
  },
  {
   "cell_type": "markdown",
   "metadata": {},
   "source": [
    "By looking at the column above, we can see that there are some rows, that the distance did not mach any of the correct distance to branch_code. To these column, we can adjust the value of distance_to_customer_KM based on branch_code."
   ]
  },
  {
   "cell_type": "code",
   "execution_count": 46,
   "metadata": {},
   "outputs": [
    {
     "data": {
      "text/html": [
       "<div>\n",
       "<style scoped>\n",
       "    .dataframe tbody tr th:only-of-type {\n",
       "        vertical-align: middle;\n",
       "    }\n",
       "\n",
       "    .dataframe tbody tr th {\n",
       "        vertical-align: top;\n",
       "    }\n",
       "\n",
       "    .dataframe thead th {\n",
       "        text-align: right;\n",
       "    }\n",
       "</style>\n",
       "<table border=\"1\" class=\"dataframe\">\n",
       "  <thead>\n",
       "    <tr style=\"text-align: right;\">\n",
       "      <th></th>\n",
       "      <th>branch_code</th>\n",
       "      <th>distance_to_customer_KM</th>\n",
       "      <th>distance_check</th>\n",
       "      <th>branch_check</th>\n",
       "    </tr>\n",
       "  </thead>\n",
       "  <tbody>\n",
       "    <tr>\n",
       "      <td>24</td>\n",
       "      <td>TP</td>\n",
       "      <td>4.548</td>\n",
       "      <td>10.929</td>\n",
       "      <td>BK</td>\n",
       "    </tr>\n",
       "    <tr>\n",
       "      <td>61</td>\n",
       "      <td>TP</td>\n",
       "      <td>11.395</td>\n",
       "      <td>10.513</td>\n",
       "      <td>NS</td>\n",
       "    </tr>\n",
       "    <tr>\n",
       "      <td>87</td>\n",
       "      <td>NS</td>\n",
       "      <td>4.078</td>\n",
       "      <td>9.497</td>\n",
       "      <td>BK</td>\n",
       "    </tr>\n",
       "    <tr>\n",
       "      <td>142</td>\n",
       "      <td>BK</td>\n",
       "      <td>7.671</td>\n",
       "      <td>7.035</td>\n",
       "      <td>NS</td>\n",
       "    </tr>\n",
       "    <tr>\n",
       "      <td>150</td>\n",
       "      <td>TP</td>\n",
       "      <td>9.231</td>\n",
       "      <td>10.347</td>\n",
       "      <td>NS</td>\n",
       "    </tr>\n",
       "    <tr>\n",
       "      <td>153</td>\n",
       "      <td>BK</td>\n",
       "      <td>7.903</td>\n",
       "      <td>7.603</td>\n",
       "      <td>NS</td>\n",
       "    </tr>\n",
       "    <tr>\n",
       "      <td>200</td>\n",
       "      <td>BK</td>\n",
       "      <td>8.714</td>\n",
       "      <td>8.557</td>\n",
       "      <td>NS</td>\n",
       "    </tr>\n",
       "    <tr>\n",
       "      <td>261</td>\n",
       "      <td>TP</td>\n",
       "      <td>8.537</td>\n",
       "      <td>9.857</td>\n",
       "      <td>BK</td>\n",
       "    </tr>\n",
       "    <tr>\n",
       "      <td>391</td>\n",
       "      <td>NS</td>\n",
       "      <td>8.619</td>\n",
       "      <td>9.394</td>\n",
       "      <td>TP</td>\n",
       "    </tr>\n",
       "    <tr>\n",
       "      <td>419</td>\n",
       "      <td>TP</td>\n",
       "      <td>9.182</td>\n",
       "      <td>9.091</td>\n",
       "      <td>BK</td>\n",
       "    </tr>\n",
       "  </tbody>\n",
       "</table>\n",
       "</div>"
      ],
      "text/plain": [
       "    branch_code  distance_to_customer_KM  distance_check branch_check\n",
       "24           TP                    4.548          10.929           BK\n",
       "61           TP                   11.395          10.513           NS\n",
       "87           NS                    4.078           9.497           BK\n",
       "142          BK                    7.671           7.035           NS\n",
       "150          TP                    9.231          10.347           NS\n",
       "153          BK                    7.903           7.603           NS\n",
       "200          BK                    8.714           8.557           NS\n",
       "261          TP                    8.537           9.857           BK\n",
       "391          NS                    8.619           9.394           TP\n",
       "419          TP                    9.182           9.091           BK"
      ]
     },
     "execution_count": 46,
     "metadata": {},
     "output_type": "execute_result"
    }
   ],
   "source": [
    "branch_check_df[['branch_code','distance_to_customer_KM','distance_check','branch_check']]"
   ]
  },
  {
   "cell_type": "markdown",
   "metadata": {},
   "source": [
    "And to the row in which the __distance_to_customer_KM__ actually matchs the value of correct distance, we can conclude that the __branch_code__ of the row is erroneous because it is very unlikely that __distance_to_customer_KM__ can be erroneous, too. To these rows, we can fix by adjust the branch_code based on the __distance_to_customer_KM__."
   ]
  },
  {
   "cell_type": "code",
   "execution_count": 47,
   "metadata": {},
   "outputs": [],
   "source": [
    "for index, loc in branch_check_df.iterrows(): #loop through row of branch_check\n",
    "    dirty.at[index,'branch_code'] = dirty.at[index,'branch_check'] #update the branch_code\n",
    "    dirty.at[index,'error'] = 'branch_code' #mark error "
   ]
  },
  {
   "cell_type": "code",
   "execution_count": 48,
   "metadata": {},
   "outputs": [],
   "source": [
    "fix_dist_index = fix_distance[fix_distance['branch_check'].isnull()] # store filter in fix_dist_index\n",
    "for index, loc in fix_dist_index.iterrows():\n",
    "    dirty.at[index,'distance_to_customer_KM'] = fix_dist_index.at[index, 'distance_check'] #update correct value\n",
    "    dirty.at[index,'error'] = 'distance_to_customer_KM' #mark error"
   ]
  },
  {
   "cell_type": "markdown",
   "metadata": {},
   "source": [
    "## 8. delivery fee and customerhasloyalty?"
   ]
  },
  {
   "cell_type": "markdown",
   "metadata": {},
   "source": [
    "At first, we will look at the **column delivery_fee** to check if any error. The delivery_fee will be discounted 50% if the customer has **_loyalty_**. We will create a column that contain the original fee __ori_fee__ by multiplying the delivery fee with two if the customer has loyalty, otherwise with one."
   ]
  },
  {
   "cell_type": "code",
   "execution_count": 49,
   "metadata": {},
   "outputs": [
    {
     "data": {
      "application/vnd.jupyter.widget-view+json": {
       "model_id": "4a7d06b11b5c4306bdbb24c3e2494fdb",
       "version_major": 2,
       "version_minor": 0
      },
      "text/plain": [
       "HBox(children=(IntProgress(value=1, bar_style='info', max=1), HTML(value='')))"
      ]
     },
     "metadata": {},
     "output_type": "display_data"
    },
    {
     "name": "stdout",
     "output_type": "stream",
     "text": [
      "\n"
     ]
    }
   ],
   "source": [
    "dirty['ori_fee'] = 0. #initiate a column of original delivery fee\n",
    "for index, loc in tqdm(dirty.iterrows()):\n",
    "    if loc['customerHasloyalty?'] == 1:\n",
    "        dirty.at[index,'ori_fee'] = 2*dirty.at[index,'delivery_fee']\n",
    "    else:\n",
    "        dirty.at[index,'ori_fee'] = dirty.at[index,'delivery_fee']"
   ]
  },
  {
   "cell_type": "code",
   "execution_count": 50,
   "metadata": {},
   "outputs": [],
   "source": [
    "dirty['date'] = dirty['date'].apply(lambda x: datetime.strptime(x, '%Y-%m-%d')) # change date column to date time\n",
    "dirty['weekend'] = dirty['date'].apply(lambda x: day(x.weekday())) #one hot encode weekend/weekday column\n",
    "dirty['timeofday'] = dirty['order_type'].apply(lambda x: timeofday(x)) #one hot encode order_type column"
   ]
  },
  {
   "cell_type": "markdown",
   "metadata": {},
   "source": [
    "We will look at among order of the customers who have loyalty, if any outliers found. Outliers mean that the __*discounted*__ may or may not be applied appropriately."
   ]
  },
  {
   "cell_type": "code",
   "execution_count": 51,
   "metadata": {},
   "outputs": [
    {
     "name": "stderr",
     "output_type": "stream",
     "text": [
      "D:\\Anacoda\\lib\\site-packages\\ipykernel_launcher.py:1: UserWarning: Boolean Series key will be reindexed to match DataFrame index.\n",
      "  \"\"\"Entry point for launching an IPython kernel.\n"
     ]
    },
    {
     "data": {
      "text/plain": [
       "<matplotlib.axes._subplots.AxesSubplot at 0x232bfa98988>"
      ]
     },
     "execution_count": 51,
     "metadata": {},
     "output_type": "execute_result"
    },
    {
     "data": {
      "image/png": "[encoded data removed]",
      "text/plain": [
       "<Figure size 432x288 with 1 Axes>"
      ]
     },
     "metadata": {
      "needs_background": "light"
     },
     "output_type": "display_data"
    }
   ],
   "source": [
    "ns_notnull = dirty[dirty['branch_code'] == 'NS'][dirty['customerHasloyalty?'] == 1]\n",
    "ns = ns_notnull[['ori_fee','distance_to_customer_KM','timeofday','weekend']]\n",
    "ns.plot(y = 'ori_fee', x = 'distance_to_customer_KM', kind = 'scatter')"
   ]
  },
  {
   "cell_type": "code",
   "execution_count": 52,
   "metadata": {},
   "outputs": [
    {
     "name": "stdout",
     "output_type": "stream",
     "text": [
      "There are 13 order that the delivery_fee too high among at branch Nickolson for the customers who have loyalty.\n"
     ]
    }
   ],
   "source": [
    "print('There are {} order that the delivery_fee too high among at branch Nickolson for the customers who have loyalty.'.format(len(ns_notnull[ns_notnull['ori_fee'] > 21]['customerHasloyalty?'])))"
   ]
  },
  {
   "cell_type": "markdown",
   "metadata": {},
   "source": [
    "We found 13 outlier over here, we can **deduce** that these are the customers that do not have loyalty fee for two reasons. First,  their original_fees are too high in comparison to those of other customers who also have loyalty. \n",
    "\n",
    "Then we can conclude that these customers do not have loyalty. "
   ]
  },
  {
   "cell_type": "code",
   "execution_count": 53,
   "metadata": {},
   "outputs": [],
   "source": [
    "#fixing ns loyalty\n",
    "for index, loc in ns_notnull[ns_notnull['ori_fee'] > 21].iterrows():\n",
    "    dirty.at[index,'customerHasloyalty?'] = 0 #because originally ori_fee was multiplied by 2\n",
    "    dirty.at[index,'ori_fee'] = dirty.at[index,'ori_fee']/2 #Original fees of these case is the same\n",
    "    dirty.at[index,'error'] = 'loyalty'"
   ]
  },
  {
   "cell_type": "code",
   "execution_count": 54,
   "metadata": {},
   "outputs": [
    {
     "data": {
      "text/plain": [
       "                           224\n",
       "order_type                  37\n",
       "date                        37\n",
       "distance_to_customer_KM     37\n",
       "branch_code                 37\n",
       "wrong order_price           37\n",
       "order_items                 37\n",
       "customer_lat                37\n",
       "loyalty                     13\n",
       "long_lat_swap                4\n",
       "Name: error, dtype: int64"
      ]
     },
     "execution_count": 54,
     "metadata": {},
     "output_type": "execute_result"
    }
   ],
   "source": [
    "dirty['error'].value_counts()"
   ]
  },
  {
   "cell_type": "markdown",
   "metadata": {},
   "source": [
    "We will look at among order of the customers who have **_loyalty_** at branch TP now."
   ]
  },
  {
   "cell_type": "code",
   "execution_count": 55,
   "metadata": {},
   "outputs": [
    {
     "name": "stderr",
     "output_type": "stream",
     "text": [
      "D:\\Anacoda\\lib\\site-packages\\ipykernel_launcher.py:2: UserWarning: Boolean Series key will be reindexed to match DataFrame index.\n",
      "  \n"
     ]
    },
    {
     "data": {
      "text/plain": [
       "<matplotlib.axes._subplots.AxesSubplot at 0x232bf9ef988>"
      ]
     },
     "execution_count": 55,
     "metadata": {},
     "output_type": "execute_result"
    },
    {
     "data": {
      "image/png": "[encoded data removed]",
      "text/plain": [
       "<Figure size 432x288 with 1 Axes>"
      ]
     },
     "metadata": {
      "needs_background": "light"
     },
     "output_type": "display_data"
    }
   ],
   "source": [
    "#tp_notnull = dirty[dirty['error'] == '']\n",
    "tp_notnull = dirty[dirty['branch_code'] == 'TP'][dirty['customerHasloyalty?'] == 1]\n",
    "tp = tp_notnull[['ori_fee','distance_to_customer_KM','timeofday','weekend']]\n",
    "tp.plot(y = 'ori_fee', x = 'distance_to_customer_KM', kind = 'scatter')"
   ]
  },
  {
   "cell_type": "code",
   "execution_count": 56,
   "metadata": {},
   "outputs": [
    {
     "name": "stdout",
     "output_type": "stream",
     "text": [
      "There are 8 order that the delivery_fee too high among at branch TP for the customers who have loyalty.\n"
     ]
    }
   ],
   "source": [
    "print('There are {} order that the delivery_fee too high among at branch TP for the customers who have loyalty.'.format(len(tp_notnull[tp_notnull['ori_fee'] > 21]['customerHasloyalty?'])))"
   ]
  },
  {
   "cell_type": "markdown",
   "metadata": {},
   "source": [
    "We will **fix** these accordingly. "
   ]
  },
  {
   "cell_type": "code",
   "execution_count": 57,
   "metadata": {},
   "outputs": [],
   "source": [
    "for index, loc in tp_notnull[tp_notnull['ori_fee'] > 20].iterrows():\n",
    "    dirty.at[index,'customerHasloyalty?'] = 0 #because originally ori_fee was multiplied by 2\n",
    "    dirty.at[index,'ori_fee'] = dirty.at[index,'ori_fee']/2 #Original fees of these case is the same\n",
    "    dirty.at[index,'error'] = 'loyalty'"
   ]
  },
  {
   "cell_type": "code",
   "execution_count": 58,
   "metadata": {},
   "outputs": [
    {
     "data": {
      "text/plain": [
       "                           216\n",
       "order_type                  37\n",
       "date                        37\n",
       "distance_to_customer_KM     37\n",
       "branch_code                 37\n",
       "wrong order_price           37\n",
       "order_items                 37\n",
       "customer_lat                37\n",
       "loyalty                     21\n",
       "long_lat_swap                4\n",
       "Name: error, dtype: int64"
      ]
     },
     "execution_count": 58,
     "metadata": {},
     "output_type": "execute_result"
    }
   ],
   "source": [
    "dirty['error'].value_counts()"
   ]
  },
  {
   "cell_type": "markdown",
   "metadata": {},
   "source": [
    "We will look at among order of the customers who have **_loyalty_** at branch BK now."
   ]
  },
  {
   "cell_type": "code",
   "execution_count": 59,
   "metadata": {},
   "outputs": [
    {
     "name": "stderr",
     "output_type": "stream",
     "text": [
      "D:\\Anacoda\\lib\\site-packages\\ipykernel_launcher.py:1: UserWarning: Boolean Series key will be reindexed to match DataFrame index.\n",
      "  \"\"\"Entry point for launching an IPython kernel.\n"
     ]
    },
    {
     "data": {
      "text/plain": [
       "<matplotlib.axes._subplots.AxesSubplot at 0x232bf95bf48>"
      ]
     },
     "execution_count": 59,
     "metadata": {},
     "output_type": "execute_result"
    },
    {
     "data": {
      "image/png": "[encoded data removed]",
      "text/plain": [
       "<Figure size 432x288 with 1 Axes>"
      ]
     },
     "metadata": {
      "needs_background": "light"
     },
     "output_type": "display_data"
    }
   ],
   "source": [
    "bk_notnull = dirty[dirty['branch_code'] == 'BK'][dirty['customerHasloyalty?'] == 1]\n",
    "bk = bk_notnull[['ori_fee','distance_to_customer_KM','timeofday','weekend']]\n",
    "bk.plot(y = 'ori_fee', x = 'distance_to_customer_KM', kind = 'scatter')"
   ]
  },
  {
   "cell_type": "code",
   "execution_count": 60,
   "metadata": {},
   "outputs": [
    {
     "name": "stdout",
     "output_type": "stream",
     "text": [
      "There are 13 order that the delivery_fee too high among at branch BK for the customers who have loyalty.\n"
     ]
    }
   ],
   "source": [
    "print('There are {} order that the delivery_fee too high among at branch BK for the customers who have loyalty.'.format(len(bk_notnull[bk_notnull['ori_fee'] > 19.5])))"
   ]
  },
  {
   "cell_type": "markdown",
   "metadata": {},
   "source": [
    "We can fix these accordingly. This mean that these customers may **not** have loyalty, but got **discount**."
   ]
  },
  {
   "cell_type": "code",
   "execution_count": 61,
   "metadata": {},
   "outputs": [],
   "source": [
    "for index, loc in bk_notnull[bk_notnull['ori_fee'] > 20].iterrows():\n",
    "    dirty.at[index,'customerHasloyalty?'] = 0 #because originally ori_fee was multiplied by 2\n",
    "    dirty.at[index,'ori_fee'] = dirty.at[index,'ori_fee']/2 #Original fees of these case is the same\n",
    "    dirty.at[index,'error'] = 'loyalty'"
   ]
  },
  {
   "cell_type": "markdown",
   "metadata": {},
   "source": [
    "Let us look at the **pattern** of customer has no loyalty"
   ]
  },
  {
   "cell_type": "code",
   "execution_count": 62,
   "metadata": {},
   "outputs": [
    {
     "name": "stderr",
     "output_type": "stream",
     "text": [
      "D:\\Anacoda\\lib\\site-packages\\ipykernel_launcher.py:1: UserWarning: Boolean Series key will be reindexed to match DataFrame index.\n",
      "  \"\"\"Entry point for launching an IPython kernel.\n"
     ]
    },
    {
     "data": {
      "text/plain": [
       "<matplotlib.axes._subplots.AxesSubplot at 0x232bf8d27c8>"
      ]
     },
     "execution_count": 62,
     "metadata": {},
     "output_type": "execute_result"
    },
    {
     "data": {
      "image/png": "[encoded data removed]",
      "text/plain": [
       "<Figure size 432x288 with 1 Axes>"
      ]
     },
     "metadata": {
      "needs_background": "light"
     },
     "output_type": "display_data"
    }
   ],
   "source": [
    "ns_notnull = dirty[dirty['branch_code'] == 'NS'][dirty['customerHasloyalty?'] == 0]\n",
    "ns = ns_notnull[['ori_fee','distance_to_customer_KM','timeofday','weekend']]\n",
    "ns.plot(y = 'ori_fee', x = 'distance_to_customer_KM', kind = 'scatter')"
   ]
  },
  {
   "cell_type": "markdown",
   "metadata": {},
   "source": [
    "The data looks **fair** at NS branch. "
   ]
  },
  {
   "cell_type": "code",
   "execution_count": 63,
   "metadata": {},
   "outputs": [
    {
     "name": "stderr",
     "output_type": "stream",
     "text": [
      "D:\\Anacoda\\lib\\site-packages\\ipykernel_launcher.py:1: UserWarning: Boolean Series key will be reindexed to match DataFrame index.\n",
      "  \"\"\"Entry point for launching an IPython kernel.\n"
     ]
    },
    {
     "data": {
      "text/plain": [
       "<matplotlib.axes._subplots.AxesSubplot at 0x232bf864188>"
      ]
     },
     "execution_count": 63,
     "metadata": {},
     "output_type": "execute_result"
    },
    {
     "data": {
      "image/png": "[encoded data removed]",
      "text/plain": [
       "<Figure size 432x288 with 1 Axes>"
      ]
     },
     "metadata": {
      "needs_background": "light"
     },
     "output_type": "display_data"
    }
   ],
   "source": [
    "tp_notnull = dirty[dirty['branch_code'] == 'TP'][dirty['customerHasloyalty?'] == 0]\n",
    "tp = tp_notnull[['ori_fee','distance_to_customer_KM','timeofday','weekend']]\n",
    "tp.plot(y = 'ori_fee', x = 'distance_to_customer_KM', kind = 'scatter')"
   ]
  },
  {
   "cell_type": "markdown",
   "metadata": {},
   "source": [
    "The data looks **fair** at TP branch."
   ]
  },
  {
   "cell_type": "code",
   "execution_count": 64,
   "metadata": {},
   "outputs": [
    {
     "name": "stderr",
     "output_type": "stream",
     "text": [
      "D:\\Anacoda\\lib\\site-packages\\ipykernel_launcher.py:1: UserWarning: Boolean Series key will be reindexed to match DataFrame index.\n",
      "  \"\"\"Entry point for launching an IPython kernel.\n"
     ]
    },
    {
     "data": {
      "text/plain": [
       "<matplotlib.axes._subplots.AxesSubplot at 0x232be59d4c8>"
      ]
     },
     "execution_count": 64,
     "metadata": {},
     "output_type": "execute_result"
    },
    {
     "data": {
      "image/png": "[encoded data removed]",
      "text/plain": [
       "<Figure size 432x288 with 1 Axes>"
      ]
     },
     "metadata": {
      "needs_background": "light"
     },
     "output_type": "display_data"
    }
   ],
   "source": [
    "bk_notnull = dirty[dirty['branch_code'] == 'BK'][dirty['customerHasloyalty?'] == 0]\n",
    "bk = bk_notnull[['ori_fee','distance_to_customer_KM','timeofday','weekend']]\n",
    "bk.plot(y = 'ori_fee', x = 'distance_to_customer_KM', kind = 'scatter')"
   ]
  },
  {
   "cell_type": "markdown",
   "metadata": {},
   "source": [
    "Right here can see some **outliers**, which means that some of the fee actually got **_discounted_** of 50% but the data did not indicate that those customers have loyalty. We can **conclude** that these customers have loyalty. So we will need to adjust the loyalty score to 1. "
   ]
  },
  {
   "cell_type": "code",
   "execution_count": 65,
   "metadata": {},
   "outputs": [
    {
     "name": "stderr",
     "output_type": "stream",
     "text": [
      "D:\\Anacoda\\lib\\site-packages\\ipykernel_launcher.py:2: UserWarning: Boolean Series key will be reindexed to match DataFrame index.\n",
      "  \n"
     ]
    },
    {
     "data": {
      "text/plain": [
       "3"
      ]
     },
     "execution_count": 65,
     "metadata": {},
     "output_type": "execute_result"
    }
   ],
   "source": [
    "# look at how many outliers \n",
    "len(bk_notnull[bk_notnull['ori_fee'] < 8][bk_notnull['distance_to_customer_KM'] < 8]) + len(bk_notnull[bk_notnull['ori_fee'] < 12][bk_notnull['distance_to_customer_KM'] > 9])\n"
   ]
  },
  {
   "cell_type": "markdown",
   "metadata": {},
   "source": [
    "There are three such outliers, we can fix them by multiplying the delivery with two, as the order should **not** have discounts. "
   ]
  },
  {
   "cell_type": "code",
   "execution_count": 66,
   "metadata": {},
   "outputs": [
    {
     "name": "stderr",
     "output_type": "stream",
     "text": [
      "D:\\Anacoda\\lib\\site-packages\\ipykernel_launcher.py:1: UserWarning: Boolean Series key will be reindexed to match DataFrame index.\n",
      "  \"\"\"Entry point for launching an IPython kernel.\n",
      "D:\\Anacoda\\lib\\site-packages\\ipykernel_launcher.py:5: UserWarning: Boolean Series key will be reindexed to match DataFrame index.\n",
      "  \"\"\"\n"
     ]
    }
   ],
   "source": [
    "for index, loc in bk_notnull[bk_notnull['ori_fee'] < 8][bk_notnull['distance_to_customer_KM'] < 8].iterrows():\n",
    "    dirty.at[index,'customerHasloyalty?'] = 1 #because originally ori_fee was multiplied by 2\n",
    "    dirty.at[index,'ori_fee'] = dirty.at[index,'ori_fee']*2 #Original fees of these case should be doubled\n",
    "    dirty.at[index,'error'] = 'loyalty'\n",
    "for index, loc in bk_notnull[bk_notnull['ori_fee'] < 12][bk_notnull['distance_to_customer_KM'] > 9].iterrows():\n",
    "    dirty.at[index,'customerHasloyalty?'] = 1 #because originally ori_fee was multiplied by 2\n",
    "    dirty.at[index,'ori_fee'] = dirty.at[index,'ori_fee']*2 #Original fees of these case should be doubled\n",
    "    dirty.at[index,'error'] = 'loyalty'"
   ]
  },
  {
   "cell_type": "code",
   "execution_count": 67,
   "metadata": {},
   "outputs": [],
   "source": [
    "dirty_output =  dirty[ori_col]"
   ]
  },
  {
   "cell_type": "code",
   "execution_count": 68,
   "metadata": {},
   "outputs": [],
   "source": [
    "dirty_output.to_csv('Group102_dirty_data_solution.csv')"
   ]
  },
  {
   "cell_type": "markdown",
   "metadata": {},
   "source": [
    "# B. Missing data"
   ]
  },
  {
   "cell_type": "markdown",
   "metadata": {},
   "source": [
    "According to specification 4 of assignment: \n",
    "* There are __no__ data anomalies in the file G102_outlier_data.csv, only outliers.\n",
    "Similarly, there are no data anomalies other than missing value problems in the file\n",
    "G102_missing_data.csv"
   ]
  },
  {
   "cell_type": "code",
   "execution_count": 69,
   "metadata": {},
   "outputs": [],
   "source": [
    "missing = pd.read_csv('Group102_missing_data.csv') #read data\n",
    "org_col = missing.columns # saving the original columns for output"
   ]
  },
  {
   "cell_type": "code",
   "execution_count": 70,
   "metadata": {},
   "outputs": [
    {
     "data": {
      "text/plain": [
       "order_id                     0\n",
       "date                         0\n",
       "time                         0\n",
       "order_type                   0\n",
       "branch_code                100\n",
       "order_items                  0\n",
       "order_price                  0\n",
       "customer_lat                 0\n",
       "customer_lon                 0\n",
       "customerHasloyalty?          0\n",
       "distance_to_customer_KM     50\n",
       "delivery_fee                50\n",
       "dtype: int64"
      ]
     },
     "execution_count": 70,
     "metadata": {},
     "output_type": "execute_result"
    }
   ],
   "source": [
    "missing.isnull().sum()"
   ]
  },
  {
   "cell_type": "markdown",
   "metadata": {},
   "source": [
    "There are 100 missing values in column branch_code, 50 in distance_to_customer_KM, and 50 in delivery_fee"
   ]
  },
  {
   "cell_type": "markdown",
   "metadata": {},
   "source": [
    "According to the specification 8 of the assginment: \n",
    "\n",
    "* The restaurant uses Djikstra algorithm to calculate the shortest distance between customer\n",
    "and restaurant. \n",
    "\n",
    "We will create a column node to **store** node (from nodes.csv), weekend stored in encoded variable (1 for weekend, 0 for weekday) and timeofday in encoded form (0 for morning, 1 afternoon, 2 evening)"
   ]
  },
  {
   "cell_type": "code",
   "execution_count": 71,
   "metadata": {},
   "outputs": [],
   "source": [
    "missing['node'] = missing[['customer_lat','customer_lon']].apply(lambda x: get_node(*x), axis=1)\n",
    "missing['distance_to_customer_KM'] = missing['distance_to_customer_KM'].apply(lambda x: round(x,3))\n",
    "missing['date'] = missing['date'].apply(lambda x: datetime.strptime(x, '%Y-%m-%d'))\n",
    "missing['weekend'] = missing['date'].apply(lambda x: day(x.weekday()))\n",
    "missing['timeofday'] = missing['order_type'].apply(lambda x: timeofday(x))"
   ]
  },
  {
   "cell_type": "markdown",
   "metadata": {},
   "source": [
    "For further analysis, we will calculate the distance from each customer's node to each branch's node."
   ]
  },
  {
   "cell_type": "code",
   "execution_count": 72,
   "metadata": {},
   "outputs": [
    {
     "data": {
      "application/vnd.jupyter.widget-view+json": {
       "model_id": "31f83ad4759c47dd9fe5489559292988",
       "version_major": 2,
       "version_minor": 0
      },
      "text/plain": [
       "HBox(children=(IntProgress(value=1, bar_style='info', max=1), HTML(value='')))"
      ]
     },
     "metadata": {},
     "output_type": "display_data"
    },
    {
     "name": "stdout",
     "output_type": "stream",
     "text": [
      "\n"
     ]
    }
   ],
   "source": [
    "for index, loc in tqdm(missing[missing['branch_code'].isnull()].iterrows()): #loop through the missing rows only\n",
    "    #distance to TP\n",
    "    missing.at[index,'dist_to_TP'] = distance(missing.at[index,'node'],TP)\n",
    "    #distance to NS\n",
    "    missing.at[index,'dist_to_NS'] = distance(missing.at[index,'node'],NS)\n",
    "    #distance to BK\n",
    "    missing.at[index,'dist_to_BK'] = distance(missing.at[index,'node'],BK)"
   ]
  },
  {
   "cell_type": "markdown",
   "metadata": {},
   "source": [
    "## 1. branch_code and distance_to_customer_KM"
   ]
  },
  {
   "cell_type": "markdown",
   "metadata": {},
   "source": [
    "Now we will **investigate** missing values for **branch_code** column. "
   ]
  },
  {
   "cell_type": "code",
   "execution_count": 73,
   "metadata": {},
   "outputs": [],
   "source": [
    "bmissing = missing[missing['branch_code'].isnull()] #save the missing of branch_code in to bmissing"
   ]
  },
  {
   "cell_type": "code",
   "execution_count": 74,
   "metadata": {},
   "outputs": [
    {
     "name": "stdout",
     "output_type": "stream",
     "text": [
      "There are 100 missing in branch_code column\n"
     ]
    }
   ],
   "source": [
    "print('There are {} missing in branch_code column'.format(len(bmissing)))"
   ]
  },
  {
   "cell_type": "markdown",
   "metadata": {},
   "source": [
    "We will see among 100 columns if any other columns has missing value"
   ]
  },
  {
   "cell_type": "code",
   "execution_count": 75,
   "metadata": {},
   "outputs": [
    {
     "data": {
      "text/plain": [
       "order_id                     0\n",
       "date                         0\n",
       "time                         0\n",
       "order_type                   0\n",
       "branch_code                100\n",
       "order_items                  0\n",
       "order_price                  0\n",
       "customer_lat                 0\n",
       "customer_lon                 0\n",
       "customerHasloyalty?          0\n",
       "distance_to_customer_KM     50\n",
       "delivery_fee                 0\n",
       "node                         0\n",
       "weekend                      0\n",
       "timeofday                    0\n",
       "dist_to_TP                   0\n",
       "dist_to_NS                   0\n",
       "dist_to_BK                   0\n",
       "dtype: int64"
      ]
     },
     "execution_count": 75,
     "metadata": {},
     "output_type": "execute_result"
    }
   ],
   "source": [
    "bmissing.isnull().sum()"
   ]
  },
  {
   "cell_type": "markdown",
   "metadata": {},
   "source": [
    "Besides 100 missing value in branch_code, there are 50 missing value in distance_to_customer_KM. branch_code can be found by **_calculating_** the distance from customer's geolocation, and we can compared the calculated distance to the distance_to_customer_KM to find the exact branch_code. Clearly in this case, we can only do so for 50 rows. \n",
    "\n",
    "We will create a new column name 'fill' to mark the value that has been filled (1 filled, 0 not filled). And solve the 50 missing values that have distance_to_customer_KM in the same row."
   ]
  },
  {
   "cell_type": "code",
   "execution_count": 76,
   "metadata": {},
   "outputs": [],
   "source": [
    "#Here we can find the missing branchcode based on the distance_to_customer_KM and node\n",
    "missing['fill'] = 0\n",
    "for index, loc in bmissing.iterrows():\n",
    "    missing.at[index,'branch_code'] = find_branch_given_dist(missing.at[index,'node'],missing.at[index,'distance_to_customer_KM'])\n",
    "    missing.at[index,'fill'] = 1"
   ]
  },
  {
   "cell_type": "markdown",
   "metadata": {},
   "source": [
    "After filling the missing value, we can have a look at the missing value in missing dataframe"
   ]
  },
  {
   "cell_type": "code",
   "execution_count": 77,
   "metadata": {},
   "outputs": [
    {
     "data": {
      "text/plain": [
       "order_id                     0\n",
       "date                         0\n",
       "time                         0\n",
       "order_type                   0\n",
       "branch_code                 50\n",
       "order_items                  0\n",
       "order_price                  0\n",
       "customer_lat                 0\n",
       "customer_lon                 0\n",
       "customerHasloyalty?          0\n",
       "distance_to_customer_KM     50\n",
       "delivery_fee                50\n",
       "node                         0\n",
       "weekend                      0\n",
       "timeofday                    0\n",
       "dist_to_TP                 400\n",
       "dist_to_NS                 400\n",
       "dist_to_BK                 400\n",
       "fill                         0\n",
       "dtype: int64"
      ]
     },
     "execution_count": 77,
     "metadata": {},
     "output_type": "execute_result"
    }
   ],
   "source": [
    "missing.isnull().sum()"
   ]
  },
  {
   "cell_type": "markdown",
   "metadata": {},
   "source": [
    "dist_to_XX is the three column we created for comparing purposes, so they are **not important**. Now we can see that 50 missing values have been solved. We now look that the next 50 missing value in this column."
   ]
  },
  {
   "cell_type": "markdown",
   "metadata": {},
   "source": [
    "Because among these 50 columns, we can only rely on the clue of delivery fee to infer the distance. According to the specifications 7 of the assignment:\n",
    "    \n",
    "   * 7. Delivery fee is calculated using a **different method for each branch**.\n",
    "The fee depends linearly (but in different ways for each branch) on:\n",
    "        * weekend or weekday (1 or 0) - as a continuous variable\n",
    "        * time of the day (morning 0, afternoon 1, evening 2) - as a continuous variable\n",
    "        * distance between branch and customer"
   ]
  },
  {
   "cell_type": "markdown",
   "metadata": {},
   "source": [
    "So our approach is that we can use **linear regression** on the rows that do not have missing value. From these linear models, we can use the _coefficient_ to estimate the distance from customer to the branches. We then use these calculated (3 values) to compare with the customer's distance to the three branches, and pick the one that has the least difference."
   ]
  },
  {
   "cell_type": "markdown",
   "metadata": {},
   "source": [
    "However, we will need to consider the distcounted fee for the customer who have **_loyalty_**. To simplify the matter, we will only consider the **_original delivery fee_** before discounted. We will create a column ori_fee to store these value. If the customer has loyalty, the ori_fee is double the amount of delivery fee, otherwise equal."
   ]
  },
  {
   "cell_type": "code",
   "execution_count": 78,
   "metadata": {},
   "outputs": [
    {
     "data": {
      "application/vnd.jupyter.widget-view+json": {
       "model_id": "b3b9ee1332e04d6a810dd6068e071bf7",
       "version_major": 2,
       "version_minor": 0
      },
      "text/plain": [
       "HBox(children=(IntProgress(value=1, bar_style='info', max=1), HTML(value='')))"
      ]
     },
     "metadata": {},
     "output_type": "display_data"
    },
    {
     "name": "stdout",
     "output_type": "stream",
     "text": [
      "\n"
     ]
    }
   ],
   "source": [
    "for index, loc in tqdm(missing.iterrows()):\n",
    "    if loc['customerHasloyalty?'] == 1:\n",
    "        missing.at[index,'ori_fee'] = 2*missing.at[index,'delivery_fee']\n",
    "    else:\n",
    "        missing.at[index,'ori_fee'] = missing.at[index,'delivery_fee']"
   ]
  },
  {
   "cell_type": "markdown",
   "metadata": {},
   "source": [
    "We will see how many missing value in ori_fee"
   ]
  },
  {
   "cell_type": "code",
   "execution_count": 79,
   "metadata": {},
   "outputs": [
    {
     "data": {
      "text/plain": [
       "450"
      ]
     },
     "execution_count": 79,
     "metadata": {},
     "output_type": "execute_result"
    }
   ],
   "source": [
    " len(missing[missing['ori_fee'].notnull()])"
   ]
  },
  {
   "cell_type": "markdown",
   "metadata": {},
   "source": [
    "Clearly 50 missing, because there are 50 missing delivery_fee as founded above from the missing dataset, we will deal with these values later."
   ]
  },
  {
   "cell_type": "markdown",
   "metadata": {},
   "source": [
    "Now for each branch, we wil look at the **not null value** of column ori_fee, and the rows of these dataframe must have available distance_to_customer_KM. From these column, a linear regression model is fitted to find the coefficients."
   ]
  },
  {
   "cell_type": "code",
   "execution_count": 80,
   "metadata": {},
   "outputs": [
    {
     "data": {
      "text/html": [
       "<table class=\"simpletable\">\n",
       "<caption>OLS Regression Results</caption>\n",
       "<tr>\n",
       "  <th>Dep. Variable:</th>         <td>ori_fee</td>     <th>  R-squared (uncentered):</th>      <td>   0.998</td> \n",
       "</tr>\n",
       "<tr>\n",
       "  <th>Model:</th>                   <td>OLS</td>       <th>  Adj. R-squared (uncentered):</th> <td>   0.998</td> \n",
       "</tr>\n",
       "<tr>\n",
       "  <th>Method:</th>             <td>Least Squares</td>  <th>  F-statistic:       </th>          <td>1.853e+04</td>\n",
       "</tr>\n",
       "<tr>\n",
       "  <th>Date:</th>             <td>Mon, 14 Oct 2019</td> <th>  Prob (F-statistic):</th>          <td>6.76e-161</td>\n",
       "</tr>\n",
       "<tr>\n",
       "  <th>Time:</th>                 <td>23:46:38</td>     <th>  Log-Likelihood:    </th>          <td> -130.85</td> \n",
       "</tr>\n",
       "<tr>\n",
       "  <th>No. Observations:</th>      <td>   124</td>      <th>  AIC:               </th>          <td>   267.7</td> \n",
       "</tr>\n",
       "<tr>\n",
       "  <th>Df Residuals:</th>          <td>   121</td>      <th>  BIC:               </th>          <td>   276.2</td> \n",
       "</tr>\n",
       "<tr>\n",
       "  <th>Df Model:</th>              <td>     3</td>      <th>                     </th>              <td> </td>    \n",
       "</tr>\n",
       "<tr>\n",
       "  <th>Covariance Type:</th>      <td>nonrobust</td>    <th>                     </th>              <td> </td>    \n",
       "</tr>\n",
       "</table>\n",
       "<table class=\"simpletable\">\n",
       "<tr>\n",
       "             <td></td>                <th>coef</th>     <th>std err</th>      <th>t</th>      <th>P>|t|</th>  <th>[0.025</th>    <th>0.975]</th>  \n",
       "</tr>\n",
       "<tr>\n",
       "  <th>distance_to_customer_KM</th> <td>    1.5405</td> <td>    0.011</td> <td>  138.440</td> <td> 0.000</td> <td>    1.518</td> <td>    1.562</td>\n",
       "</tr>\n",
       "<tr>\n",
       "  <th>timeofday</th>               <td>    0.5519</td> <td>    0.075</td> <td>    7.342</td> <td> 0.000</td> <td>    0.403</td> <td>    0.701</td>\n",
       "</tr>\n",
       "<tr>\n",
       "  <th>weekend</th>                 <td>    2.1507</td> <td>    0.143</td> <td>   14.999</td> <td> 0.000</td> <td>    1.867</td> <td>    2.435</td>\n",
       "</tr>\n",
       "</table>\n",
       "<table class=\"simpletable\">\n",
       "<tr>\n",
       "  <th>Omnibus:</th>       <td> 2.093</td> <th>  Durbin-Watson:     </th> <td>   2.239</td>\n",
       "</tr>\n",
       "<tr>\n",
       "  <th>Prob(Omnibus):</th> <td> 0.351</td> <th>  Jarque-Bera (JB):  </th> <td>   1.542</td>\n",
       "</tr>\n",
       "<tr>\n",
       "  <th>Skew:</th>          <td> 0.039</td> <th>  Prob(JB):          </th> <td>   0.462</td>\n",
       "</tr>\n",
       "<tr>\n",
       "  <th>Kurtosis:</th>      <td> 2.459</td> <th>  Cond. No.          </th> <td>    20.5</td>\n",
       "</tr>\n",
       "</table><br/><br/>Warnings:<br/>[1] Standard Errors assume that the covariance matrix of the errors is correctly specified."
      ],
      "text/plain": [
       "<class 'statsmodels.iolib.summary.Summary'>\n",
       "\"\"\"\n",
       "                                 OLS Regression Results                                \n",
       "=======================================================================================\n",
       "Dep. Variable:                ori_fee   R-squared (uncentered):                   0.998\n",
       "Model:                            OLS   Adj. R-squared (uncentered):              0.998\n",
       "Method:                 Least Squares   F-statistic:                          1.853e+04\n",
       "Date:                Mon, 14 Oct 2019   Prob (F-statistic):                   6.76e-161\n",
       "Time:                        23:46:38   Log-Likelihood:                         -130.85\n",
       "No. Observations:                 124   AIC:                                      267.7\n",
       "Df Residuals:                     121   BIC:                                      276.2\n",
       "Df Model:                           3                                                  \n",
       "Covariance Type:            nonrobust                                                  \n",
       "===========================================================================================\n",
       "                              coef    std err          t      P>|t|      [0.025      0.975]\n",
       "-------------------------------------------------------------------------------------------\n",
       "distance_to_customer_KM     1.5405      0.011    138.440      0.000       1.518       1.562\n",
       "timeofday                   0.5519      0.075      7.342      0.000       0.403       0.701\n",
       "weekend                     2.1507      0.143     14.999      0.000       1.867       2.435\n",
       "==============================================================================\n",
       "Omnibus:                        2.093   Durbin-Watson:                   2.239\n",
       "Prob(Omnibus):                  0.351   Jarque-Bera (JB):                1.542\n",
       "Skew:                           0.039   Prob(JB):                        0.462\n",
       "Kurtosis:                       2.459   Cond. No.                         20.5\n",
       "==============================================================================\n",
       "\n",
       "Warnings:\n",
       "[1] Standard Errors assume that the covariance matrix of the errors is correctly specified.\n",
       "\"\"\""
      ]
     },
     "execution_count": 80,
     "metadata": {},
     "output_type": "execute_result"
    }
   ],
   "source": [
    "ns_notnull = missing[missing['ori_fee'].notnull()]\n",
    "ns_notnull = ns_notnull[ns_notnull['distance_to_customer_KM'].notnull()]\n",
    "ns_notnull = ns_notnull[ns_notnull['branch_code'] == 'NS']\n",
    "ns = ns_notnull[['ori_fee','distance_to_customer_KM','timeofday','weekend']]\n",
    "\n",
    "X = ns[['distance_to_customer_KM','timeofday','weekend']] # here we have 2 variables for multiple regression. If you just want to use one variable for simple linear regression, then use X = df['Interest_Rate'] for example.Alternatively, you may add additional variables within the brackets\n",
    "Y = ns['ori_fee']\n",
    "model_ns = sm.OLS(Y, X).fit()\n",
    "model_ns.summary()"
   ]
  },
  {
   "cell_type": "markdown",
   "metadata": {},
   "source": [
    "We have **coefficients** for NS branch are: 1.5367, 0.6063, 2.1365. The adjusted R-squared value is 0.998, which means that this model is quite good, and can explain 99.8% of the variance of the dataset. We will use these coefficients to predict the null values. The predicted distance will be stored in dist_hat_NS."
   ]
  },
  {
   "cell_type": "code",
   "execution_count": 81,
   "metadata": {},
   "outputs": [
    {
     "data": {
      "text/html": [
       "<div>\n",
       "<style scoped>\n",
       "    .dataframe tbody tr th:only-of-type {\n",
       "        vertical-align: middle;\n",
       "    }\n",
       "\n",
       "    .dataframe tbody tr th {\n",
       "        vertical-align: top;\n",
       "    }\n",
       "\n",
       "    .dataframe thead th {\n",
       "        text-align: right;\n",
       "    }\n",
       "</style>\n",
       "<table border=\"1\" class=\"dataframe\">\n",
       "  <thead>\n",
       "    <tr style=\"text-align: right;\">\n",
       "      <th></th>\n",
       "      <th>order_id</th>\n",
       "      <th>date</th>\n",
       "      <th>time</th>\n",
       "      <th>order_type</th>\n",
       "      <th>branch_code</th>\n",
       "      <th>order_items</th>\n",
       "      <th>order_price</th>\n",
       "      <th>customer_lat</th>\n",
       "      <th>customer_lon</th>\n",
       "      <th>customerHasloyalty?</th>\n",
       "      <th>distance_to_customer_KM</th>\n",
       "      <th>delivery_fee</th>\n",
       "      <th>node</th>\n",
       "      <th>weekend</th>\n",
       "      <th>timeofday</th>\n",
       "      <th>dist_to_TP</th>\n",
       "      <th>dist_to_NS</th>\n",
       "      <th>dist_to_BK</th>\n",
       "      <th>fill</th>\n",
       "      <th>ori_fee</th>\n",
       "    </tr>\n",
       "  </thead>\n",
       "  <tbody>\n",
       "    <tr>\n",
       "      <td>34</td>\n",
       "      <td>ORDA09752</td>\n",
       "      <td>2018-05-29</td>\n",
       "      <td>12:54:05</td>\n",
       "      <td>Lunch</td>\n",
       "      <td>None</td>\n",
       "      <td>[('Chicken', 4), ('Fries', 1), ('Steak', 8), (...</td>\n",
       "      <td>672.00</td>\n",
       "      <td>-37.816727</td>\n",
       "      <td>145.008912</td>\n",
       "      <td>0</td>\n",
       "      <td>NaN</td>\n",
       "      <td>8.910156</td>\n",
       "      <td>5563404257</td>\n",
       "      <td>0</td>\n",
       "      <td>1</td>\n",
       "      <td>11.602</td>\n",
       "      <td>10.761</td>\n",
       "      <td>3.873</td>\n",
       "      <td>1</td>\n",
       "      <td>8.910156</td>\n",
       "    </tr>\n",
       "    <tr>\n",
       "      <td>45</td>\n",
       "      <td>ORDC03174</td>\n",
       "      <td>2018-08-09</td>\n",
       "      <td>15:16:03</td>\n",
       "      <td>Lunch</td>\n",
       "      <td>None</td>\n",
       "      <td>[('Burger', 6), ('Chicken', 5), ('Fries', 4), ...</td>\n",
       "      <td>531.60</td>\n",
       "      <td>-37.805317</td>\n",
       "      <td>144.940949</td>\n",
       "      <td>0</td>\n",
       "      <td>NaN</td>\n",
       "      <td>14.502396</td>\n",
       "      <td>702363974</td>\n",
       "      <td>0</td>\n",
       "      <td>1</td>\n",
       "      <td>10.412</td>\n",
       "      <td>9.307</td>\n",
       "      <td>9.506</td>\n",
       "      <td>1</td>\n",
       "      <td>14.502396</td>\n",
       "    </tr>\n",
       "    <tr>\n",
       "      <td>49</td>\n",
       "      <td>ORDC06727</td>\n",
       "      <td>2018-03-22</td>\n",
       "      <td>10:32:06</td>\n",
       "      <td>Breakfast</td>\n",
       "      <td>None</td>\n",
       "      <td>[('Pancake', 5), ('Coffee', 7)]</td>\n",
       "      <td>173.75</td>\n",
       "      <td>-37.800244</td>\n",
       "      <td>144.955044</td>\n",
       "      <td>0</td>\n",
       "      <td>NaN</td>\n",
       "      <td>12.762549</td>\n",
       "      <td>663120916</td>\n",
       "      <td>0</td>\n",
       "      <td>0</td>\n",
       "      <td>9.826</td>\n",
       "      <td>7.598</td>\n",
       "      <td>8.506</td>\n",
       "      <td>1</td>\n",
       "      <td>12.762549</td>\n",
       "    </tr>\n",
       "    <tr>\n",
       "      <td>53</td>\n",
       "      <td>ORDB06683</td>\n",
       "      <td>2018-11-03</td>\n",
       "      <td>18:08:27</td>\n",
       "      <td>Dinner</td>\n",
       "      <td>None</td>\n",
       "      <td>[('Fish&amp;Chips', 4), ('Shrimp', 3), ('Pasta', 3)]</td>\n",
       "      <td>384.50</td>\n",
       "      <td>-37.811583</td>\n",
       "      <td>144.945728</td>\n",
       "      <td>0</td>\n",
       "      <td>NaN</td>\n",
       "      <td>15.724240</td>\n",
       "      <td>579971507</td>\n",
       "      <td>1</td>\n",
       "      <td>2</td>\n",
       "      <td>9.874</td>\n",
       "      <td>9.932</td>\n",
       "      <td>9.955</td>\n",
       "      <td>1</td>\n",
       "      <td>15.724240</td>\n",
       "    </tr>\n",
       "    <tr>\n",
       "      <td>54</td>\n",
       "      <td>ORDX08128</td>\n",
       "      <td>2018-10-26</td>\n",
       "      <td>17:48:10</td>\n",
       "      <td>Dinner</td>\n",
       "      <td>None</td>\n",
       "      <td>[('Pasta', 9), ('Shrimp', 3), ('Fish&amp;Chips', 1...</td>\n",
       "      <td>1046.50</td>\n",
       "      <td>-37.808213</td>\n",
       "      <td>144.974359</td>\n",
       "      <td>0</td>\n",
       "      <td>NaN</td>\n",
       "      <td>13.202494</td>\n",
       "      <td>6207152063</td>\n",
       "      <td>0</td>\n",
       "      <td>2</td>\n",
       "      <td>9.319</td>\n",
       "      <td>7.204</td>\n",
       "      <td>6.430</td>\n",
       "      <td>1</td>\n",
       "      <td>13.202494</td>\n",
       "    </tr>\n",
       "  </tbody>\n",
       "</table>\n",
       "</div>"
      ],
      "text/plain": [
       "     order_id       date      time order_type branch_code                                        order_items  order_price  customer_lat  customer_lon  customerHasloyalty?  distance_to_customer_KM  delivery_fee        node  weekend  timeofday  dist_to_TP  dist_to_NS  dist_to_BK  fill    ori_fee\n",
       "34  ORDA09752 2018-05-29  12:54:05      Lunch        None  [('Chicken', 4), ('Fries', 1), ('Steak', 8), (...       672.00    -37.816727    145.008912                    0                      NaN      8.910156  5563404257        0          1      11.602      10.761       3.873     1   8.910156\n",
       "45  ORDC03174 2018-08-09  15:16:03      Lunch        None  [('Burger', 6), ('Chicken', 5), ('Fries', 4), ...       531.60    -37.805317    144.940949                    0                      NaN     14.502396   702363974        0          1      10.412       9.307       9.506     1  14.502396\n",
       "49  ORDC06727 2018-03-22  10:32:06  Breakfast        None                    [('Pancake', 5), ('Coffee', 7)]       173.75    -37.800244    144.955044                    0                      NaN     12.762549   663120916        0          0       9.826       7.598       8.506     1  12.762549\n",
       "53  ORDB06683 2018-11-03  18:08:27     Dinner        None   [('Fish&Chips', 4), ('Shrimp', 3), ('Pasta', 3)]       384.50    -37.811583    144.945728                    0                      NaN     15.724240   579971507        1          2       9.874       9.932       9.955     1  15.724240\n",
       "54  ORDX08128 2018-10-26  17:48:10     Dinner        None  [('Pasta', 9), ('Shrimp', 3), ('Fish&Chips', 1...      1046.50    -37.808213    144.974359                    0                      NaN     13.202494  6207152063        0          2       9.319       7.204       6.430     1  13.202494"
      ]
     },
     "execution_count": 81,
     "metadata": {},
     "output_type": "execute_result"
    }
   ],
   "source": [
    "ns_isnull = missing[missing['ori_fee'].notnull()]\n",
    "ns_isnull = ns_isnull[ns_isnull['distance_to_customer_KM'].isnull()]\n",
    "ns_isnull.head()"
   ]
  },
  {
   "cell_type": "code",
   "execution_count": 82,
   "metadata": {},
   "outputs": [],
   "source": [
    "_isnull = ns_isnull\n",
    "for index, loc in ns_isnull.iterrows():\n",
    "    _isnull.at[index, 'dist_hat_ns'] = (ns_isnull.at[index, 'ori_fee'] -0.6063*ns_isnull.at[index, 'timeofday'] - 2.1365*ns_isnull.at[index, 'weekend'])/1.5367"
   ]
  },
  {
   "cell_type": "markdown",
   "metadata": {},
   "source": [
    "Then we do the same with other branches like TP and BK"
   ]
  },
  {
   "cell_type": "code",
   "execution_count": 83,
   "metadata": {},
   "outputs": [
    {
     "data": {
      "text/html": [
       "<table class=\"simpletable\">\n",
       "<caption>OLS Regression Results</caption>\n",
       "<tr>\n",
       "  <th>Dep. Variable:</th>         <td>ori_fee</td>     <th>  R-squared (uncentered):</th>      <td>   0.998</td> \n",
       "</tr>\n",
       "<tr>\n",
       "  <th>Model:</th>                   <td>OLS</td>       <th>  Adj. R-squared (uncentered):</th> <td>   0.998</td> \n",
       "</tr>\n",
       "<tr>\n",
       "  <th>Method:</th>             <td>Least Squares</td>  <th>  F-statistic:       </th>          <td>2.074e+04</td>\n",
       "</tr>\n",
       "<tr>\n",
       "  <th>Date:</th>             <td>Mon, 14 Oct 2019</td> <th>  Prob (F-statistic):</th>          <td>6.67e-173</td>\n",
       "</tr>\n",
       "<tr>\n",
       "  <th>Time:</th>                 <td>23:46:38</td>     <th>  Log-Likelihood:    </th>          <td> -120.64</td> \n",
       "</tr>\n",
       "<tr>\n",
       "  <th>No. Observations:</th>      <td>   132</td>      <th>  AIC:               </th>          <td>   247.3</td> \n",
       "</tr>\n",
       "<tr>\n",
       "  <th>Df Residuals:</th>          <td>   129</td>      <th>  BIC:               </th>          <td>   255.9</td> \n",
       "</tr>\n",
       "<tr>\n",
       "  <th>Df Model:</th>              <td>     3</td>      <th>                     </th>              <td> </td>    \n",
       "</tr>\n",
       "<tr>\n",
       "  <th>Covariance Type:</th>      <td>nonrobust</td>    <th>                     </th>              <td> </td>    \n",
       "</tr>\n",
       "</table>\n",
       "<table class=\"simpletable\">\n",
       "<tr>\n",
       "             <td></td>                <th>coef</th>     <th>std err</th>      <th>t</th>      <th>P>|t|</th>  <th>[0.025</th>    <th>0.975]</th>  \n",
       "</tr>\n",
       "<tr>\n",
       "  <th>distance_to_customer_KM</th> <td>    1.2657</td> <td>    0.010</td> <td>  128.982</td> <td> 0.000</td> <td>    1.246</td> <td>    1.285</td>\n",
       "</tr>\n",
       "<tr>\n",
       "  <th>timeofday</th>               <td>    0.8480</td> <td>    0.065</td> <td>   13.056</td> <td> 0.000</td> <td>    0.719</td> <td>    0.976</td>\n",
       "</tr>\n",
       "<tr>\n",
       "  <th>weekend</th>                 <td>    1.1228</td> <td>    0.122</td> <td>    9.184</td> <td> 0.000</td> <td>    0.881</td> <td>    1.365</td>\n",
       "</tr>\n",
       "</table>\n",
       "<table class=\"simpletable\">\n",
       "<tr>\n",
       "  <th>Omnibus:</th>       <td> 3.417</td> <th>  Durbin-Watson:     </th> <td>   2.287</td>\n",
       "</tr>\n",
       "<tr>\n",
       "  <th>Prob(Omnibus):</th> <td> 0.181</td> <th>  Jarque-Bera (JB):  </th> <td>   2.902</td>\n",
       "</tr>\n",
       "<tr>\n",
       "  <th>Skew:</th>          <td>-0.341</td> <th>  Prob(JB):          </th> <td>   0.234</td>\n",
       "</tr>\n",
       "<tr>\n",
       "  <th>Kurtosis:</th>      <td> 3.249</td> <th>  Cond. No.          </th> <td>    22.1</td>\n",
       "</tr>\n",
       "</table><br/><br/>Warnings:<br/>[1] Standard Errors assume that the covariance matrix of the errors is correctly specified."
      ],
      "text/plain": [
       "<class 'statsmodels.iolib.summary.Summary'>\n",
       "\"\"\"\n",
       "                                 OLS Regression Results                                \n",
       "=======================================================================================\n",
       "Dep. Variable:                ori_fee   R-squared (uncentered):                   0.998\n",
       "Model:                            OLS   Adj. R-squared (uncentered):              0.998\n",
       "Method:                 Least Squares   F-statistic:                          2.074e+04\n",
       "Date:                Mon, 14 Oct 2019   Prob (F-statistic):                   6.67e-173\n",
       "Time:                        23:46:38   Log-Likelihood:                         -120.64\n",
       "No. Observations:                 132   AIC:                                      247.3\n",
       "Df Residuals:                     129   BIC:                                      255.9\n",
       "Df Model:                           3                                                  \n",
       "Covariance Type:            nonrobust                                                  \n",
       "===========================================================================================\n",
       "                              coef    std err          t      P>|t|      [0.025      0.975]\n",
       "-------------------------------------------------------------------------------------------\n",
       "distance_to_customer_KM     1.2657      0.010    128.982      0.000       1.246       1.285\n",
       "timeofday                   0.8480      0.065     13.056      0.000       0.719       0.976\n",
       "weekend                     1.1228      0.122      9.184      0.000       0.881       1.365\n",
       "==============================================================================\n",
       "Omnibus:                        3.417   Durbin-Watson:                   2.287\n",
       "Prob(Omnibus):                  0.181   Jarque-Bera (JB):                2.902\n",
       "Skew:                          -0.341   Prob(JB):                        0.234\n",
       "Kurtosis:                       3.249   Cond. No.                         22.1\n",
       "==============================================================================\n",
       "\n",
       "Warnings:\n",
       "[1] Standard Errors assume that the covariance matrix of the errors is correctly specified.\n",
       "\"\"\""
      ]
     },
     "execution_count": 83,
     "metadata": {},
     "output_type": "execute_result"
    }
   ],
   "source": [
    "tp_notnull = missing[missing['ori_fee'].notnull()]\n",
    "tp_notnull = tp_notnull[tp_notnull['distance_to_customer_KM'].notnull()]\n",
    "tp_notnull = tp_notnull[tp_notnull['branch_code'] == 'TP']\n",
    "tp = tp_notnull[['ori_fee','distance_to_customer_KM','timeofday','weekend']]\n",
    "\n",
    "\n",
    "X = tp[['distance_to_customer_KM','timeofday','weekend']] # here we have 2 variables for multiple regression. If you just want to use one variable for simple linear regression, then use X = df['Interest_Rate'] for example.Alternatively, you may add additional variables within the brackets\n",
    "Y = tp['ori_fee']\n",
    "model_tp = sm.OLS(Y, X).fit()\n",
    "model_tp.summary()"
   ]
  },
  {
   "cell_type": "markdown",
   "metadata": {},
   "source": [
    "We have **coefficients** 1.2657, 0.8480, 1.1228 for TP"
   ]
  },
  {
   "cell_type": "code",
   "execution_count": 84,
   "metadata": {},
   "outputs": [],
   "source": [
    "tp_isnull = missing[missing['ori_fee'].notnull()]\n",
    "tp_isnull = tp_isnull[tp_isnull['distance_to_customer_KM'].isnull()]\n",
    "for index, loc in ns_isnull.iterrows():\n",
    "    _isnull.at[index, 'dist_hat_tp'] = (tp_isnull.at[index, 'ori_fee'] -0.8487*tp_isnull.at[index, 'timeofday'] - 1.1237*tp_isnull.at[index, 'weekend'])/1.2655"
   ]
  },
  {
   "cell_type": "code",
   "execution_count": 85,
   "metadata": {},
   "outputs": [
    {
     "data": {
      "text/html": [
       "<table class=\"simpletable\">\n",
       "<caption>OLS Regression Results</caption>\n",
       "<tr>\n",
       "  <th>Dep. Variable:</th>         <td>ori_fee</td>     <th>  R-squared (uncentered):</th>      <td>   0.995</td> \n",
       "</tr>\n",
       "<tr>\n",
       "  <th>Model:</th>                   <td>OLS</td>       <th>  Adj. R-squared (uncentered):</th> <td>   0.995</td> \n",
       "</tr>\n",
       "<tr>\n",
       "  <th>Method:</th>             <td>Least Squares</td>  <th>  F-statistic:       </th>          <td>   9331.</td> \n",
       "</tr>\n",
       "<tr>\n",
       "  <th>Date:</th>             <td>Mon, 14 Oct 2019</td> <th>  Prob (F-statistic):</th>          <td>6.71e-162</td>\n",
       "</tr>\n",
       "<tr>\n",
       "  <th>Time:</th>                 <td>23:46:50</td>     <th>  Log-Likelihood:    </th>          <td> -205.40</td> \n",
       "</tr>\n",
       "<tr>\n",
       "  <th>No. Observations:</th>      <td>   144</td>      <th>  AIC:               </th>          <td>   416.8</td> \n",
       "</tr>\n",
       "<tr>\n",
       "  <th>Df Residuals:</th>          <td>   141</td>      <th>  BIC:               </th>          <td>   425.7</td> \n",
       "</tr>\n",
       "<tr>\n",
       "  <th>Df Model:</th>              <td>     3</td>      <th>                     </th>              <td> </td>    \n",
       "</tr>\n",
       "<tr>\n",
       "  <th>Covariance Type:</th>      <td>nonrobust</td>    <th>                     </th>              <td> </td>    \n",
       "</tr>\n",
       "</table>\n",
       "<table class=\"simpletable\">\n",
       "<tr>\n",
       "             <td></td>                <th>coef</th>     <th>std err</th>      <th>t</th>      <th>P>|t|</th>  <th>[0.025</th>    <th>0.975]</th>  \n",
       "</tr>\n",
       "<tr>\n",
       "  <th>distance_to_customer_KM</th> <td>    1.5373</td> <td>    0.017</td> <td>   87.849</td> <td> 0.000</td> <td>    1.503</td> <td>    1.572</td>\n",
       "</tr>\n",
       "<tr>\n",
       "  <th>timeofday</th>               <td>    1.4764</td> <td>    0.099</td> <td>   14.964</td> <td> 0.000</td> <td>    1.281</td> <td>    1.672</td>\n",
       "</tr>\n",
       "<tr>\n",
       "  <th>weekend</th>                 <td>    2.5715</td> <td>    0.215</td> <td>   11.938</td> <td> 0.000</td> <td>    2.146</td> <td>    2.997</td>\n",
       "</tr>\n",
       "</table>\n",
       "<table class=\"simpletable\">\n",
       "<tr>\n",
       "  <th>Omnibus:</th>       <td> 3.139</td> <th>  Durbin-Watson:     </th> <td>   1.753</td>\n",
       "</tr>\n",
       "<tr>\n",
       "  <th>Prob(Omnibus):</th> <td> 0.208</td> <th>  Jarque-Bera (JB):  </th> <td>   2.075</td>\n",
       "</tr>\n",
       "<tr>\n",
       "  <th>Skew:</th>          <td> 0.064</td> <th>  Prob(JB):          </th> <td>   0.354</td>\n",
       "</tr>\n",
       "<tr>\n",
       "  <th>Kurtosis:</th>      <td> 2.426</td> <th>  Cond. No.          </th> <td>    20.1</td>\n",
       "</tr>\n",
       "</table><br/><br/>Warnings:<br/>[1] Standard Errors assume that the covariance matrix of the errors is correctly specified."
      ],
      "text/plain": [
       "<class 'statsmodels.iolib.summary.Summary'>\n",
       "\"\"\"\n",
       "                                 OLS Regression Results                                \n",
       "=======================================================================================\n",
       "Dep. Variable:                ori_fee   R-squared (uncentered):                   0.995\n",
       "Model:                            OLS   Adj. R-squared (uncentered):              0.995\n",
       "Method:                 Least Squares   F-statistic:                              9331.\n",
       "Date:                Mon, 14 Oct 2019   Prob (F-statistic):                   6.71e-162\n",
       "Time:                        23:46:50   Log-Likelihood:                         -205.40\n",
       "No. Observations:                 144   AIC:                                      416.8\n",
       "Df Residuals:                     141   BIC:                                      425.7\n",
       "Df Model:                           3                                                  \n",
       "Covariance Type:            nonrobust                                                  \n",
       "===========================================================================================\n",
       "                              coef    std err          t      P>|t|      [0.025      0.975]\n",
       "-------------------------------------------------------------------------------------------\n",
       "distance_to_customer_KM     1.5373      0.017     87.849      0.000       1.503       1.572\n",
       "timeofday                   1.4764      0.099     14.964      0.000       1.281       1.672\n",
       "weekend                     2.5715      0.215     11.938      0.000       2.146       2.997\n",
       "==============================================================================\n",
       "Omnibus:                        3.139   Durbin-Watson:                   1.753\n",
       "Prob(Omnibus):                  0.208   Jarque-Bera (JB):                2.075\n",
       "Skew:                           0.064   Prob(JB):                        0.354\n",
       "Kurtosis:                       2.426   Cond. No.                         20.1\n",
       "==============================================================================\n",
       "\n",
       "Warnings:\n",
       "[1] Standard Errors assume that the covariance matrix of the errors is correctly specified.\n",
       "\"\"\""
      ]
     },
     "execution_count": 85,
     "metadata": {},
     "output_type": "execute_result"
    }
   ],
   "source": [
    "bk_notnull = missing[missing['ori_fee'].notnull()]\n",
    "bk_notnull = bk_notnull[bk_notnull['distance_to_customer_KM'].notnull()]\n",
    "bk_notnull = bk_notnull[bk_notnull['branch_code'] == 'BK']\n",
    "bk = bk_notnull[['ori_fee','distance_to_customer_KM','timeofday','weekend']]\n",
    "\n",
    "X = bk[['distance_to_customer_KM','timeofday','weekend']] # here we have 2 variables for multiple regression. If you just want to use one variable for simple linear regression, then use X = df['Interest_Rate'] for example.Alternatively, you may add additional variables within the brackets\n",
    "Y = bk['ori_fee']\n",
    "model_bk = sm.OLS(Y, X).fit()\n",
    "model_bk.summary()"
   ]
  },
  {
   "cell_type": "markdown",
   "metadata": {},
   "source": [
    "We have **coefficients** = 1.5373 , 1.4764, 2.5715 for BK"
   ]
  },
  {
   "cell_type": "code",
   "execution_count": 86,
   "metadata": {},
   "outputs": [],
   "source": [
    "bk_isnull = missing[missing['ori_fee'].notnull()]\n",
    "bk_isnull = bk_isnull[bk_isnull['distance_to_customer_KM'].isnull()]\n",
    "for index, loc in bk_isnull.iterrows():\n",
    "    _isnull.at[index, 'dist_hat_bk'] = (bk_isnull.at[index, 'ori_fee'] -1.4893*bk_isnull.at[index, 'timeofday'] - 2.5655*bk_isnull.at[index, 'weekend'])/1.5362"
   ]
  },
  {
   "cell_type": "markdown",
   "metadata": {},
   "source": [
    "After getting predicted values, we can inspect futher."
   ]
  },
  {
   "cell_type": "code",
   "execution_count": 87,
   "metadata": {},
   "outputs": [
    {
     "data": {
      "text/html": [
       "<div>\n",
       "<style scoped>\n",
       "    .dataframe tbody tr th:only-of-type {\n",
       "        vertical-align: middle;\n",
       "    }\n",
       "\n",
       "    .dataframe tbody tr th {\n",
       "        vertical-align: top;\n",
       "    }\n",
       "\n",
       "    .dataframe thead th {\n",
       "        text-align: right;\n",
       "    }\n",
       "</style>\n",
       "<table border=\"1\" class=\"dataframe\">\n",
       "  <thead>\n",
       "    <tr style=\"text-align: right;\">\n",
       "      <th></th>\n",
       "      <th>dist_hat_tp</th>\n",
       "      <th>dist_hat_bk</th>\n",
       "      <th>dist_hat_ns</th>\n",
       "      <th>dist_to_TP</th>\n",
       "      <th>dist_to_BK</th>\n",
       "      <th>dist_to_NS</th>\n",
       "      <th>node</th>\n",
       "    </tr>\n",
       "  </thead>\n",
       "  <tbody>\n",
       "    <tr>\n",
       "      <td>34</td>\n",
       "      <td>6.370175</td>\n",
       "      <td>4.830658</td>\n",
       "      <td>5.403694</td>\n",
       "      <td>11.602</td>\n",
       "      <td>3.873</td>\n",
       "      <td>10.761</td>\n",
       "      <td>5563404257</td>\n",
       "    </tr>\n",
       "    <tr>\n",
       "      <td>45</td>\n",
       "      <td>10.789171</td>\n",
       "      <td>8.470965</td>\n",
       "      <td>9.042817</td>\n",
       "      <td>10.412</td>\n",
       "      <td>9.506</td>\n",
       "      <td>9.307</td>\n",
       "      <td>702363974</td>\n",
       "    </tr>\n",
       "    <tr>\n",
       "      <td>49</td>\n",
       "      <td>10.084986</td>\n",
       "      <td>8.307870</td>\n",
       "      <td>8.305167</td>\n",
       "      <td>9.826</td>\n",
       "      <td>8.506</td>\n",
       "      <td>7.598</td>\n",
       "      <td>663120916</td>\n",
       "    </tr>\n",
       "    <tr>\n",
       "      <td>53</td>\n",
       "      <td>10.196080</td>\n",
       "      <td>6.626832</td>\n",
       "      <td>8.053061</td>\n",
       "      <td>9.874</td>\n",
       "      <td>9.955</td>\n",
       "      <td>9.932</td>\n",
       "      <td>579971507</td>\n",
       "    </tr>\n",
       "    <tr>\n",
       "      <td>54</td>\n",
       "      <td>9.091343</td>\n",
       "      <td>6.655314</td>\n",
       "      <td>7.802365</td>\n",
       "      <td>9.319</td>\n",
       "      <td>6.430</td>\n",
       "      <td>7.204</td>\n",
       "      <td>6207152063</td>\n",
       "    </tr>\n",
       "  </tbody>\n",
       "</table>\n",
       "</div>"
      ],
      "text/plain": [
       "    dist_hat_tp  dist_hat_bk  dist_hat_ns  dist_to_TP  dist_to_BK  dist_to_NS        node\n",
       "34     6.370175     4.830658     5.403694      11.602       3.873      10.761  5563404257\n",
       "45    10.789171     8.470965     9.042817      10.412       9.506       9.307   702363974\n",
       "49    10.084986     8.307870     8.305167       9.826       8.506       7.598   663120916\n",
       "53    10.196080     6.626832     8.053061       9.874       9.955       9.932   579971507\n",
       "54     9.091343     6.655314     7.802365       9.319       6.430       7.204  6207152063"
      ]
     },
     "execution_count": 87,
     "metadata": {},
     "output_type": "execute_result"
    }
   ],
   "source": [
    "_isnull[['dist_hat_tp','dist_hat_bk','dist_hat_ns','dist_to_TP','dist_to_BK','dist_to_NS','node']].head()"
   ]
  },
  {
   "cell_type": "markdown",
   "metadata": {},
   "source": [
    "For instance, if we look at the first **predicted row**, three models predicted that given the deliver_fee, timeofday, and weekend variable, the distance is around 4.8 to 6.3, which is very close to distance from customer to branch BK. Then from here, we can clearly find the minimum difference to infer location."
   ]
  },
  {
   "cell_type": "markdown",
   "metadata": {},
   "source": [
    "This method will work well with the customer's location that have nearly equal distance to two or three branches. If we look at index 53, this customer's location is in a place that the distances from three branches to which are 9.87(TP), 9.95(BK), and 9.93(NS). The TP linear model can detect the distance 97% accuracy, while the other like BK and NS can only predict 67%, 81% respectively.Then we can now use this estimation to impute the value of missing branch_code. And also, at the same time, we can impute the missing distance_to_customer_KM."
   ]
  },
  {
   "cell_type": "code",
   "execution_count": 88,
   "metadata": {},
   "outputs": [],
   "source": [
    "def find_min(dist_hat_tp,dist_hat_ns,dist_hat_bk,dist_to_BK,dist_to_TP,dist_to_NS):\n",
    "    \"\"\"\n",
    "    Return the branch_code to customer that has the minimum difference, and the distance\n",
    "    \"\"\"\n",
    "    tp = abs(dist_hat_tp-dist_to_TP) #difference from predicted distance to actual distance\n",
    "    bk = abs(dist_hat_bk-dist_to_BK) #difference from predicted distance to actual distance\n",
    "    ns = abs(dist_hat_ns-dist_to_NS) #difference from predicted distance to actual distance\n",
    "    \n",
    "    dist = min(tp,bk,ns) # minimum of the three diffrence\n",
    "    \n",
    "    dist_2cus = 0. #initiate a float value\n",
    "    \n",
    "    if dist == tp:\n",
    "        branch_code = 'TP'\n",
    "        dist_2cus = dist_to_TP\n",
    "    elif dist == bk:\n",
    "        branch_code = 'BK'\n",
    "        dist_2cus = dist_to_BK        \n",
    "    elif dist == ns:\n",
    "        branch_code = 'NS'\n",
    "        dist_2cus = dist_to_NS \n",
    "    \n",
    "    return branch_code, dist_2cus"
   ]
  },
  {
   "cell_type": "code",
   "execution_count": 89,
   "metadata": {},
   "outputs": [],
   "source": [
    "for index, loc in _isnull.iterrows():\n",
    "    _isnull.at[index,'branch_code'], _isnull.at[index,'distance_to_customer_KM'] \\\n",
    "    = find_min(_isnull.at[index,'dist_hat_tp'],\\\n",
    "               _isnull.at[index,'dist_hat_ns'],\\\n",
    "              _isnull.at[index,'dist_hat_bk'],\\\n",
    "              _isnull.at[index,'dist_to_BK'],\\\n",
    "              _isnull.at[index,'dist_to_TP'],\\\n",
    "              _isnull.at[index,'dist_to_NS']) #assign predict value to _isnull data frame\n",
    "\n"
   ]
  },
  {
   "cell_type": "code",
   "execution_count": 90,
   "metadata": {},
   "outputs": [
    {
     "data": {
      "text/html": [
       "<div>\n",
       "<style scoped>\n",
       "    .dataframe tbody tr th:only-of-type {\n",
       "        vertical-align: middle;\n",
       "    }\n",
       "\n",
       "    .dataframe tbody tr th {\n",
       "        vertical-align: top;\n",
       "    }\n",
       "\n",
       "    .dataframe thead th {\n",
       "        text-align: right;\n",
       "    }\n",
       "</style>\n",
       "<table border=\"1\" class=\"dataframe\">\n",
       "  <thead>\n",
       "    <tr style=\"text-align: right;\">\n",
       "      <th></th>\n",
       "      <th>dist_hat_tp</th>\n",
       "      <th>dist_hat_bk</th>\n",
       "      <th>dist_hat_ns</th>\n",
       "      <th>dist_to_TP</th>\n",
       "      <th>dist_to_BK</th>\n",
       "      <th>dist_to_NS</th>\n",
       "      <th>branch_code</th>\n",
       "      <th>distance_to_customer_KM</th>\n",
       "      <th>delivery_fee</th>\n",
       "      <th>weekend</th>\n",
       "      <th>timeofday</th>\n",
       "    </tr>\n",
       "  </thead>\n",
       "  <tbody>\n",
       "    <tr>\n",
       "      <td>34</td>\n",
       "      <td>6.370175</td>\n",
       "      <td>4.830658</td>\n",
       "      <td>5.403694</td>\n",
       "      <td>11.602</td>\n",
       "      <td>3.873</td>\n",
       "      <td>10.761</td>\n",
       "      <td>BK</td>\n",
       "      <td>3.873</td>\n",
       "      <td>8.910156</td>\n",
       "      <td>0</td>\n",
       "      <td>1</td>\n",
       "    </tr>\n",
       "    <tr>\n",
       "      <td>45</td>\n",
       "      <td>10.789171</td>\n",
       "      <td>8.470965</td>\n",
       "      <td>9.042817</td>\n",
       "      <td>10.412</td>\n",
       "      <td>9.506</td>\n",
       "      <td>9.307</td>\n",
       "      <td>NS</td>\n",
       "      <td>9.307</td>\n",
       "      <td>14.502396</td>\n",
       "      <td>0</td>\n",
       "      <td>1</td>\n",
       "    </tr>\n",
       "    <tr>\n",
       "      <td>49</td>\n",
       "      <td>10.084986</td>\n",
       "      <td>8.307870</td>\n",
       "      <td>8.305167</td>\n",
       "      <td>9.826</td>\n",
       "      <td>8.506</td>\n",
       "      <td>7.598</td>\n",
       "      <td>BK</td>\n",
       "      <td>8.506</td>\n",
       "      <td>12.762549</td>\n",
       "      <td>0</td>\n",
       "      <td>0</td>\n",
       "    </tr>\n",
       "    <tr>\n",
       "      <td>53</td>\n",
       "      <td>10.196080</td>\n",
       "      <td>6.626832</td>\n",
       "      <td>8.053061</td>\n",
       "      <td>9.874</td>\n",
       "      <td>9.955</td>\n",
       "      <td>9.932</td>\n",
       "      <td>TP</td>\n",
       "      <td>9.874</td>\n",
       "      <td>15.724240</td>\n",
       "      <td>1</td>\n",
       "      <td>2</td>\n",
       "    </tr>\n",
       "    <tr>\n",
       "      <td>54</td>\n",
       "      <td>9.091343</td>\n",
       "      <td>6.655314</td>\n",
       "      <td>7.802365</td>\n",
       "      <td>9.319</td>\n",
       "      <td>6.430</td>\n",
       "      <td>7.204</td>\n",
       "      <td>BK</td>\n",
       "      <td>6.430</td>\n",
       "      <td>13.202494</td>\n",
       "      <td>0</td>\n",
       "      <td>2</td>\n",
       "    </tr>\n",
       "  </tbody>\n",
       "</table>\n",
       "</div>"
      ],
      "text/plain": [
       "    dist_hat_tp  dist_hat_bk  dist_hat_ns  dist_to_TP  dist_to_BK  dist_to_NS branch_code  distance_to_customer_KM  delivery_fee  weekend  timeofday\n",
       "34     6.370175     4.830658     5.403694      11.602       3.873      10.761          BK                    3.873      8.910156        0          1\n",
       "45    10.789171     8.470965     9.042817      10.412       9.506       9.307          NS                    9.307     14.502396        0          1\n",
       "49    10.084986     8.307870     8.305167       9.826       8.506       7.598          BK                    8.506     12.762549        0          0\n",
       "53    10.196080     6.626832     8.053061       9.874       9.955       9.932          TP                    9.874     15.724240        1          2\n",
       "54     9.091343     6.655314     7.802365       9.319       6.430       7.204          BK                    6.430     13.202494        0          2"
      ]
     },
     "execution_count": 90,
     "metadata": {},
     "output_type": "execute_result"
    }
   ],
   "source": [
    "_isnull[['dist_hat_tp','dist_hat_bk','dist_hat_ns','dist_to_TP','dist_to_BK','dist_to_NS','branch_code','distance_to_customer_KM','delivery_fee','weekend','timeofday']].head()"
   ]
  },
  {
   "cell_type": "markdown",
   "metadata": {},
   "source": [
    "After imputing by mininum difference, we can see that the distance_to_customer_KM makes sense given the delivery_fee, timeofday, and weekend. Now we can update these value to the missing data."
   ]
  },
  {
   "cell_type": "code",
   "execution_count": 91,
   "metadata": {},
   "outputs": [],
   "source": [
    "for index, loc in _isnull.iterrows(): #update the pred\n",
    "    missing.at[index,'branch_code'],missing.at[index,'distance_to_customer_KM'] = _isnull.at[index,'branch_code'],_isnull.at[index,'distance_to_customer_KM']"
   ]
  },
  {
   "cell_type": "markdown",
   "metadata": {},
   "source": [
    "## 2. Missing in delivery_fee"
   ]
  },
  {
   "cell_type": "markdown",
   "metadata": {},
   "source": [
    "With delivery_fee, we can use **linear regression models** for each branch. According to specification 7, we can look at the rows that do not have null value, and fit linear regression model for each branch. Then we will use these linear models, to predict the values of delivery_fee for missing data. \n",
    "\n",
    "   * 7. Delivery fee is calculated using a different method for each branch.\n",
    "The fee depends linearly (but in different ways for each branch) on:\n",
    "        * weekend or weekday (1 or 0) - as a continuous variable\n",
    "        * time of the day (morning 0, afternoon 1, evening 2) - as a continuous variable\n",
    "        * distance between branch and customer\n",
    "        \n",
    "Again, we will use the ori_fee column, instead of the delivery_fee to simplify the issue. After getting the predicted values for ori_fee, we can update again with the loyalty value."
   ]
  },
  {
   "cell_type": "code",
   "execution_count": 116,
   "metadata": {},
   "outputs": [
    {
     "name": "stderr",
     "output_type": "stream",
     "text": [
      "C:\\ProgramData\\Anaconda3\\lib\\site-packages\\ipykernel_launcher.py:11: UserWarning: Boolean Series key will be reindexed to match DataFrame index.\n",
      "  # This is added back by InteractiveShellApp.init_path()\n",
      "C:\\ProgramData\\Anaconda3\\lib\\site-packages\\ipykernel_launcher.py:13: UserWarning: Boolean Series key will be reindexed to match DataFrame index.\n",
      "  del sys.path[0]\n"
     ]
    }
   ],
   "source": [
    "ns_notnull = missing[missing['ori_fee'].notnull()]\n",
    "ns_notnull = ns_notnull[ns_notnull['distance_to_customer_KM'].notnull()]\n",
    "ns_notnull = ns_notnull[ns_notnull['branch_code'] == 'NS']\n",
    "ns = ns_notnull[['ori_fee','distance_to_customer_KM','timeofday','weekend']]\n",
    "\n",
    "\n",
    "X = ns[['distance_to_customer_KM','timeofday','weekend']] # here we have 2 variables for multiple regression. If you just want to use one variable for simple linear regression, then use X = df['Interest_Rate'] for example.Alternatively, you may add additional variables within the brackets\n",
    "Y = ns['ori_fee']\n",
    "model_ns = sm.OLS(Y, X).fit()\n",
    "\n",
    "pred_ori_ns = model_ns.predict(missing[missing['delivery_fee'].isnull()][missing['branch_code'] == 'NS'][['distance_to_customer_KM','timeofday','weekend']])\n",
    "\n",
    "for index, loc in missing[missing['delivery_fee'].isnull()][missing['branch_code'] == 'NS'][['ori_fee']].iterrows():\n",
    "    missing.at[index,'ori_fee'] = pred_ori_ns[index]"
   ]
  },
  {
   "cell_type": "code",
   "execution_count": 117,
   "metadata": {},
   "outputs": [
    {
     "name": "stderr",
     "output_type": "stream",
     "text": [
      "C:\\ProgramData\\Anaconda3\\lib\\site-packages\\ipykernel_launcher.py:11: UserWarning: Boolean Series key will be reindexed to match DataFrame index.\n",
      "  # This is added back by InteractiveShellApp.init_path()\n",
      "C:\\ProgramData\\Anaconda3\\lib\\site-packages\\ipykernel_launcher.py:12: UserWarning: Boolean Series key will be reindexed to match DataFrame index.\n",
      "  if sys.path[0] == '':\n"
     ]
    }
   ],
   "source": [
    "tp_notnull = missing[missing['ori_fee'].notnull()]\n",
    "tp_notnull = tp_notnull[tp_notnull['distance_to_customer_KM'].notnull()]\n",
    "tp_notnull = tp_notnull[tp_notnull['branch_code'] == 'TP']\n",
    "tp = tp_notnull[['ori_fee','distance_to_customer_KM','timeofday','weekend']]\n",
    "\n",
    "\n",
    "X = tp[['distance_to_customer_KM','timeofday','weekend']] # here we have 2 variables for multiple regression. If you just want to use one variable for simple linear regression, then use X = df['Interest_Rate'] for example.Alternatively, you may add additional variables within the brackets\n",
    "Y = tp['ori_fee']\n",
    "model_tp = sm.OLS(Y, X).fit()\n",
    "\n",
    "pred_ori_tp = model_tp.predict(missing[missing['delivery_fee'].isnull()][missing['branch_code'] == 'TP'][['distance_to_customer_KM','timeofday','weekend']])\n",
    "for index, loc in missing[missing['delivery_fee'].isnull()][missing['branch_code'] == 'TP'][['ori_fee']].iterrows():\n",
    "    missing.at[index,'ori_fee'] = pred_ori_tp[index]"
   ]
  },
  {
   "cell_type": "code",
   "execution_count": 118,
   "metadata": {},
   "outputs": [
    {
     "name": "stderr",
     "output_type": "stream",
     "text": [
      "C:\\ProgramData\\Anaconda3\\lib\\site-packages\\ipykernel_launcher.py:11: UserWarning: Boolean Series key will be reindexed to match DataFrame index.\n",
      "  # This is added back by InteractiveShellApp.init_path()\n",
      "C:\\ProgramData\\Anaconda3\\lib\\site-packages\\ipykernel_launcher.py:12: UserWarning: Boolean Series key will be reindexed to match DataFrame index.\n",
      "  if sys.path[0] == '':\n"
     ]
    }
   ],
   "source": [
    "bk_notnull = missing[missing['ori_fee'].notnull()]\n",
    "bk_notnull = bk_notnull[bk_notnull['distance_to_customer_KM'].notnull()]\n",
    "bk_notnull = bk_notnull[bk_notnull['branch_code'] == 'BK']\n",
    "bk = bk_notnull[['ori_fee','distance_to_customer_KM','timeofday','weekend']]\n",
    "\n",
    "\n",
    "X = bk[['distance_to_customer_KM','timeofday','weekend']] # here we have 2 variables for multiple regression. If you just want to use one variable for simple linear regression, then use X = df['Interest_Rate'] for example.Alternatively, you may add additional variables within the brackets\n",
    "Y = bk['ori_fee']\n",
    "model_bk = sm.OLS(Y, X).fit()\n",
    "\n",
    "pred_ori_bk = model_bk.predict(missing[missing['delivery_fee'].isnull()][missing['branch_code'] == 'BK'][['distance_to_customer_KM','timeofday','weekend']])\n",
    "for index, loc in missing[missing['delivery_fee'].isnull()][missing['branch_code'] == 'BK'][['ori_fee']].iterrows():\n",
    "    missing.at[index,'ori_fee'] = pred_ori_bk[index]"
   ]
  },
  {
   "cell_type": "code",
   "execution_count": 119,
   "metadata": {},
   "outputs": [
    {
     "name": "stdout",
     "output_type": "stream",
     "text": [
      "The adjusted R squared for TP, BK, and NS are 0.998, 0.995 and 0.998\n"
     ]
    }
   ],
   "source": [
    "print('The adjusted R squared for TP, BK, and NS are {:.3}, {:.3} and {:.3}'.format(model_tp.rsquared_adj,model_bk.rsquared_adj,model_ns.rsquared_adj))"
   ]
  },
  {
   "cell_type": "markdown",
   "metadata": {},
   "source": [
    "Look at the values above, all three models can explain for **99%** of variance, then we can be confident that the predicted value of delivery_fee for each branches is really close to reality."
   ]
  },
  {
   "cell_type": "markdown",
   "metadata": {},
   "source": [
    "We can **update** the value for delivery_fee"
   ]
  },
  {
   "cell_type": "code",
   "execution_count": 120,
   "metadata": {},
   "outputs": [],
   "source": [
    "missing['delivery_fee'] = missing['ori_fee']/(1+missing['customerHasloyalty?'])"
   ]
  },
  {
   "cell_type": "markdown",
   "metadata": {},
   "source": [
    "We can **double check** again with the missing data. "
   ]
  },
  {
   "cell_type": "code",
   "execution_count": 121,
   "metadata": {},
   "outputs": [
    {
     "data": {
      "text/plain": [
       "order_id                     0\n",
       "date                         0\n",
       "time                         0\n",
       "order_type                   0\n",
       "branch_code                  0\n",
       "order_items                  0\n",
       "order_price                  0\n",
       "customer_lat                 0\n",
       "customer_lon                 0\n",
       "customerHasloyalty?          0\n",
       "distance_to_customer_KM      0\n",
       "delivery_fee                 0\n",
       "node                         0\n",
       "weekend                      0\n",
       "timeofday                    0\n",
       "dist_to_TP                 400\n",
       "dist_to_NS                 400\n",
       "dist_to_BK                 400\n",
       "fill                         0\n",
       "ori_fee                      0\n",
       "dtype: int64"
      ]
     },
     "execution_count": 121,
     "metadata": {},
     "output_type": "execute_result"
    }
   ],
   "source": [
    "missing.isnull().sum()"
   ]
  },
  {
   "cell_type": "markdown",
   "metadata": {},
   "source": [
    "So out of three columns created for EDA task, we can see that the original columns are now free from missing data. We can produce the **output**."
   ]
  },
  {
   "cell_type": "code",
   "execution_count": 122,
   "metadata": {},
   "outputs": [],
   "source": [
    "missing_output = missing[org_col]\n",
    "missing_output.to_csv('Group102_missing_data_solution.csv') #produce output"
   ]
  },
  {
   "cell_type": "markdown",
   "metadata": {},
   "source": [
    "# C. Outlier"
   ]
  },
  {
   "cell_type": "markdown",
   "metadata": {},
   "source": [
    "In this task, we are supposed to explore the 'outlier_data' csv file and detect outliers. There are no data anomalies in this data file, all data is clean. Thus, we will use pandas boxplot and some other plotting techniques to explore the data. If the column is univariate, we believe inter_quantile_range approach is sufficient for detecting outliers. But if the column is multi-variate, we will use a combination of linear regression residual method and inter_quantile_range method to detect outliers.\n",
    "\n",
    "* create some new columns for analysis purpose\n",
    "* univariate -> Inter Quantile Range\n",
    "* multi-variate -> Linear Regression Residual & Inter Quantile Range"
   ]
  },
  {
   "cell_type": "code",
   "execution_count": 169,
   "metadata": {},
   "outputs": [],
   "source": [
    "outlier = pd.read_csv(\"Group102_outlier_data.csv\") #read outlier data\n",
    "ori_col = outlier.columns #keeping original columns"
   ]
  },
  {
   "cell_type": "code",
   "execution_count": 139,
   "metadata": {},
   "outputs": [
    {
     "data": {
      "application/vnd.jupyter.widget-view+json": {
       "model_id": "2d1caac9f8514cb199503980a5e7b915",
       "version_major": 2,
       "version_minor": 0
      },
      "text/plain": [
       "HBox(children=(IntProgress(value=1, bar_style='info', max=1), HTML(value='')))"
      ]
     },
     "metadata": {},
     "output_type": "display_data"
    },
    {
     "name": "stdout",
     "output_type": "stream",
     "text": [
      "\n"
     ]
    }
   ],
   "source": [
    "outlier['ori_fee'] = 0. #initiate a column of original delivery fee\n",
    "\n",
    "# generate original delivery fee by checking customer loyalty status\n",
    "# if customer loyalty status has value 1, original delivery fee is twice as the column 'delivery_fee'\n",
    "for index, loc in tqdm(outlier.iterrows()):\n",
    "    if loc['customerHasloyalty?'] == 1:\n",
    "        outlier.at[index,'ori_fee'] = 2*outlier.at[index,'delivery_fee'] # create new column 'ori_fee' and stores its original delivery_fee\n",
    "    else:\n",
    "        outlier.at[index,'ori_fee'] = outlier.at[index,'delivery_fee'] #c reate new column 'ori_fee' and stores its original delivery_fee"
   ]
  },
  {
   "cell_type": "code",
   "execution_count": 140,
   "metadata": {},
   "outputs": [],
   "source": [
    "def qtt_items(order):\n",
    "    '''\n",
    "    takes an order from dataframe, returns the total item quantities in the order\n",
    "    '''\n",
    "    menu_qtt = re.findall(r'[0-9]+', order) # use re to find all the numerical data\n",
    "    qtt = 0\n",
    "    for each in menu_qtt:\n",
    "        qtt +=int(each) # increment the total quantity by each found matching object\n",
    "    return qtt    "
   ]
  },
  {
   "cell_type": "code",
   "execution_count": 141,
   "metadata": {},
   "outputs": [],
   "source": [
    "# create some columns to assist future statistical analysis\n",
    "\n",
    "# create column distance to customer\n",
    "outlier['distance_to_customer_KM'] = outlier['distance_to_customer_KM'].apply(lambda x: round(x,3)) \n",
    "\n",
    "# create column date\n",
    "outlier['date'] = outlier['date'].apply(lambda x: datetime.strptime(x, '%Y-%m-%d'))\n",
    "\n",
    "# create column weekend\n",
    "outlier['weekend'] = outlier['date'].apply(lambda x: day(x.weekday()))\n",
    "\n",
    "# create column time of day\n",
    "outlier['timeofday'] = outlier['order_type'].apply(lambda x: timeofday(x))"
   ]
  },
  {
   "cell_type": "markdown",
   "metadata": {},
   "source": [
    "Define a function that will return outliers by __IQR__ method.\n",
    "* IQR = Q3 - Q1\n",
    "* __*outlier*__ is any data that's smaller than $(q1 - 1.5*iqr)$ or greater than $(q3 + 1.5*iqr)$\n",
    "* return (index_list, outlier_list, count of outliers)"
   ]
  },
  {
   "cell_type": "code",
   "execution_count": 142,
   "metadata": {},
   "outputs": [],
   "source": [
    "def iqr_outlier(df,column):\n",
    "    '''\n",
    "    takes dataframe (df) and column name (column) as input, returns a list of outliers using Inter-Quantile-Range (IQR)\n",
    "    \n",
    "    return outlier_list, count of outliers\n",
    "    '''\n",
    "    q3 = df[column].quantile(.75)\n",
    "    q1 = df[column].quantile(.25)\n",
    "    iqr = q3-q1\n",
    "    outlier_list = [] # initiate outlier_list in order to store all outliers\n",
    "    index_list = []\n",
    "    # if the data is smaller than (q1 - 1.5*iqr), it's considered outlier by IQR\n",
    "    # if the data is greater than (q3 + 1.5*iqr), it's considered outlier by IQR\n",
    "    for index, rows in df[column].items():\n",
    "        if rows<(q1-1.5*iqr):\n",
    "            outlier_list.append(rows)\n",
    "            index_list.append(index)\n",
    "            \n",
    "        elif rows>(q3+1.5*iqr):\n",
    "            outlier_list.append(rows)\n",
    "            index_list.append(index)\n",
    "    count = len(outlier_list)\n",
    "    \n",
    "    return index_list,outlier_list, count"
   ]
  },
  {
   "cell_type": "markdown",
   "metadata": {},
   "source": [
    "Use iqr_outlier to detect __potential outliers__. Examine the detected outliers to make sure they are really outliers."
   ]
  },
  {
   "cell_type": "code",
   "execution_count": 143,
   "metadata": {},
   "outputs": [
    {
     "data": {
      "text/plain": [
       "<matplotlib.axes._subplots.AxesSubplot at 0x177f0b8d9e8>"
      ]
     },
     "execution_count": 143,
     "metadata": {},
     "output_type": "execute_result"
    },
    {
     "data": {
      "image/png": "[encoded data removed]",
      "text/plain": [
       "<Figure size 432x288 with 1 Axes>"
      ]
     },
     "metadata": {
      "needs_background": "light"
     },
     "output_type": "display_data"
    }
   ],
   "source": [
    "outlier.boxplot(column='delivery_fee')"
   ]
  },
  {
   "cell_type": "code",
   "execution_count": 144,
   "metadata": {},
   "outputs": [
    {
     "data": {
      "text/plain": [
       "45"
      ]
     },
     "execution_count": 144,
     "metadata": {},
     "output_type": "execute_result"
    }
   ],
   "source": [
    "delivery_outlier = iqr_outlier(outlier, 'delivery_fee')\n",
    "delivery_outlier[2]"
   ]
  },
  {
   "cell_type": "markdown",
   "metadata": {},
   "source": [
    "There are 45 __potential outliers__ in column 'delivery_fee', but we don't think this is right because the column 'delivery_fee' is the deliver_fee after loyalty status discounts. Thus we need to examine the 'ori_fee' column next."
   ]
  },
  {
   "cell_type": "code",
   "execution_count": 145,
   "metadata": {},
   "outputs": [
    {
     "data": {
      "text/plain": [
       "27"
      ]
     },
     "execution_count": 145,
     "metadata": {},
     "output_type": "execute_result"
    }
   ],
   "source": [
    "ori_outlier = iqr_outlier(outlier, 'ori_fee')\n",
    "ori_outlier[2]"
   ]
  },
  {
   "cell_type": "markdown",
   "metadata": {},
   "source": [
    "There are 27 __potential outliers__ in column 'ori_fee'. This tells us that these 27 customers are either really far away from any of the 3 branches or really close. But we can't simply classify these 27 rows as outliers because the delivery fee is based on some other variables, such as distance_to_customer_KM, timeofday, weekend. Thus this is also incorrect and we need to fit regression lines based on branch_code, after that we can do the IQR on the residuals."
   ]
  },
  {
   "cell_type": "markdown",
   "metadata": {},
   "source": [
    "### __'delivery_fee'__\n",
    "'delivery_fee' is determined by four variables, thus simple IQR won't be sufficient to determine if there is an outlier. We need to run linear regressions residuals method to identify the outliers along with IQR method."
   ]
  },
  {
   "cell_type": "markdown",
   "metadata": {},
   "source": [
    "The variables which determine delivery_fee that we need to consider are: \n",
    "1. branch_code\n",
    "2. weekend or weekday\n",
    "3. time of the day\n",
    "4. distance"
   ]
  },
  {
   "cell_type": "code",
   "execution_count": 146,
   "metadata": {},
   "outputs": [],
   "source": [
    "# initiate a new column to store the prediction delivery_fee after fitting with some variables\n",
    "outlier['ori_fee_hat'] =0."
   ]
  },
  {
   "cell_type": "markdown",
   "metadata": {},
   "source": [
    "Calculate the __coefficients__ of 'distance_to_customer_KM','timeofday','weekend' regarding to 'ori_fee'"
   ]
  },
  {
   "cell_type": "code",
   "execution_count": 147,
   "metadata": {},
   "outputs": [],
   "source": [
    "# prepare the columns we need in order to perform calculation\n",
    "o_bk_notnull = outlier[outlier['ori_fee'].notnull()]\n",
    "o_bk_notnull = o_bk_notnull[o_bk_notnull['branch_code'] == 'BK']\n",
    "o_bk = o_bk_notnull[['ori_fee','distance_to_customer_KM','timeofday','weekend']]\n",
    "\n",
    "# use StatsModel.OLS().fit() to calculate the coefficients\n",
    "X = o_bk[['distance_to_customer_KM','timeofday','weekend']] # here we have 2 variables for multiple regression. If you just want to use one variable for simple linear regression, then use X = df['Interest_Rate'] for example.Alternatively, you may add additional variables within the brackets\n",
    "Y = o_bk['ori_fee']\n",
    "model_o_bk = sm.OLS(Y, X).fit()\n"
   ]
  },
  {
   "cell_type": "code",
   "execution_count": 148,
   "metadata": {},
   "outputs": [
    {
     "data": {
      "text/plain": [
       "distance_to_customer_KM    1.548824\n",
       "timeofday                  1.396733\n",
       "weekend                    3.006074\n",
       "dtype: float64"
      ]
     },
     "execution_count": 148,
     "metadata": {},
     "output_type": "execute_result"
    }
   ],
   "source": [
    "model_o_bk.params"
   ]
  },
  {
   "cell_type": "code",
   "execution_count": 149,
   "metadata": {},
   "outputs": [
    {
     "data": {
      "text/plain": [
       "{'whiskers': [<matplotlib.lines.Line2D at 0x177f0c46d30>,\n",
       "  <matplotlib.lines.Line2D at 0x177f0c46f60>],\n",
       " 'caps': [<matplotlib.lines.Line2D at 0x177f0c54748>,\n",
       "  <matplotlib.lines.Line2D at 0x177f0c54a90>],\n",
       " 'boxes': [<matplotlib.lines.Line2D at 0x177f0c46be0>],\n",
       " 'medians': [<matplotlib.lines.Line2D at 0x177f0c54dd8>],\n",
       " 'fliers': [<matplotlib.lines.Line2D at 0x177f0c54d68>],\n",
       " 'means': []}"
      ]
     },
     "execution_count": 149,
     "metadata": {},
     "output_type": "execute_result"
    },
    {
     "data": {
      "image/png": "[encoded data removed]",
      "text/plain": [
       "<Figure size 432x288 with 1 Axes>"
      ]
     },
     "metadata": {
      "needs_background": "light"
     },
     "output_type": "display_data"
    }
   ],
   "source": [
    "plt.boxplot(o_bk['ori_fee'])"
   ]
  },
  {
   "cell_type": "code",
   "execution_count": 135,
   "metadata": {},
   "outputs": [
    {
     "data": {
      "text/plain": [
       "{'whiskers': [<matplotlib.lines.Line2D at 0x177f0a7fdd8>,\n",
       "  <matplotlib.lines.Line2D at 0x177f0a7ffd0>],\n",
       " 'caps': [<matplotlib.lines.Line2D at 0x177f0a8e7f0>,\n",
       "  <matplotlib.lines.Line2D at 0x177f0a8eb38>],\n",
       " 'boxes': [<matplotlib.lines.Line2D at 0x177f0a7fc88>],\n",
       " 'medians': [<matplotlib.lines.Line2D at 0x177f0a8ee80>],\n",
       " 'fliers': [<matplotlib.lines.Line2D at 0x177f0a8ee10>],\n",
       " 'means': []}"
      ]
     },
     "execution_count": 135,
     "metadata": {},
     "output_type": "execute_result"
    },
    {
     "data": {
      "image/png": "[encoded data removed]",
      "text/plain": [
       "<Figure size 432x288 with 1 Axes>"
      ]
     },
     "metadata": {
      "needs_background": "light"
     },
     "output_type": "display_data"
    }
   ],
   "source": [
    "plt.boxplot(model_o_bk.resid)"
   ]
  },
  {
   "cell_type": "markdown",
   "metadata": {},
   "source": [
    "We can see residuals have **_narrower_** IQR than its original data's IQR."
   ]
  },
  {
   "cell_type": "code",
   "execution_count": 150,
   "metadata": {},
   "outputs": [
    {
     "name": "stdout",
     "output_type": "stream",
     "text": [
      "distance_to_customer_KM    1.380926\n",
      "timeofday                  1.462593\n",
      "weekend                    2.937256\n",
      "dtype: float64\n"
     ]
    },
    {
     "data": {
      "text/plain": [
       "{'whiskers': [<matplotlib.lines.Line2D at 0x177f0c9cd68>,\n",
       "  <matplotlib.lines.Line2D at 0x177f0c9cf98>],\n",
       " 'caps': [<matplotlib.lines.Line2D at 0x177f0ca9780>,\n",
       "  <matplotlib.lines.Line2D at 0x177f0ca9ac8>],\n",
       " 'boxes': [<matplotlib.lines.Line2D at 0x177f0c9cc18>],\n",
       " 'medians': [<matplotlib.lines.Line2D at 0x177f0ca9e10>],\n",
       " 'fliers': [<matplotlib.lines.Line2D at 0x177f0ca9da0>],\n",
       " 'means': []}"
      ]
     },
     "execution_count": 150,
     "metadata": {},
     "output_type": "execute_result"
    },
    {
     "data": {
      "image/png": "[encoded data removed]",
      "text/plain": [
       "<Figure size 432x288 with 1 Axes>"
      ]
     },
     "metadata": {
      "needs_background": "light"
     },
     "output_type": "display_data"
    }
   ],
   "source": [
    "# prepare the columns we need in order to perform calculation\n",
    "o_ns_notnull = outlier[outlier['ori_fee'].notnull()]\n",
    "o_ns_notnull = o_ns_notnull[o_ns_notnull['branch_code'] == 'NS']\n",
    "o_ns = o_ns_notnull[['ori_fee','distance_to_customer_KM','timeofday','weekend']]\n",
    "\n",
    "# use StatsModel.OLS().fit() to calculate the coefficients\n",
    "X = o_ns[['distance_to_customer_KM','timeofday','weekend']] # here we have 2 variables for multiple regression. If you just want to use one variable for simple linear regression, then use X = df['Interest_Rate'] for example.Alternatively, you may add additional variables within the brackets\n",
    "Y = o_ns['ori_fee']\n",
    "model_o_ns = sm.OLS(Y, X).fit()\n",
    "print(model_o_ns.params)\n",
    "plt.boxplot(model_o_ns.resid)"
   ]
  },
  {
   "cell_type": "code",
   "execution_count": 151,
   "metadata": {},
   "outputs": [
    {
     "name": "stdout",
     "output_type": "stream",
     "text": [
      "distance_to_customer_KM    1.234974\n",
      "timeofday                  0.778199\n",
      "weekend                    1.397721\n",
      "dtype: float64\n"
     ]
    },
    {
     "data": {
      "text/plain": [
       "{'whiskers': [<matplotlib.lines.Line2D at 0x177f0cfdb00>,\n",
       "  <matplotlib.lines.Line2D at 0x177f0cfdef0>],\n",
       " 'caps': [<matplotlib.lines.Line2D at 0x177f0cfde80>,\n",
       "  <matplotlib.lines.Line2D at 0x177f0d055c0>],\n",
       " 'boxes': [<matplotlib.lines.Line2D at 0x177f0cfd710>],\n",
       " 'medians': [<matplotlib.lines.Line2D at 0x177f0d05908>],\n",
       " 'fliers': [<matplotlib.lines.Line2D at 0x177f0d05c18>],\n",
       " 'means': []}"
      ]
     },
     "execution_count": 151,
     "metadata": {},
     "output_type": "execute_result"
    },
    {
     "data": {
      "image/png": "[encoded data removed]",
      "text/plain": [
       "<Figure size 432x288 with 1 Axes>"
      ]
     },
     "metadata": {
      "needs_background": "light"
     },
     "output_type": "display_data"
    }
   ],
   "source": [
    "o_tp_notnull = outlier[outlier['ori_fee'].notnull()]\n",
    "o_tp_notnull = o_tp_notnull[o_tp_notnull['branch_code'] == 'TP']\n",
    "o_tp = o_tp_notnull[['ori_fee','distance_to_customer_KM','timeofday','weekend']]\n",
    "\n",
    "\n",
    "X = o_tp[['distance_to_customer_KM','timeofday','weekend']] # here we have 2 variables for multiple regression. If you just want to use one variable for simple linear regression, then use X = df['Interest_Rate'] for example.Alternatively, you may add additional variables within the brackets\n",
    "Y = o_tp['ori_fee']\n",
    "model_o_tp = sm.OLS(Y, X).fit()\n",
    "print(model_o_tp.params)\n",
    "plt.boxplot(model_o_tp.resid)"
   ]
  },
  {
   "cell_type": "markdown",
   "metadata": {},
   "source": [
    "By plotting **_residuals_**, we believe residuals is a good indentifier of outliers. Also, we've obtained the coefficients for different branches. Next thing we want to do is to combine residuals and IQR in order to get more accurate result."
   ]
  },
  {
   "cell_type": "markdown",
   "metadata": {},
   "source": [
    "In order to generate a 'residual' column, we first need to predict delivery_fee based on 'distance', 'time of day', 'weekend or week day', 'branch_code'"
   ]
  },
  {
   "cell_type": "code",
   "execution_count": 152,
   "metadata": {},
   "outputs": [],
   "source": [
    "# train the model of NS_branch with 'distance_to_customer_KM','timeofday','weekend'\n",
    "pred_ns = model_o_ns.predict(outlier[outlier['branch_code'] == 'NS'][['distance_to_customer_KM','timeofday','weekend']])\n",
    "\n",
    "for index, loc in outlier[outlier['branch_code'] == 'NS'].iterrows():\n",
    "    # create 'ori_fee_hat' column that stores the prediction of delivery fee after training the model\n",
    "    outlier.at[index,'ori_fee_hat'] = pred_ns[index]"
   ]
  },
  {
   "cell_type": "code",
   "execution_count": 153,
   "metadata": {},
   "outputs": [],
   "source": [
    "# train the model of TP_branch with 'distance_to_customer_KM','timeofday','weekend'\n",
    "pred_tp = model_o_tp.predict(outlier[outlier['branch_code'] == 'TP'][['distance_to_customer_KM','timeofday','weekend']])\n",
    "\n",
    "for index, loc in outlier[outlier['branch_code'] == 'TP'].iterrows():\n",
    "    # create 'ori_fee_hat' column that stores the prediction of delivery fee after training the model\n",
    "    outlier.at[index,'ori_fee_hat'] = pred_tp[index]"
   ]
  },
  {
   "cell_type": "code",
   "execution_count": 154,
   "metadata": {},
   "outputs": [],
   "source": [
    "# train the model of BK_branch with 'distance_to_customer_KM','timeofday','weekend'\n",
    "pred_bk = model_o_bk.predict(outlier[outlier['branch_code'] == 'BK'][['distance_to_customer_KM','timeofday','weekend']])\n",
    "\n",
    "for index, loc in outlier[outlier['branch_code'] == 'BK'].iterrows():\n",
    "    # create 'ori_fee_hat' column that stores the prediction of delivery fee after training the model\n",
    "    outlier.at[index,'ori_fee_hat'] = pred_bk[index]"
   ]
  },
  {
   "cell_type": "code",
   "execution_count": 155,
   "metadata": {},
   "outputs": [],
   "source": [
    "# generate 'residual' column by subtracting 'ori_fee_hat' from 'ori_fee'\n",
    "outlier['residual'] = outlier['ori_fee_hat']-outlier['ori_fee']"
   ]
  },
  {
   "cell_type": "code",
   "execution_count": 156,
   "metadata": {},
   "outputs": [
    {
     "data": {
      "text/plain": [
       "<matplotlib.axes._subplots.AxesSubplot at 0x177f0c6c5f8>"
      ]
     },
     "execution_count": 156,
     "metadata": {},
     "output_type": "execute_result"
    },
    {
     "data": {
      "image/png": "[encoded data removed]",
      "text/plain": [
       "<Figure size 432x288 with 1 Axes>"
      ]
     },
     "metadata": {
      "needs_background": "light"
     },
     "output_type": "display_data"
    }
   ],
   "source": [
    "# boxplot residual by 'NS' branch\n",
    "outlier[outlier['branch_code']=='NS'].boxplot(column='residual')"
   ]
  },
  {
   "cell_type": "code",
   "execution_count": 157,
   "metadata": {},
   "outputs": [
    {
     "data": {
      "text/plain": [
       "([12, 34, 64, 120, 141, 292, 305, 348, 442, 463],\n",
       " [-6.729857104998011,\n",
       "  6.5960387907594615,\n",
       "  -7.627611904464185,\n",
       "  5.704850465170338,\n",
       "  -8.000763591260448,\n",
       "  -9.155247420138501,\n",
       "  -6.2414296972893535,\n",
       "  15.027604947904273,\n",
       "  -9.663602270872357,\n",
       "  7.903784892943321],\n",
       " 10)"
      ]
     },
     "execution_count": 157,
     "metadata": {},
     "output_type": "execute_result"
    }
   ],
   "source": [
    "# apply iqr_outlier function on residuals by 'NS' branch\n",
    "iqr_outlier(outlier[outlier['branch_code']=='NS'], 'residual')"
   ]
  },
  {
   "cell_type": "markdown",
   "metadata": {},
   "source": [
    "Let us have a look at these rows"
   ]
  },
  {
   "cell_type": "code",
   "execution_count": 161,
   "metadata": {},
   "outputs": [
    {
     "data": {
      "text/html": [
       "<div>\n",
       "<style scoped>\n",
       "    .dataframe tbody tr th:only-of-type {\n",
       "        vertical-align: middle;\n",
       "    }\n",
       "\n",
       "    .dataframe tbody tr th {\n",
       "        vertical-align: top;\n",
       "    }\n",
       "\n",
       "    .dataframe thead th {\n",
       "        text-align: right;\n",
       "    }\n",
       "</style>\n",
       "<table border=\"1\" class=\"dataframe\">\n",
       "  <thead>\n",
       "    <tr style=\"text-align: right;\">\n",
       "      <th></th>\n",
       "      <th>order_id</th>\n",
       "      <th>date</th>\n",
       "      <th>time</th>\n",
       "      <th>order_type</th>\n",
       "      <th>branch_code</th>\n",
       "      <th>order_items</th>\n",
       "      <th>order_price</th>\n",
       "      <th>customer_lat</th>\n",
       "      <th>customer_lon</th>\n",
       "      <th>customerHasloyalty?</th>\n",
       "      <th>distance_to_customer_KM</th>\n",
       "      <th>delivery_fee</th>\n",
       "      <th>ori_fee</th>\n",
       "      <th>weekend</th>\n",
       "      <th>timeofday</th>\n",
       "      <th>ori_fee_hat</th>\n",
       "      <th>residual</th>\n",
       "    </tr>\n",
       "  </thead>\n",
       "  <tbody>\n",
       "    <tr>\n",
       "      <th>12</th>\n",
       "      <td>ORDC09098</td>\n",
       "      <td>2018-11-19</td>\n",
       "      <td>18:38:52</td>\n",
       "      <td>Dinner</td>\n",
       "      <td>NS</td>\n",
       "      <td>[('Pasta', 9), ('Fish&amp;Chips', 6), ('Shrimp', 1...</td>\n",
       "      <td>675.50</td>\n",
       "      <td>-37.814016</td>\n",
       "      <td>144.936078</td>\n",
       "      <td>0</td>\n",
       "      <td>10.107</td>\n",
       "      <td>23.612062</td>\n",
       "      <td>23.612062</td>\n",
       "      <td>0</td>\n",
       "      <td>2</td>\n",
       "      <td>16.882205</td>\n",
       "      <td>-6.729857</td>\n",
       "    </tr>\n",
       "    <tr>\n",
       "      <th>34</th>\n",
       "      <td>ORDZ00473</td>\n",
       "      <td>2018-01-19</td>\n",
       "      <td>08:30:25</td>\n",
       "      <td>Breakfast</td>\n",
       "      <td>NS</td>\n",
       "      <td>[('Pancake', 9), ('Coffee', 8)]</td>\n",
       "      <td>278.25</td>\n",
       "      <td>-37.811549</td>\n",
       "      <td>144.936207</td>\n",
       "      <td>0</td>\n",
       "      <td>10.454</td>\n",
       "      <td>7.840160</td>\n",
       "      <td>7.840160</td>\n",
       "      <td>0</td>\n",
       "      <td>0</td>\n",
       "      <td>14.436199</td>\n",
       "      <td>6.596039</td>\n",
       "    </tr>\n",
       "    <tr>\n",
       "      <th>64</th>\n",
       "      <td>ORDI00446</td>\n",
       "      <td>2018-10-06</td>\n",
       "      <td>17:07:36</td>\n",
       "      <td>Dinner</td>\n",
       "      <td>NS</td>\n",
       "      <td>[('Fish&amp;Chips', 5), ('Salmon', 5)]</td>\n",
       "      <td>380.00</td>\n",
       "      <td>-37.807046</td>\n",
       "      <td>144.962600</td>\n",
       "      <td>0</td>\n",
       "      <td>9.117</td>\n",
       "      <td>26.079956</td>\n",
       "      <td>26.079956</td>\n",
       "      <td>1</td>\n",
       "      <td>2</td>\n",
       "      <td>18.452344</td>\n",
       "      <td>-7.627612</td>\n",
       "    </tr>\n",
       "    <tr>\n",
       "      <th>120</th>\n",
       "      <td>ORDC09902</td>\n",
       "      <td>2018-04-13</td>\n",
       "      <td>11:22:49</td>\n",
       "      <td>Breakfast</td>\n",
       "      <td>NS</td>\n",
       "      <td>[('Pancake', 2), ('Eggs', 3)]</td>\n",
       "      <td>114.50</td>\n",
       "      <td>-37.823810</td>\n",
       "      <td>144.962717</td>\n",
       "      <td>0</td>\n",
       "      <td>9.297</td>\n",
       "      <td>7.133617</td>\n",
       "      <td>7.133617</td>\n",
       "      <td>0</td>\n",
       "      <td>0</td>\n",
       "      <td>12.838468</td>\n",
       "      <td>5.704850</td>\n",
       "    </tr>\n",
       "    <tr>\n",
       "      <th>141</th>\n",
       "      <td>ORDZ01755</td>\n",
       "      <td>2018-05-26</td>\n",
       "      <td>12:43:56</td>\n",
       "      <td>Lunch</td>\n",
       "      <td>NS</td>\n",
       "      <td>[('Chicken', 1), ('Burger', 7)]</td>\n",
       "      <td>249.00</td>\n",
       "      <td>-37.805882</td>\n",
       "      <td>144.955859</td>\n",
       "      <td>0</td>\n",
       "      <td>7.964</td>\n",
       "      <td>23.398307</td>\n",
       "      <td>23.398307</td>\n",
       "      <td>1</td>\n",
       "      <td>1</td>\n",
       "      <td>15.397543</td>\n",
       "      <td>-8.000764</td>\n",
       "    </tr>\n",
       "    <tr>\n",
       "      <th>292</th>\n",
       "      <td>ORDI09648</td>\n",
       "      <td>2018-04-30</td>\n",
       "      <td>11:53:14</td>\n",
       "      <td>Breakfast</td>\n",
       "      <td>NS</td>\n",
       "      <td>[('Coffee', 6), ('Pancake', 4), ('Eggs', 10)]</td>\n",
       "      <td>362.00</td>\n",
       "      <td>-37.817316</td>\n",
       "      <td>144.953188</td>\n",
       "      <td>0</td>\n",
       "      <td>8.996</td>\n",
       "      <td>21.578056</td>\n",
       "      <td>21.578056</td>\n",
       "      <td>0</td>\n",
       "      <td>0</td>\n",
       "      <td>12.422809</td>\n",
       "      <td>-9.155247</td>\n",
       "    </tr>\n",
       "    <tr>\n",
       "      <th>305</th>\n",
       "      <td>ORDZ02913</td>\n",
       "      <td>2018-10-17</td>\n",
       "      <td>17:38:01</td>\n",
       "      <td>Dinner</td>\n",
       "      <td>NS</td>\n",
       "      <td>[('Pasta', 5), ('Shrimp', 6), ('Salmon', 8)]</td>\n",
       "      <td>789.50</td>\n",
       "      <td>-37.801931</td>\n",
       "      <td>144.952312</td>\n",
       "      <td>0</td>\n",
       "      <td>7.890</td>\n",
       "      <td>20.062122</td>\n",
       "      <td>20.062122</td>\n",
       "      <td>0</td>\n",
       "      <td>2</td>\n",
       "      <td>13.820692</td>\n",
       "      <td>-6.241430</td>\n",
       "    </tr>\n",
       "    <tr>\n",
       "      <th>348</th>\n",
       "      <td>ORDC06977</td>\n",
       "      <td>2018-08-14</td>\n",
       "      <td>15:26:11</td>\n",
       "      <td>Lunch</td>\n",
       "      <td>NS</td>\n",
       "      <td>[('Salad', 6), ('Fries', 7), ('Steak', 9), ('C...</td>\n",
       "      <td>973.20</td>\n",
       "      <td>-38.110916</td>\n",
       "      <td>144.654173</td>\n",
       "      <td>0</td>\n",
       "      <td>51.061</td>\n",
       "      <td>56.946444</td>\n",
       "      <td>56.946444</td>\n",
       "      <td>0</td>\n",
       "      <td>1</td>\n",
       "      <td>71.974049</td>\n",
       "      <td>15.027605</td>\n",
       "    </tr>\n",
       "    <tr>\n",
       "      <th>442</th>\n",
       "      <td>ORDI04714</td>\n",
       "      <td>2018-01-07</td>\n",
       "      <td>08:10:08</td>\n",
       "      <td>Breakfast</td>\n",
       "      <td>NS</td>\n",
       "      <td>[('Cereal', 5), ('Pancake', 1)]</td>\n",
       "      <td>129.25</td>\n",
       "      <td>-37.812439</td>\n",
       "      <td>144.936371</td>\n",
       "      <td>1</td>\n",
       "      <td>10.057</td>\n",
       "      <td>13.244415</td>\n",
       "      <td>26.488830</td>\n",
       "      <td>1</td>\n",
       "      <td>0</td>\n",
       "      <td>16.825227</td>\n",
       "      <td>-9.663602</td>\n",
       "    </tr>\n",
       "    <tr>\n",
       "      <th>463</th>\n",
       "      <td>ORDI10115</td>\n",
       "      <td>2018-03-17</td>\n",
       "      <td>10:21:58</td>\n",
       "      <td>Breakfast</td>\n",
       "      <td>NS</td>\n",
       "      <td>[('Cereal', 10), ('Eggs', 8)]</td>\n",
       "      <td>386.00</td>\n",
       "      <td>-37.823358</td>\n",
       "      <td>144.988078</td>\n",
       "      <td>0</td>\n",
       "      <td>9.437</td>\n",
       "      <td>8.065269</td>\n",
       "      <td>8.065269</td>\n",
       "      <td>1</td>\n",
       "      <td>0</td>\n",
       "      <td>15.969053</td>\n",
       "      <td>7.903785</td>\n",
       "    </tr>\n",
       "  </tbody>\n",
       "</table>\n",
       "</div>"
      ],
      "text/plain": [
       "      order_id       date      time order_type branch_code                                        order_items  order_price  customer_lat  customer_lon  customerHasloyalty?  distance_to_customer_KM  delivery_fee    ori_fee  weekend  timeofday  ori_fee_hat   residual\n",
       "12   ORDC09098 2018-11-19  18:38:52     Dinner          NS  [('Pasta', 9), ('Fish&Chips', 6), ('Shrimp', 1...       675.50    -37.814016    144.936078                    0                   10.107     23.612062  23.612062        0          2    16.882205  -6.729857\n",
       "34   ORDZ00473 2018-01-19  08:30:25  Breakfast          NS                    [('Pancake', 9), ('Coffee', 8)]       278.25    -37.811549    144.936207                    0                   10.454      7.840160   7.840160        0          0    14.436199   6.596039\n",
       "64   ORDI00446 2018-10-06  17:07:36     Dinner          NS                 [('Fish&Chips', 5), ('Salmon', 5)]       380.00    -37.807046    144.962600                    0                    9.117     26.079956  26.079956        1          2    18.452344  -7.627612\n",
       "120  ORDC09902 2018-04-13  11:22:49  Breakfast          NS                      [('Pancake', 2), ('Eggs', 3)]       114.50    -37.823810    144.962717                    0                    9.297      7.133617   7.133617        0          0    12.838468   5.704850\n",
       "141  ORDZ01755 2018-05-26  12:43:56      Lunch          NS                    [('Chicken', 1), ('Burger', 7)]       249.00    -37.805882    144.955859                    0                    7.964     23.398307  23.398307        1          1    15.397543  -8.000764\n",
       "292  ORDI09648 2018-04-30  11:53:14  Breakfast          NS      [('Coffee', 6), ('Pancake', 4), ('Eggs', 10)]       362.00    -37.817316    144.953188                    0                    8.996     21.578056  21.578056        0          0    12.422809  -9.155247\n",
       "305  ORDZ02913 2018-10-17  17:38:01     Dinner          NS       [('Pasta', 5), ('Shrimp', 6), ('Salmon', 8)]       789.50    -37.801931    144.952312                    0                    7.890     20.062122  20.062122        0          2    13.820692  -6.241430\n",
       "348  ORDC06977 2018-08-14  15:26:11      Lunch          NS  [('Salad', 6), ('Fries', 7), ('Steak', 9), ('C...       973.20    -38.110916    144.654173                    0                   51.061     56.946444  56.946444        0          1    71.974049  15.027605\n",
       "442  ORDI04714 2018-01-07  08:10:08  Breakfast          NS                    [('Cereal', 5), ('Pancake', 1)]       129.25    -37.812439    144.936371                    1                   10.057     13.244415  26.488830        1          0    16.825227  -9.663602\n",
       "463  ORDI10115 2018-03-17  10:21:58  Breakfast          NS                      [('Cereal', 10), ('Eggs', 8)]       386.00    -37.823358    144.988078                    0                    9.437      8.065269   8.065269        1          0    15.969053   7.903785"
      ]
     },
     "execution_count": 161,
     "metadata": {},
     "output_type": "execute_result"
    }
   ],
   "source": [
    "outlier.iloc[iqr_outlier(outlier[outlier['branch_code']=='NS'], 'residual')[0], :]"
   ]
  },
  {
   "cell_type": "markdown",
   "metadata": {},
   "source": [
    "These 10 rows are derived from residuals and inter quantile range, the value of ori_fee are adjusted by 'branch_code', 'distance_to_customer_KM', 'timeofday', 'weekend or weekday', they are still too far away from most of the dataset, thus we believe these 10 rows are outliers.\n",
    "\n",
    "We want to remove these 10 rows for they are rare and unusual fees on delivery_fee, keeping them will result in bias prediction. The reason behind these occurences of the outliers could be that 'NS' branch is the closest restaurant to these customers but they are still too far from it, or these customers just live really close to the 'NS' branch."
   ]
  },
  {
   "cell_type": "code",
   "execution_count": 162,
   "metadata": {},
   "outputs": [
    {
     "data": {
      "text/plain": [
       "<matplotlib.axes._subplots.AxesSubplot at 0x177f0d8a7b8>"
      ]
     },
     "execution_count": 162,
     "metadata": {},
     "output_type": "execute_result"
    },
    {
     "data": {
      "image/png": "[encoded data removed]",
      "text/plain": [
       "<Figure size 432x288 with 1 Axes>"
      ]
     },
     "metadata": {
      "needs_background": "light"
     },
     "output_type": "display_data"
    }
   ],
   "source": [
    "# boxplot residual by 'TP' branch\n",
    "outlier[outlier['branch_code']=='TP'].boxplot(column='residual')"
   ]
  },
  {
   "cell_type": "code",
   "execution_count": 163,
   "metadata": {},
   "outputs": [
    {
     "data": {
      "text/plain": [
       "([9, 21, 30, 36, 46, 65, 93, 109, 116, 142, 147, 232, 273, 310, 439, 455, 457],\n",
       " [7.763928389373009,\n",
       "  -6.649303716183036,\n",
       "  6.562539220735054,\n",
       "  1.0646395612925303,\n",
       "  8.649282145446866,\n",
       "  5.400291720700875,\n",
       "  7.135379525599475,\n",
       "  4.9982121762684955,\n",
       "  -6.623444574622033,\n",
       "  6.00627040746164,\n",
       "  5.4482756585881935,\n",
       "  1.0508229447402577,\n",
       "  5.310588472224186,\n",
       "  1.517314800861575,\n",
       "  1.0696362040640537,\n",
       "  -6.156096366501558,\n",
       "  1.3463403458442453],\n",
       " 17)"
      ]
     },
     "execution_count": 163,
     "metadata": {},
     "output_type": "execute_result"
    }
   ],
   "source": [
    "# apply iqr_outlier function on residuals by 'TP' branch\n",
    "iqr_outlier(outlier[outlier['branch_code']=='TP'], 'residual')"
   ]
  },
  {
   "cell_type": "markdown",
   "metadata": {},
   "source": [
    "These 17 rows are derived from residuals and inter quantile range, they are adjusted by 'branch_code', 'distance_to_customer_KM', 'timeofday', 'weekend or weekday', they are still too far away from most of the dataset of TP, thus we believe these 17 rows are outliers.\n",
    "\n",
    "We want to remove these 17 rows for they are rare and unusual fees on delivery_fee, keeping them will result in bias prediction. The reason behind these occurences of the outliers could be that 'TP' branch is the closest restaurant to these customers but they are still too far from it, or these customers just live really close to the 'TP' branch."
   ]
  },
  {
   "cell_type": "code",
   "execution_count": 164,
   "metadata": {
    "scrolled": true
   },
   "outputs": [
    {
     "data": {
      "text/plain": [
       "<matplotlib.axes._subplots.AxesSubplot at 0x177f0df6b00>"
      ]
     },
     "execution_count": 164,
     "metadata": {},
     "output_type": "execute_result"
    },
    {
     "data": {
      "image/png": "[encoded data removed]",
      "text/plain": [
       "<Figure size 432x288 with 1 Axes>"
      ]
     },
     "metadata": {
      "needs_background": "light"
     },
     "output_type": "display_data"
    }
   ],
   "source": [
    "# boxplot residual by 'BK' branch\n",
    "outlier[outlier['branch_code']=='BK'].boxplot(column='residual')"
   ]
  },
  {
   "cell_type": "code",
   "execution_count": 165,
   "metadata": {},
   "outputs": [
    {
     "data": {
      "text/plain": [
       "([67, 104, 128, 153, 154, 171, 181, 274, 281, 288, 298, 381, 396, 494],\n",
       " [8.478254415930278,\n",
       "  2.2333711277299884,\n",
       "  2.3175014784141084,\n",
       "  7.559799018620921,\n",
       "  -8.198902198646959,\n",
       "  -7.12188795832914,\n",
       "  -6.7932125052760135,\n",
       "  2.348001925154147,\n",
       "  2.2891614694210425,\n",
       "  2.1948870287747084,\n",
       "  6.98836992481442,\n",
       "  -8.164293307240822,\n",
       "  -7.054869984820881,\n",
       "  -7.760619960978586],\n",
       " 14)"
      ]
     },
     "execution_count": 165,
     "metadata": {},
     "output_type": "execute_result"
    }
   ],
   "source": [
    "# apply iqr_outlier function on residuals by 'BK' branch\n",
    "iqr_outlier(outlier[outlier['branch_code']=='BK'], 'residual')"
   ]
  },
  {
   "cell_type": "markdown",
   "metadata": {},
   "source": [
    "After adjusting 'branch_code', 'distance_to_customer_KM', 'timeofday', 'weekend or weekday', we believe these are the real outliers from the corresponding 'delivery_fee' column.\n",
    "\n",
    "We want to remove these 14 rows for they are rare and unusual fees on delivery_fee, keeping them will result in bias prediction. The reason behind these occurance of the outliers could be that 'BK' branch is the closest restaurant to these customers but they are still too far from it, or these customers just live really close to the 'BK' branch."
   ]
  },
  {
   "cell_type": "markdown",
   "metadata": {},
   "source": [
    "## Generate the output file"
   ]
  },
  {
   "cell_type": "code",
   "execution_count": 166,
   "metadata": {},
   "outputs": [],
   "source": [
    "# obtain the indices of all the outliers\n",
    "ns_outlier = iqr_outlier(outlier[outlier['branch_code']=='NS'], 'residual')[0]\n",
    "tp_outlier = iqr_outlier(outlier[outlier['branch_code']=='TP'], 'residual')[0]\n",
    "bk_outlier = iqr_outlier(outlier[outlier['branch_code']=='BK'], 'residual')[0]\n",
    "\n",
    "# generate a list that stores all indices of outliers, then use set() to keep the unique indices\n",
    "all_outlier = set(ns_outlier + tp_outlier + bk_outlier)"
   ]
  },
  {
   "cell_type": "code",
   "execution_count": 170,
   "metadata": {},
   "outputs": [],
   "source": [
    "# drop outlier rows\n",
    "for item in all_outlier:\n",
    "    outlier = outlier.drop(item,axis=0)\n",
    "\n",
    "# drop extra columns and reset index\n",
    "outlier_output = outlier[org_col]\n",
    "\n",
    "# generate the output file\n",
    "outlier_output.to_csv('Group102_outlier_data_solution.csv')"
   ]
  },
  {
   "cell_type": "markdown",
   "metadata": {},
   "source": [
    "## Summary\n",
    "\n",
    "The assignment was challenging in terms of choosing proper approaches to achieve the goals.\n",
    "For detecting and removing outlier part, some challenges were to identify which column belong to univariate, which ones belong to multi-variate, what approaches to use for detecting outliers respectively. The most challenging part was to figure out the coefficients for multi-variate 'delivery_fee', we finally found `statsmodels.api` and its `predict` method to get the coefficients. \n",
    "\n",
    "Main learning:\n",
    " * StatsModels:\n",
    "   * sm.OLS(y, X).fit()\n",
    "   * model.predict()\n",
    "   * model.resid\n",
    " * networkx:\n",
    "   * nx.Graph()\n",
    "   * nx.shortest_path_length(Graph, u, v, weight)\n",
    "   * nx.Graph().add_nodes_from() # add nodes\n",
    " * np.linalg.solve(a,b)"
   ]
  },
  {
   "cell_type": "markdown",
   "metadata": {},
   "source": [
    "## Reference\n",
    "- Scikit-learn *Machine learning in python* Retrieved from https://scikit-learn.org/stable/\n",
    "- StatsModels *Welcome to Statsmodels’s Documentation* Retrieved from https://www.statsmodels.org/stable/index.html"
   ]
  }
 ],
 "metadata": {
  "kernelspec": {
   "display_name": "Python 3",
   "language": "python",
   "name": "python3"
  },
  "language_info": {
   "codemirror_mode": {
    "name": "ipython",
    "version": 3
   },
   "file_extension": ".py",
   "mimetype": "text/x-python",
   "name": "python",
   "nbconvert_exporter": "python",
   "pygments_lexer": "ipython3",
   "version": "3.7.4"
  }
 },
 "nbformat": 4,
 "nbformat_minor": 2
}
