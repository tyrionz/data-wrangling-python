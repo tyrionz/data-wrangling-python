{
 "cells": [
  {
   "cell_type": "code",
   "execution_count": 48,
   "metadata": {},
   "outputs": [],
   "source": [
    "from urllib.request import urlopen as uReq\n",
    "from bs4 import BeautifulSoup as soup\n",
    "import pandas as pd"
   ]
  },
  {
   "cell_type": "code",
   "execution_count": 4,
   "metadata": {},
   "outputs": [],
   "source": [
    "infile = open(\"secondary-school-ranking.html\",\"r\")\n",
    "contents = infile.read()\n",
    "secondary_schools_soup = soup(contents,'html')"
   ]
  },
  {
   "cell_type": "code",
   "execution_count": 6,
   "metadata": {},
   "outputs": [],
   "source": [
    "li_all = secondary_schools_soup.find_all('li')"
   ]
  },
  {
   "cell_type": "code",
   "execution_count": 13,
   "metadata": {},
   "outputs": [],
   "source": [
    "ul = secondary_schools_soup.find_all('ul')"
   ]
  },
  {
   "cell_type": "code",
   "execution_count": 29,
   "metadata": {},
   "outputs": [],
   "source": [
    "contents = []\n",
    "for content in ul:\n",
    "    contents.append(content.get_text())"
   ]
  },
  {
   "cell_type": "code",
   "execution_count": 32,
   "metadata": {},
   "outputs": [
    {
     "data": {
      "text/plain": [
       "\"\\nAcademy of Mary Immaculate\\n144\\n-28\\n31\\n7.1%\\n\\n\\n\\nAdass Israel School\\n534\\n-1\\nN/A\\nN/A\\n\\n\\n\\nAdvance College of Education\\n535\\n-1\\nN/A\\nN/A\\n\\n\\n\\nAitken College\\n194\\n+32\\n30\\n4.8%\\n\\n\\n\\nAl Siraat College\\n280\\n+172\\n28\\n5.4%\\n\\n\\n\\nAl-Taqwa College\\n400\\n-37\\n26\\n3.8%\\n\\n\\n\\nAlbert Park College\\n131\\n-42\\n31\\n8.6%\\n\\n\\n\\nAlbury Wodonga Comm College\\n536\\n-1\\nN/A\\nN/A\\n\\n\\n\\nAlexandra Secondary College\\n481\\n+2\\n24\\n4.2%\\n\\n\\n\\nAlia College\\n500\\n-3\\n24\\n0%\\n\\n\\n\\nAlice Miller School\\n127\\n+126\\n31\\n9.6%\\n\\n\\n\\nAlkira Secondary College\\n328\\n+40\\n28\\n1.8%\\n\\n\\n\\nAlphington Grammar School\\n86\\n-1\\n32\\n12.1%\\n\\n\\n\\nAntonine College\\n482\\n-68\\n24\\n3.7%\\n\\n\\n\\nApollo Bay P-12 College\\n18\\n+64\\n36\\n21.4%\\n\\n\\n\\nAquinas College\\n151\\n+26\\n31\\n6.5%\\n\\n\\n\\nArarat Secondary College\\n486\\n-49\\n24\\n1.5%\\n\\n\\n\\nAshwood High School\\n241\\n-1\\n29\\n3.9%\\n\\n\\n\\nAssumption College\\n301\\n+24\\n28\\n3.8%\\n\\n\\n\\nAuburn High School\\n167\\n+209\\n30\\n8.6%\\n\\n\\n\\nAustralian Internatl Academy\\n501\\n-312\\n24\\n0%\\n\\n\\n\\nAve Maria College\\n111\\n+23\\n32\\n8.1%\\n\\n\\n\\nAvila College\\n102\\n+2\\n32\\n9.1%\\n\\n\\n\\nBacchus Marsh College\\n496\\n+2\\n24\\n0.4%\\n\\n\\n\\nBacchus Marsh Grammar\\n147\\n-28\\n31\\n6.7%\\n\\n\\n\\nBaimbridge College\\n452\\n-13\\n25\\n3.4%\\n\\n\\n\\nBairnsdale Secondary College\\n513\\n-22\\n23\\n0.7%\\n\\n\\n\\nBalcombe Grammar School\\n156\\n-3\\n31\\n4.7%\\n\\n\\n\\nBallarat Christian College\\n408\\n-165\\n26\\n3%\\n\\n\\n\\nBallarat Clarendon College\\n12\\n-8\\n36\\n27.5%\\n\\n\\n\\nBallarat Grammar\\n84\\n+9\\n32\\n12.4%\\n\\n\\n\\nBallarat High School\\n266\\n+33\\n29\\n2.3%\\n\\n\\n\\nBallarat SC - Mount Rowan\\n442\\n+67\\n26\\n0%\\n\\n\\n\\nBallarat SC - Woodmans Hill\\n488\\n-148\\n24\\n1.3%\\n\\n\\n\\nBalwyn High School\\n44\\n-1\\n34\\n19.3%\\n\\n\\n\\nBayside Christian College\\n242\\n-36\\n29\\n3.9%\\n\\n\\n\\nBayside P-12 College\\n243\\n+76\\n29\\n3.9%\\n\\n\\n\\nBayswater Secondary College\\n526\\n-6\\n22\\n0%\\n\\n\\n\\nBayview College\\n251\\n+14\\n29\\n3.2%\\n\\n\\n\\nBeaconhills College\\n152\\n-8\\n31\\n6.4%\\n\\n\\n\\nBeaconhills College\\n186\\n-34\\n30\\n5.4%\\n\\n\\n\\nBeaufort Secondary College\\n391\\n-34\\n27\\n0%\\n\\n\\n\\nBeechworth Secondary College\\n457\\n-120\\n25\\n2.2%\\n\\n\\n\\nBelgrave Heights Christian Schl\\n255\\n-84\\n29\\n3%\\n\\n\\n\\nBellarine Secondary College\\n421\\n-37\\n26\\n1.7%\\n\\n\\n\\nBelmont High School\\n343\\n-56\\n27\\n5.3%\\n\\n\\n\\nBenalla P-12 College\\n512\\n-2\\n23\\n1.4%\\n\\n\\n\\nBendigo Senior Sec College\\n375\\n+17\\n27\\n2.1%\\n\\n\\n\\nBendigo TAFE\\n537\\n-1\\nN/A\\nN/A\\n\\n\\n\\nBentleigh Secondary College\\n230\\n+39\\n29\\n4.8%\\n\\n\\n\\nBerry Street Victoria\\n538\\n-1\\nN/A\\nN/A\\n\\n\\n\\nBerwick Grammar School\\n75\\n+52\\n33\\n10.9%\\n\\n\\n\\nBerwick Secondary College\\n245\\n-13\\n29\\n3.8%\\n\\n\\n\\nBeth Rivkah Ladies College\\n36\\n+3\\n35\\n18.4%\\n\\n\\n\\nBialik College\\n1\\n+2\\n38\\n40.2%\\n\\n\\n\\nBillanook College\\n122\\n+10\\n31\\n10.6%\\n\\n\\n\\nBirchip P-12 School\\n274\\n-16\\n28\\n8.9%\\n\\n\\n\\nBlackburn High School\\n216\\n-44\\n29\\n6.5%\\n\\n\\n\\nBoort District P-12 School\\n208\\n-18\\n30\\n3.1%\\n\\n\\n\\nBoronia K-12 College\\n473\\n+30\\n25\\n0%\\n\\n\\n\\nBox Hill High School\\n56\\n+10\\n34\\n16.1%\\n\\n\\n\\nBox Hill Institute\\n539\\n-1\\nN/A\\nN/A\\n\\n\\n\\nBox Hill Senior Sec College\\n416\\n+50\\n26\\n1.9%\\n\\n\\n\\nBraemar College\\n71\\n+6\\n33\\n12.4%\\n\\n\\n\\nBrauer College\\n382\\n-94\\n27\\n1.7%\\n\\n\\n\\nBraybrook College\\n139\\n+39\\n31\\n7.3%\\n\\n\\n\\nBrentwood Secondary College\\n168\\n-17\\n30\\n8.3%\\n\\n\\n\\nBright P-12 College\\n203\\n+166\\n30\\n4%\\n\\n\\n\\nBrighton Grammar School\\n46\\n-1\\n34\\n18.3%\\n\\n\\n\\nBrighton Secondary College\\n213\\n-32\\n29\\n6.7%\\n\\n\\n\\nBroadford Secondary College\\n417\\n+40\\n26\\n1.9%\\n\\n\\n\\nBrunswick Secondary College\\n211\\n-38\\n29\\n7.5%\\n\\n\\n\\nBuckley Park College\\n123\\n+6\\n31\\n10%\\n\\n\\n\\nBundoora Secondary College\\n531\\n-13\\n20\\n0.8%\\n\\n\\n\\nCamberwell Anglican Girls GS\\n11\\n+3\\n36\\n27.6%\\n\\n\\n\\nCamberwell Grammar School\\n26\\n+4\\n35\\n23.4%\\n\\n\\n\\nCamberwell High School\\n112\\n-12\\n32\\n8%\\n\\n\\n\\nCamperdown College\\n392\\n-183\\n27\\n0%\\n\\n\\n\\nCann River P-12 College\\n540\\n-29\\nN/A\\nN/A\\n\\n\\n\\nCanterbury Girls Sec College\\n91\\n-5\\n32\\n11.2%\\n\\n\\n\\nCarey Baptist Grammar School\\n68\\n+12\\n33\\n14.6%\\n\\n\\n\\nCaroline Chisholm Catholic Coll\\n235\\n-44\\n29\\n4.3%\\n\\n\\n\\nCarrum Downs Sec College\\n469\\n-2\\n25\\n0.6%\\n\\n\\n\\nCarwatha College P-12\\n418\\n+54\\n26\\n1.9%\\n\\n\\n\\nCasey Grammar School\\n197\\n+175\\n30\\n4.6%\\n\\n\\n\\nCasterton Secondary College\\n89\\n-28\\n32\\n11.5%\\n\\n\\n\\nCastlemaine Secondary College\\n295\\n+127\\n28\\n4.1%\\n\\n\\n\\nCathedral College\\n214\\n+19\\n29\\n6.6%\\n\\n\\n\\nCatherine McAuley College\\n217\\nN/A\\n29\\n6.5%\\n\\n\\n\\nCatholic College Sale\\n212\\n-49\\n29\\n7.1%\\n\\n\\n\\nCatholic College Wodonga\\n308\\n-42\\n28\\n3.4%\\n\\n\\n\\nCatholic Ladies College\\n103\\n+51\\n32\\n9.1%\\n\\n\\n\\nCatholic Regional College\\n236\\n-36\\n29\\n4.3%\\n\\n\\n\\nCatholic Regional College\\n271\\n+57\\n29\\n1.4%\\n\\n\\n\\nCatholic Regional College\\n541\\nN/A\\nN/A\\nN/A\\n\\n\\n\\nCatholic Regional College\\n542\\nN/A\\nN/A\\nN/A\\n\\n\\n\\nCatholic Regional College\\n543\\n-4\\nN/A\\nN/A\\n\\n\\n\\nCaulfield Grammar School\\n24\\n+17\\n35\\n24%\\n\\n\\n\\nCaulfield Grammar School\\n39\\n-11\\n34\\n22.8%\\n\\n\\n\\nCentre for Adult Education\\n463\\n-4\\n25\\n1.2%\\n\\n\\n\\nChaffey Secondary College\\n544\\n-4\\nN/A\\nN/A\\n\\n\\n\\nChairo Christian School\\n220\\n+24\\n29\\n5.8%\\n\\n\\n\\nCharles La Trobe P-12 College\\n465\\n-60\\n25\\n1%\\n\\n\\n\\nCharles La Trobe P-12 College\\n545\\n-4\\nN/A\\nN/A\\n\\n\\n\\nCharlton College\\n132\\n-25\\n31\\n8.6%\\n\\n\\n\\nCheltenham Secondary College\\n285\\n-61\\n28\\n4.6%\\n\\n\\n\\nChisholm Institute\\n493\\n-13\\n24\\n0.7%\\n\\n\\n\\nChisholm Institute of TAFE\\n532\\n-4\\n20\\n0.6%\\n\\n\\n\\nChristian Brothers' College\\n148\\n+44\\n31\\n6.7%\\n\\n\\n\\nChristian College Institute\\n114\\n+14\\n32\\n7.8%\\n\\n\\n\\nCire Community School\\n546\\n-4\\nN/A\\nN/A\\n\\n\\n\\nClonard College\\n140\\n+53\\n31\\n7.3%\\n\\n\\n\\nCobden Technical School\\n502\\n+19\\n24\\n0%\\n\\n\\n\\nCobram Anglican Grammar School\\n450\\n-33\\n25\\n4.5%\\n\\n\\n\\nCobram Secondary College\\n398\\n-21\\n26\\n7%\\n\\n\\n\\nCoburg High School\\n79\\n+87\\n33\\n3.3%\\n\\n\\n\\nCohuna Secondary College\\n282\\n+73\\n28\\n5.2%\\n\\n\\n\\nColac Secondary College\\n517\\n-5\\n23\\n0.5%\\n\\n\\n\\nCollingwood College\\n359\\n+57\\n27\\n3%\\n\\n\\n\\nCopperfield College\\n302\\n-22\\n28\\n3.8%\\n\\n\\n\\nCornish College\\n176\\n+71\\n30\\n7%\\n\\n\\n\\nCorryong College\\n320\\n-42\\n28\\n2.5%\\n\\n\\n\\nCovenant College\\n128\\n+15\\n31\\n9.5%\\n\\n\\n\\nCraigieburn Secondary College\\n497\\n-71\\n24\\n0.4%\\n\\n\\n\\nCranbourne East Sec College\\n260\\n+55\\n29\\n2.7%\\n\\n\\n\\nCranbourne Secondary College\\n381\\n-77\\n27\\n1.8%\\n\\n\\n\\nCroydon Community School\\n547\\n-4\\nN/A\\nN/A\\n\\n\\n\\nDamascus College\\n340\\n-51\\n27\\n5.9%\\n\\n\\n\\nDandenong High School\\n514\\n-19\\n23\\n0.7%\\n\\n\\n\\nDarul Ulum College of Victoria\\n261\\n+137\\n29\\n2.7%\\n\\n\\n\\nDaylesford Secondary College\\n352\\n+91\\n27\\n3.6%\\n\\n\\n\\nDe La Salle College\\n115\\n+64\\n32\\n7.2%\\n\\n\\n\\nDerrinallum P12 College\\n332\\n-120\\n28\\n0%\\n\\n\\n\\nDiamond Valley College\\n358\\n+37\\n27\\n3.2%\\n\\n\\n\\nDiamond Valley Learn Centre\\n548\\n-4\\nN/A\\nN/A\\n\\n\\n\\nDimboola Memorial Sec College\\n161\\n-101\\n31\\n0%\\n\\n\\n\\nDistance Education Victoria\\n275\\n+25\\n28\\n7.4%\\n\\n\\n\\nDiversitat\\n549\\n-4\\nN/A\\nN/A\\n\\n\\n\\nDjerriwarrh Emp. & Edu. Servic.\\n550\\n-4\\nN/A\\nN/A\\n\\n\\n\\nDonald High School\\n303\\n+18\\n28\\n3.8%\\n\\n\\n\\nDoncaster Secondary College\\n225\\n+13\\n29\\n5.3%\\n\\n\\n\\nDonvale Christian College\\n74\\n+5\\n33\\n11.1%\\n\\n\\n\\nDromana Secondary College\\n195\\n-84\\n30\\n4.8%\\n\\n\\n\\nDrouin Secondary College\\n314\\n+71\\n28\\n3%\\n\\n\\n\\nEast Doncaster Sec College\\n105\\n-14\\n32\\n9%\\n\\n\\n\\nEast Loddon P-12 College\\n160\\n+50\\n31\\n1.9%\\n\\n\\n\\nEast Preston Islamic College\\n491\\n+8\\n24\\n0.9%\\n\\n\\n\\nEchuca College\\n427\\n-4\\n26\\n1.3%\\n\\n\\n\\nEdenhope College\\n474\\n-191\\n25\\n0%\\n\\n\\n\\nEdinburgh College\\n200\\n-50\\n30\\n4.2%\\n\\n\\n\\nEducation Centre Gippsland\\n551\\n-4\\nN/A\\nN/A\\n\\n\\n\\nElisabeth Murdoch College\\n296\\n+64\\n28\\n4.1%\\n\\n\\n\\nEltham College\\n64\\n+20\\n33\\n15.3%\\n\\n\\n\\nEltham High School\\n279\\n-43\\n28\\n5.5%\\n\\n\\n\\nElwood College\\n175\\n-6\\n30\\n7.4%\\n\\n\\n\\nEmerald Secondary College\\n276\\n+34\\n28\\n7.3%\\n\\n\\n\\nEmmanuel College\\n180\\n+87\\n30\\n5.9%\\n\\n\\n\\nEmmanuel College\\n289\\n+69\\n28\\n4.3%\\n\\n\\n\\nEmmaus College\\n142\\n+40\\n31\\n7.2%\\n\\n\\n\\nEpping Secondary College\\n309\\n-7\\n28\\n3.4%\\n\\n\\n\\nEssendon Keilor College\\n460\\n+4\\n25\\n1.8%\\n\\n\\n\\nEuroa Secondary College\\n485\\n-72\\n24\\n1.7%\\n\\n\\n\\nF.C.J. College\\n324\\n-19\\n28\\n2.1%\\n\\n\\n\\nFairhills High School\\n406\\n-26\\n26\\n3.2%\\n\\n\\n\\nFederation Training\\n503\\n+19\\n24\\n0%\\n\\n\\n\\nFederation University Australia\\n552\\n-4\\nN/A\\nN/A\\n\\n\\n\\nFintona Girls School\\n9\\n+25\\n36\\n29.8%\\n\\n\\n\\nFirbank Grammar School\\n29\\n0\\n35\\n22.7%\\n\\n\\n\\nFitzroy High School\\n248\\n-52\\n29\\n3.5%\\n\\n\\n\\nFlinders Christian Comm College\\n149\\n-36\\n31\\n6.6%\\n\\n\\n\\nFlinders Christian Comm College\\n188\\n+53\\n30\\n5.3%\\n\\n\\n\\nFootscray City College\\n166\\n+82\\n30\\n9.1%\\n\\n\\n\\nForest Hill College\\n409\\n+51\\n26\\n2.6%\\n\\n\\n\\nFoster Secondary College\\n456\\n-97\\n25\\n2.5%\\n\\n\\n\\nFountain Gate Sec College\\n384\\n-51\\n27\\n1.5%\\n\\n\\n\\nFrankston High School\\n87\\n+38\\n32\\n11.8%\\n\\n\\n\\nGalen College\\n268\\n-69\\n29\\n1.9%\\n\\n\\n\\nGeelong Baptist College\\n475\\n-63\\n25\\n0%\\n\\n\\n\\nGeelong Grammar School\\n146\\n-9\\n31\\n6.9%\\n\\n\\n\\nGeelong High School\\n411\\n+58\\n26\\n2.4%\\n\\n\\n\\nGeelong Lutheran College\\n263\\n-18\\n29\\n2.6%\\n\\n\\n\\nGenazzano F.C.J. College\\n33\\n+2\\n35\\n20.5%\\n\\n\\n\\nGilmore College For Girls\\n387\\n-170\\n27\\n1.2%\\n\\n\\n\\nGilson College\\n283\\n+78\\n28\\n4.9%\\n\\n\\n\\nGippsland Grammar\\n141\\n-49\\n31\\n7.3%\\n\\n\\n\\nGirton Grammar School\\n88\\n-35\\n32\\n11.6%\\n\\n\\n\\nGisborne Secondary College\\n370\\n+54\\n27\\n2.4%\\n\\n\\n\\nGladstone Park Sec College\\n290\\n-41\\n28\\n4.3%\\n\\n\\n\\nGlen Eira College\\n215\\n+24\\n29\\n6.6%\\n\\n\\n\\nGlen Waverley Sec College\\n66\\n-2\\n33\\n15%\\n\\n\\n\\nGleneagles Secondary College\\n221\\n+95\\n29\\n5.8%\\n\\n\\n\\nGlenroy Neighbourhood Centre\\n553\\n-4\\nN/A\\nN/A\\n\\n\\n\\nGlenroy Secondary College\\n511\\n+6\\n23\\n2.2%\\n\\n\\n\\nGlenvale School\\n97\\n-10\\n32\\n10.3%\\n\\n\\n\\nGood News Lutheran College\\n520\\n-43\\n22\\n3.4%\\n\\n\\n\\nGood Shepherd College\\n247\\n-46\\n29\\n3.6%\\n\\n\\n\\nGordon Institute of TAFE\\n527\\n-27\\n22\\n0%\\n\\n\\n\\nGoroke P-12 College\\n333\\n-115\\n28\\n0%\\n\\n\\n\\nGoulburn Ovens Inst of TAFE\\n554\\n-3\\nN/A\\nN/A\\n\\n\\n\\nGoulburn Valley Grammar Schl\\n41\\n+10\\n34\\n22%\\n\\n\\n\\nGreensborough Sec College\\n341\\n-29\\n27\\n5.8%\\n\\n\\n\\nGrovedale College\\n401\\n-50\\n26\\n3.8%\\n\\n\\n\\nHaileybury College\\n25\\n+2\\n35\\n23.5%\\n\\n\\n\\nHaileybury Girls College\\n8\\n+2\\n36\\n30.1%\\n\\n\\n\\nHaileybury Rendall School\\n60\\nN/A\\n33\\n18.2%\\n\\n\\n\\nHallam Senior Sec College\\n525\\n+4\\n22\\n0.4%\\n\\n\\n\\nHampton Park Sec College\\n437\\n+38\\n26\\n0.8%\\n\\n\\n\\nHawkesdale College\\n393\\n+88\\n27\\n0%\\n\\n\\n\\nHealesville High School\\n453\\n+33\\n25\\n3%\\n\\n\\n\\nHeathdale Christian College\\n223\\n-3\\n29\\n5.7%\\n\\n\\n\\nHeatherton Christian College\\n226\\n-111\\n29\\n5.3%\\n\\n\\n\\nHeathmont College\\n433\\n-126\\n26\\n0.9%\\n\\n\\n\\nHeritage College\\n252\\n+169\\n29\\n3.2%\\n\\n\\n\\nHester Hornbrook Academy\\n555\\n-3\\nN/A\\nN/A\\n\\n\\n\\nHeywood & District Sec College\\n504\\n+12\\n24\\n0%\\n\\n\\n\\nHighvale Secondary College\\n138\\n+117\\n31\\n7.8%\\n\\n\\n\\nHighview Christian Comm College\\n204\\n+144\\n30\\n3.8%\\n\\n\\n\\nHillcrest Christian College\\n240\\n-19\\n29\\n4.1%\\n\\n\\n\\nHolmes Secondary College\\n277\\n+167\\n28\\n6.5%\\n\\n\\n\\nHolmesglen Institute of TAFE\\n556\\n-2\\nN/A\\nN/A\\n\\n\\n\\nHolmesglen Institute of TAFE\\n557\\n-4\\nN/A\\nN/A\\n\\n\\n\\nHoly Trinity Lutheran College\\n80\\nN/A\\n33\\n0%\\n\\n\\n\\nHopetoun P-12 College\\n322\\n+84\\n28\\n2.3%\\n\\n\\n\\nHoppers Crossing Sec College\\n351\\n-60\\n27\\n3.7%\\n\\n\\n\\nHorsham College\\n181\\n+41\\n30\\n5.7%\\n\\n\\n\\nHume Anglican Grammar\\n286\\n+38\\n28\\n4.4%\\n\\n\\n\\nHume Central Sec College\\n404\\n+100\\n26\\n3.6%\\n\\n\\n\\nHuntingtower School\\n3\\n+3\\n37\\n33.9%\\n\\n\\n\\nIlim College\\n311\\n-96\\n28\\n3.2%\\n\\n\\n\\nIlim College Boys Campus\\n390\\n-89\\n27\\n0.6%\\n\\n\\n\\nIslamic College of Melbourne\\n414\\nN/A\\n26\\n2.2%\\n\\n\\n\\nIvanhoe Girls' Grammar School\\n49\\n-1\\n34\\n17.7%\\n\\n\\n\\nIvanhoe Grammar School\\n57\\n+16\\n34\\n15.5%\\n\\n\\n\\nIvanhoe Grammar School\\n72\\n-18\\n33\\n11.6%\\n\\n\\n\\nJohn Fawkner College\\n515\\n-54\\n23\\n0.6%\\n\\n\\n\\nJohn Monash Science School\\n59\\n-7\\n34\\n14.7%\\n\\n\\n\\nJohn Paul College\\n291\\n+17\\n28\\n4.2%\\n\\n\\n\\nKambrya College\\n253\\n-48\\n29\\n3.1%\\n\\n\\n\\nKangan Institute of TAFE\\n533\\n-1\\n19\\n0%\\n\\n\\n\\nKaniva P-12 College\\n334\\n-139\\n28\\n0%\\n\\n\\n\\nKardinia Internatl College\\n117\\n+5\\n31\\n12.7%\\n\\n\\n\\nKeilor Downs College\\n172\\n+56\\n30\\n7.6%\\n\\n\\n\\nKensington Comm High School\\n558\\n-3\\nN/A\\nN/A\\n\\n\\n\\nKerang Christian College\\n505\\n-98\\n24\\n0%\\n\\n\\n\\nKerang Technical High School\\n443\\n-23\\n26\\n0%\\n\\n\\n\\nKew High School\\n124\\n+43\\n31\\n10%\\n\\n\\n\\nKeysborough SC - Acacia\\n306\\n+72\\n28\\n3.7%\\n\\n\\n\\nKeysborough SC - Banksia\\n407\\n-94\\n26\\n3.1%\\n\\n\\n\\nKilbreda College\\n145\\n+25\\n31\\n7.1%\\n\\n\\n\\nKillester College\\n182\\n-36\\n30\\n5.7%\\n\\n\\n\\nKilvington Grammar School\\n37\\n-4\\n35\\n18.2%\\n\\n\\n\\nKings College\\n292\\n-147\\n28\\n4.2%\\n\\n\\n\\nKingswood College\\n106\\n+2\\n32\\n8.9%\\n\\n\\n\\nKolbe Catholic College\\n430\\n-3\\n26\\n1.2%\\n\\n\\n\\nKoo Wee Rup Sec College\\n264\\n+71\\n29\\n2.5%\\n\\n\\n\\nKoonung Secondary College\\n94\\n+36\\n32\\n10.8%\\n\\n\\n\\nKorowa Anglican Girls' School\\n13\\n-6\\n36\\n27.5%\\n\\n\\n\\nKorumburra Sec College\\n342\\n+150\\n27\\n5.5%\\n\\n\\n\\nKurnai College\\n363\\n+38\\n27\\n2.8%\\n\\n\\n\\nKurunjang Secondary College\\n506\\n+13\\n24\\n0%\\n\\n\\n\\nKyabram P-12 College\\n454\\n+42\\n25\\n2.7%\\n\\n\\n\\nKyneton Secondary College\\n428\\n-49\\n26\\n1.3%\\n\\n\\n\\nLakes Entrance Sec College\\n487\\n-153\\n24\\n1.4%\\n\\n\\n\\nLakeside Lutheran College\\n438\\n-97\\n26\\n0.6%\\n\\n\\n\\nLakeview Senior College\\n297\\n+14\\n28\\n4%\\n\\n\\n\\nLalor North Sec College\\n518\\n-87\\n23\\n0%\\n\\n\\n\\nLalor Secondary College\\n378\\n-107\\n27\\n1.9%\\n\\n\\n\\nLara Secondary College\\n476\\n+31\\n25\\n0%\\n\\n\\n\\nLauriston Girls School\\n19\\n+6\\n35\\n26.2%\\n\\n\\n\\nLavalla Catholic College\\n281\\n+81\\n28\\n5.3%\\n\\n\\n\\nLavers Hill K-12 College\\n272\\n+173\\n29\\n0%\\n\\n\\n\\nLaverton P-12 College\\n516\\n-8\\n23\\n0.6%\\n\\n\\n\\nLeibler Yavneh College\\n28\\n-2\\n35\\n22.8%\\n\\n\\n\\nLeongatha Secondary College\\n462\\n-116\\n25\\n1.6%\\n\\n\\n\\nLighthouse Christian College\\n184\\n+68\\n30\\n5.6%\\n\\n\\n\\nLighthouse Christian College\\n222\\n-60\\n29\\n5.8%\\n\\n\\n\\nLilydale Heights College\\n498\\n-62\\n24\\n0.4%\\n\\n\\n\\nLilydale High School\\n315\\n-6\\n28\\n3%\\n\\n\\n\\nLittle Yarra Steiner School\\n77\\n+82\\n33\\n4.8%\\n\\n\\n\\nLoreto College\\n155\\n-8\\n31\\n5.8%\\n\\n\\n\\nLoreto Mandeville Hall\\n15\\n0\\n36\\n26.7%\\n\\n\\n\\nLorne P-12 College\\n335\\n+73\\n28\\n0%\\n\\n\\n\\nLowanna College\\n470\\n+53\\n25\\n0.4%\\n\\n\\n\\nLowther Hall Anglican GS\\n40\\n-18\\n34\\n22.2%\\n\\n\\n\\nLoyola College\\n206\\n-3\\n30\\n3.7%\\n\\n\\n\\nLuther College\\n83\\n+19\\n32\\n12.5%\\n\\n\\n\\nLynall Hall Community School\\n559\\n-2\\nN/A\\nN/A\\n\\n\\n\\nLyndale Secondary College\\n419\\n0\\n26\\n1.8%\\n\\n\\n\\nLyndhurst Secondary College\\n389\\n+59\\n27\\n0.8%\\n\\n\\n\\nMac.Robertson Girls' High Schl\\n4\\n-3\\n37\\n32.5%\\n\\n\\n\\nMacKillop Catholic Reg College\\n265\\n-61\\n29\\n2.4%\\n\\n\\n\\nMacleod College\\n459\\n-6\\n25\\n2%\\n\\n\\n\\nMaffra Secondary College\\n399\\n+26\\n26\\n4.2%\\n\\n\\n\\nMallacoota P-12 College\\n163\\n+246\\n30\\n12.5%\\n\\n\\n\\nManangatang P-12 College\\n449\\n-82\\n25\\n10%\\n\\n\\n\\nManor Lakes P-12 College\\n420\\n-46\\n26\\n1.8%\\n\\n\\n\\nMansfield Secondary College\\n394\\n+9\\n27\\n0%\\n\\n\\n\\nMaranatha Christian School\\n177\\n-38\\n30\\n6.7%\\n\\n\\n\\nMarcellin College\\n169\\n-1\\n30\\n8.1%\\n\\n\\n\\nMarian College Ararat\\n402\\n-46\\n26\\n3.8%\\n\\n\\n\\nMarian College Myrtleford\\n386\\n+24\\n27\\n1.3%\\n\\n\\n\\nMarian College Sunshine\\n317\\n-57\\n28\\n2.9%\\n\\n\\n\\nMaribyrnong Sec College\\n192\\n+38\\n30\\n4.9%\\n\\n\\n\\nMarist - Sion College\\n267\\n-40\\n29\\n2.2%\\n\\n\\n\\nMarist College Bendigo\\n205\\nN/A\\n30\\n3.8%\\n\\n\\n\\nMary MacKillop Catholic College\\n310\\n-116\\n28\\n3.4%\\n\\n\\n\\nMaryborough Education Centre\\n471\\n+17\\n25\\n0.4%\\n\\n\\n\\nMarymede Catholic College\\n231\\n-34\\n29\\n4.8%\\n\\n\\n\\nMater Christi College\\n113\\n-18\\n32\\n7.9%\\n\\n\\n\\nMatthew Flinders Girls' SC\\n293\\n+136\\n28\\n4.2%\\n\\n\\n\\nMazenod College\\n82\\n+14\\n32\\n12.7%\\n\\n\\n\\nMcClelland Secondary College\\n355\\n-92\\n27\\n3.4%\\n\\n\\n\\nMcGuire College\\n524\\n-42\\n22\\n0.7%\\n\\n\\n\\nMcKinnon Secondary College\\n48\\n+15\\n34\\n17.8%\\n\\n\\n\\nMelba College\\n367\\n-70\\n27\\n2.5%\\n\\n\\n\\nMelbourne Girls Grammar\\n21\\n-10\\n35\\n25.1%\\n\\n\\n\\nMelbourne Girls' College\\n61\\n+10\\n33\\n18.2%\\n\\n\\n\\nMelbourne Grammar School\\n14\\n+28\\n36\\n27.5%\\n\\n\\n\\nMelbourne High School\\n2\\n+7\\n37\\n34.2%\\n\\n\\n\\nMelbourne Polytechnic\\n560\\n-2\\nN/A\\nN/A\\n\\n\\n\\nMelbourne Rudolf Steiner Schl\\n193\\n-45\\n30\\n4.9%\\n\\n\\n\\nMelton Christian College\\n412\\n+26\\n26\\n2.4%\\n\\n\\n\\nMelton Secondary College\\n318\\n+36\\n28\\n2.8%\\n\\n\\n\\nMentone Girls' Grammar School\\n42\\n+2\\n34\\n21.5%\\n\\n\\n\\nMentone Girls' Sec College\\n121\\n+5\\n31\\n11.1%\\n\\n\\n\\nMentone Grammar School\\n34\\n+2\\n35\\n20.5%\\n\\n\\n\\nMercy College\\n349\\n-88\\n27\\n4%\\n\\n\\n\\nMercy Regional College\\n323\\n+8\\n28\\n2.2%\\n\\n\\n\\nMerinda Park Learning Centre\\n561\\n-2\\nN/A\\nN/A\\n\\n\\n\\nMethodist Ladies College\\n17\\n-4\\n36\\n26%\\n\\n\\n\\nMildura Senior College\\n372\\n+15\\n27\\n2.3%\\n\\n\\n\\nMill Park Secondary College\\n484\\n-30\\n24\\n1.8%\\n\\n\\n\\nMinaret College\\n287\\n+63\\n28\\n4.4%\\n\\n\\n\\nMinaret College\\n466\\n+7\\n25\\n0.9%\\n\\n\\n\\nMirboo North Sec College\\n158\\n+124\\n31\\n4.3%\\n\\n\\n\\nMonbulk College\\n356\\n-125\\n27\\n3.3%\\n\\n\\n\\nMonivae College\\n257\\n+18\\n29\\n2.8%\\n\\n\\n\\nMonterey Secondary College\\n507\\n+17\\n24\\n0%\\n\\n\\n\\nMontmorency Sec College\\n201\\n+28\\n30\\n4.2%\\n\\n\\n\\nMooroolbark College\\n379\\n-4\\n27\\n1.9%\\n\\n\\n\\nMooroopna Secondary College\\n444\\n+62\\n26\\n0%\\n\\n\\n\\nMordialloc College\\n164\\n+183\\n30\\n9.8%\\n\\n\\n\\nMornington Secondary College\\n383\\n+17\\n27\\n1.6%\\n\\n\\n\\nMortlake College\\n258\\n-186\\n29\\n2.8%\\n\\n\\n\\nMount Alexander 7-12 Coll\\n348\\n+86\\n27\\n4.2%\\n\\n\\n\\nMount Beauty Sec College\\n325\\n+63\\n28\\n2%\\n\\n\\n\\nMount Clear College\\n425\\n+62\\n26\\n1.4%\\n\\n\\n\\nMount Eliza Sec College\\n256\\n+40\\n29\\n3%\\n\\n\\n\\nMount Erin College\\n329\\n+73\\n28\\n1.6%\\n\\n\\n\\nMount Evelyn Christian School\\n227\\n-39\\n29\\n5.2%\\n\\n\\n\\nMount Lilydale Mercy College\\n321\\n-71\\n28\\n2.5%\\n\\n\\n\\nMount Ridley P-12 College\\n432\\n+23\\n26\\n1.1%\\n\\n\\n\\nMount Scopus Memorial College\\n10\\n-8\\n36\\n29.1%\\n\\n\\n\\nMount St Joseph Girls' College\\n119\\n+23\\n31\\n11.5%\\n\\n\\n\\nMount Waverley Sec College\\n143\\n+41\\n31\\n7.2%\\n\\n\\n\\nMountain District Christian SC\\n373\\n-165\\n27\\n2.3%\\n\\n\\n\\nMountain District Learn Centre\\n562\\n-2\\nN/A\\nN/A\\n\\n\\n\\nMt Hira College\\n344\\n+42\\n27\\n5%\\n\\n\\n\\nMullauna College\\n190\\n-55\\n30\\n5.2%\\n\\n\\n\\nMurrayville Community College\\n78\\n+3\\n33\\n4.8%\\n\\n\\n\\nMurtoa P-12 College\\n210\\n+113\\n29\\n8.9%\\n\\n\\n\\nMyrtleford P-12 College\\n508\\n-76\\n24\\n0%\\n\\n\\n\\nNagle College\\n326\\n+107\\n28\\n2%\\n\\n\\n\\nNarre Community Learn Centre\\n563\\n-2\\nN/A\\nN/A\\n\\n\\n\\nNarre Warren Sth P-12 College\\n95\\n+107\\n32\\n10.7%\\n\\n\\n\\nNathalia Secondary College\\n519\\n-193\\n23\\n0%\\n\\n\\n\\nNazareth College\\n232\\n+10\\n29\\n4.7%\\n\\n\\n\\nNeerim District Sec College\\n336\\n-50\\n28\\n0%\\n\\n\\n\\nNewcomb Secondary College\\n395\\n+106\\n27\\n0%\\n\\n\\n\\nNewhaven College\\n134\\n+21\\n31\\n8.2%\\n\\n\\n\\nNhill College\\n327\\n-111\\n28\\n1.9%\\n\\n\\n\\nNoble Park Secondary College\\n439\\n+17\\n26\\n0.5%\\n\\n\\n\\nNorth Geelong Sec College\\n422\\n+40\\n26\\n1.6%\\n\\n\\n\\nNorth Melbourne Grammar Coll\\n477\\n+48\\n25\\n0%\\n\\n\\n\\nNorth Ringwood Comm House\\n564\\nN/A\\nN/A\\nN/A\\n\\n\\n\\nNorthcote High School\\n178\\n-47\\n30\\n6.6%\\n\\n\\n\\nNorthern Bay P-12 College\\n521\\n+5\\n22\\n2.2%\\n\\n\\n\\nNorthern College of Arts & Tech\\n368\\n-16\\n27\\n2.5%\\n\\n\\n\\nNorthside Christian College\\n162\\n-2\\n30\\n14.6%\\n\\n\\n\\nNorwood Secondary College\\n219\\n+87\\n29\\n5.9%\\n\\n\\n\\nNossal High School\\n20\\n+4\\n35\\n26.1%\\n\\n\\n\\nNotre Dame College\\n228\\n-9\\n29\\n4.9%\\n\\n\\n\\nNumurkah Secondary College\\n360\\n+153\\n27\\n2.9%\\n\\n\\n\\nNunawading Christian College\\n92\\n+73\\n32\\n11.1%\\n\\n\\n\\nOakleigh Grammar\\n270\\n-63\\n29\\n1.7%\\n\\n\\n\\nOakwood School\\n565\\n-3\\nN/A\\nN/A\\n\\n\\n\\nOberon High School\\n345\\n-89\\n27\\n4.6%\\n\\n\\n\\nOrbost Secondary College\\n509\\n+18\\n24\\n0%\\n\\n\\n\\nOur Lady of Mercy College\\n90\\n+4\\n32\\n11.5%\\n\\n\\n\\nOur Lady of Sacred Heart Coll\\n73\\n+33\\n33\\n11.5%\\n\\n\\n\\nOur Lady of Sion College\\n69\\n+9\\n33\\n12.7%\\n\\n\\n\\nOuyen P-12 College\\n339\\n-227\\n27\\n7.5%\\n\\n\\n\\nOvernewton Anglican Comm Coll\\n191\\n-17\\n30\\n5%\\n\\n\\n\\nOxley Christian College\\n107\\n-8\\n32\\n8.7%\\n\\n\\n\\nOzford College\\n530\\n0\\n20\\n2.2%\\n\\n\\n\\nPadua College\\n199\\n+63\\n30\\n4.3%\\n\\n\\n\\nPakenham Secondary College\\n380\\n+13\\n27\\n1.9%\\n\\n\\n\\nParade College\\n173\\n-24\\n30\\n7.5%\\n\\n\\n\\nParkdale Secondary College\\n234\\n+34\\n29\\n4.5%\\n\\n\\n\\nParkville College\\n566\\n-3\\nN/A\\nN/A\\n\\n\\n\\nPascoe Vale Girls Sec College\\n371\\n-1\\n27\\n2.4%\\n\\n\\n\\nPatterson River Sec College\\n396\\n-64\\n27\\n0%\\n\\n\\n\\nPeninsula Grammar\\n99\\n-31\\n32\\n10%\\n\\n\\n\\nPenleigh & Essendon Grammar\\n23\\n+8\\n35\\n24.3%\\n\\n\\n\\nPenola Catholic College\\n361\\n-80\\n27\\n2.9%\\n\\n\\n\\nPeter Lalor Vocational Coll\\n567\\n-3\\nN/A\\nN/A\\n\\n\\n\\nPhoenix P-12 Comm Coll\\n376\\n+52\\n27\\n2%\\n\\n\\n\\nPines Learning\\n568\\n-3\\nN/A\\nN/A\\n\\n\\n\\nPlenty Valley Christian College\\n238\\n-52\\n29\\n4.2%\\n\\n\\n\\nPoint Cook Senior Sec College\\n353\\n+18\\n27\\n3.6%\\n\\n\\n\\nPortland Secondary College\\n467\\n-27\\n25\\n0.8%\\n\\n\\n\\nPresbyterian Ladies' College\\n6\\n+6\\n36\\n31.7%\\n\\n\\n\\nPresentation College\\n174\\n+1\\n30\\n7.5%\\n\\n\\n\\nPreshil The Margaret Lyttle SC\\n207\\n+66\\n30\\n3.7%\\n\\n\\n\\nPreston Reservoir ACE\\n569\\n-3\\nN/A\\nN/A\\n\\n\\n\\nPrinces Hill Sec College\\n81\\n+40\\n32\\n13.8%\\n\\n\\n\\nRMIT TAFE\\n415\\n+50\\n26\\n2.2%\\n\\n\\n\\nRainbow P-12 College\\n337\\n-15\\n28\\n0%\\n\\n\\n\\nRed Cliffs Secondary College\\n522\\n-38\\n22\\n1.7%\\n\\n\\n\\nReservoir High School\\n346\\n+18\\n27\\n4.4%\\n\\n\\n\\nRingwood Secondary College\\n185\\n+40\\n30\\n5.5%\\n\\n\\n\\nRiver Nile School\\n570\\n-3\\nN/A\\nN/A\\n\\n\\n\\nRobinvale College\\n528\\n-38\\n21\\n1.5%\\n\\n\\n\\nRochester Secondary College\\n362\\n+34\\n27\\n2.9%\\n\\n\\n\\nRosebud Secondary College\\n246\\n+83\\n29\\n3.8%\\n\\n\\n\\nRosehill Secondary College\\n239\\n+37\\n29\\n4.2%\\n\\n\\n\\nRowville Secondary College\\n423\\n-26\\n26\\n1.6%\\n\\n\\n\\nRoxburgh College\\n451\\n+19\\n25\\n3.5%\\n\\n\\n\\nRushworth P-12 College\\n445\\n+1\\n26\\n0%\\n\\n\\n\\nRutherglen High School\\n298\\n+120\\n28\\n4%\\n\\n\\n\\nRuyton Girls' School\\n5\\n+11\\n37\\n29.9%\\n\\n\\n\\nSEDA College\\n571\\n-3\\nN/A\\nN/A\\n\\n\\n\\nSacre Coeur\\n16\\n+2\\n36\\n26.5%\\n\\n\\n\\nSacred Heart College\\n284\\n+52\\n28\\n4.9%\\n\\n\\n\\nSacred Heart College Geelong\\n136\\n-78\\n31\\n8%\\n\\n\\n\\nSacred Heart College Kyneton\\n150\\n-27\\n31\\n6.6%\\n\\n\\n\\nSacred Heart Girls' College\\n93\\n-34\\n32\\n10.9%\\n\\n\\n\\nSaint Ignatius College\\n154\\n-45\\n31\\n6%\\n\\n\\n\\nSale College\\n464\\n+10\\n25\\n1.2%\\n\\n\\n\\nSalesian College\\n153\\n+3\\n31\\n6.4%\\n\\n\\n\\nSalesian College Sunbury\\n254\\n+23\\n29\\n3.1%\\n\\n\\n\\nSandringham College\\n304\\n-34\\n28\\n3.8%\\n\\n\\n\\nSanta Maria College\\n137\\n-19\\n31\\n7.9%\\n\\n\\n\\nScoresby Secondary College\\n330\\n+172\\n28\\n1.6%\\n\\n\\n\\nScotch College\\n31\\n-14\\n35\\n21.6%\\n\\n\\n\\nSeymour College\\n429\\n+21\\n26\\n1.3%\\n\\n\\n\\nShelford Girls' Grammar\\n30\\n-10\\n35\\n22.3%\\n\\n\\n\\nShepparton ACE College\\n572\\n-3\\nN/A\\nN/A\\n\\n\\n\\nShepparton Christian College\\n385\\n-100\\n27\\n1.4%\\n\\n\\n\\nShepparton High School\\n495\\n-10\\n24\\n0.5%\\n\\n\\n\\nSherbrooke Community School\\n446\\n+5\\n26\\n0%\\n\\n\\n\\nSiena College\\n50\\n+7\\n34\\n17.5%\\n\\n\\n\\nSimonds Catholic College\\n262\\n-104\\n29\\n2.7%\\n\\n\\n\\nSirius College - Eastmeadows\\n120\\n+4\\n31\\n11.4%\\n\\n\\n\\nSirius College - Keysborough\\n278\\n-44\\n28\\n5.8%\\n\\n\\n\\nSirius College - Meadow Fair\\n116\\n-42\\n31\\n13.3%\\n\\n\\n\\nSkillsplus\\n573\\n-3\\nN/A\\nN/A\\n\\n\\n\\nSomerville Secondary College\\n434\\n+24\\n26\\n0.9%\\n\\n\\n\\nSouth Oakleigh Sec College\\n259\\n+15\\n29\\n2.8%\\n\\n\\n\\nSouth West Institute of TAFE\\n574\\n-3\\nN/A\\nN/A\\n\\n\\n\\nSouthern Cross Grammar\\n157\\n-95\\n31\\n4.6%\\n\\n\\n\\nSouthern Grampians Adult Edu\\n575\\n-3\\nN/A\\nN/A\\n\\n\\n\\nSt Albans Secondary College\\n179\\n-15\\n30\\n6.5%\\n\\n\\n\\nSt Aloysius College\\n170\\n-56\\n30\\n7.8%\\n\\n\\n\\nSt Andrews Christian College\\n135\\n-38\\n31\\n8.2%\\n\\n\\n\\nSt Arnaud Secondary College\\n490\\n-55\\n24\\n1.1%\\n\\n\\n\\nSt Augustine's College\\n300\\n-36\\n28\\n3.9%\\n\\n\\n\\nSt Bede's College\\n171\\n-30\\n30\\n7.8%\\n\\n\\n\\nSt Bernard's College\\n130\\n+10\\n31\\n8.8%\\n\\n\\n\\nSt Brigid's College\\n313\\n+7\\n28\\n3.1%\\n\\n\\n\\nSt Catherine's School\\n35\\n+12\\n35\\n19.6%\\n\\n\\n\\nSt Columba's College\\n85\\n+5\\n32\\n12.2%\\n\\n\\n\\nSt Francis Xavier College\\n189\\n+68\\n30\\n5.3%\\n\\n\\n\\nSt Helena Secondary College\\n244\\n-57\\n29\\n3.9%\\n\\n\\n\\nSt John's Greek Orth College\\n237\\n+178\\n29\\n4.3%\\n\\n\\n\\nSt John's Regional College\\n364\\n-50\\n27\\n2.7%\\n\\n\\n\\nSt Joseph's College\\n126\\n-6\\n31\\n9.8%\\n\\n\\n\\nSt Joseph's College\\n183\\n-3\\n30\\n5.7%\\n\\n\\n\\nSt Joseph's College\\n224\\n-1\\n29\\n5.6%\\n\\n\\n\\nSt Joseph's College\\n269\\n+61\\n29\\n1.8%\\n\\n\\n\\nSt Kevin's College\\n7\\n-2\\n36\\n30.2%\\n\\n\\n\\nSt Leonard's College\\n43\\n+12\\n34\\n20.1%\\n\\n\\n\\nSt Margaret's School\\n51\\n-14\\n34\\n17.2%\\n\\n\\n\\nSt Mary MacKillop College\\n196\\n+55\\n30\\n4.8%\\n\\n\\n\\nSt Mary of the Angels School\\n202\\n+189\\n30\\n4.2%\\n\\n\\n\\nSt Mary's Coptic Orth College\\n338\\n+6\\n27\\n8.6%\\n\\n\\n\\nSt Michael's Grammar School\\n58\\n+7\\n34\\n15.3%\\n\\n\\n\\nSt Monica's College\\n250\\n-74\\n29\\n3.4%\\n\\n\\n\\nSt Patrick's College\\n187\\n+85\\n30\\n5.4%\\n\\n\\n\\nSt Paul's Anglican Grammar Schl\\n70\\n+28\\n33\\n12.7%\\n\\n\\n\\nSt Peter's College\\n388\\n-7\\n27\\n0.9%\\n\\n\\n\\nSt Thomas Aquinas College\\n109\\n+208\\n32\\n8.6%\\n\\n\\n\\nStar of the Sea College\\n54\\n+15\\n34\\n16.5%\\n\\n\\n\\nStaughton College\\n441\\n0\\n26\\n0.4%\\n\\n\\n\\nStawell Secondary College\\n440\\n+53\\n26\\n0.5%\\n\\n\\n\\nStott's College\\n478\\n-133\\n25\\n0%\\n\\n\\n\\nStrathcona Baptist Girls GS\\n22\\n-3\\n35\\n24.6%\\n\\n\\n\\nStrathmore Secondary College\\n133\\n-30\\n31\\n8.6%\\n\\n\\n\\nSunbury College\\n424\\n-34\\n26\\n1.6%\\n\\n\\n\\nSunbury Downs Sec College\\n125\\n+32\\n31\\n9.9%\\n\\n\\n\\nSunraysia Institute of TAFE\\n576\\n-3\\nN/A\\nN/A\\n\\n\\n\\nSunshine College\\n233\\n+46\\n29\\n4.7%\\n\\n\\n\\nSurf Coast Sec College\\n331\\n-4\\n28\\n1.6%\\n\\n\\n\\nSuzanne Cory High School\\n47\\n-9\\n34\\n18.3%\\n\\n\\n\\nSwan Hill College\\n365\\n+84\\n27\\n2.7%\\n\\n\\n\\nSwifts Creek P-12 School\\n510\\n-297\\n24\\n0%\\n\\n\\n\\nSwinburne Senior Sec College\\n288\\n+50\\n28\\n4.4%\\n\\n\\n\\nSwinburne Uni of Tech - TAFE\\n577\\n-3\\nN/A\\nN/A\\n\\n\\n\\nSydney Road Community School\\n447\\n+67\\n26\\n0%\\n\\n\\n\\nTallangatta Secondary College\\n403\\n-64\\n26\\n3.7%\\n\\n\\n\\nTarneit Senior College\\n472\\n-30\\n25\\n0.4%\\n\\n\\n\\nTaylors Lakes Sec College\\n431\\n-49\\n26\\n1.2%\\n\\n\\n\\nTemplestowe College\\n307\\n+11\\n28\\n3.5%\\n\\n\\n\\nTerang College Sec Campus\\n316\\n-81\\n28\\n3%\\n\\n\\n\\nThe David Scott School\\n578\\n-2\\nN/A\\nN/A\\n\\n\\n\\nThe Geelong College\\n65\\n-16\\n33\\n15.2%\\n\\n\\n\\nThe Grange P-12 College\\n312\\n+156\\n28\\n3.2%\\n\\n\\n\\nThe Hamilton & Alexandra Coll\\n101\\n-13\\n32\\n9.6%\\n\\n\\n\\nThe King David School\\n27\\n-6\\n35\\n23.1%\\n\\n\\n\\nThe Knox School\\n110\\n-5\\n32\\n8.4%\\n\\n\\n\\nThomas Carr College\\n377\\n+22\\n27\\n2%\\n\\n\\n\\nThomastown Secondary College\\n489\\n+16\\n24\\n1.2%\\n\\n\\n\\nThornbury High School\\n209\\n-11\\n30\\n2.9%\\n\\n\\n\\nTimboon P-12 School\\n479\\n-137\\n25\\n0%\\n\\n\\n\\nTintern Grammar\\n100\\n+33\\n32\\n9.8%\\n\\n\\n\\nToorak College\\n45\\n+5\\n34\\n19.2%\\n\\n\\n\\nTrafalgar High School\\n366\\n-63\\n27\\n2.7%\\n\\n\\n\\nTraralgon College\\n492\\n+23\\n24\\n0.9%\\n\\n\\n\\nTrinity College Colac\\n299\\n+54\\n28\\n4%\\n\\n\\n\\nTrinity Grammar School\\n32\\n-9\\n35\\n21.2%\\n\\n\\n\\nTyrrell College\\n273\\n-59\\n28\\n12.7%\\n\\n\\n\\nUniversity High School\\n67\\n+16\\n33\\n14.9%\\n\\n\\n\\nUpper Yarra Secondary College\\n458\\n-28\\n25\\n2.2%\\n\\n\\n\\nUpwey High School\\n405\\n-11\\n26\\n3.3%\\n\\n\\n\\nVermont Secondary College\\n129\\n+7\\n31\\n8.9%\\n\\n\\n\\nVictoria University - TAFE\\n529\\n+2\\n21\\n0%\\n\\n\\n\\nVictoria University SC\\n410\\n-37\\n26\\n2.5%\\n\\n\\n\\nVictorian College for the Deaf\\n579\\n-2\\nN/A\\nN/A\\n\\n\\n\\nVictorian College of the Arts\\n62\\n-30\\n33\\n16.1%\\n\\n\\n\\nVictory Christian College\\n249\\n-12\\n29\\n3.5%\\n\\n\\n\\nVictory Lutheran College\\n294\\n-177\\n28\\n4.2%\\n\\n\\n\\nViewbank College\\n96\\n+5\\n32\\n10.4%\\n\\n\\n\\nWallan Secondary College\\n523\\n-47\\n22\\n0.8%\\n\\n\\n\\nWanganui Park Sec College\\n374\\n-9\\n27\\n2.3%\\n\\n\\n\\nWangaratta High School\\n347\\n-53\\n27\\n4.4%\\n\\n\\n\\nWantirna College\\n305\\n-13\\n28\\n3.8%\\n\\n\\n\\nWarracknabeal Sec College\\n218\\n+148\\n29\\n6.1%\\n\\n\\n\\nWarragul Regional College\\n369\\n+78\\n27\\n2.5%\\n\\n\\n\\nWarrandyte High School\\n319\\n+92\\n28\\n2.7%\\n\\n\\n\\nWarrnambool College\\n357\\n-111\\n27\\n3.3%\\n\\n\\n\\nWaverley Christian College\\n76\\n0\\n33\\n10.8%\\n\\n\\n\\nWedderburn College\\n397\\n-138\\n27\\n0%\\n\\n\\n\\nWellington Secondary College\\n229\\n-46\\n29\\n4.9%\\n\\n\\n\\nWerribee Secondary College\\n165\\n-4\\n30\\n9.2%\\n\\n\\n\\nWerrimull P-12 College\\n448\\n-164\\n26\\n0%\\n\\n\\n\\nWesley College\\n98\\n-23\\n32\\n10.1%\\n\\n\\n\\nWesley College\\n108\\n+2\\n32\\n8.7%\\n\\n\\n\\nWestall Secondary College\\n354\\n-64\\n27\\n3.6%\\n\\n\\n\\nWestbourne Grammar School\\n55\\n+1\\n34\\n16.5%\\n\\n\\n\\nWestern Heights Sec College\\n494\\n-5\\n24\\n0.6%\\n\\n\\n\\nWestern Port Sec College\\n480\\n-1\\n25\\n0%\\n\\n\\n\\nWestern Senior Sec Coll\\n580\\n-2\\nN/A\\nN/A\\n\\n\\n\\nWheelers Hill Sec College\\n426\\n-77\\n26\\n1.4%\\n\\n\\n\\nWhitefriars College\\n198\\n-13\\n30\\n4.5%\\n\\n\\n\\nWhittlesea Secondary College\\n413\\n-30\\n26\\n2.4%\\n\\n\\n\\nWilliam Angliss Inst of TAFE\\n581\\n-2\\nN/A\\nN/A\\n\\n\\n\\nWilliam Ruthven Sec College\\n435\\n+36\\n26\\n0.9%\\n\\n\\n\\nWilliamstown High School\\n104\\n+34\\n32\\n9.1%\\n\\n\\n\\nWodonga Institute of TAFE\\n582\\n-2\\nN/A\\nN/A\\n\\n\\n\\nWodonga Senior Sec College\\n483\\n-20\\n24\\n2.5%\\n\\n\\n\\nWonthaggi Secondary College\\n350\\n-52\\n27\\n4%\\n\\n\\n\\nWoodleigh School\\n118\\n-48\\n31\\n12.4%\\n\\n\\n\\nWycheproof P-12 College\\n159\\n+184\\n31\\n2.9%\\n\\n\\n\\nWyndham Central Sec Coll\\n499\\n-110\\n24\\n0.4%\\n\\n\\n\\nWyndham Community Centre\\n583\\n-2\\nN/A\\nN/A\\n\\n\\n\\nXavier College\\n53\\n+14\\n34\\n17%\\n\\n\\n\\nYarra Hills Secondary College\\n468\\n+10\\n25\\n0.7%\\n\\n\\n\\nYarra Valley Grammar School\\n52\\n-6\\n34\\n17.2%\\n\\n\\n\\nYarram Secondary College\\n455\\n+39\\n25\\n2.6%\\n\\n\\n\\nYarrawonga College P-12\\n436\\n-141\\n26\\n0.9%\\n\\n\\n\\nYea High School\\n461\\n-168\\n25\\n1.8%\\n\\n\\n\\nYeshivah College\\n63\\n-55\\n33\\n15.6%\\n\\n\\n\\nYesodei HaTorah College\\n38\\n+2\\n34\\n24%\\n\\n\\n\\nYuille Park Community College\\n584\\n-2\\nN/A\\nN/A\\n\\n\""
      ]
     },
     "execution_count": 32,
     "metadata": {},
     "output_type": "execute_result"
    }
   ],
   "source": [
    "contents[2]"
   ]
  },
  {
   "cell_type": "code",
   "execution_count": 36,
   "metadata": {},
   "outputs": [],
   "source": [
    "rank_body = contents[2].strip()"
   ]
  },
  {
   "cell_type": "code",
   "execution_count": 38,
   "metadata": {},
   "outputs": [],
   "source": [
    "split_rank_body = rank_body.split('\\n\\n\\n\\n')"
   ]
  },
  {
   "cell_type": "code",
   "execution_count": 45,
   "metadata": {},
   "outputs": [],
   "source": [
    "clean_rank_body = []\n",
    "for strings in split_rank_body:\n",
    "    clean_rank_body.append(strings.replace('\\n', ','))"
   ]
  },
  {
   "cell_type": "code",
   "execution_count": 49,
   "metadata": {},
   "outputs": [
    {
     "data": {
      "text/plain": [
       "'Academy of Mary Immaculate,144,-28,31,7.1%'"
      ]
     },
     "execution_count": 49,
     "metadata": {},
     "output_type": "execute_result"
    }
   ],
   "source": [
    "clean_rank_body[0]"
   ]
  },
  {
   "cell_type": "code",
   "execution_count": 50,
   "metadata": {},
   "outputs": [],
   "source": [
    "column_name = ['School Name', 'Ranking', 'Change', 'Median VCE Study Score', '40+ Study Score']"
   ]
  },
  {
   "cell_type": "code",
   "execution_count": 54,
   "metadata": {},
   "outputs": [],
   "source": [
    "secondary_ranking_df = pd.DataFrame(columns = column_name)\n",
    "\n",
    "school_name = []\n",
    "ranking = []\n",
    "change = []\n",
    "median_score = []\n",
    "forty_plus = []\n",
    "for item in clean_rank_body:\n",
    "    temp = item.split(',')\n",
    "    school_name.append(temp[0])\n",
    "    ranking.append(temp[1])\n",
    "    change.append(temp[2])\n",
    "    median_score.append(temp[3])\n",
    "    forty_plus.append(temp[4])"
   ]
  },
  {
   "cell_type": "code",
   "execution_count": 57,
   "metadata": {},
   "outputs": [],
   "source": [
    "secondary_ranking_df['School Name'] = school_name\n",
    "secondary_ranking_df['Ranking'] = ranking\n",
    "secondary_ranking_df['Change'] = change\n",
    "secondary_ranking_df['Median VCE Study Score'] = median_score\n",
    "secondary_ranking_df['40+ Study Score'] = forty_plus"
   ]
  },
  {
   "cell_type": "code",
   "execution_count": 58,
   "metadata": {},
   "outputs": [
    {
     "data": {
      "text/html": [
       "<div>\n",
       "<style scoped>\n",
       "    .dataframe tbody tr th:only-of-type {\n",
       "        vertical-align: middle;\n",
       "    }\n",
       "\n",
       "    .dataframe tbody tr th {\n",
       "        vertical-align: top;\n",
       "    }\n",
       "\n",
       "    .dataframe thead th {\n",
       "        text-align: right;\n",
       "    }\n",
       "</style>\n",
       "<table border=\"1\" class=\"dataframe\">\n",
       "  <thead>\n",
       "    <tr style=\"text-align: right;\">\n",
       "      <th></th>\n",
       "      <th>School Name</th>\n",
       "      <th>Ranking</th>\n",
       "      <th>Change</th>\n",
       "      <th>Median VCE Study Score</th>\n",
       "      <th>40+ Study Score</th>\n",
       "    </tr>\n",
       "  </thead>\n",
       "  <tbody>\n",
       "    <tr>\n",
       "      <td>0</td>\n",
       "      <td>Academy of Mary Immaculate</td>\n",
       "      <td>144</td>\n",
       "      <td>-28</td>\n",
       "      <td>31</td>\n",
       "      <td>7.1%</td>\n",
       "    </tr>\n",
       "    <tr>\n",
       "      <td>1</td>\n",
       "      <td>Adass Israel School</td>\n",
       "      <td>534</td>\n",
       "      <td>-1</td>\n",
       "      <td>N/A</td>\n",
       "      <td>N/A</td>\n",
       "    </tr>\n",
       "    <tr>\n",
       "      <td>2</td>\n",
       "      <td>Advance College of Education</td>\n",
       "      <td>535</td>\n",
       "      <td>-1</td>\n",
       "      <td>N/A</td>\n",
       "      <td>N/A</td>\n",
       "    </tr>\n",
       "    <tr>\n",
       "      <td>3</td>\n",
       "      <td>Aitken College</td>\n",
       "      <td>194</td>\n",
       "      <td>+32</td>\n",
       "      <td>30</td>\n",
       "      <td>4.8%</td>\n",
       "    </tr>\n",
       "    <tr>\n",
       "      <td>4</td>\n",
       "      <td>Al Siraat College</td>\n",
       "      <td>280</td>\n",
       "      <td>+172</td>\n",
       "      <td>28</td>\n",
       "      <td>5.4%</td>\n",
       "    </tr>\n",
       "    <tr>\n",
       "      <td>...</td>\n",
       "      <td>...</td>\n",
       "      <td>...</td>\n",
       "      <td>...</td>\n",
       "      <td>...</td>\n",
       "      <td>...</td>\n",
       "    </tr>\n",
       "    <tr>\n",
       "      <td>579</td>\n",
       "      <td>Yarrawonga College P-12</td>\n",
       "      <td>436</td>\n",
       "      <td>-141</td>\n",
       "      <td>26</td>\n",
       "      <td>0.9%</td>\n",
       "    </tr>\n",
       "    <tr>\n",
       "      <td>580</td>\n",
       "      <td>Yea High School</td>\n",
       "      <td>461</td>\n",
       "      <td>-168</td>\n",
       "      <td>25</td>\n",
       "      <td>1.8%</td>\n",
       "    </tr>\n",
       "    <tr>\n",
       "      <td>581</td>\n",
       "      <td>Yeshivah College</td>\n",
       "      <td>63</td>\n",
       "      <td>-55</td>\n",
       "      <td>33</td>\n",
       "      <td>15.6%</td>\n",
       "    </tr>\n",
       "    <tr>\n",
       "      <td>582</td>\n",
       "      <td>Yesodei HaTorah College</td>\n",
       "      <td>38</td>\n",
       "      <td>+2</td>\n",
       "      <td>34</td>\n",
       "      <td>24%</td>\n",
       "    </tr>\n",
       "    <tr>\n",
       "      <td>583</td>\n",
       "      <td>Yuille Park Community College</td>\n",
       "      <td>584</td>\n",
       "      <td>-2</td>\n",
       "      <td>N/A</td>\n",
       "      <td>N/A</td>\n",
       "    </tr>\n",
       "  </tbody>\n",
       "</table>\n",
       "<p>584 rows × 5 columns</p>\n",
       "</div>"
      ],
      "text/plain": [
       "                       School Name Ranking Change Median VCE Study Score  \\\n",
       "0       Academy of Mary Immaculate     144    -28                     31   \n",
       "1              Adass Israel School     534     -1                    N/A   \n",
       "2     Advance College of Education     535     -1                    N/A   \n",
       "3                   Aitken College     194    +32                     30   \n",
       "4                Al Siraat College     280   +172                     28   \n",
       "..                             ...     ...    ...                    ...   \n",
       "579        Yarrawonga College P-12     436   -141                     26   \n",
       "580                Yea High School     461   -168                     25   \n",
       "581               Yeshivah College      63    -55                     33   \n",
       "582        Yesodei HaTorah College      38     +2                     34   \n",
       "583  Yuille Park Community College     584     -2                    N/A   \n",
       "\n",
       "    40+ Study Score  \n",
       "0              7.1%  \n",
       "1               N/A  \n",
       "2               N/A  \n",
       "3              4.8%  \n",
       "4              5.4%  \n",
       "..              ...  \n",
       "579            0.9%  \n",
       "580            1.8%  \n",
       "581           15.6%  \n",
       "582             24%  \n",
       "583             N/A  \n",
       "\n",
       "[584 rows x 5 columns]"
      ]
     },
     "execution_count": 58,
     "metadata": {},
     "output_type": "execute_result"
    }
   ],
   "source": [
    "secondary_ranking_df"
   ]
  }
 ],
 "metadata": {
  "kernelspec": {
   "display_name": "Python 3",
   "language": "python",
   "name": "python3"
  },
  "language_info": {
   "codemirror_mode": {
    "name": "ipython",
    "version": 3
   },
   "file_extension": ".py",
   "mimetype": "text/x-python",
   "name": "python",
   "nbconvert_exporter": "python",
   "pygments_lexer": "ipython3",
   "version": "3.7.4"
  }
 },
 "nbformat": 4,
 "nbformat_minor": 2
}
